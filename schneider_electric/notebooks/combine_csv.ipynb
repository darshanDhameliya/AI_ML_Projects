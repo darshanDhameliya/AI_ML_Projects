{
 "cells": [
  {
   "cell_type": "code",
   "execution_count": 1,
   "id": "65923363-280f-4e93-8b78-c7967e673919",
   "metadata": {},
   "outputs": [],
   "source": [
    "import os\n",
    "import pandas as pd"
   ]
  },
  {
   "cell_type": "code",
   "execution_count": 2,
   "id": "8574a9a5-dd82-4f08-bf07-c1f0d0e469ba",
   "metadata": {},
   "outputs": [],
   "source": [
    "def combine_csv_files(folder_path, output_file):\n",
    "    all_files = [f for f in os.listdir(folder_path) if f.endswith('.csv')]\n",
    "    df_list = []\n",
    "    \n",
    "    for file in all_files:\n",
    "        file_path = os.path.join(folder_path, file)\n",
    "        df = pd.read_csv(file_path)\n",
    "        df_list.append(df)\n",
    "    \n",
    "    combined_df = pd.concat(df_list, ignore_index=True)\n",
    "    combined_df.to_csv(output_file, index=False)\n",
    "    \n",
    "    # Clean up memory\n",
    "    del df_list, combined_df\n",
    "    import gc\n",
    "    gc.collect()"
   ]
  },
  {
   "cell_type": "code",
   "execution_count": 3,
   "id": "2c44cfda-4b3e-4b7c-ab42-2685a93a9bf4",
   "metadata": {},
   "outputs": [],
   "source": [
    "# Usage\n",
    "combine_csv_files(\"/home/darshan/Documents/Schneider Electric Data/Schneider Electric Email Data/SE_Leadgen Tracker File/All Data/\", \"/home/darshan/Documents/Schneider Electric Data/Schneider Electric Email Data/SE_Leadgen Tracker File/combined_output.csv\")"
   ]
  },
  {
   "cell_type": "code",
   "execution_count": 4,
   "id": "07836580-bbab-4dbb-a1c6-26a5683a19df",
   "metadata": {},
   "outputs": [],
   "source": [
    "df = pd.read_csv('/home/darshan/Documents/Schneider Electric Data/Schneider Electric Email Data/SE_Leadgen Tracker File/combined_output.csv')"
   ]
  },
  {
   "cell_type": "code",
   "execution_count": 5,
   "id": "0b02bfe6-d9c3-4cfe-b8a1-b330eafb506b",
   "metadata": {},
   "outputs": [
    {
     "data": {
      "text/plain": [
       "(30757327, 11)"
      ]
     },
     "execution_count": 5,
     "metadata": {},
     "output_type": "execute_result"
    }
   ],
   "source": [
    "df.shape"
   ]
  },
  {
   "cell_type": "code",
   "execution_count": 6,
   "id": "3159b1bc-8490-4af0-9c3c-340df8d957a9",
   "metadata": {},
   "outputs": [],
   "source": [
    "del df"
   ]
  },
  {
   "cell_type": "code",
   "execution_count": null,
   "id": "a36952f9-4a69-4978-9808-694ecbc1224d",
   "metadata": {},
   "outputs": [],
   "source": []
  }
 ],
 "metadata": {
  "kernelspec": {
   "display_name": "Python 3 (ipykernel)",
   "language": "python",
   "name": "python3"
  },
  "language_info": {
   "codemirror_mode": {
    "name": "ipython",
    "version": 3
   },
   "file_extension": ".py",
   "mimetype": "text/x-python",
   "name": "python",
   "nbconvert_exporter": "python",
   "pygments_lexer": "ipython3",
   "version": "3.13.2"
  }
 },
 "nbformat": 4,
 "nbformat_minor": 5
}
