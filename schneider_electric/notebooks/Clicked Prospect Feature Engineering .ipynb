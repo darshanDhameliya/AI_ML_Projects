{
 "cells": [
  {
   "cell_type": "code",
   "execution_count": 1,
   "id": "94bbf098-5faf-484a-9fdb-98db6d0c0102",
   "metadata": {},
   "outputs": [],
   "source": [
    "import pandas as pd\n",
    "import numpy as np\n",
    "import matplotlib.pyplot as plt\n",
    "import seaborn as sns\n",
    "from datetime import date,datetime,timedelta\n",
    "import gc"
   ]
  },
  {
   "cell_type": "code",
   "execution_count": 2,
   "id": "3b5b6f78-d799-4068-aa30-dbae5c1c6f86",
   "metadata": {},
   "outputs": [],
   "source": [
    "pd.options.display.max_columns=None\n",
    "pd.options.display.max_info_columns=1000"
   ]
  },
  {
   "cell_type": "code",
   "execution_count": null,
   "id": "bf85d802-5afe-4b72-a859-85cd7d941e37",
   "metadata": {},
   "outputs": [],
   "source": []
  },
  {
   "cell_type": "code",
   "execution_count": null,
   "id": "3e4b3bee-6ee4-4e9e-b9cb-8bf5ea7649a7",
   "metadata": {},
   "outputs": [],
   "source": []
  },
  {
   "cell_type": "markdown",
   "id": "2172652d-38e9-4c81-82a4-e1ff69217df3",
   "metadata": {},
   "source": [
    "## Read Prospect"
   ]
  },
  {
   "cell_type": "code",
   "execution_count": 3,
   "id": "d84703b3-6e2e-4143-b891-14e88f622ca0",
   "metadata": {},
   "outputs": [
    {
     "name": "stderr",
     "output_type": "stream",
     "text": [
      "/tmp/ipykernel_1290288/591620312.py:1: DtypeWarning: Columns (9) have mixed types. Specify dtype option on import or set low_memory=False.\n",
      "  df_prospects=pd.read_csv('/home/darshan/dev/AI_ML_Projects/schneider_electric/data/Schneider Electric Data/Email_Enagement_Data/SE Projects Consolidated File(Clean).csv')\n"
     ]
    }
   ],
   "source": [
    "df_prospects=pd.read_csv('/home/darshan/dev/AI_ML_Projects/schneider_electric/data/Schneider Electric Data/Email_Enagement_Data/SE Projects Consolidated File(Clean).csv')"
   ]
  },
  {
   "cell_type": "code",
   "execution_count": 4,
   "id": "641e8f36-d37a-4515-a5b4-f6a7bde0f113",
   "metadata": {},
   "outputs": [
    {
     "data": {
      "text/plain": [
       "(156043, 29)"
      ]
     },
     "execution_count": 4,
     "metadata": {},
     "output_type": "execute_result"
    }
   ],
   "source": [
    "df_prospects.shape"
   ]
  },
  {
   "cell_type": "code",
   "execution_count": 5,
   "id": "704ed114-d0b7-4177-a914-678895c5ff24",
   "metadata": {
    "scrolled": true
   },
   "outputs": [
    {
     "name": "stdout",
     "output_type": "stream",
     "text": [
      "<class 'pandas.core.frame.DataFrame'>\n",
      "RangeIndex: 156043 entries, 0 to 156042\n",
      "Data columns (total 29 columns):\n",
      " #   Column                 Non-Null Count   Dtype  \n",
      "---  ------                 --------------   -----  \n",
      " 0   Unnamed: 0             156043 non-null  int64  \n",
      " 1   Email                  156040 non-null  object \n",
      " 2   Project Name           156043 non-null  object \n",
      " 3   Delivery Status        156043 non-null  object \n",
      " 4   Title                  156043 non-null  object \n",
      " 5   Level                  142987 non-null  object \n",
      " 6   Department             142987 non-null  object \n",
      " 7   Contact_City           133182 non-null  object \n",
      " 8   Contact_State          116263 non-null  object \n",
      " 9   Contact_Zipcode        5183 non-null    object \n",
      " 10  Country                155851 non-null  object \n",
      " 11  Company City           149115 non-null  object \n",
      " 12  Company State          138500 non-null  object \n",
      " 13  Company Post Code      83733 non-null   object \n",
      " 14  Company Country        154396 non-null  object \n",
      " 15  Industry               154688 non-null  object \n",
      " 16  SUB Industry           154688 non-null  object \n",
      " 17  Revenue                154693 non-null  object \n",
      " 18  Revenue Range          112579 non-null  object \n",
      " 19  EMP Range              154698 non-null  object \n",
      " 20  Clean Revenue          154693 non-null  float64\n",
      " 21  Clean Revenue Range    154693 non-null  object \n",
      " 22  Clean EMP Range        154695 non-null  object \n",
      " 23  Clean EMP Size         154695 non-null  float64\n",
      " 24  Clean Country          155851 non-null  object \n",
      " 25  Clean Company Country  154396 non-null  object \n",
      " 26  Clean Industry         154688 non-null  object \n",
      " 27  Clean Level            142987 non-null  object \n",
      " 28  Clean Department       142987 non-null  object \n",
      "dtypes: float64(2), int64(1), object(26)\n",
      "memory usage: 34.5+ MB\n"
     ]
    }
   ],
   "source": [
    "df_prospects.info()"
   ]
  },
  {
   "cell_type": "code",
   "execution_count": null,
   "id": "0a3b0061-222b-45b2-92c2-3ee7217cb735",
   "metadata": {},
   "outputs": [],
   "source": []
  },
  {
   "cell_type": "code",
   "execution_count": null,
   "id": "b7d69183-328b-45a7-b47d-6eca2810aed8",
   "metadata": {},
   "outputs": [],
   "source": []
  },
  {
   "cell_type": "markdown",
   "id": "4066d15b-152c-41a0-9030-0e1fac15034a",
   "metadata": {},
   "source": [
    "## Read Email Engagement"
   ]
  },
  {
   "cell_type": "code",
   "execution_count": 6,
   "id": "790676e2-6429-4257-84de-7baa8f265f0c",
   "metadata": {},
   "outputs": [],
   "source": [
    "df_prospect_engagements=pd.read_csv('/home/darshan/dev/AI_ML_Projects/schneider_electric/data/Schneider Electric Data/Email_Enagement_Data/new_unique_prospect_engagements.csv')"
   ]
  },
  {
   "cell_type": "code",
   "execution_count": 7,
   "id": "3736000f-948f-4f5b-acf5-e491b1d6343c",
   "metadata": {},
   "outputs": [
    {
     "data": {
      "text/plain": [
       "(4036649, 25)"
      ]
     },
     "execution_count": 7,
     "metadata": {},
     "output_type": "execute_result"
    }
   ],
   "source": [
    "df_prospect_engagements.shape"
   ]
  },
  {
   "cell_type": "code",
   "execution_count": 8,
   "id": "ffe1cd7e-6f6e-40dd-af17-bba17d39c810",
   "metadata": {},
   "outputs": [
    {
     "name": "stdout",
     "output_type": "stream",
     "text": [
      "<class 'pandas.core.frame.DataFrame'>\n",
      "RangeIndex: 4036649 entries, 0 to 4036648\n",
      "Data columns (total 25 columns):\n",
      " #   Column            Dtype  \n",
      "---  ------            -----  \n",
      " 0   FirstName         object \n",
      " 1   CompanyName       object \n",
      " 2   source            object \n",
      " 3   header_date       object \n",
      " 4   raw_status        object \n",
      " 5   status            object \n",
      " 6   status_time       object \n",
      " 7   reason            object \n",
      " 8   status_time_utc   object \n",
      " 9   Email             object \n",
      " 10  day_of_week       object \n",
      " 11  is_clicked_mail   int64  \n",
      " 12  time_category     object \n",
      " 13  hour              float64\n",
      " 14  segment           object \n",
      " 15  sender_email      object \n",
      " 16  header_date_utc   object \n",
      " 17  is_email_sent     int64  \n",
      " 18  is_email_clicked  int64  \n",
      " 19  is_email_opened   int64  \n",
      " 20  is_responded      int64  \n",
      " 21  is_bounced        int64  \n",
      " 22  is_unsubscribed   int64  \n",
      " 23  is_mail_not_sent  int64  \n",
      " 24  is_scheduled      int64  \n",
      "dtypes: float64(1), int64(9), object(15)\n",
      "memory usage: 769.9+ MB\n"
     ]
    }
   ],
   "source": [
    "df_prospect_engagements.info()"
   ]
  },
  {
   "cell_type": "code",
   "execution_count": null,
   "id": "f3e63781-6849-48f7-a15f-46c0e1fcfddb",
   "metadata": {},
   "outputs": [],
   "source": []
  },
  {
   "cell_type": "code",
   "execution_count": null,
   "id": "42722c38-e52e-498b-bb3c-a16aba628da0",
   "metadata": {},
   "outputs": [],
   "source": []
  },
  {
   "cell_type": "code",
   "execution_count": 9,
   "id": "23faa851-c3a6-4388-8cd5-270414dc58a9",
   "metadata": {},
   "outputs": [
    {
     "data": {
      "text/plain": [
       "np.int64(0)"
      ]
     },
     "execution_count": 9,
     "metadata": {},
     "output_type": "execute_result"
    }
   ],
   "source": [
    "df_prospect_engagements['segment'].isnull().sum()"
   ]
  },
  {
   "cell_type": "code",
   "execution_count": 10,
   "id": "578647e3-2b2c-4e40-83f8-99ca770a884a",
   "metadata": {},
   "outputs": [
    {
     "data": {
      "text/plain": [
       "array(['EMAIL_SENT', 'BOUNCED', 'EMAIL_NOT_SENT', nan, 'ERROR',\n",
       "       'SCHEDULED', 'EMAIL_CLICKED', 'EMAIL_OPENED', 'RESPONDED',\n",
       "       'UNSUBSCRIBED', '-'], dtype=object)"
      ]
     },
     "execution_count": 10,
     "metadata": {},
     "output_type": "execute_result"
    }
   ],
   "source": [
    "df_prospect_engagements['status'].unique()"
   ]
  },
  {
   "cell_type": "code",
   "execution_count": null,
   "id": "2555eb49-73b1-41d0-ab3b-bd2e8ed4217d",
   "metadata": {},
   "outputs": [],
   "source": []
  },
  {
   "cell_type": "markdown",
   "id": "787cb8f2-937e-4c92-b6ff-7b5d5565ead1",
   "metadata": {},
   "source": [
    "## Extract Engagement data. if any prospect CLICK EMAIL in SEGMENT"
   ]
  },
  {
   "cell_type": "code",
   "execution_count": 11,
   "id": "db0a1110-4298-40fe-943a-8f0cb5f0eb97",
   "metadata": {},
   "outputs": [],
   "source": [
    "df_total_email_clicked_count = df_prospect_engagements.groupby([\"Email\",\"segment\"])[\"is_clicked_mail\"].sum().reset_index(name='total_clicked_mail')"
   ]
  },
  {
   "cell_type": "code",
   "execution_count": 12,
   "id": "9528817a-8129-4ff8-b63f-77652466dc79",
   "metadata": {},
   "outputs": [
    {
     "data": {
      "text/html": [
       "<div>\n",
       "<style scoped>\n",
       "    .dataframe tbody tr th:only-of-type {\n",
       "        vertical-align: middle;\n",
       "    }\n",
       "\n",
       "    .dataframe tbody tr th {\n",
       "        vertical-align: top;\n",
       "    }\n",
       "\n",
       "    .dataframe thead th {\n",
       "        text-align: right;\n",
       "    }\n",
       "</style>\n",
       "<table border=\"1\" class=\"dataframe\">\n",
       "  <thead>\n",
       "    <tr style=\"text-align: right;\">\n",
       "      <th></th>\n",
       "      <th>Email</th>\n",
       "      <th>segment</th>\n",
       "      <th>total_clicked_mail</th>\n",
       "    </tr>\n",
       "  </thead>\n",
       "  <tbody>\n",
       "    <tr>\n",
       "      <th>0</th>\n",
       "      <td>9fake@thomasfellows.com</td>\n",
       "      <td>semiconductor</td>\n",
       "      <td>0</td>\n",
       "    </tr>\n",
       "    <tr>\n",
       "      <th>1</th>\n",
       "      <td>Adaku.Ude@sfdph.org</td>\n",
       "      <td>airport</td>\n",
       "      <td>0</td>\n",
       "    </tr>\n",
       "    <tr>\n",
       "      <th>2</th>\n",
       "      <td>Ahess@amgen.com</td>\n",
       "      <td>life sciences</td>\n",
       "      <td>0</td>\n",
       "    </tr>\n",
       "    <tr>\n",
       "      <th>3</th>\n",
       "      <td>Carlos.Perez@thermofisher.com</td>\n",
       "      <td>life sciences</td>\n",
       "      <td>0</td>\n",
       "    </tr>\n",
       "    <tr>\n",
       "      <th>4</th>\n",
       "      <td>CarlosOliverMontejano.Ramirez@magna.com</td>\n",
       "      <td>mexico</td>\n",
       "      <td>0</td>\n",
       "    </tr>\n",
       "  </tbody>\n",
       "</table>\n",
       "</div>"
      ],
      "text/plain": [
       "                                     Email        segment  total_clicked_mail\n",
       "0                  9fake@thomasfellows.com  semiconductor                   0\n",
       "1                      Adaku.Ude@sfdph.org        airport                   0\n",
       "2                          Ahess@amgen.com  life sciences                   0\n",
       "3            Carlos.Perez@thermofisher.com  life sciences                   0\n",
       "4  CarlosOliverMontejano.Ramirez@magna.com         mexico                   0"
      ]
     },
     "execution_count": 12,
     "metadata": {},
     "output_type": "execute_result"
    }
   ],
   "source": [
    "df_total_email_clicked_count.head(5)"
   ]
  },
  {
   "cell_type": "code",
   "execution_count": 13,
   "id": "1eff796c-82cc-4873-a546-39a583086cc4",
   "metadata": {},
   "outputs": [],
   "source": [
    "df_total_prospects_with_clicked = df_total_email_clicked_count[df_total_email_clicked_count[\"total_clicked_mail\"] > 0]"
   ]
  },
  {
   "cell_type": "code",
   "execution_count": 14,
   "id": "64c4837f-e09e-4499-9bcc-bfb3e45aac10",
   "metadata": {},
   "outputs": [
    {
     "data": {
      "text/plain": [
       "(9769, 3)"
      ]
     },
     "execution_count": 14,
     "metadata": {},
     "output_type": "execute_result"
    }
   ],
   "source": [
    "df_total_prospects_with_clicked.shape"
   ]
  },
  {
   "cell_type": "code",
   "execution_count": 15,
   "id": "45c958b3-6205-4768-b602-368135adc389",
   "metadata": {},
   "outputs": [],
   "source": [
    "df_clicked_prospect_engagements = df_prospect_engagements.merge(df_total_prospects_with_clicked,on=[\"Email\",\"segment\"],how=\"inner\")"
   ]
  },
  {
   "cell_type": "code",
   "execution_count": 16,
   "id": "68cec00b-fbcd-4a2d-9724-c1d761fd8b38",
   "metadata": {},
   "outputs": [
    {
     "data": {
      "text/plain": [
       "(428146, 26)"
      ]
     },
     "execution_count": 16,
     "metadata": {},
     "output_type": "execute_result"
    }
   ],
   "source": [
    "df_clicked_prospect_engagements.shape"
   ]
  },
  {
   "cell_type": "code",
   "execution_count": 17,
   "id": "0656b891-26af-4866-96d8-c9a02a40601b",
   "metadata": {},
   "outputs": [
    {
     "name": "stdout",
     "output_type": "stream",
     "text": [
      "<class 'pandas.core.frame.DataFrame'>\n",
      "RangeIndex: 428146 entries, 0 to 428145\n",
      "Data columns (total 26 columns):\n",
      " #   Column              Non-Null Count   Dtype  \n",
      "---  ------              --------------   -----  \n",
      " 0   FirstName           428146 non-null  object \n",
      " 1   CompanyName         428146 non-null  object \n",
      " 2   source              428146 non-null  object \n",
      " 3   header_date         424301 non-null  object \n",
      " 4   raw_status          424785 non-null  object \n",
      " 5   status              424784 non-null  object \n",
      " 6   status_time         418459 non-null  object \n",
      " 7   reason              1241 non-null    object \n",
      " 8   status_time_utc     418459 non-null  object \n",
      " 9   Email               428146 non-null  object \n",
      " 10  day_of_week         418459 non-null  object \n",
      " 11  is_clicked_mail     428146 non-null  int64  \n",
      " 12  time_category       428146 non-null  object \n",
      " 13  hour                418459 non-null  float64\n",
      " 14  segment             428146 non-null  object \n",
      " 15  sender_email        428146 non-null  object \n",
      " 16  header_date_utc     424301 non-null  object \n",
      " 17  is_email_sent       428146 non-null  int64  \n",
      " 18  is_email_clicked    428146 non-null  int64  \n",
      " 19  is_email_opened     428146 non-null  int64  \n",
      " 20  is_responded        428146 non-null  int64  \n",
      " 21  is_bounced          428146 non-null  int64  \n",
      " 22  is_unsubscribed     428146 non-null  int64  \n",
      " 23  is_mail_not_sent    428146 non-null  int64  \n",
      " 24  is_scheduled        428146 non-null  int64  \n",
      " 25  total_clicked_mail  428146 non-null  int64  \n",
      "dtypes: float64(1), int64(10), object(15)\n",
      "memory usage: 84.9+ MB\n"
     ]
    }
   ],
   "source": [
    "df_clicked_prospect_engagements.info()"
   ]
  },
  {
   "cell_type": "code",
   "execution_count": null,
   "id": "5306a127-893d-4e43-8c89-b85663601aa4",
   "metadata": {},
   "outputs": [],
   "source": []
  },
  {
   "cell_type": "code",
   "execution_count": 18,
   "id": "b6c46c61-92fe-4147-81e1-04c0e1e4b0a5",
   "metadata": {},
   "outputs": [],
   "source": [
    "del df_total_email_clicked_count"
   ]
  },
  {
   "cell_type": "code",
   "execution_count": 19,
   "id": "41bb8f92-20b0-4ad8-b9bb-241acf97722b",
   "metadata": {},
   "outputs": [],
   "source": [
    "del df_total_prospects_with_clicked"
   ]
  },
  {
   "cell_type": "code",
   "execution_count": 20,
   "id": "f0d2b836-60e9-4e89-bf7a-b32304f6a83b",
   "metadata": {},
   "outputs": [
    {
     "data": {
      "text/plain": [
       "0"
      ]
     },
     "execution_count": 20,
     "metadata": {},
     "output_type": "execute_result"
    }
   ],
   "source": [
    "gc.collect()"
   ]
  },
  {
   "cell_type": "code",
   "execution_count": null,
   "id": "c56800bb-7a65-4b1d-8d5d-e27e9b814dae",
   "metadata": {},
   "outputs": [],
   "source": []
  },
  {
   "cell_type": "code",
   "execution_count": null,
   "id": "95723a25-8180-47d4-b518-231ed3e75c97",
   "metadata": {},
   "outputs": [],
   "source": []
  },
  {
   "cell_type": "markdown",
   "id": "e7551c21-0370-4bfb-97d5-0332240d7b9d",
   "metadata": {},
   "source": [
    "## Repair & Remove invalid Email Engagement"
   ]
  },
  {
   "cell_type": "code",
   "execution_count": 21,
   "id": "297a6ed7-fed4-488d-bdef-0884d68119a7",
   "metadata": {},
   "outputs": [
    {
     "data": {
      "text/plain": [
       "status\n",
       "EMAIL_SENT        385957\n",
       "EMAIL_CLICKED      24728\n",
       "EMAIL_NOT_SENT      7263\n",
       "EMAIL_OPENED        3595\n",
       "SCHEDULED           1856\n",
       "BOUNCED             1095\n",
       "UNSUBSCRIBED         155\n",
       "ERROR                130\n",
       "RESPONDED              4\n",
       "-                      1\n",
       "Name: count, dtype: int64"
      ]
     },
     "execution_count": 21,
     "metadata": {},
     "output_type": "execute_result"
    }
   ],
   "source": [
    "df_clicked_prospect_engagements['status'].value_counts()"
   ]
  },
  {
   "cell_type": "code",
   "execution_count": 22,
   "id": "a6e0fe92-b80a-4429-a443-36ffc1a3154b",
   "metadata": {},
   "outputs": [],
   "source": [
    "df_clicked_prospect_engagements = df_clicked_prospect_engagements[df_clicked_prospect_engagements['status'] != '-']"
   ]
  },
  {
   "cell_type": "code",
   "execution_count": 23,
   "id": "a3e252d1-54ac-4c80-a3bd-2845757c50fc",
   "metadata": {},
   "outputs": [],
   "source": [
    "df_clicked_prospect_engagements['status'] = df_clicked_prospect_engagements['status'].replace('RESPONDED', 'EMAIL_OPENED')"
   ]
  },
  {
   "cell_type": "code",
   "execution_count": 24,
   "id": "c6d3b663-b148-47a2-8ba6-8256307421d6",
   "metadata": {},
   "outputs": [
    {
     "data": {
      "text/plain": [
       "status\n",
       "EMAIL_SENT        385957\n",
       "EMAIL_CLICKED      24728\n",
       "EMAIL_NOT_SENT      7263\n",
       "EMAIL_OPENED        3599\n",
       "SCHEDULED           1856\n",
       "BOUNCED             1095\n",
       "UNSUBSCRIBED         155\n",
       "ERROR                130\n",
       "Name: count, dtype: int64"
      ]
     },
     "execution_count": 24,
     "metadata": {},
     "output_type": "execute_result"
    }
   ],
   "source": [
    "df_clicked_prospect_engagements['status'].value_counts()"
   ]
  },
  {
   "cell_type": "code",
   "execution_count": null,
   "id": "ca50e2fe-d96c-4335-b19b-469ab403d6a8",
   "metadata": {},
   "outputs": [],
   "source": []
  },
  {
   "cell_type": "code",
   "execution_count": null,
   "id": "a139ed6b-647b-49c7-9926-0523ed1919c7",
   "metadata": {},
   "outputs": [],
   "source": []
  },
  {
   "cell_type": "code",
   "execution_count": null,
   "id": "5f8f52e4-2606-4857-bc13-6e0b11e7d49d",
   "metadata": {},
   "outputs": [],
   "source": []
  },
  {
   "cell_type": "code",
   "execution_count": null,
   "id": "4ef4e31b-f4c2-4f57-ba25-d395a97de913",
   "metadata": {},
   "outputs": [],
   "source": []
  },
  {
   "cell_type": "markdown",
   "id": "5c132614-bc22-4e0a-a781-f927ab82e999",
   "metadata": {},
   "source": [
    "## Add some column use for fetaure creation"
   ]
  },
  {
   "cell_type": "code",
   "execution_count": 25,
   "id": "87189cc8-2b53-44ef-8bfc-feb98a650905",
   "metadata": {},
   "outputs": [],
   "source": [
    "df_clicked_prospect_engagements['status_time_utc']=pd.to_datetime(df_clicked_prospect_engagements['status_time_utc'],utc=True)"
   ]
  },
  {
   "cell_type": "code",
   "execution_count": 26,
   "id": "9429b165-b542-467f-a9b8-cdcafcdb9252",
   "metadata": {},
   "outputs": [],
   "source": [
    "df_clicked_prospect_engagements.sort_values(by=['Email', 'segment', 'status_time_utc'], ascending=True, inplace=True)"
   ]
  },
  {
   "cell_type": "code",
   "execution_count": 27,
   "id": "7905adf9-bd6d-43c3-b21c-8a0bde4352a0",
   "metadata": {},
   "outputs": [],
   "source": [
    "df_prospect_first_clicked_mail_data= df_clicked_prospect_engagements[df_clicked_prospect_engagements['status']=='EMAIL_CLICKED'].groupby(['Email', 'segment']).first().reset_index()\n",
    "df_prospect_first_clicked_mail_data= df_prospect_first_clicked_mail_data[['Email', 'segment', 'status_time_utc']]\n",
    "df_prospect_first_clicked_mail_data.columns=['Email', 'segment', 'first_email_clicked_date']"
   ]
  },
  {
   "cell_type": "code",
   "execution_count": null,
   "id": "6726547e-71b2-4518-9dc6-5c1bae301e97",
   "metadata": {},
   "outputs": [],
   "source": []
  },
  {
   "cell_type": "code",
   "execution_count": null,
   "id": "c4ae803a-40ec-421d-b8b5-758a4d6a67f8",
   "metadata": {},
   "outputs": [],
   "source": []
  },
  {
   "cell_type": "code",
   "execution_count": 28,
   "id": "6463dc82-9aaa-434b-a5aa-88c50130ef6d",
   "metadata": {},
   "outputs": [],
   "source": [
    "df_prospect_first_opened_mail_data= df_clicked_prospect_engagements[df_clicked_prospect_engagements['status']=='EMAIL_OPENED'].groupby(['Email', 'segment']).first().reset_index()\n",
    "df_prospect_first_opened_mail_data= df_prospect_first_opened_mail_data[['Email', 'segment', 'status_time_utc']]\n",
    "df_prospect_first_opened_mail_data.columns=['Email', 'segment', 'first_email_opened_date']"
   ]
  },
  {
   "cell_type": "code",
   "execution_count": null,
   "id": "d660b98d-993d-4255-831a-e5721ace9db9",
   "metadata": {},
   "outputs": [],
   "source": []
  },
  {
   "cell_type": "code",
   "execution_count": 29,
   "id": "fb15f473-1de6-4e70-a777-083da209f273",
   "metadata": {},
   "outputs": [],
   "source": [
    "df_clicked_prospect_engagements= df_clicked_prospect_engagements.merge(df_prospect_first_clicked_mail_data,on=['Email', 'segment'],how='left')\n",
    "df_clicked_prospect_engagements= df_clicked_prospect_engagements.merge(df_prospect_first_opened_mail_data,on=['Email', 'segment'],how='left')"
   ]
  },
  {
   "cell_type": "code",
   "execution_count": 30,
   "id": "3facee9a-d115-4e4a-ad44-262c1491b8ba",
   "metadata": {},
   "outputs": [],
   "source": [
    "\n",
    "df_clicked_prospect_engagements['first_email_opened_date']= df_clicked_prospect_engagements['first_email_opened_date'].fillna(df_clicked_prospect_engagements['first_email_clicked_date'])"
   ]
  },
  {
   "cell_type": "code",
   "execution_count": null,
   "id": "f0b872b7-4696-4189-a83f-511456b8eb00",
   "metadata": {},
   "outputs": [],
   "source": []
  },
  {
   "cell_type": "code",
   "execution_count": 31,
   "id": "e3db65d3-1f00-4d19-a6cc-53be492dee73",
   "metadata": {},
   "outputs": [],
   "source": [
    "del df_prospect_first_clicked_mail_data"
   ]
  },
  {
   "cell_type": "code",
   "execution_count": 32,
   "id": "f6652156-9620-4548-aca5-2044108fc333",
   "metadata": {},
   "outputs": [],
   "source": [
    "del df_prospect_first_opened_mail_data"
   ]
  },
  {
   "cell_type": "code",
   "execution_count": 33,
   "id": "1e518f59-ce99-48fb-b5cf-fce3921ad901",
   "metadata": {},
   "outputs": [
    {
     "data": {
      "text/plain": [
       "0"
      ]
     },
     "execution_count": 33,
     "metadata": {},
     "output_type": "execute_result"
    }
   ],
   "source": [
    "gc.collect()"
   ]
  },
  {
   "cell_type": "code",
   "execution_count": 50,
   "id": "3739cb36-83ef-4e48-afce-5c416d305e1d",
   "metadata": {},
   "outputs": [
    {
     "name": "stdout",
     "output_type": "stream",
     "text": [
      "<class 'pandas.core.frame.DataFrame'>\n",
      "RangeIndex: 428145 entries, 0 to 428144\n",
      "Data columns (total 28 columns):\n",
      " #   Column                    Non-Null Count   Dtype              \n",
      "---  ------                    --------------   -----              \n",
      " 0   FirstName                 428145 non-null  object             \n",
      " 1   CompanyName               428145 non-null  object             \n",
      " 2   source                    428145 non-null  object             \n",
      " 3   header_date               424300 non-null  object             \n",
      " 4   raw_status                424784 non-null  object             \n",
      " 5   status                    424783 non-null  object             \n",
      " 6   status_time               418459 non-null  object             \n",
      " 7   reason                    1241 non-null    object             \n",
      " 8   status_time_utc           418459 non-null  datetime64[ns, UTC]\n",
      " 9   Email                     428145 non-null  object             \n",
      " 10  day_of_week               418459 non-null  object             \n",
      " 11  is_clicked_mail           428145 non-null  int64              \n",
      " 12  time_category             428145 non-null  object             \n",
      " 13  hour                      418459 non-null  float64            \n",
      " 14  segment                   428145 non-null  object             \n",
      " 15  sender_email              428145 non-null  object             \n",
      " 16  header_date_utc           424300 non-null  object             \n",
      " 17  is_email_sent             428145 non-null  int64              \n",
      " 18  is_email_clicked          428145 non-null  int64              \n",
      " 19  is_email_opened           428145 non-null  int64              \n",
      " 20  is_responded              428145 non-null  int64              \n",
      " 21  is_bounced                428145 non-null  int64              \n",
      " 22  is_unsubscribed           428145 non-null  int64              \n",
      " 23  is_mail_not_sent          428145 non-null  int64              \n",
      " 24  is_scheduled              428145 non-null  int64              \n",
      " 25  total_clicked_mail        428145 non-null  int64              \n",
      " 26  first_email_clicked_date  428145 non-null  datetime64[ns, UTC]\n",
      " 27  first_email_opened_date   428145 non-null  datetime64[ns, UTC]\n",
      "dtypes: datetime64[ns, UTC](3), float64(1), int64(10), object(14)\n",
      "memory usage: 91.5+ MB\n"
     ]
    }
   ],
   "source": [
    "df_clicked_prospect_engagements.info()"
   ]
  },
  {
   "cell_type": "code",
   "execution_count": null,
   "id": "4f17b7e1-6bb5-4741-b632-9ce3be91e04a",
   "metadata": {},
   "outputs": [],
   "source": []
  },
  {
   "cell_type": "code",
   "execution_count": 51,
   "id": "4a71114d-82eb-4cc0-b184-bdb85b867f29",
   "metadata": {},
   "outputs": [],
   "source": [
    "df_clicked_prospect_engagements.to_csv('/home/darshan/dev/AI_ML_Projects/schneider_electric/data/Schneider Electric Data/Email_Enagement_Data/click_email_prospect.csv')"
   ]
  },
  {
   "cell_type": "markdown",
   "id": "f5a4ea3c-c198-4382-a315-b9891bcb9aa8",
   "metadata": {},
   "source": [
    "## FEATURE ENGINEERING"
   ]
  },
  {
   "cell_type": "code",
   "execution_count": null,
   "id": "d91c494c-ba5b-43e5-88de-be3d05e848fd",
   "metadata": {},
   "outputs": [],
   "source": []
  },
  {
   "cell_type": "code",
   "execution_count": null,
   "id": "4e245e5f-6843-4621-8680-f2aae3301871",
   "metadata": {},
   "outputs": [],
   "source": []
  }
 ],
 "metadata": {
  "kernelspec": {
   "display_name": "Python 3 (ipykernel)",
   "language": "python",
   "name": "python3"
  },
  "language_info": {
   "codemirror_mode": {
    "name": "ipython",
    "version": 3
   },
   "file_extension": ".py",
   "mimetype": "text/x-python",
   "name": "python",
   "nbconvert_exporter": "python",
   "pygments_lexer": "ipython3",
   "version": "3.13.2"
  }
 },
 "nbformat": 4,
 "nbformat_minor": 5
}
