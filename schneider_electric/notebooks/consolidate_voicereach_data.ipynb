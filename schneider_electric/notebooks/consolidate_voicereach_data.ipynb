{
 "cells": [
  {
   "cell_type": "code",
   "execution_count": 26,
   "id": "5e79313f-3890-41eb-944c-daa96ca34448",
   "metadata": {},
   "outputs": [],
   "source": [
    "import os\n",
    "import pandas as pd"
   ]
  },
  {
   "cell_type": "code",
   "execution_count": 60,
   "id": "876a3a42-4be0-40ff-a42c-7ad3d2a6fe75",
   "metadata": {},
   "outputs": [],
   "source": [
    "main_voicereach_df = None\n",
    "main_sales_rep_df = None\n",
    "unique_email_v = set()\n",
    "unique_email_s = set()"
   ]
  },
  {
   "cell_type": "code",
   "execution_count": 69,
   "id": "0c3c1285-72ff-4106-99c3-fb5653ab9c43",
   "metadata": {},
   "outputs": [],
   "source": [
    "def read_multiple_sheets(file_path, sheet_names):\n",
    "    try:\n",
    "        dfs = pd.read_excel(file_path, sheet_name=sheet_names, engine='openpyxl')\n",
    "        return dfs  # Returns a dictionary of DataFrames\n",
    "    except Exception as e:\n",
    "        print(f\"\\nError reading file {file_path}: {e}\")\n",
    "        return None"
   ]
  },
  {
   "cell_type": "markdown",
   "id": "20e76721-d4aa-4d09-80b6-ba218ce55ce3",
   "metadata": {},
   "source": [
    "# Process Single File"
   ]
  },
  {
   "cell_type": "code",
   "execution_count": 93,
   "id": "b0a6d3f0-8801-4656-b4c2-ebbfa01ca1e3",
   "metadata": {},
   "outputs": [],
   "source": [
    "file_path = \"/home/darshan/Documents/Schneider Electric Data/SE - Voice reach data/Overall Consolidated VoivceReach Report_Schneider Electric_Microgrid.xlsx\"\n",
    "sheet_names = [\"Sales Rep's Conversation\", \"VoiceReach Remote Caller\"]\n",
    "\n",
    "dfs = read_multiple_sheets(file_path, sheet_names)"
   ]
  },
  {
   "cell_type": "code",
   "execution_count": 94,
   "id": "a2045c46-f1cc-4776-9d3d-7c03eca40fef",
   "metadata": {},
   "outputs": [],
   "source": [
    "sales_rep_df = dfs[\"Sales Rep's Conversation\"]\n",
    "voicereach_df = dfs[\"VoiceReach Remote Caller\"]"
   ]
  },
  {
   "cell_type": "code",
   "execution_count": null,
   "id": "d9247069-0af3-42c6-a2f0-8526a0f30b80",
   "metadata": {},
   "outputs": [],
   "source": []
  },
  {
   "cell_type": "code",
   "execution_count": 137,
   "id": "18db6de5-8231-4251-a635-002a6fadea52",
   "metadata": {},
   "outputs": [],
   "source": [
    "manual_call_v = voicereach_df[(voicereach_df['Call Originate Time'] == 'Manual') & (voicereach_df['Disposition Code'] == 'Transfer')]"
   ]
  },
  {
   "cell_type": "code",
   "execution_count": 138,
   "id": "0c2e5c27-0687-446a-a8e7-36c9f6bf35e5",
   "metadata": {},
   "outputs": [],
   "source": [
    "manual_call_s = sales_rep_df[sales_rep_df['Call Originate Time'] == 'Manual']"
   ]
  },
  {
   "cell_type": "code",
   "execution_count": 139,
   "id": "38d73e4e-5109-4c30-b7ad-2258c7cfd279",
   "metadata": {},
   "outputs": [
    {
     "data": {
      "text/plain": [
       "(56, 19)"
      ]
     },
     "execution_count": 139,
     "metadata": {},
     "output_type": "execute_result"
    }
   ],
   "source": [
    "manual_call_v.shape"
   ]
  },
  {
   "cell_type": "code",
   "execution_count": 140,
   "id": "b011f3cf-8837-4a9a-8116-d531c0a0a124",
   "metadata": {},
   "outputs": [
    {
     "data": {
      "text/plain": [
       "(56, 22)"
      ]
     },
     "execution_count": 140,
     "metadata": {},
     "output_type": "execute_result"
    }
   ],
   "source": [
    "manual_call_s.shape"
   ]
  },
  {
   "cell_type": "code",
   "execution_count": 141,
   "id": "d79a1f1e-0d66-452d-a1b6-fd25c23da69b",
   "metadata": {},
   "outputs": [
    {
     "data": {
      "text/plain": [
       "55"
      ]
     },
     "execution_count": 141,
     "metadata": {},
     "output_type": "execute_result"
    }
   ],
   "source": [
    "manual_call_v['Email'].nunique()"
   ]
  },
  {
   "cell_type": "code",
   "execution_count": 144,
   "id": "0d2237e2-df4f-413d-bda4-d6c7e6255a60",
   "metadata": {},
   "outputs": [
    {
     "data": {
      "text/plain": [
       "55"
      ]
     },
     "execution_count": 144,
     "metadata": {},
     "output_type": "execute_result"
    }
   ],
   "source": [
    "manual_call_s['Email'].nunique()"
   ]
  },
  {
   "cell_type": "code",
   "execution_count": null,
   "id": "efdf7ab0-9a92-41bf-b98e-38867ff894ee",
   "metadata": {},
   "outputs": [],
   "source": []
  },
  {
   "cell_type": "code",
   "execution_count": null,
   "id": "87cc36cc-505a-47a7-9f1a-b56b25533b39",
   "metadata": {},
   "outputs": [],
   "source": []
  },
  {
   "cell_type": "code",
   "execution_count": null,
   "id": "c6beed31-dc4b-4523-9461-c15d3c67c95c",
   "metadata": {},
   "outputs": [],
   "source": []
  },
  {
   "cell_type": "code",
   "execution_count": null,
   "id": "3bda8956-530f-474c-95f9-6d76f5a0d7da",
   "metadata": {},
   "outputs": [],
   "source": []
  },
  {
   "cell_type": "code",
   "execution_count": null,
   "id": "7f565100-eb2a-4dce-83ba-e3c4fac7ce16",
   "metadata": {},
   "outputs": [],
   "source": []
  },
  {
   "cell_type": "code",
   "execution_count": null,
   "id": "3eee9b3c-65d0-475d-a5c9-4210f0ba21a9",
   "metadata": {},
   "outputs": [],
   "source": []
  },
  {
   "cell_type": "code",
   "execution_count": 77,
   "id": "4103344b-089c-42fc-bf5e-175945fee1d5",
   "metadata": {},
   "outputs": [],
   "source": [
    "def combine_dataframes(voicereach_df, sales_rep_df):\n",
    "    \"\"\"\n",
    "    Dummy function to combine two DataFrames.\n",
    "    Currently returns df1, but combination logic can be added later.\n",
    "    \"\"\"\n",
    "    voicereach_df = voicereach_df.add_prefix(\"V_\")\n",
    "    sales_rep_df = sales_rep_df.add_prefix(\"S_\")\n",
    "\n",
    "    merged_df = voicereach_df.merge(\n",
    "        sales_rep_df, \n",
    "        left_on=\"V_Email\", \n",
    "        right_on=\"S_Email\", \n",
    "        how=\"outer\"\n",
    "    )\n",
    "    \n",
    "    return merged_df"
   ]
  },
  {
   "cell_type": "code",
   "execution_count": 41,
   "id": "c074f6d2-2ede-4e13-a734-c3242d8dafb2",
   "metadata": {},
   "outputs": [],
   "source": [
    "def save_dataframe_to_csv(df, folder_path, file):\n",
    "    \"\"\"\n",
    "    Saves the given DataFrame to a CSV file inside the specified folder.\n",
    "    The filename is derived from the 'file' variable by replacing '.xlsx' with '.csv'.\n",
    "    \"\"\"\n",
    "    os.makedirs(folder_path, exist_ok=True)\n",
    "    \n",
    "    csv_filename = file.replace(\".xlsx\", \".csv\")\n",
    "    csv_filepath = os.path.join(folder_path, csv_filename)\n",
    "    \n",
    "    df.to_csv(csv_filepath, index=False)\n",
    "    print(f\"DataFrame saved at: {csv_filepath}\")"
   ]
  },
  {
   "cell_type": "code",
   "execution_count": 61,
   "id": "c24e5edf-62c5-4905-8cf8-a8d5e1623f87",
   "metadata": {},
   "outputs": [],
   "source": [
    "def process_all_xlsx_in_folder(input_folder_path, output_folder_path, sheet_names):\n",
    "    \"\"\"\n",
    "    Reads all .xlsx files in the given folder using read_excel_sheets function\n",
    "    and prints the shape of each sheet.\n",
    "    \"\"\"\n",
    "    for file in os.listdir(input_folder_path):\n",
    "        if file.endswith(\".xlsx\"):\n",
    "            file_path = os.path.join(input_folder_path, file)\n",
    "            valid_sheets = read_multiple_sheets(file_path, sheet_names)\n",
    "\n",
    "            if not valid_sheets:\n",
    "                print(f\"Skipping file: {file} - No required sheets found.\")\n",
    "                continue\n",
    "                            \n",
    "            print(f\"\\nFile: {file}\")\n",
    "            for sheet_name, df in valid_sheets.items():\n",
    "                print(f\"  Sheet: {sheet_name} - Shape: {df.shape}\")\n",
    "\n",
    "            voicereach_df = valid_sheets['VoiceReach Remote Caller']\n",
    "            sales_rep_df = valid_sheets[\"Sales Rep's Conversation\"]\n",
    "\n",
    "            print(f\"  transfer: {(voicereach_df['Disposition Code']==\"Transfer\").sum()}\")\n",
    "            print(f\"  have call time: {(sales_rep_df['Talk time']).count()}\")\n",
    "\n",
    "            \n",
    "            unique_email_v.update(voicereach_df['Email'].unique())\n",
    "            unique_email_s.update(sales_rep_df['Email'].unique())\n",
    "            # combine_df = combine_dataframes(voicereach_df, sales_rep_df)\n",
    "            # print(f\"  Sheet: Combine - Shape: {combine_df.shape}\")\n",
    "\n",
    "            # save_dataframe_to_csv(combine_df, output_folder_path, file)\n",
    "            \n",
    "            # if main_voicereach_df is None:\n",
    "            #     main_voicereach_df = voicereach_df\n",
    "            # else:\n",
    "            #     main_voicereach_df = pd.concat([main_voicereach_df, voicereach_df], ignore_index=True)\n",
    "            # main_sales_rep_df = pd.concat([main_sales_rep_df, sales_rep_df], ignore_index=True)\n",
    "            "
   ]
  },
  {
   "cell_type": "code",
   "execution_count": 62,
   "id": "f7114f00-085f-4972-b93f-daeca3b5c23a",
   "metadata": {},
   "outputs": [
    {
     "name": "stdout",
     "output_type": "stream",
     "text": [
      "\n",
      "File: Overall Consolidated VoiceReach Report_Schneider Electric - Airport Operations.xlsx\n",
      "  Sheet: Sales Rep's Conversation - Shape: (87, 22)\n",
      "  Sheet: VoiceReach Remote Caller - Shape: (2725, 19)\n",
      "  transfer: 87\n",
      "  have call time: 87\n",
      "\n",
      "File: Overall Consolidated VoivceReach Report_Schneider Electric_Microgrid.xlsx\n",
      "  Sheet: Sales Rep's Conversation - Shape: (102, 22)\n",
      "  Sheet: VoiceReach Remote Caller - Shape: (4926, 19)\n",
      "  transfer: 102\n",
      "  have call time: 46\n",
      "\n",
      "File: Overall Consolidated VoiceReach Report_Schneider Electric - Auto EV.xlsx\n",
      "  Sheet: Sales Rep's Conversation - Shape: (54, 22)\n",
      "  Sheet: VoiceReach Remote Caller - Shape: (2004, 19)\n",
      "  transfer: 54\n",
      "  have call time: 54\n",
      "\n",
      "File: Overall Consolidated VoiceReach Report_Schneider Electric - OEM Pumps.xlsx\n",
      "  Sheet: Sales Rep's Conversation - Shape: (44, 22)\n",
      "  Sheet: VoiceReach Remote Caller - Shape: (1364, 19)\n",
      "  transfer: 44\n",
      "  have call time: 44\n",
      "\n",
      "File: Overall Consolidated VoiceReach Report_Schneider Electric - Semicon.xlsx\n",
      "  Sheet: Sales Rep's Conversation - Shape: (68, 22)\n",
      "  Sheet: VoiceReach Remote Caller - Shape: (3267, 19)\n",
      "  transfer: 68\n",
      "  have call time: 68\n",
      "\n",
      "File: Overall Consolidated VoiceReach Report_Schneider Electric - BMS US.xlsx\n",
      "  Sheet: Sales Rep's Conversation - Shape: (825, 21)\n",
      "  Sheet: VoiceReach Remote Caller - Shape: (17080, 17)\n",
      "  transfer: 825\n",
      "  have call time: 443\n",
      "\n",
      "File: Overall Consolidated VoiceReach Report_Schneider Electric - BMS UK.xlsx\n",
      "  Sheet: Sales Rep's Conversation - Shape: (8, 22)\n",
      "  Sheet: VoiceReach Remote Caller - Shape: (558, 19)\n",
      "  transfer: 8\n",
      "  have call time: 8\n",
      "\n",
      "Error reading file /home/darshan/Documents/Schneider Electric Data/SE - Voice reach data/Overall consolidated Calling Report_Schneider Electric - Mexico.xlsx: Worksheet named 'Sales Rep's Conversation' not found\n",
      "Skipping file: Overall consolidated Calling Report_Schneider Electric - Mexico.xlsx - No required sheets found.\n",
      "\n",
      "File: Overall Consolidated VoiceReach Report_Schneider Electric - DERMS.xlsx\n",
      "  Sheet: Sales Rep's Conversation - Shape: (138, 22)\n",
      "  Sheet: VoiceReach Remote Caller - Shape: (4018, 19)\n",
      "  transfer: 43\n",
      "  have call time: 43\n",
      "\n",
      "File: Overall Consolidated VoiceReach Report_Schneider Electric - Robotics.xlsx\n",
      "  Sheet: Sales Rep's Conversation - Shape: (4, 22)\n",
      "  Sheet: VoiceReach Remote Caller - Shape: (963, 19)\n",
      "  transfer: 4\n",
      "  have call time: 4\n"
     ]
    }
   ],
   "source": [
    "\n",
    "input_folder_path = \"/home/darshan/Documents/Schneider Electric Data/SE - Voice reach data/\"\n",
    "output_folder_path = \"/home/darshan/Documents/Schneider Electric Data/SE - Voice reach data/Process/\"\n",
    "sheet_names = [\"Sales Rep's Conversation\", \"VoiceReach Remote Caller\"]\n",
    "process_all_xlsx_in_folder(input_folder_path, output_folder_path, sheet_names)"
   ]
  },
  {
   "cell_type": "code",
   "execution_count": 67,
   "id": "1790a86b-0f90-4fff-889c-a63bc492f201",
   "metadata": {},
   "outputs": [
    {
     "data": {
      "text/plain": [
       "1214"
      ]
     },
     "execution_count": 67,
     "metadata": {},
     "output_type": "execute_result"
    }
   ],
   "source": [
    "len(unique_email_s)"
   ]
  },
  {
   "cell_type": "code",
   "execution_count": 68,
   "id": "83bf36e2-14b5-45d1-b14d-93aa148ce158",
   "metadata": {},
   "outputs": [
    {
     "data": {
      "text/plain": [
       "17241"
      ]
     },
     "execution_count": 68,
     "metadata": {},
     "output_type": "execute_result"
    }
   ],
   "source": [
    "len(unique_email_v)"
   ]
  },
  {
   "cell_type": "code",
   "execution_count": null,
   "id": "f672414f-7c46-442c-9ccf-8fe09fea885f",
   "metadata": {},
   "outputs": [],
   "source": []
  },
  {
   "cell_type": "code",
   "execution_count": 14,
   "id": "3c7f360f-5b52-451d-92b6-80a84c5a4960",
   "metadata": {},
   "outputs": [],
   "source": [
    "# file_path = '/home/darshan/Documents/Schneider Electric Data/SE - Voice reach data/Overall Consolidated VoivceReach Report_Schneider Electric_Microgrid.xlsx'\n",
    "\n",
    "# v_df = pd.read_excel(file_path, sheet_name=[\"Sales Rep's Conversation\", \"VoiceReach Remote Caller\"])\n",
    "\n",
    "# v_df"
   ]
  },
  {
   "cell_type": "code",
   "execution_count": null,
   "id": "b7760297-2040-43bb-9725-f62ca8d8d31d",
   "metadata": {},
   "outputs": [],
   "source": []
  },
  {
   "cell_type": "code",
   "execution_count": null,
   "id": "0e84f104-f0c3-44a6-8615-73cfac415909",
   "metadata": {},
   "outputs": [],
   "source": []
  }
 ],
 "metadata": {
  "kernelspec": {
   "display_name": "Python 3 (ipykernel)",
   "language": "python",
   "name": "python3"
  },
  "language_info": {
   "codemirror_mode": {
    "name": "ipython",
    "version": 3
   },
   "file_extension": ".py",
   "mimetype": "text/x-python",
   "name": "python",
   "nbconvert_exporter": "python",
   "pygments_lexer": "ipython3",
   "version": "3.13.2"
  }
 },
 "nbformat": 4,
 "nbformat_minor": 5
}
