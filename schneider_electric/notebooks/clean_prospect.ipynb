{
 "cells": [
  {
   "cell_type": "code",
   "execution_count": 1,
   "id": "5b38dd33-a88c-4bc6-9f60-6e49e07d022f",
   "metadata": {},
   "outputs": [],
   "source": [
    "import pandas as pd\n",
    "import numpy as np\n",
    "from datetime import datetime"
   ]
  },
  {
   "cell_type": "code",
   "execution_count": 2,
   "id": "d765e5f3-a726-42ec-a9f1-945959c95e87",
   "metadata": {},
   "outputs": [],
   "source": [
    "pd.set_option('display.width', 1000)\n",
    "pd.set_option('display.max_columns', None)"
   ]
  },
  {
   "cell_type": "code",
   "execution_count": 3,
   "id": "a2ee36d1-34a6-4d48-87f9-e0d45fe43c31",
   "metadata": {},
   "outputs": [
    {
     "name": "stdout",
     "output_type": "stream",
     "text": [
      "<class 'pandas.core.frame.DataFrame'>\n",
      "RangeIndex: 156043 entries, 0 to 156042\n",
      "Data columns (total 35 columns):\n",
      " #   Column                  Non-Null Count   Dtype  \n",
      "---  ------                  --------------   -----  \n",
      " 0   Project Name            156043 non-null  object \n",
      " 1   Delivery Status         156043 non-null  object \n",
      " 2   Company Name            156043 non-null  object \n",
      " 3   First Name              156042 non-null  object \n",
      " 4   Middle Name             6033 non-null    object \n",
      " 5   Last Name               156042 non-null  object \n",
      " 6   Title                   156043 non-null  object \n",
      " 7   Level                   142987 non-null  object \n",
      " 8   Department              142987 non-null  object \n",
      " 9   Email ID                156040 non-null  object \n",
      " 10  Domain                  132996 non-null  object \n",
      " 11  Contact Phone Number    85186 non-null   object \n",
      " 12  Company Phone Number    127765 non-null  object \n",
      " 13  Direct Dial             2271 non-null    object \n",
      " 14  Mobile                  13919 non-null   object \n",
      " 15  Contact_Street1         3 non-null       object \n",
      " 16  Contact_Street2         0 non-null       float64\n",
      " 17  Contact_City            133182 non-null  object \n",
      " 18  Contact_State           116263 non-null  object \n",
      " 19  Contact_Zipcode         5183 non-null    object \n",
      " 20  Country                 155851 non-null  object \n",
      " 21  Website                 144300 non-null  object \n",
      " 22  Contact Linkedin URL    113155 non-null  object \n",
      " 23  Company Street 1        140353 non-null  object \n",
      " 24  Company Street 2        15463 non-null   object \n",
      " 25  Company City            149115 non-null  object \n",
      " 26  Company State           138500 non-null  object \n",
      " 27  Company Post Code       83733 non-null   object \n",
      " 28  Company Country         154396 non-null  object \n",
      " 29  Company LI Profile Url  149434 non-null  object \n",
      " 30  Industry                154688 non-null  object \n",
      " 31  SUB Industry            154688 non-null  object \n",
      " 32  Revenue                 154693 non-null  object \n",
      " 33  Revenue Range           109464 non-null  object \n",
      " 34  EMP Range               154698 non-null  object \n",
      "dtypes: float64(1), object(34)\n",
      "memory usage: 41.7+ MB\n"
     ]
    }
   ],
   "source": [
    "prospect_df = pd.read_excel('/home/darshan/dev/AI_ML_Projects/schneider_electric /data/Schneider Electric Data/Email_Enagement_Data/SE Projects Consolidated File.xlsx')\n",
    "\n",
    "prospect_df.info()"
   ]
  },
  {
   "cell_type": "code",
   "execution_count": 4,
   "id": "3bcd8c2a-9ddc-4204-a003-adc7fd234f81",
   "metadata": {},
   "outputs": [
    {
     "data": {
      "text/html": [
       "<div>\n",
       "<style scoped>\n",
       "    .dataframe tbody tr th:only-of-type {\n",
       "        vertical-align: middle;\n",
       "    }\n",
       "\n",
       "    .dataframe tbody tr th {\n",
       "        vertical-align: top;\n",
       "    }\n",
       "\n",
       "    .dataframe thead th {\n",
       "        text-align: right;\n",
       "    }\n",
       "</style>\n",
       "<table border=\"1\" class=\"dataframe\">\n",
       "  <thead>\n",
       "    <tr style=\"text-align: right;\">\n",
       "      <th></th>\n",
       "      <th>Project Name</th>\n",
       "      <th>Delivery Status</th>\n",
       "      <th>Company Name</th>\n",
       "      <th>First Name</th>\n",
       "      <th>Middle Name</th>\n",
       "      <th>Last Name</th>\n",
       "      <th>Title</th>\n",
       "      <th>Level</th>\n",
       "      <th>Department</th>\n",
       "      <th>Email ID</th>\n",
       "      <th>Domain</th>\n",
       "      <th>Contact Phone Number</th>\n",
       "      <th>Company Phone Number</th>\n",
       "      <th>Direct Dial</th>\n",
       "      <th>Mobile</th>\n",
       "      <th>Contact_Street1</th>\n",
       "      <th>Contact_Street2</th>\n",
       "      <th>Contact_City</th>\n",
       "      <th>Contact_State</th>\n",
       "      <th>Contact_Zipcode</th>\n",
       "      <th>Country</th>\n",
       "      <th>Website</th>\n",
       "      <th>Contact Linkedin URL</th>\n",
       "      <th>Company Street 1</th>\n",
       "      <th>Company Street 2</th>\n",
       "      <th>Company City</th>\n",
       "      <th>Company State</th>\n",
       "      <th>Company Post Code</th>\n",
       "      <th>Company Country</th>\n",
       "      <th>Company LI Profile Url</th>\n",
       "      <th>Industry</th>\n",
       "      <th>SUB Industry</th>\n",
       "      <th>Revenue</th>\n",
       "      <th>Revenue Range</th>\n",
       "      <th>EMP Range</th>\n",
       "    </tr>\n",
       "  </thead>\n",
       "  <tbody>\n",
       "    <tr>\n",
       "      <th>0</th>\n",
       "      <td>Microgrids</td>\n",
       "      <td>Delivery 1</td>\n",
       "      <td>Albertsons</td>\n",
       "      <td>Miller</td>\n",
       "      <td>NaN</td>\n",
       "      <td>Roxanne</td>\n",
       "      <td>Chief Financial Officer</td>\n",
       "      <td>CXO</td>\n",
       "      <td>Finance</td>\n",
       "      <td>miller.roxanne@albertsons.com</td>\n",
       "      <td>albertsons.com</td>\n",
       "      <td>817-568-3646</td>\n",
       "      <td>208-395-6200</td>\n",
       "      <td>NaN</td>\n",
       "      <td>NaN</td>\n",
       "      <td>NaN</td>\n",
       "      <td>NaN</td>\n",
       "      <td>Pocatello</td>\n",
       "      <td>ID</td>\n",
       "      <td>NaN</td>\n",
       "      <td>United States</td>\n",
       "      <td>www.albertsons.com</td>\n",
       "      <td>https://www.linkedin.com/in/miller-roxanne-75a...</td>\n",
       "      <td>250 E Parkcenter Blvd</td>\n",
       "      <td>NaN</td>\n",
       "      <td>Boise</td>\n",
       "      <td>ID</td>\n",
       "      <td>NaN</td>\n",
       "      <td>United States</td>\n",
       "      <td>https://www.linkedin.com/company/24793171</td>\n",
       "      <td>Retail</td>\n",
       "      <td>Grocery Retail</td>\n",
       "      <td>$79.5B</td>\n",
       "      <td>10B+</td>\n",
       "      <td>10,000+</td>\n",
       "    </tr>\n",
       "    <tr>\n",
       "      <th>1</th>\n",
       "      <td>Microgrids</td>\n",
       "      <td>Delivery 1</td>\n",
       "      <td>Albertsons</td>\n",
       "      <td>Michael</td>\n",
       "      <td>NaN</td>\n",
       "      <td>Rich</td>\n",
       "      <td>Director Corporate Finance</td>\n",
       "      <td>Dir</td>\n",
       "      <td>Finance</td>\n",
       "      <td>michael.rich@albertsons.com</td>\n",
       "      <td>albertsons.com</td>\n",
       "      <td>208-395-6465</td>\n",
       "      <td>208-395-6200</td>\n",
       "      <td>208-395-6465</td>\n",
       "      <td>208-258-4014</td>\n",
       "      <td>NaN</td>\n",
       "      <td>NaN</td>\n",
       "      <td>Meridian</td>\n",
       "      <td>ID</td>\n",
       "      <td>NaN</td>\n",
       "      <td>United States</td>\n",
       "      <td>www.albertsons.com</td>\n",
       "      <td>https://www.linkedin.com/in/michael-rich-11b26111</td>\n",
       "      <td>250 E Parkcenter Blvd</td>\n",
       "      <td>NaN</td>\n",
       "      <td>Boise</td>\n",
       "      <td>ID</td>\n",
       "      <td>NaN</td>\n",
       "      <td>United States</td>\n",
       "      <td>https://www.linkedin.com/company/24793171</td>\n",
       "      <td>Retail</td>\n",
       "      <td>Grocery Retail</td>\n",
       "      <td>$79.5B</td>\n",
       "      <td>10B+</td>\n",
       "      <td>10,000+</td>\n",
       "    </tr>\n",
       "    <tr>\n",
       "      <th>2</th>\n",
       "      <td>Microgrids</td>\n",
       "      <td>Delivery 1</td>\n",
       "      <td>Albertsons</td>\n",
       "      <td>Barach</td>\n",
       "      <td>NaN</td>\n",
       "      <td>Fugitt</td>\n",
       "      <td>Director Financial Planning and Analysis</td>\n",
       "      <td>Dir</td>\n",
       "      <td>Finance</td>\n",
       "      <td>barach.fugitt@albertsons.com</td>\n",
       "      <td>albertsons.com</td>\n",
       "      <td>925-963-5639</td>\n",
       "      <td>208-395-6200</td>\n",
       "      <td>NaN</td>\n",
       "      <td>925-963‑5639</td>\n",
       "      <td>NaN</td>\n",
       "      <td>NaN</td>\n",
       "      <td>Boise</td>\n",
       "      <td>ID</td>\n",
       "      <td>NaN</td>\n",
       "      <td>United States</td>\n",
       "      <td>www.albertsons.com</td>\n",
       "      <td>https://www.linkedin.com/in/barachfugitt</td>\n",
       "      <td>250 E Parkcenter Blvd</td>\n",
       "      <td>NaN</td>\n",
       "      <td>Boise</td>\n",
       "      <td>ID</td>\n",
       "      <td>NaN</td>\n",
       "      <td>United States</td>\n",
       "      <td>https://www.linkedin.com/company/24793171</td>\n",
       "      <td>Retail</td>\n",
       "      <td>Grocery Retail</td>\n",
       "      <td>$79.5B</td>\n",
       "      <td>10B+</td>\n",
       "      <td>10,000+</td>\n",
       "    </tr>\n",
       "    <tr>\n",
       "      <th>3</th>\n",
       "      <td>Microgrids</td>\n",
       "      <td>Delivery 1</td>\n",
       "      <td>Albertsons</td>\n",
       "      <td>Teri</td>\n",
       "      <td>NaN</td>\n",
       "      <td>Wiggins</td>\n",
       "      <td>Director Finance</td>\n",
       "      <td>Dir</td>\n",
       "      <td>Finance</td>\n",
       "      <td>teri.wiggins@albertsons.com</td>\n",
       "      <td>albertsons.com</td>\n",
       "      <td>208-395-3660</td>\n",
       "      <td>208-395-6200</td>\n",
       "      <td>208=395-3660</td>\n",
       "      <td>208-863-5953</td>\n",
       "      <td>NaN</td>\n",
       "      <td>NaN</td>\n",
       "      <td>Boise</td>\n",
       "      <td>ID</td>\n",
       "      <td>NaN</td>\n",
       "      <td>United States</td>\n",
       "      <td>www.albertsons.com</td>\n",
       "      <td>https://www.linkedin.com/in/teri-wiggins-801267a</td>\n",
       "      <td>250 E Parkcenter Blvd</td>\n",
       "      <td>NaN</td>\n",
       "      <td>Boise</td>\n",
       "      <td>ID</td>\n",
       "      <td>NaN</td>\n",
       "      <td>United States</td>\n",
       "      <td>https://www.linkedin.com/company/24793171</td>\n",
       "      <td>Retail</td>\n",
       "      <td>Grocery Retail</td>\n",
       "      <td>$79.5B</td>\n",
       "      <td>10B+</td>\n",
       "      <td>10,000+</td>\n",
       "    </tr>\n",
       "    <tr>\n",
       "      <th>4</th>\n",
       "      <td>Microgrids</td>\n",
       "      <td>Delivery 1</td>\n",
       "      <td>Albertsons</td>\n",
       "      <td>Kat</td>\n",
       "      <td>NaN</td>\n",
       "      <td>Chin</td>\n",
       "      <td>Sr Director Strategic Sourcing</td>\n",
       "      <td>Dir</td>\n",
       "      <td>Operations</td>\n",
       "      <td>kat.chin@albertsons.com</td>\n",
       "      <td>albertsons.com</td>\n",
       "      <td>510-303-3597</td>\n",
       "      <td>208-395-6200</td>\n",
       "      <td>NaN</td>\n",
       "      <td>510-303‑3597</td>\n",
       "      <td>NaN</td>\n",
       "      <td>NaN</td>\n",
       "      <td>NaN</td>\n",
       "      <td>NaN</td>\n",
       "      <td>NaN</td>\n",
       "      <td>United States</td>\n",
       "      <td>www.albertsons.com</td>\n",
       "      <td>https://www.linkedin.com/in/kat-chin-05675539</td>\n",
       "      <td>250 E Parkcenter Blvd</td>\n",
       "      <td>NaN</td>\n",
       "      <td>Boise</td>\n",
       "      <td>ID</td>\n",
       "      <td>83706</td>\n",
       "      <td>United States</td>\n",
       "      <td>https://www.linkedin.com/company/24793171</td>\n",
       "      <td>Retail</td>\n",
       "      <td>Grocery Retail</td>\n",
       "      <td>$79.5B</td>\n",
       "      <td>10B+</td>\n",
       "      <td>10,000+</td>\n",
       "    </tr>\n",
       "  </tbody>\n",
       "</table>\n",
       "</div>"
      ],
      "text/plain": [
       "  Project Name Delivery Status Company Name First Name Middle Name Last Name                                     Title Level  Department                       Email ID          Domain Contact Phone Number Company Phone Number   Direct Dial        Mobile Contact_Street1  Contact_Street2 Contact_City Contact_State Contact_Zipcode        Country             Website                               Contact Linkedin URL       Company Street 1 Company Street 2 Company City Company State Company Post Code Company Country                     Company LI Profile Url Industry    SUB Industry Revenue Revenue Range EMP Range\n",
       "0   Microgrids      Delivery 1   Albertsons     Miller         NaN   Roxanne                   Chief Financial Officer   CXO     Finance  miller.roxanne@albertsons.com  albertsons.com         817-568-3646         208-395-6200           NaN           NaN             NaN              NaN    Pocatello            ID             NaN  United States  www.albertsons.com  https://www.linkedin.com/in/miller-roxanne-75a...  250 E Parkcenter Blvd              NaN        Boise            ID               NaN   United States  https://www.linkedin.com/company/24793171   Retail  Grocery Retail  $79.5B          10B+   10,000+\n",
       "1   Microgrids      Delivery 1   Albertsons    Michael         NaN      Rich                Director Corporate Finance   Dir     Finance    michael.rich@albertsons.com  albertsons.com         208-395-6465         208-395-6200  208-395-6465  208-258-4014             NaN              NaN     Meridian            ID             NaN  United States  www.albertsons.com  https://www.linkedin.com/in/michael-rich-11b26111  250 E Parkcenter Blvd              NaN        Boise            ID               NaN   United States  https://www.linkedin.com/company/24793171   Retail  Grocery Retail  $79.5B          10B+   10,000+\n",
       "2   Microgrids      Delivery 1   Albertsons     Barach         NaN    Fugitt  Director Financial Planning and Analysis   Dir     Finance   barach.fugitt@albertsons.com  albertsons.com         925-963-5639         208-395-6200           NaN  925-963‑5639             NaN              NaN        Boise            ID             NaN  United States  www.albertsons.com           https://www.linkedin.com/in/barachfugitt  250 E Parkcenter Blvd              NaN        Boise            ID               NaN   United States  https://www.linkedin.com/company/24793171   Retail  Grocery Retail  $79.5B          10B+   10,000+\n",
       "3   Microgrids      Delivery 1   Albertsons       Teri         NaN   Wiggins                          Director Finance   Dir     Finance    teri.wiggins@albertsons.com  albertsons.com         208-395-3660         208-395-6200  208=395-3660  208-863-5953             NaN              NaN        Boise            ID             NaN  United States  www.albertsons.com   https://www.linkedin.com/in/teri-wiggins-801267a  250 E Parkcenter Blvd              NaN        Boise            ID               NaN   United States  https://www.linkedin.com/company/24793171   Retail  Grocery Retail  $79.5B          10B+   10,000+\n",
       "4   Microgrids      Delivery 1   Albertsons        Kat         NaN      Chin            Sr Director Strategic Sourcing   Dir  Operations        kat.chin@albertsons.com  albertsons.com         510-303-3597         208-395-6200           NaN  510-303‑3597             NaN              NaN          NaN           NaN             NaN  United States  www.albertsons.com      https://www.linkedin.com/in/kat-chin-05675539  250 E Parkcenter Blvd              NaN        Boise            ID             83706   United States  https://www.linkedin.com/company/24793171   Retail  Grocery Retail  $79.5B          10B+   10,000+"
      ]
     },
     "execution_count": 4,
     "metadata": {},
     "output_type": "execute_result"
    }
   ],
   "source": [
    "prospect_df.head(5)"
   ]
  },
  {
   "cell_type": "code",
   "execution_count": 5,
   "id": "446204cf-4fa1-4d6a-86ee-9d70cf9dc815",
   "metadata": {},
   "outputs": [
    {
     "name": "stdout",
     "output_type": "stream",
     "text": [
      "Removed Columns: ['Middle Name', 'Last Name', 'Direct Dial', 'First Name', 'Company Name', 'Company LI Profile Url', 'Domain', 'Company Street 2', 'Website', 'Contact_Street2', 'Contact_Street1', 'Contact Linkedin URL', 'Company Phone Number', 'Contact Phone Number', 'Company Street 1', 'Mobile']\n"
     ]
    }
   ],
   "source": [
    "# List of columns to keep\n",
    "columns_to_keep = [\n",
    "    \"Email ID\", \"Project Name\", \"Delivery Status\", \"Title\", \"Level\", \"Department\",\n",
    "    \"Contact_City\", \"Contact_State\", \"Contact_Zipcode\", \"Country\",\n",
    "    \"Company City\", \"Company State\", \"Company Post Code\", \"Company Country\",\n",
    "    \"Industry\", \"SUB Industry\", \"Revenue\", \"Revenue Range\", \"EMP Range\"\n",
    "]\n",
    "\n",
    "# Get removed columns dynamically\n",
    "removed_columns = list(set(prospect_df.columns) - set(columns_to_keep))\n",
    "\n",
    "# Create new DataFrame with only the selected columns\n",
    "prospect_use_cln_df = prospect_df[columns_to_keep]\n",
    "\n",
    "# Print removed columns\n",
    "print(\"Removed Columns:\", removed_columns)"
   ]
  },
  {
   "cell_type": "code",
   "execution_count": null,
   "id": "0f7c64e6-bc38-4eaf-a5ff-6ecb1af5d1b5",
   "metadata": {},
   "outputs": [],
   "source": []
  },
  {
   "cell_type": "code",
   "execution_count": 6,
   "id": "a5275a0a-619d-4bc4-907b-76ec023feb01",
   "metadata": {},
   "outputs": [
    {
     "name": "stdout",
     "output_type": "stream",
     "text": [
      "<class 'pandas.core.frame.DataFrame'>\n",
      "RangeIndex: 156043 entries, 0 to 156042\n",
      "Data columns (total 19 columns):\n",
      " #   Column             Non-Null Count   Dtype \n",
      "---  ------             --------------   ----- \n",
      " 0   Email ID           156040 non-null  object\n",
      " 1   Project Name       156043 non-null  object\n",
      " 2   Delivery Status    156043 non-null  object\n",
      " 3   Title              156043 non-null  object\n",
      " 4   Level              142987 non-null  object\n",
      " 5   Department         142987 non-null  object\n",
      " 6   Contact_City       133182 non-null  object\n",
      " 7   Contact_State      116263 non-null  object\n",
      " 8   Contact_Zipcode    5183 non-null    object\n",
      " 9   Country            155851 non-null  object\n",
      " 10  Company City       149115 non-null  object\n",
      " 11  Company State      138500 non-null  object\n",
      " 12  Company Post Code  83733 non-null   object\n",
      " 13  Company Country    154396 non-null  object\n",
      " 14  Industry           154688 non-null  object\n",
      " 15  SUB Industry       154688 non-null  object\n",
      " 16  Revenue            154693 non-null  object\n",
      " 17  Revenue Range      109464 non-null  object\n",
      " 18  EMP Range          154698 non-null  object\n",
      "dtypes: object(19)\n",
      "memory usage: 22.6+ MB\n"
     ]
    }
   ],
   "source": [
    "prospect_use_cln_df.info()"
   ]
  },
  {
   "cell_type": "code",
   "execution_count": null,
   "id": "debf9494-d99a-4daf-b216-3872bd7ee24a",
   "metadata": {},
   "outputs": [],
   "source": []
  },
  {
   "cell_type": "code",
   "execution_count": null,
   "id": "d26b1067-fba3-44ca-a347-5b050a1b2d20",
   "metadata": {},
   "outputs": [],
   "source": []
  },
  {
   "cell_type": "markdown",
   "id": "cd9a8b70-405e-4522-8c55-ac052ded6ec2",
   "metadata": {},
   "source": [
    "# Delete Duplicate record\n",
    "## Using Email value"
   ]
  },
  {
   "cell_type": "code",
   "execution_count": null,
   "id": "cac730ac-514d-4a4e-9700-b593c891108d",
   "metadata": {},
   "outputs": [],
   "source": []
  },
  {
   "cell_type": "code",
   "execution_count": null,
   "id": "28c9569f-5572-4097-a18b-5dc26bdff76a",
   "metadata": {},
   "outputs": [],
   "source": []
  },
  {
   "cell_type": "code",
   "execution_count": null,
   "id": "41fec042-b42a-456b-bad9-92eaebc85c02",
   "metadata": {},
   "outputs": [],
   "source": []
  },
  {
   "cell_type": "code",
   "execution_count": null,
   "id": "89fcd9f7-ee7b-4a33-96c6-40e7dea2ab8e",
   "metadata": {},
   "outputs": [],
   "source": []
  },
  {
   "cell_type": "code",
   "execution_count": null,
   "id": "384fecb0-7f38-4582-8908-6e4c2979b7fa",
   "metadata": {},
   "outputs": [],
   "source": []
  },
  {
   "cell_type": "code",
   "execution_count": null,
   "id": "d7d7f029-bde4-4c5c-91e8-0ceafe11d851",
   "metadata": {},
   "outputs": [],
   "source": []
  },
  {
   "cell_type": "code",
   "execution_count": null,
   "id": "9e22680a-09c2-4096-8306-3fce6d436793",
   "metadata": {},
   "outputs": [],
   "source": []
  },
  {
   "cell_type": "code",
   "execution_count": 7,
   "id": "017d1e0c-3cad-410f-ba19-c1d5338ea5be",
   "metadata": {},
   "outputs": [
    {
     "name": "stdout",
     "output_type": "stream",
     "text": [
      "Column: Email ID, Unique Categories: 154448\n",
      "Column: Project Name, Unique Categories: 14\n",
      "Column: Delivery Status, Unique Categories: 7\n",
      "Column: Title, Unique Categories: 71919\n",
      "Column: Level, Unique Categories: 6\n",
      "Column: Department, Unique Categories: 11\n",
      "Column: Contact_City, Unique Categories: 6549\n",
      "Column: Contact_State, Unique Categories: 119\n",
      "Column: Contact_Zipcode, Unique Categories: 973\n",
      "Column: Country, Unique Categories: 4\n",
      "Column: Company City, Unique Categories: 877\n",
      "Column: Company State, Unique Categories: 150\n",
      "Column: Company Post Code, Unique Categories: 849\n",
      "Column: Company Country, Unique Categories: 45\n",
      "Column: Industry, Unique Categories: 24\n",
      "Column: SUB Industry, Unique Categories: 109\n",
      "Column: Revenue, Unique Categories: 614\n",
      "Column: Revenue Range, Unique Categories: 10\n",
      "Column: EMP Range, Unique Categories: 24\n"
     ]
    }
   ],
   "source": [
    "# Identify categorical columns and count unique values\n",
    "categorical_counts = {\n",
    "    col: prospect_use_cln_df[col].nunique()\n",
    "    for col in prospect_use_cln_df.select_dtypes(include=['object']).columns\n",
    "}\n",
    "\n",
    "# Print categorical column names and their unique category count\n",
    "for col, count in categorical_counts.items():\n",
    "    print(f\"Column: {col}, Unique Categories: {count}\")\n"
   ]
  },
  {
   "cell_type": "code",
   "execution_count": null,
   "id": "28623c6f-133c-479a-88a4-c8026e17d288",
   "metadata": {},
   "outputs": [],
   "source": []
  },
  {
   "cell_type": "markdown",
   "id": "41e32dce-5968-4e9b-9f7e-c1f550732809",
   "metadata": {},
   "source": [
    "# Cleaning"
   ]
  },
  {
   "cell_type": "markdown",
   "id": "d21ac5e8-6e90-4c03-a50c-cc3329550df9",
   "metadata": {},
   "source": [
    "## Clean Revuenue"
   ]
  },
  {
   "cell_type": "code",
   "execution_count": 8,
   "id": "6e16b0a2-062b-4ada-9315-9015938fa89a",
   "metadata": {},
   "outputs": [],
   "source": [
    "import re\n",
    "\n",
    "def clean_revenue(value):\n",
    "    \"\"\"Cleans revenue values by converting valid values to numbers and marking invalid values as NaN.\"\"\"\n",
    "    if isinstance(value, (int, float)):  # If already a number, return as is\n",
    "        return value\n",
    "    if isinstance(value, str):\n",
    "        value = value.replace(\",\", \"\").replace(\"$\", \"\").strip()  # Remove symbols and spaces\n",
    "        match = re.fullmatch(r\"(\\d+(\\.\\d+)?)\\s*([MB]?)\", value)  # Allow space before 'M' or 'B'\n",
    "        if match:\n",
    "            num, _, suffix = match.groups()\n",
    "            multipliers = {\"M\": 1_000_000, \"B\": 1_000_000_000}\n",
    "            return float(num) * multipliers.get(suffix, 1)  # Convert using multiplier\n",
    "    return None  # Invalid values become NaN"
   ]
  },
  {
   "cell_type": "code",
   "execution_count": 9,
   "id": "ea21b31e-9773-4baf-af76-18d88d5e403d",
   "metadata": {},
   "outputs": [
    {
     "name": "stderr",
     "output_type": "stream",
     "text": [
      "/tmp/ipykernel_948434/1765387001.py:2: SettingWithCopyWarning: \n",
      "A value is trying to be set on a copy of a slice from a DataFrame.\n",
      "Try using .loc[row_indexer,col_indexer] = value instead\n",
      "\n",
      "See the caveats in the documentation: https://pandas.pydata.org/pandas-docs/stable/user_guide/indexing.html#returning-a-view-versus-a-copy\n",
      "  prospect_use_cln_df[\"Clean Revenue\"] = prospect_use_cln_df[\"Revenue\"].apply(clean_revenue)\n"
     ]
    }
   ],
   "source": [
    "# Apply function to Revenue column\n",
    "prospect_use_cln_df[\"Clean Revenue\"] = prospect_use_cln_df[\"Revenue\"].apply(clean_revenue)"
   ]
  },
  {
   "cell_type": "code",
   "execution_count": 10,
   "id": "50071203-c4e0-4935-80a0-ae73533e2950",
   "metadata": {},
   "outputs": [
    {
     "data": {
      "text/plain": [
       "11"
      ]
     },
     "execution_count": 10,
     "metadata": {},
     "output_type": "execute_result"
    }
   ],
   "source": [
    "filtered_df = prospect_use_cln_df[(prospect_use_cln_df[\"Revenue\"].notna()) & (prospect_use_cln_df[\"Clean Revenue\"].isna())]\n",
    "\n",
    "filtered_df[\"Revenue\"].nunique()"
   ]
  },
  {
   "cell_type": "code",
   "execution_count": 11,
   "id": "64c597e6-ceb5-468c-93d3-a304c183ef68",
   "metadata": {},
   "outputs": [
    {
     "data": {
      "text/plain": [
       "0"
      ]
     },
     "execution_count": 11,
     "metadata": {},
     "output_type": "execute_result"
    }
   ],
   "source": [
    "filtered_df = prospect_use_cln_df[(prospect_use_cln_df[\"Revenue\"].notna()) & (prospect_use_cln_df[\"Clean Revenue\"].isna())]\n",
    "\n",
    "filtered_df[\"Revenue Range\"].nunique()"
   ]
  },
  {
   "cell_type": "code",
   "execution_count": 12,
   "id": "fc2ea82a-6b47-4309-a636-8afa0dd0c7b0",
   "metadata": {},
   "outputs": [],
   "source": [
    "prospect_use_cln_df.loc[\n",
    "    (prospect_use_cln_df[\"Revenue\"].notna()) & (prospect_use_cln_df[\"Clean Revenue\"].isna()), \n",
    "    \"Revenue Range\"\n",
    "] = prospect_use_cln_df[\"Revenue\"]"
   ]
  },
  {
   "cell_type": "code",
   "execution_count": 13,
   "id": "c43eb5b9-7588-4715-8632-a6b60f8f15d4",
   "metadata": {},
   "outputs": [
    {
     "data": {
      "text/plain": [
       "11"
      ]
     },
     "execution_count": 13,
     "metadata": {},
     "output_type": "execute_result"
    }
   ],
   "source": [
    "filtered_df = prospect_use_cln_df[(prospect_use_cln_df[\"Revenue\"].notna()) & (prospect_use_cln_df[\"Clean Revenue\"].isna())]\n",
    "\n",
    "filtered_df[\"Revenue Range\"].nunique()"
   ]
  },
  {
   "cell_type": "code",
   "execution_count": null,
   "id": "9ddba5ff-d4f9-4c23-b9fe-a7763a937e5a",
   "metadata": {},
   "outputs": [],
   "source": []
  },
  {
   "cell_type": "markdown",
   "id": "5f5e1146-5aaf-47b7-8698-036c3972791c",
   "metadata": {},
   "source": [
    "## Clean Revenue Range"
   ]
  },
  {
   "cell_type": "code",
   "execution_count": 14,
   "id": "9afeeb3b-d77a-46a6-b32f-be69581c75a7",
   "metadata": {},
   "outputs": [
    {
     "data": {
      "text/plain": [
       "13"
      ]
     },
     "execution_count": 14,
     "metadata": {},
     "output_type": "execute_result"
    }
   ],
   "source": [
    "prospect_use_cln_df['Revenue Range'].nunique()"
   ]
  },
  {
   "cell_type": "code",
   "execution_count": 15,
   "id": "cf567733-b492-4974-b58d-d49aff0fdb13",
   "metadata": {},
   "outputs": [
    {
     "data": {
      "text/plain": [
       "array(['10B+', '10M - 50M', '100M - 250M', '1B - 10B', '1M - 10M',\n",
       "       '250M - 500M', '500M - 1B', '50M - 100M', nan, '0 - 1M', '$10B+',\n",
       "       '100M - 1B', '$500M - $1B', '$11M - $100M'], dtype=object)"
      ]
     },
     "execution_count": 15,
     "metadata": {},
     "output_type": "execute_result"
    }
   ],
   "source": [
    "prospect_use_cln_df['Revenue Range'].unique()"
   ]
  },
  {
   "cell_type": "code",
   "execution_count": 16,
   "id": "c330abee-6400-425b-8cfb-48c8a88939f6",
   "metadata": {},
   "outputs": [],
   "source": [
    "import re\n",
    "\n",
    "def clean_revenue_range(value):\n",
    "    if isinstance(value, str):\n",
    "        value = value.replace(\"$\", \"\").strip()  # Remove $ sign and strip spaces\n",
    "        match = re.match(r\"^\\d+M \\- \\d+M$|^\\d+M \\- \\d+B$|^\\d+B \\- \\d+B$|^\\d+B\\+$|^0 \\- 1M$|^\\d+M \\- \\d+B$\", value)\n",
    "        if match:\n",
    "            return value  # Return valid revenue range\n",
    "    return None  # Invalid values converted to None"
   ]
  },
  {
   "cell_type": "code",
   "execution_count": 17,
   "id": "43240825-4668-4e2a-998b-338ec9124ee2",
   "metadata": {},
   "outputs": [
    {
     "name": "stderr",
     "output_type": "stream",
     "text": [
      "/tmp/ipykernel_948434/1615421219.py:2: SettingWithCopyWarning: \n",
      "A value is trying to be set on a copy of a slice from a DataFrame.\n",
      "Try using .loc[row_indexer,col_indexer] = value instead\n",
      "\n",
      "See the caveats in the documentation: https://pandas.pydata.org/pandas-docs/stable/user_guide/indexing.html#returning-a-view-versus-a-copy\n",
      "  prospect_use_cln_df[\"Clean Revenue Range\"] = prospect_use_cln_df[\"Revenue Range\"].apply(clean_revenue_range)\n"
     ]
    }
   ],
   "source": [
    "# Apply function to Revenue Range column\n",
    "prospect_use_cln_df[\"Clean Revenue Range\"] = prospect_use_cln_df[\"Revenue Range\"].apply(clean_revenue_range)"
   ]
  },
  {
   "cell_type": "code",
   "execution_count": 18,
   "id": "2f1acb23-b431-4db7-afca-ef20d1efb3d4",
   "metadata": {},
   "outputs": [
    {
     "data": {
      "text/html": [
       "<div>\n",
       "<style scoped>\n",
       "    .dataframe tbody tr th:only-of-type {\n",
       "        vertical-align: middle;\n",
       "    }\n",
       "\n",
       "    .dataframe tbody tr th {\n",
       "        vertical-align: top;\n",
       "    }\n",
       "\n",
       "    .dataframe thead th {\n",
       "        text-align: right;\n",
       "    }\n",
       "</style>\n",
       "<table border=\"1\" class=\"dataframe\">\n",
       "  <thead>\n",
       "    <tr style=\"text-align: right;\">\n",
       "      <th></th>\n",
       "      <th>Email ID</th>\n",
       "      <th>Project Name</th>\n",
       "      <th>Delivery Status</th>\n",
       "      <th>Title</th>\n",
       "      <th>Level</th>\n",
       "      <th>Department</th>\n",
       "      <th>Contact_City</th>\n",
       "      <th>Contact_State</th>\n",
       "      <th>Contact_Zipcode</th>\n",
       "      <th>Country</th>\n",
       "      <th>Company City</th>\n",
       "      <th>Company State</th>\n",
       "      <th>Company Post Code</th>\n",
       "      <th>Company Country</th>\n",
       "      <th>Industry</th>\n",
       "      <th>SUB Industry</th>\n",
       "      <th>Revenue</th>\n",
       "      <th>Revenue Range</th>\n",
       "      <th>EMP Range</th>\n",
       "      <th>Clean Revenue</th>\n",
       "      <th>Clean Revenue Range</th>\n",
       "    </tr>\n",
       "  </thead>\n",
       "  <tbody>\n",
       "  </tbody>\n",
       "</table>\n",
       "</div>"
      ],
      "text/plain": [
       "Empty DataFrame\n",
       "Columns: [Email ID, Project Name, Delivery Status, Title, Level, Department, Contact_City, Contact_State, Contact_Zipcode, Country, Company City, Company State, Company Post Code, Company Country, Industry, SUB Industry, Revenue, Revenue Range, EMP Range, Clean Revenue, Clean Revenue Range]\n",
       "Index: []"
      ]
     },
     "execution_count": 18,
     "metadata": {},
     "output_type": "execute_result"
    }
   ],
   "source": [
    "prospect_use_cln_df[prospect_use_cln_df[\"Revenue Range\"].notna() & prospect_use_cln_df[\"Clean Revenue Range\"].isna()].head(5)"
   ]
  },
  {
   "cell_type": "code",
   "execution_count": 19,
   "id": "7644bbaf-5373-4695-9235-830c2922c012",
   "metadata": {},
   "outputs": [
    {
     "data": {
      "text/plain": [
       "11"
      ]
     },
     "execution_count": 19,
     "metadata": {},
     "output_type": "execute_result"
    }
   ],
   "source": [
    "prospect_use_cln_df['Clean Revenue Range'].nunique()"
   ]
  },
  {
   "cell_type": "code",
   "execution_count": 20,
   "id": "bdd4b4e0-b3b4-4b49-917d-ea2a5d6bcd65",
   "metadata": {},
   "outputs": [
    {
     "data": {
      "text/plain": [
       "(156043, 21)"
      ]
     },
     "execution_count": 20,
     "metadata": {},
     "output_type": "execute_result"
    }
   ],
   "source": [
    "prospect_use_cln_df.shape"
   ]
  },
  {
   "cell_type": "code",
   "execution_count": 21,
   "id": "6e020f14-453e-49c2-8fb6-ab91d047f907",
   "metadata": {},
   "outputs": [
    {
     "name": "stdout",
     "output_type": "stream",
     "text": [
      "<class 'pandas.core.frame.DataFrame'>\n",
      "Index: 37 entries, 137187 to 138748\n",
      "Data columns (total 3 columns):\n",
      " #   Column               Non-Null Count  Dtype  \n",
      "---  ------               --------------  -----  \n",
      " 0   Clean Revenue Range  37 non-null     object \n",
      " 1   Clean Revenue        0 non-null      float64\n",
      " 2   Revenue              37 non-null     object \n",
      "dtypes: float64(1), object(2)\n",
      "memory usage: 1.2+ KB\n"
     ]
    }
   ],
   "source": [
    "prospect_use_cln_df[prospect_use_cln_df[\"Clean Revenue Range\"].isin([\"11M - 100M\", \"100M - 1B\"])][[\"Clean Revenue Range\", \"Clean Revenue\", \"Revenue\"]].info()\n"
   ]
  },
  {
   "cell_type": "code",
   "execution_count": null,
   "id": "f454130d-5d12-4e87-b444-9205fd1368be",
   "metadata": {},
   "outputs": [],
   "source": []
  },
  {
   "cell_type": "markdown",
   "id": "361fba62-3278-46dc-bcf6-f7a338889454",
   "metadata": {},
   "source": [
    "## Clean Employee Range"
   ]
  },
  {
   "cell_type": "code",
   "execution_count": 22,
   "id": "3a6f834a-6cc2-4f84-8619-f7ddb8ace23a",
   "metadata": {},
   "outputs": [
    {
     "data": {
      "text/plain": [
       "24"
      ]
     },
     "execution_count": 22,
     "metadata": {},
     "output_type": "execute_result"
    }
   ],
   "source": [
    "prospect_use_cln_df[\"EMP Range\"].nunique()"
   ]
  },
  {
   "cell_type": "code",
   "execution_count": 23,
   "id": "8f2ed175-b041-49eb-abad-17fcd9dd906c",
   "metadata": {},
   "outputs": [
    {
     "data": {
      "text/plain": [
       "array(['10,000+', '51 - 200', '201 - 500', '11-50', '1,001 - 5,000',\n",
       "       '5,001 - 10,000', '501 - 1,000', '1-10', nan, '201-500', '51-200',\n",
       "       '501-1,000', '1 - 10', '11 - 50', '51 - 200 ', '1,001 - 5,000 ',\n",
       "       '201 - 500 ', '501 - 1,000 ', '10,001+', '5,001-10,000',\n",
       "       '1,001-5,000', datetime.datetime(1950, 11, 1, 0, 0), '10000+',\n",
       "       '501-1000', 3300], dtype=object)"
      ]
     },
     "execution_count": 23,
     "metadata": {},
     "output_type": "execute_result"
    }
   ],
   "source": [
    "prospect_use_cln_df[\"EMP Range\"].unique()"
   ]
  },
  {
   "cell_type": "code",
   "execution_count": 24,
   "id": "cd226aec-144f-4531-aabc-352072e94c36",
   "metadata": {},
   "outputs": [],
   "source": [
    "def clean_emp_range(value):\n",
    "    if pd.isna(value) or isinstance(value, datetime):\n",
    "        return None\n",
    "\n",
    "    value = str(value).strip().replace(\",\", \"\")\n",
    "    value = str(value).strip().replace(\" \", \"\")\n",
    "\n",
    "    if value in {\"10000+\", \"10001+\"}:\n",
    "        return \"10,000+\"\n",
    "    \n",
    "    emp_ranges = {\n",
    "        \"1 - 10\": [\"1-10\", \"1 - 10\"],\n",
    "        \"11 - 50\": [\"11-50\", \"11 - 50\"],\n",
    "        \"51 - 200\": [\"51-200\", \"51 - 200\", \"51 - 200 \"],\n",
    "        \"201 - 500\": [\"201-500\", \"201 - 500\", \"201 - 500 \"],\n",
    "        \"501 - 1,000\": [\"501-1000\", \"501-1,000\", \"501 - 1,000\", \"501 - 1,000 \"],\n",
    "        \"1,001 - 5,000\": [\"1001-5000\", \"1,001-5,000\", \"1,001 - 5,000\", \"1,001 - 5,000 \", \"1,001 - 5,000\"],\n",
    "        \"5,001 - 10,000\": [\"5001-10000\", \"5,001-10,000\", \"5,001 - 10,000\"],\n",
    "    }\n",
    "\n",
    "    for clean_range, variations in emp_ranges.items():\n",
    "        if value in variations:\n",
    "            return clean_range\n",
    "\n",
    "    return None\n",
    "\n",
    "\n",
    "def clean_emp_size(value):\n",
    "    if isinstance(value, (int, float)):\n",
    "        return value\n",
    "    return np.nan"
   ]
  },
  {
   "cell_type": "code",
   "execution_count": 25,
   "id": "b2ee744a-5fc8-414d-9b8a-e2d0fa96879d",
   "metadata": {},
   "outputs": [
    {
     "name": "stderr",
     "output_type": "stream",
     "text": [
      "/tmp/ipykernel_948434/1695644433.py:1: SettingWithCopyWarning: \n",
      "A value is trying to be set on a copy of a slice from a DataFrame.\n",
      "Try using .loc[row_indexer,col_indexer] = value instead\n",
      "\n",
      "See the caveats in the documentation: https://pandas.pydata.org/pandas-docs/stable/user_guide/indexing.html#returning-a-view-versus-a-copy\n",
      "  prospect_use_cln_df[\"Clean EMP Range\"] = prospect_use_cln_df[\"EMP Range\"].apply(clean_emp_range)\n"
     ]
    }
   ],
   "source": [
    "prospect_use_cln_df[\"Clean EMP Range\"] = prospect_use_cln_df[\"EMP Range\"].apply(clean_emp_range)"
   ]
  },
  {
   "cell_type": "code",
   "execution_count": 26,
   "id": "f648c5c7-b64e-4666-b237-158f33ff2bec",
   "metadata": {},
   "outputs": [
    {
     "data": {
      "text/plain": [
       "array(['10,000+', '51 - 200', '201 - 500', '11 - 50', '1,001 - 5,000',\n",
       "       '5,001 - 10,000', '501 - 1,000', '1 - 10', None], dtype=object)"
      ]
     },
     "execution_count": 26,
     "metadata": {},
     "output_type": "execute_result"
    }
   ],
   "source": [
    "prospect_use_cln_df[\"Clean EMP Range\"].unique()"
   ]
  },
  {
   "cell_type": "code",
   "execution_count": 27,
   "id": "5ed50341-fc8e-4ae9-a0d8-2147e68e0783",
   "metadata": {},
   "outputs": [
    {
     "data": {
      "text/html": [
       "<div>\n",
       "<style scoped>\n",
       "    .dataframe tbody tr th:only-of-type {\n",
       "        vertical-align: middle;\n",
       "    }\n",
       "\n",
       "    .dataframe tbody tr th {\n",
       "        vertical-align: top;\n",
       "    }\n",
       "\n",
       "    .dataframe thead th {\n",
       "        text-align: right;\n",
       "    }\n",
       "</style>\n",
       "<table border=\"1\" class=\"dataframe\">\n",
       "  <thead>\n",
       "    <tr style=\"text-align: right;\">\n",
       "      <th></th>\n",
       "      <th>Email ID</th>\n",
       "      <th>Project Name</th>\n",
       "      <th>Delivery Status</th>\n",
       "      <th>Title</th>\n",
       "      <th>Level</th>\n",
       "      <th>Department</th>\n",
       "      <th>Contact_City</th>\n",
       "      <th>Contact_State</th>\n",
       "      <th>Contact_Zipcode</th>\n",
       "      <th>Country</th>\n",
       "      <th>Company City</th>\n",
       "      <th>Company State</th>\n",
       "      <th>Company Post Code</th>\n",
       "      <th>Company Country</th>\n",
       "      <th>Industry</th>\n",
       "      <th>SUB Industry</th>\n",
       "      <th>Revenue</th>\n",
       "      <th>Revenue Range</th>\n",
       "      <th>EMP Range</th>\n",
       "      <th>Clean Revenue</th>\n",
       "      <th>Clean Revenue Range</th>\n",
       "      <th>Clean EMP Range</th>\n",
       "    </tr>\n",
       "  </thead>\n",
       "  <tbody>\n",
       "    <tr>\n",
       "      <th>138355</th>\n",
       "      <td>mlobato@3m.com</td>\n",
       "      <td>HQL for Mexico</td>\n",
       "      <td>Delivery 3</td>\n",
       "      <td>Manager Business Finance</td>\n",
       "      <td>Mgr</td>\n",
       "      <td>Finance</td>\n",
       "      <td>Mexico City</td>\n",
       "      <td>NaN</td>\n",
       "      <td>NaN</td>\n",
       "      <td>Mexico</td>\n",
       "      <td>Saint Paul</td>\n",
       "      <td>Minnesota</td>\n",
       "      <td>55144</td>\n",
       "      <td>United States</td>\n",
       "      <td>Consumer Services</td>\n",
       "      <td>Photography Studio</td>\n",
       "      <td>1M - 10M</td>\n",
       "      <td>1M - 10M</td>\n",
       "      <td>1950-11-01 00:00:00</td>\n",
       "      <td>NaN</td>\n",
       "      <td>1M - 10M</td>\n",
       "      <td>None</td>\n",
       "    </tr>\n",
       "    <tr>\n",
       "      <th>139562</th>\n",
       "      <td>rcaamal@xcaret.com</td>\n",
       "      <td>HQL for Mexico</td>\n",
       "      <td>Delivery 5</td>\n",
       "      <td>Maintenance Leadership Xplor</td>\n",
       "      <td>Staff</td>\n",
       "      <td>Operations</td>\n",
       "      <td>NaN</td>\n",
       "      <td>NaN</td>\n",
       "      <td>NaN</td>\n",
       "      <td>Mexico</td>\n",
       "      <td>Playa Del Carmen</td>\n",
       "      <td>NaN</td>\n",
       "      <td>77710</td>\n",
       "      <td>Mexico</td>\n",
       "      <td>Hospitality</td>\n",
       "      <td>Travel Agencies &amp; Services</td>\n",
       "      <td>100M - 250M</td>\n",
       "      <td>100M - 250M</td>\n",
       "      <td>3300</td>\n",
       "      <td>NaN</td>\n",
       "      <td>100M - 250M</td>\n",
       "      <td>None</td>\n",
       "    </tr>\n",
       "    <tr>\n",
       "      <th>139563</th>\n",
       "      <td>acaballero@xcaret.com</td>\n",
       "      <td>HQL for Mexico</td>\n",
       "      <td>Delivery 5</td>\n",
       "      <td>Deputy Manager of Maritime Maintenance</td>\n",
       "      <td>Mgr</td>\n",
       "      <td>Operations</td>\n",
       "      <td>NaN</td>\n",
       "      <td>Quintana Roo</td>\n",
       "      <td>NaN</td>\n",
       "      <td>Mexico</td>\n",
       "      <td>Playa Del Carmen</td>\n",
       "      <td>NaN</td>\n",
       "      <td>77710</td>\n",
       "      <td>Mexico</td>\n",
       "      <td>Hospitality</td>\n",
       "      <td>Travel Agencies &amp; Services</td>\n",
       "      <td>100M - 250M</td>\n",
       "      <td>100M - 250M</td>\n",
       "      <td>3300</td>\n",
       "      <td>NaN</td>\n",
       "      <td>100M - 250M</td>\n",
       "      <td>None</td>\n",
       "    </tr>\n",
       "  </tbody>\n",
       "</table>\n",
       "</div>"
      ],
      "text/plain": [
       "                     Email ID    Project Name Delivery Status                                   Title  Level  Department Contact_City Contact_State Contact_Zipcode Country      Company City Company State Company Post Code Company Country           Industry                SUB Industry      Revenue Revenue Range            EMP Range  Clean Revenue Clean Revenue Range Clean EMP Range\n",
       "138355         mlobato@3m.com  HQL for Mexico      Delivery 3                Manager Business Finance    Mgr     Finance  Mexico City           NaN             NaN  Mexico        Saint Paul     Minnesota             55144   United States  Consumer Services          Photography Studio     1M - 10M      1M - 10M  1950-11-01 00:00:00            NaN            1M - 10M            None\n",
       "139562     rcaamal@xcaret.com  HQL for Mexico      Delivery 5            Maintenance Leadership Xplor  Staff  Operations          NaN           NaN             NaN  Mexico  Playa Del Carmen           NaN             77710          Mexico        Hospitality  Travel Agencies & Services  100M - 250M   100M - 250M                 3300            NaN         100M - 250M            None\n",
       "139563  acaballero@xcaret.com  HQL for Mexico      Delivery 5  Deputy Manager of Maritime Maintenance    Mgr  Operations          NaN  Quintana Roo             NaN  Mexico  Playa Del Carmen           NaN             77710          Mexico        Hospitality  Travel Agencies & Services  100M - 250M   100M - 250M                 3300            NaN         100M - 250M            None"
      ]
     },
     "execution_count": 27,
     "metadata": {},
     "output_type": "execute_result"
    }
   ],
   "source": [
    "filtered_df = prospect_use_cln_df[(prospect_use_cln_df[\"EMP Range\"].notna()) & (prospect_use_cln_df[\"Clean EMP Range\"].isna())]\n",
    "filtered_df.head(5)"
   ]
  },
  {
   "cell_type": "code",
   "execution_count": null,
   "id": "c46b754e-214b-4a0f-b4f1-f71469e4ca62",
   "metadata": {},
   "outputs": [],
   "source": []
  },
  {
   "cell_type": "code",
   "execution_count": null,
   "id": "0d3d7a24-ce8b-4789-8162-f8d5604736f8",
   "metadata": {},
   "outputs": [],
   "source": []
  },
  {
   "cell_type": "code",
   "execution_count": 28,
   "id": "d902f233-5de3-478e-ab2e-c8a7639aa334",
   "metadata": {},
   "outputs": [
    {
     "name": "stderr",
     "output_type": "stream",
     "text": [
      "/tmp/ipykernel_948434/2319274900.py:1: SettingWithCopyWarning: \n",
      "A value is trying to be set on a copy of a slice from a DataFrame.\n",
      "Try using .loc[row_indexer,col_indexer] = value instead\n",
      "\n",
      "See the caveats in the documentation: https://pandas.pydata.org/pandas-docs/stable/user_guide/indexing.html#returning-a-view-versus-a-copy\n",
      "  prospect_use_cln_df[\"Clean EMP Size\"] = prospect_use_cln_df[\"EMP Range\"].apply(clean_emp_size)\n"
     ]
    }
   ],
   "source": [
    "prospect_use_cln_df[\"Clean EMP Size\"] = prospect_use_cln_df[\"EMP Range\"].apply(clean_emp_size)"
   ]
  },
  {
   "cell_type": "code",
   "execution_count": 29,
   "id": "439947f7-b25b-432c-9695-c32128d3302d",
   "metadata": {},
   "outputs": [
    {
     "data": {
      "text/plain": [
       "np.int64(2)"
      ]
     },
     "execution_count": 29,
     "metadata": {},
     "output_type": "execute_result"
    }
   ],
   "source": [
    "prospect_use_cln_df[\"Clean EMP Size\"].count()"
   ]
  },
  {
   "cell_type": "code",
   "execution_count": null,
   "id": "6df2bb8f-ac34-4f74-b8c3-40f0b5622831",
   "metadata": {},
   "outputs": [],
   "source": []
  },
  {
   "cell_type": "markdown",
   "id": "98c16ba8-6f2c-4779-b445-1544ba6a87b7",
   "metadata": {},
   "source": [
    "## Country"
   ]
  },
  {
   "cell_type": "code",
   "execution_count": 30,
   "id": "b69b8b94-e872-43fd-9500-4e865c781d4f",
   "metadata": {},
   "outputs": [
    {
     "data": {
      "text/plain": [
       "Country\n",
       "United States     150946\n",
       "Mexico              3115\n",
       "United Kingdom      1703\n",
       "Canada                87\n",
       "Name: count, dtype: int64"
      ]
     },
     "execution_count": 30,
     "metadata": {},
     "output_type": "execute_result"
    }
   ],
   "source": [
    "prospect_use_cln_df['Country'].value_counts()"
   ]
  },
  {
   "cell_type": "code",
   "execution_count": 31,
   "id": "97014b4c-fae6-4378-b63f-a46b5961427c",
   "metadata": {},
   "outputs": [
    {
     "name": "stderr",
     "output_type": "stream",
     "text": [
      "/tmp/ipykernel_948434/2908213790.py:1: SettingWithCopyWarning: \n",
      "A value is trying to be set on a copy of a slice from a DataFrame.\n",
      "Try using .loc[row_indexer,col_indexer] = value instead\n",
      "\n",
      "See the caveats in the documentation: https://pandas.pydata.org/pandas-docs/stable/user_guide/indexing.html#returning-a-view-versus-a-copy\n",
      "  prospect_use_cln_df[\"Clean Country\"] = prospect_use_cln_df[\"Country\"].str.strip()\n"
     ]
    }
   ],
   "source": [
    "prospect_use_cln_df[\"Clean Country\"] = prospect_use_cln_df[\"Country\"].str.strip()"
   ]
  },
  {
   "cell_type": "code",
   "execution_count": 32,
   "id": "fac26e4b-e18c-4f15-b37e-8099c05ce6e2",
   "metadata": {},
   "outputs": [
    {
     "data": {
      "text/plain": [
       "Clean Country\n",
       "United States     150946\n",
       "Mexico              3115\n",
       "United Kingdom      1703\n",
       "Canada                87\n",
       "Name: count, dtype: int64"
      ]
     },
     "execution_count": 32,
     "metadata": {},
     "output_type": "execute_result"
    }
   ],
   "source": [
    "prospect_use_cln_df['Clean Country'].value_counts()"
   ]
  },
  {
   "cell_type": "code",
   "execution_count": null,
   "id": "a1010061-0e0c-4c56-8b4d-6f02d1605260",
   "metadata": {},
   "outputs": [],
   "source": []
  },
  {
   "cell_type": "code",
   "execution_count": 33,
   "id": "706f768b-8a7b-4ec7-b671-99da3706bad0",
   "metadata": {},
   "outputs": [
    {
     "data": {
      "text/plain": [
       "45"
      ]
     },
     "execution_count": 33,
     "metadata": {},
     "output_type": "execute_result"
    }
   ],
   "source": [
    "prospect_use_cln_df['Company Country'].nunique()"
   ]
  },
  {
   "cell_type": "code",
   "execution_count": 34,
   "id": "7ba4e7cd-6eec-4af9-af74-f6c8adcb118f",
   "metadata": {
    "scrolled": true
   },
   "outputs": [
    {
     "data": {
      "text/plain": [
       "Company Country\n",
       "United States                                           144811\n",
       "United Kingdom                                            2542\n",
       "Mexico                                                    1134\n",
       "United Kingdom (UK)                                        972\n",
       "France                                                     901\n",
       "Netherlands                                                868\n",
       "Canada                                                     733\n",
       "Germany                                                    656\n",
       "Switzerland                                                427\n",
       "United Kingdom Uk                                          351\n",
       "Sweden                                                     183\n",
       "Spain                                                      178\n",
       "Australia                                                  146\n",
       "Japan                                                      109\n",
       "Romania                                                     58\n",
       "Colombia                                                    50\n",
       "Denmark                                                     44\n",
       "United Kingdom of Great Britain and Northern Ireland        44\n",
       "Austria                                                     37\n",
       "Belgium                                                     27\n",
       "India                                                       18\n",
       "Bermuda                                                     16\n",
       "Italy                                                       10\n",
       "Brazil                                                       9\n",
       "Israel                                                       8\n",
       "Luxembourg                                                   8\n",
       "China                                                        8\n",
       "Poland                                                       7\n",
       "Ireland                                                      7\n",
       "Singapore                                                    5\n",
       "Zwitserland Switzerland                                      4\n",
       "Indonesia                                                    3\n",
       "Philippines                                                  3\n",
       "Mexico                                                       3\n",
       "Norway                                                       2\n",
       "Chile                                                        2\n",
       "United Arab Emirates                                         2\n",
       "El Salvador                                                  2\n",
       "Argentina                                                    2\n",
       "Taiwan                                                       1\n",
       "Panama                                                       1\n",
       "Thailand                                                     1\n",
       "Germany                                                      1\n",
       "Saudi Arabia                                                 1\n",
       "Kong                                                         1\n",
       "Name: count, dtype: int64"
      ]
     },
     "execution_count": 34,
     "metadata": {},
     "output_type": "execute_result"
    }
   ],
   "source": [
    "prospect_use_cln_df['Company Country'].value_counts()"
   ]
  },
  {
   "cell_type": "code",
   "execution_count": 35,
   "id": "129292bf-0b25-4284-bca0-15a66c0fcc11",
   "metadata": {},
   "outputs": [],
   "source": [
    "def clean_country_name(country):\n",
    "    if not isinstance(country, str):\n",
    "        return country  # Return as is if it's not a string\n",
    "    \n",
    "    country = country.strip()\n",
    "    \n",
    "    replacements = {\n",
    "        \"United Kingdom of Great Britain and Northern Ireland\": \"United Kingdom\",\n",
    "        \"United Kingdom Uk\": \"United Kingdom\",\n",
    "        \"United Kingdom (UK)\": \"United Kingdom\",\n",
    "        \"Zwitserland Switzerland\": \"Switzerland\"\n",
    "    }\n",
    "    \n",
    "    return replacements.get(country, country)"
   ]
  },
  {
   "cell_type": "code",
   "execution_count": 36,
   "id": "667b8ce3-c3a4-48dd-a3e8-9070e1105686",
   "metadata": {},
   "outputs": [
    {
     "name": "stderr",
     "output_type": "stream",
     "text": [
      "/tmp/ipykernel_948434/3439205942.py:2: SettingWithCopyWarning: \n",
      "A value is trying to be set on a copy of a slice from a DataFrame.\n",
      "Try using .loc[row_indexer,col_indexer] = value instead\n",
      "\n",
      "See the caveats in the documentation: https://pandas.pydata.org/pandas-docs/stable/user_guide/indexing.html#returning-a-view-versus-a-copy\n",
      "  prospect_use_cln_df[\"Clean Company Country\"] = prospect_use_cln_df[\"Company Country\"].apply(clean_country_name)\n"
     ]
    }
   ],
   "source": [
    "# Apply the function to each row\n",
    "prospect_use_cln_df[\"Clean Company Country\"] = prospect_use_cln_df[\"Company Country\"].apply(clean_country_name)"
   ]
  },
  {
   "cell_type": "code",
   "execution_count": 37,
   "id": "3dba0a7b-678a-4552-8234-7e756c789308",
   "metadata": {},
   "outputs": [
    {
     "data": {
      "text/plain": [
       "39"
      ]
     },
     "execution_count": 37,
     "metadata": {},
     "output_type": "execute_result"
    }
   ],
   "source": [
    "prospect_use_cln_df['Clean Company Country'].nunique()"
   ]
  },
  {
   "cell_type": "code",
   "execution_count": 38,
   "id": "6132a530-baf6-4aec-af05-e07483ec5f08",
   "metadata": {},
   "outputs": [
    {
     "data": {
      "text/plain": [
       "Clean Company Country\n",
       "United States           144811\n",
       "United Kingdom            3909\n",
       "Mexico                    1137\n",
       "France                     901\n",
       "Netherlands                868\n",
       "Canada                     733\n",
       "Germany                    657\n",
       "Switzerland                431\n",
       "Sweden                     183\n",
       "Spain                      178\n",
       "Australia                  146\n",
       "Japan                      109\n",
       "Romania                     58\n",
       "Colombia                    50\n",
       "Denmark                     44\n",
       "Austria                     37\n",
       "Belgium                     27\n",
       "India                       18\n",
       "Bermuda                     16\n",
       "Italy                       10\n",
       "Brazil                       9\n",
       "Israel                       8\n",
       "China                        8\n",
       "Luxembourg                   8\n",
       "Ireland                      7\n",
       "Poland                       7\n",
       "Singapore                    5\n",
       "Indonesia                    3\n",
       "Philippines                  3\n",
       "United Arab Emirates         2\n",
       "Norway                       2\n",
       "El Salvador                  2\n",
       "Argentina                    2\n",
       "Chile                        2\n",
       "Taiwan                       1\n",
       "Panama                       1\n",
       "Thailand                     1\n",
       "Saudi Arabia                 1\n",
       "Kong                         1\n",
       "Name: count, dtype: int64"
      ]
     },
     "execution_count": 38,
     "metadata": {},
     "output_type": "execute_result"
    }
   ],
   "source": [
    "prospect_use_cln_df['Clean Company Country'].value_counts()"
   ]
  },
  {
   "cell_type": "code",
   "execution_count": null,
   "id": "976280e7-f0cc-482b-9884-25b51f706133",
   "metadata": {},
   "outputs": [],
   "source": []
  },
  {
   "cell_type": "code",
   "execution_count": null,
   "id": "e8bde416-ed45-4668-b75b-376b120bb38e",
   "metadata": {},
   "outputs": [],
   "source": []
  },
  {
   "cell_type": "markdown",
   "id": "072b10b1-5dfb-44f7-b6bc-f827b201d290",
   "metadata": {},
   "source": [
    "## Industry"
   ]
  },
  {
   "cell_type": "code",
   "execution_count": 39,
   "id": "030eef1a-da61-4987-82a4-cdbd5832a55c",
   "metadata": {},
   "outputs": [
    {
     "data": {
      "text/plain": [
       "Industry\n",
       "Manufacturing                                        91158\n",
       "Retail                                               16604\n",
       "Government                                           12997\n",
       "Electricity, Oil & Gas                               11717\n",
       "Transportation                                        7309\n",
       "Energy, Utilities & Waste                             3325\n",
       "Hospitality                                           2916\n",
       "Construction                                          2611\n",
       "Business Services                                     2434\n",
       "Agriculture                                           1595\n",
       "Finance                                                566\n",
       "Software                                               371\n",
       "Hospitals & Physicians Clinics                         312\n",
       "Holding Companies & Conglomerates                      307\n",
       "Education                                              173\n",
       "Insurance                                               80\n",
       "Organizations                                           68\n",
       "Automation Machinery Manufacturing                      48\n",
       "Healthcare                                              31\n",
       "Minerals & Mining                                       27\n",
       "Consumer Services                                       22\n",
       "Electricity, Oil & Gas, Energy, Utilities & Waste        7\n",
       "Law Firms & Legal Services                               5\n",
       "Manufacturing                                            5\n",
       "Name: count, dtype: int64"
      ]
     },
     "execution_count": 39,
     "metadata": {},
     "output_type": "execute_result"
    }
   ],
   "source": [
    "prospect_use_cln_df['Industry'].value_counts()"
   ]
  },
  {
   "cell_type": "code",
   "execution_count": 40,
   "id": "e73dd44f-86f0-49b1-9cdc-bc1000ece059",
   "metadata": {
    "scrolled": true
   },
   "outputs": [
    {
     "data": {
      "text/plain": [
       "SUB Industry\n",
       "Energy, Utilities & Waste    7\n",
       "Name: count, dtype: int64"
      ]
     },
     "execution_count": 40,
     "metadata": {},
     "output_type": "execute_result"
    }
   ],
   "source": [
    "prospect_use_cln_df[prospect_use_cln_df[\"Industry\"] == 'Electricity, Oil & Gas, Energy, Utilities & Waste']['SUB Industry'].value_counts()"
   ]
  },
  {
   "cell_type": "code",
   "execution_count": 41,
   "id": "cd010b92-0246-4c2b-80f8-f1677fb982fd",
   "metadata": {
    "scrolled": true
   },
   "outputs": [
    {
     "data": {
      "text/plain": [
       "SUB Industry\n",
       "Medical Specialists    304\n",
       "Dental Offices           8\n",
       "Name: count, dtype: int64"
      ]
     },
     "execution_count": 41,
     "metadata": {},
     "output_type": "execute_result"
    }
   ],
   "source": [
    "prospect_use_cln_df[prospect_use_cln_df[\"Industry\"] == 'Hospitals & Physicians Clinics']['SUB Industry'].value_counts()"
   ]
  },
  {
   "cell_type": "code",
   "execution_count": 42,
   "id": "5e6abbea-e37c-45ac-be6e-102f4cab28c6",
   "metadata": {
    "scrolled": true
   },
   "outputs": [
    {
     "data": {
      "text/plain": [
       "SUB Industry\n",
       "Hosspital    31\n",
       "Name: count, dtype: int64"
      ]
     },
     "execution_count": 42,
     "metadata": {},
     "output_type": "execute_result"
    }
   ],
   "source": [
    "prospect_use_cln_df[prospect_use_cln_df[\"Industry\"] == 'Healthcare']['SUB Industry'].value_counts()"
   ]
  },
  {
   "cell_type": "code",
   "execution_count": 43,
   "id": "9395d81c-c7ce-409e-96f5-a17ea45dcb13",
   "metadata": {},
   "outputs": [],
   "source": [
    "def clean_industry(industry):\n",
    "    if pd.isna(industry):\n",
    "        return industry\n",
    "    industry_mapping = {\n",
    "        \"Electricity, Oil & Gas, Energy, Utilities & Waste\": \"Energy, Utilities & Waste\"\n",
    "    }\n",
    "    industry = industry.strip()\n",
    "    return industry_mapping.get(industry, industry)"
   ]
  },
  {
   "cell_type": "code",
   "execution_count": 44,
   "id": "7f0807c1-f47e-4784-94d8-182fa49bb3d7",
   "metadata": {},
   "outputs": [
    {
     "name": "stderr",
     "output_type": "stream",
     "text": [
      "/tmp/ipykernel_948434/1659605596.py:1: SettingWithCopyWarning: \n",
      "A value is trying to be set on a copy of a slice from a DataFrame.\n",
      "Try using .loc[row_indexer,col_indexer] = value instead\n",
      "\n",
      "See the caveats in the documentation: https://pandas.pydata.org/pandas-docs/stable/user_guide/indexing.html#returning-a-view-versus-a-copy\n",
      "  prospect_use_cln_df[\"Clean Industry\"] = prospect_use_cln_df[\"Industry\"].apply(clean_industry)\n"
     ]
    }
   ],
   "source": [
    "prospect_use_cln_df[\"Clean Industry\"] = prospect_use_cln_df[\"Industry\"].apply(clean_industry)"
   ]
  },
  {
   "cell_type": "code",
   "execution_count": 45,
   "id": "540cdab5-b635-4bf0-aabb-0d10ae5d4267",
   "metadata": {},
   "outputs": [
    {
     "data": {
      "text/plain": [
       "array(['Retail', 'Construction', 'Energy, Utilities & Waste',\n",
       "       'Transportation', 'Business Services', 'Manufacturing',\n",
       "       'Education', 'Software', 'Government', 'Hospitality', 'Insurance',\n",
       "       'Hospitals & Physicians Clinics',\n",
       "       'Holding Companies & Conglomerates', nan, 'Minerals & Mining',\n",
       "       'Consumer Services', 'Automation Machinery Manufacturing',\n",
       "       'Organizations', 'Law Firms & Legal Services', 'Agriculture',\n",
       "       'Electricity, Oil & Gas', 'Finance', 'Healthcare'], dtype=object)"
      ]
     },
     "execution_count": 45,
     "metadata": {},
     "output_type": "execute_result"
    }
   ],
   "source": [
    "prospect_use_cln_df[\"Clean Industry\"].unique()"
   ]
  },
  {
   "cell_type": "code",
   "execution_count": null,
   "id": "8e5fedf4-36d9-4ba6-b7cf-638f98b2f60d",
   "metadata": {},
   "outputs": [],
   "source": []
  },
  {
   "cell_type": "code",
   "execution_count": null,
   "id": "770fd23f-b7b1-4f61-bf82-00cffbbe83c8",
   "metadata": {},
   "outputs": [],
   "source": []
  },
  {
   "cell_type": "code",
   "execution_count": null,
   "id": "d0fe7d2e-ef3b-4a87-a945-f6162a496bd0",
   "metadata": {},
   "outputs": [],
   "source": []
  },
  {
   "cell_type": "markdown",
   "id": "c478e298-28f9-4990-8c0e-de10b8cb2d90",
   "metadata": {},
   "source": [
    "## Level"
   ]
  },
  {
   "cell_type": "code",
   "execution_count": 46,
   "id": "9fe08009-e725-4761-912e-c3a01fb84e52",
   "metadata": {},
   "outputs": [
    {
     "data": {
      "text/plain": [
       "Level\n",
       "Mgr      91709\n",
       "Dir      23198\n",
       "Staff    20341\n",
       "VP        5977\n",
       "CXO       1684\n",
       "Head        78\n",
       "Name: count, dtype: int64"
      ]
     },
     "execution_count": 46,
     "metadata": {},
     "output_type": "execute_result"
    }
   ],
   "source": [
    "prospect_use_cln_df['Level'].value_counts()"
   ]
  },
  {
   "cell_type": "code",
   "execution_count": 47,
   "id": "53c743d2-c233-4289-8f04-a0fa92c0da74",
   "metadata": {},
   "outputs": [
    {
     "name": "stderr",
     "output_type": "stream",
     "text": [
      "/tmp/ipykernel_948434/358976405.py:1: SettingWithCopyWarning: \n",
      "A value is trying to be set on a copy of a slice from a DataFrame.\n",
      "Try using .loc[row_indexer,col_indexer] = value instead\n",
      "\n",
      "See the caveats in the documentation: https://pandas.pydata.org/pandas-docs/stable/user_guide/indexing.html#returning-a-view-versus-a-copy\n",
      "  prospect_use_cln_df[\"Clean Level\"] = prospect_use_cln_df[\"Level\"].str.strip()\n"
     ]
    }
   ],
   "source": [
    "prospect_use_cln_df[\"Clean Level\"] = prospect_use_cln_df[\"Level\"].str.strip()"
   ]
  },
  {
   "cell_type": "code",
   "execution_count": 48,
   "id": "dfea2690-03e8-4c6e-a5ef-a409be1e1de8",
   "metadata": {},
   "outputs": [
    {
     "data": {
      "text/plain": [
       "Clean Level\n",
       "Mgr      91709\n",
       "Dir      23198\n",
       "Staff    20341\n",
       "VP        5977\n",
       "CXO       1684\n",
       "Head        78\n",
       "Name: count, dtype: int64"
      ]
     },
     "execution_count": 48,
     "metadata": {},
     "output_type": "execute_result"
    }
   ],
   "source": [
    "prospect_use_cln_df['Clean Level'].value_counts()"
   ]
  },
  {
   "cell_type": "code",
   "execution_count": null,
   "id": "191ff3f5-0312-4c64-aa76-f4629ff8e053",
   "metadata": {},
   "outputs": [],
   "source": []
  },
  {
   "cell_type": "code",
   "execution_count": null,
   "id": "3e5db047-6137-43ea-a070-b4f3ee8c2757",
   "metadata": {},
   "outputs": [],
   "source": []
  },
  {
   "cell_type": "markdown",
   "id": "ed43a3f6-5a5d-4448-bbfe-d97145ca7411",
   "metadata": {},
   "source": [
    "## Department"
   ]
  },
  {
   "cell_type": "code",
   "execution_count": 49,
   "id": "3fa9ba15-af2d-4003-99f2-8f5578f7b74b",
   "metadata": {},
   "outputs": [
    {
     "data": {
      "text/plain": [
       "Department\n",
       "Operations                         100467\n",
       "IT                                  31143\n",
       "Engineering                          4496\n",
       "Finance                              1910\n",
       "After Sales Service/Support          1540\n",
       "Executive                            1306\n",
       "Engineering                           743\n",
       "IT Security                           699\n",
       "Regulatory/Corporate Compliance       539\n",
       "Sales                                 139\n",
       "Marketing                               5\n",
       "Name: count, dtype: int64"
      ]
     },
     "execution_count": 49,
     "metadata": {},
     "output_type": "execute_result"
    }
   ],
   "source": [
    "prospect_use_cln_df['Department'].value_counts()"
   ]
  },
  {
   "cell_type": "code",
   "execution_count": 50,
   "id": "15f68325-cd89-46df-be7d-61ce47407ce4",
   "metadata": {},
   "outputs": [
    {
     "name": "stderr",
     "output_type": "stream",
     "text": [
      "/tmp/ipykernel_948434/2890358703.py:1: SettingWithCopyWarning: \n",
      "A value is trying to be set on a copy of a slice from a DataFrame.\n",
      "Try using .loc[row_indexer,col_indexer] = value instead\n",
      "\n",
      "See the caveats in the documentation: https://pandas.pydata.org/pandas-docs/stable/user_guide/indexing.html#returning-a-view-versus-a-copy\n",
      "  prospect_use_cln_df[\"Clean Department\"] = prospect_use_cln_df[\"Department\"].str.strip()\n"
     ]
    }
   ],
   "source": [
    "prospect_use_cln_df[\"Clean Department\"] = prospect_use_cln_df[\"Department\"].str.strip()"
   ]
  },
  {
   "cell_type": "code",
   "execution_count": 51,
   "id": "485f406b-3616-4746-ab3b-e4e1f8348b2b",
   "metadata": {},
   "outputs": [
    {
     "data": {
      "text/plain": [
       "Clean Department\n",
       "Operations                         100467\n",
       "IT                                  31143\n",
       "Engineering                          5239\n",
       "Finance                              1910\n",
       "After Sales Service/Support          1540\n",
       "Executive                            1306\n",
       "IT Security                           699\n",
       "Regulatory/Corporate Compliance       539\n",
       "Sales                                 139\n",
       "Marketing                               5\n",
       "Name: count, dtype: int64"
      ]
     },
     "execution_count": 51,
     "metadata": {},
     "output_type": "execute_result"
    }
   ],
   "source": [
    "prospect_use_cln_df['Clean Department'].value_counts()"
   ]
  },
  {
   "cell_type": "code",
   "execution_count": null,
   "id": "4b77c85a-a9e4-4829-9390-0d0cc01c89c6",
   "metadata": {},
   "outputs": [],
   "source": []
  },
  {
   "cell_type": "code",
   "execution_count": null,
   "id": "15a5bec8-bae7-405a-80a5-c7280021de68",
   "metadata": {},
   "outputs": [],
   "source": []
  },
  {
   "cell_type": "markdown",
   "id": "646e88e2-6ad4-49f0-bf40-b776362fc6ac",
   "metadata": {},
   "source": [
    "# Fill Empty Value"
   ]
  },
  {
   "cell_type": "markdown",
   "id": "9c3d2abe-bd01-41c9-ba9f-338807f6fd88",
   "metadata": {},
   "source": [
    "## Fill Clean Revuene and Clean Revuene Range"
   ]
  },
  {
   "cell_type": "code",
   "execution_count": 52,
   "id": "7ac1e481-1af3-4417-8477-e89464711097",
   "metadata": {},
   "outputs": [],
   "source": [
    "def generate_revenue_range(revenue):\n",
    "    if pd.isna(revenue):\n",
    "        return None  # Return None for missing values\n",
    "\n",
    "    try:\n",
    "        revenue = float(revenue)  # Ensure revenue is a numeric value\n",
    "        if revenue < 1_000_000:\n",
    "            return \"0 - 1M\"\n",
    "        elif 1_000_000 <= revenue < 10_000_000:\n",
    "            return \"1M - 10M\"\n",
    "        elif 10_000_000 <= revenue < 50_000_000:\n",
    "            return \"10M - 50M\"\n",
    "        elif 50_000_000 <= revenue < 100_000_000:\n",
    "            return \"50M - 100M\"\n",
    "        elif 100_000_000 <= revenue < 250_000_000:\n",
    "            return \"100M - 250M\"\n",
    "        elif 250_000_000 <= revenue < 500_000_000:\n",
    "            return \"250M - 500M\"\n",
    "        elif 500_000_000 <= revenue < 1_000_000_000:\n",
    "            return \"500M - 1B\"\n",
    "        elif 1_000_000_000 <= revenue < 10_000_000_000:\n",
    "            return \"1B - 10B\"\n",
    "        else:\n",
    "            return \"10B+\"\n",
    "    except ValueError:\n",
    "        return None  # Return None if revenue is not a valid number"
   ]
  },
  {
   "cell_type": "code",
   "execution_count": 53,
   "id": "f5ceb7e8-c547-4db7-a2fb-3601cdc961aa",
   "metadata": {},
   "outputs": [],
   "source": [
    "def generate_revenue_from_range(revenue_range):\n",
    "    if pd.isna(revenue_range):\n",
    "        return None  # Return None for missing values\n",
    "\n",
    "    revenue_mapping = {\n",
    "        \"0 - 1M\": (0, 1_000_000),\n",
    "        \"1M - 10M\": (1_000_000, 10_000_000),\n",
    "        \"10M - 50M\": (10_000_000, 50_000_000),\n",
    "        \"50M - 100M\": (50_000_000, 100_000_000),\n",
    "        \"100M - 250M\": (100_000_000, 250_000_000),\n",
    "        \"250M - 500M\": (250_000_000, 500_000_000),\n",
    "        \"500M - 1B\": (500_000_000, 1_000_000_000),\n",
    "        \"1B - 10B\": (1_000_000_000, 10_000_000_000),\n",
    "        \"10B+\": (10_000_000_000, 10_000_000_000),  # Use 10B for 10B+\n",
    "        \"11M - 100M\": (11_000_000, 100_000_000),  # Incorrect value, but used as requested\n",
    "        \"100M - 1B\": (100_000_000, 1_000_000_000),  # Incorrect value, but used as requested\n",
    "    }\n",
    "\n",
    "    if revenue_range in revenue_mapping:\n",
    "        low, high = revenue_mapping[revenue_range]\n",
    "        return (low + high) / 2  # Return the average of the range\n",
    "    \n",
    "    return None  # Return None if the value is not in the mapping\n"
   ]
  },
  {
   "cell_type": "code",
   "execution_count": null,
   "id": "e588071f-0380-41a7-9986-86dfc1658991",
   "metadata": {},
   "outputs": [],
   "source": []
  },
  {
   "cell_type": "code",
   "execution_count": null,
   "id": "ea41c4aa-81ee-4e4c-9377-317d10fbaf22",
   "metadata": {},
   "outputs": [],
   "source": []
  },
  {
   "cell_type": "code",
   "execution_count": 54,
   "id": "0360ab7d-497b-4a95-96fc-9a106ded9ac5",
   "metadata": {},
   "outputs": [
    {
     "name": "stdout",
     "output_type": "stream",
     "text": [
      "Clean Revenue but missing Clean Revenue Range: 42114\n",
      "Clean Revenue Range but missing Clean Revenue: 3115\n"
     ]
    }
   ],
   "source": [
    "count_clean_revenue_only = prospect_use_cln_df[\n",
    "    (prospect_use_cln_df[\"Clean Revenue\"].notna()) & (prospect_use_cln_df[\"Clean Revenue Range\"].isna())\n",
    "].shape[0]\n",
    "\n",
    "count_clean_revenue_range_only = prospect_use_cln_df[\n",
    "    (prospect_use_cln_df[\"Clean Revenue Range\"].notna()) & (prospect_use_cln_df[\"Clean Revenue\"].isna())\n",
    "].shape[0]\n",
    "\n",
    "print(f\"Clean Revenue but missing Clean Revenue Range: {count_clean_revenue_only}\")\n",
    "print(f\"Clean Revenue Range but missing Clean Revenue: {count_clean_revenue_range_only}\")\n"
   ]
  },
  {
   "cell_type": "code",
   "execution_count": 55,
   "id": "427c067a-d01f-419f-b5f1-ba429c29c7c2",
   "metadata": {},
   "outputs": [],
   "source": [
    "mask = prospect_use_cln_df[\"Clean Revenue Range\"].isna()  # Identify rows with missing Clean Revenue Range\n",
    "prospect_use_cln_df.loc[mask, \"Clean Revenue Range\"] = prospect_use_cln_df.loc[mask, \"Clean Revenue\"].apply(generate_revenue_range)"
   ]
  },
  {
   "cell_type": "code",
   "execution_count": 56,
   "id": "7467b012-e8c0-4f03-9aec-fb0beea1d7bf",
   "metadata": {},
   "outputs": [],
   "source": [
    "mask = prospect_use_cln_df[\"Clean Revenue\"].isna()  # Identify rows where Clean Revenue is missing\n",
    "prospect_use_cln_df.loc[mask, \"Clean Revenue\"] = prospect_use_cln_df.loc[mask, \"Clean Revenue Range\"].apply(generate_revenue_from_range)"
   ]
  },
  {
   "cell_type": "code",
   "execution_count": 57,
   "id": "43dc9f12-1e56-411c-bb31-cda1e545dc7f",
   "metadata": {},
   "outputs": [
    {
     "name": "stdout",
     "output_type": "stream",
     "text": [
      "Clean Revenue but missing Clean Revenue Range: 0\n",
      "Clean Revenue Range but missing Clean Revenue: 0\n"
     ]
    }
   ],
   "source": [
    "count_clean_revenue_only = prospect_use_cln_df[\n",
    "    (prospect_use_cln_df[\"Clean Revenue\"].notna()) & (prospect_use_cln_df[\"Clean Revenue Range\"].isna())\n",
    "].shape[0]\n",
    "\n",
    "count_clean_revenue_range_only = prospect_use_cln_df[\n",
    "    (prospect_use_cln_df[\"Clean Revenue Range\"].notna()) & (prospect_use_cln_df[\"Clean Revenue\"].isna())\n",
    "].shape[0]\n",
    "\n",
    "print(f\"Clean Revenue but missing Clean Revenue Range: {count_clean_revenue_only}\")\n",
    "print(f\"Clean Revenue Range but missing Clean Revenue: {count_clean_revenue_range_only}\")\n"
   ]
  },
  {
   "cell_type": "code",
   "execution_count": null,
   "id": "c54578ae-ff00-465b-a115-84b9beab6a4e",
   "metadata": {},
   "outputs": [],
   "source": []
  },
  {
   "cell_type": "code",
   "execution_count": null,
   "id": "d71f29ca-ac82-49fc-b790-e3cebf0b4ca3",
   "metadata": {},
   "outputs": [],
   "source": []
  },
  {
   "cell_type": "markdown",
   "id": "ac576c3a-db58-465b-ac44-ed4758d1e55a",
   "metadata": {},
   "source": [
    "## Fill Clean EMP Size and Clea EMP Range"
   ]
  },
  {
   "cell_type": "code",
   "execution_count": 58,
   "id": "8f1daa18-5768-49c1-86d7-55246ba32752",
   "metadata": {},
   "outputs": [],
   "source": [
    "def generate_emp_size(emp_range):\n",
    "    if pd.isna(emp_range):\n",
    "        return None\n",
    "    emp_ranges = {\n",
    "        \"1 - 10\": 5.5,\n",
    "        \"11 - 50\": 30.5,\n",
    "        \"51 - 200\": 125.5,\n",
    "        \"201 - 500\": 350.5,\n",
    "        \"501 - 1,000\": 750.5,\n",
    "        \"1,001 - 5,000\": 3000.5,\n",
    "        \"5,001 - 10,000\": 7500.5,\n",
    "        \"10,000+\": 10000\n",
    "    }\n",
    "    return emp_ranges.get(emp_range, None)\n",
    "\n",
    "def generate_emp_range(emp_size):\n",
    "    if pd.isna(emp_size):\n",
    "        return None\n",
    "    emp_size = float(emp_size)\n",
    "    if emp_size <= 10:\n",
    "        return \"1 - 10\"\n",
    "    elif emp_size <= 50:\n",
    "        return \"11 - 50\"\n",
    "    elif emp_size <= 200:\n",
    "        return \"51 - 200\"\n",
    "    elif emp_size <= 500:\n",
    "        return \"201 - 500\"\n",
    "    elif emp_size <= 1000:\n",
    "        return \"501 - 1,000\"\n",
    "    elif emp_size <= 5000:\n",
    "        return \"1,001 - 5,000\"\n",
    "    elif emp_size <= 10000:\n",
    "        return \"5,001 - 10,000\"\n",
    "    else:\n",
    "        return \"10,000+\""
   ]
  },
  {
   "cell_type": "code",
   "execution_count": null,
   "id": "479a74a0-b008-4f92-b137-57af12a852df",
   "metadata": {},
   "outputs": [],
   "source": []
  },
  {
   "cell_type": "code",
   "execution_count": 59,
   "id": "db9c4350-989d-4842-86a8-2433251c3a46",
   "metadata": {},
   "outputs": [
    {
     "name": "stdout",
     "output_type": "stream",
     "text": [
      "Count of rows with Clean EMP Size but no Clean EMP Range: 2\n",
      "Count of rows with Clean EMP Range but no Clean EMP Size: 154695\n"
     ]
    }
   ],
   "source": [
    "count_clean_size_no_range = prospect_use_cln_df[(prospect_use_cln_df[\"Clean EMP Size\"].notna()) & (prospect_use_cln_df[\"Clean EMP Range\"].isna())].shape[0]\n",
    "count_clean_range_no_size = prospect_use_cln_df[(prospect_use_cln_df[\"Clean EMP Range\"].notna()) & (prospect_use_cln_df[\"Clean EMP Size\"].isna())].shape[0]\n",
    "\n",
    "print(f\"Count of rows with Clean EMP Size but no Clean EMP Range: {count_clean_size_no_range}\")\n",
    "print(f\"Count of rows with Clean EMP Range but no Clean EMP Size: {count_clean_range_no_size}\")"
   ]
  },
  {
   "cell_type": "code",
   "execution_count": 60,
   "id": "a4f324c7-a4eb-49f3-a242-6addb7074be3",
   "metadata": {},
   "outputs": [
    {
     "name": "stderr",
     "output_type": "stream",
     "text": [
      "/tmp/ipykernel_948434/3758263887.py:1: SettingWithCopyWarning: \n",
      "A value is trying to be set on a copy of a slice from a DataFrame.\n",
      "Try using .loc[row_indexer,col_indexer] = value instead\n",
      "\n",
      "See the caveats in the documentation: https://pandas.pydata.org/pandas-docs/stable/user_guide/indexing.html#returning-a-view-versus-a-copy\n",
      "  prospect_use_cln_df[\"Clean EMP Size\"] = prospect_use_cln_df[\"Clean EMP Range\"].apply(generate_emp_size)\n",
      "/tmp/ipykernel_948434/3758263887.py:2: SettingWithCopyWarning: \n",
      "A value is trying to be set on a copy of a slice from a DataFrame.\n",
      "Try using .loc[row_indexer,col_indexer] = value instead\n",
      "\n",
      "See the caveats in the documentation: https://pandas.pydata.org/pandas-docs/stable/user_guide/indexing.html#returning-a-view-versus-a-copy\n",
      "  prospect_use_cln_df[\"Clean EMP Range\"] = prospect_use_cln_df[\"Clean EMP Size\"].apply(generate_emp_range)\n"
     ]
    }
   ],
   "source": [
    "prospect_use_cln_df[\"Clean EMP Size\"] = prospect_use_cln_df[\"Clean EMP Range\"].apply(generate_emp_size)\n",
    "prospect_use_cln_df[\"Clean EMP Range\"] = prospect_use_cln_df[\"Clean EMP Size\"].apply(generate_emp_range)"
   ]
  },
  {
   "cell_type": "code",
   "execution_count": 61,
   "id": "74748ad9-0357-4efa-b433-d25c24150ac6",
   "metadata": {},
   "outputs": [
    {
     "name": "stdout",
     "output_type": "stream",
     "text": [
      "Count of rows with Clean EMP Size but no Clean EMP Range: 0\n",
      "Count of rows with Clean EMP Range but no Clean EMP Size: 0\n"
     ]
    }
   ],
   "source": [
    "count_clean_size_no_range = prospect_use_cln_df[(prospect_use_cln_df[\"Clean EMP Size\"].notna()) & (prospect_use_cln_df[\"Clean EMP Range\"].isna())].shape[0]\n",
    "count_clean_range_no_size = prospect_use_cln_df[(prospect_use_cln_df[\"Clean EMP Range\"].notna()) & (prospect_use_cln_df[\"Clean EMP Size\"].isna())].shape[0]\n",
    "\n",
    "print(f\"Count of rows with Clean EMP Size but no Clean EMP Range: {count_clean_size_no_range}\")\n",
    "print(f\"Count of rows with Clean EMP Range but no Clean EMP Size: {count_clean_range_no_size}\")"
   ]
  },
  {
   "cell_type": "code",
   "execution_count": null,
   "id": "fbdfa83b-eea6-460d-b21c-ca121aa5f074",
   "metadata": {},
   "outputs": [],
   "source": []
  },
  {
   "cell_type": "code",
   "execution_count": null,
   "id": "17c2c930-c632-46ed-95ed-f2e1dbf2a374",
   "metadata": {},
   "outputs": [],
   "source": []
  },
  {
   "cell_type": "code",
   "execution_count": 66,
   "id": "8b0ee1b7-3639-48bb-ae0b-0bbbd757758d",
   "metadata": {},
   "outputs": [],
   "source": [
    "prospect_use_cln_df = prospect_use_cln_df.rename(columns={\"Email ID\": \"Email\"})"
   ]
  },
  {
   "cell_type": "code",
   "execution_count": 67,
   "id": "ef9b0d84-dd50-4483-bea9-d0ff2ae01563",
   "metadata": {},
   "outputs": [
    {
     "name": "stdout",
     "output_type": "stream",
     "text": [
      "<class 'pandas.core.frame.DataFrame'>\n",
      "RangeIndex: 156043 entries, 0 to 156042\n",
      "Data columns (total 28 columns):\n",
      " #   Column                 Non-Null Count   Dtype  \n",
      "---  ------                 --------------   -----  \n",
      " 0   Email                  156040 non-null  object \n",
      " 1   Project Name           156043 non-null  object \n",
      " 2   Delivery Status        156043 non-null  object \n",
      " 3   Title                  156043 non-null  object \n",
      " 4   Level                  142987 non-null  object \n",
      " 5   Department             142987 non-null  object \n",
      " 6   Contact_City           133182 non-null  object \n",
      " 7   Contact_State          116263 non-null  object \n",
      " 8   Contact_Zipcode        5183 non-null    object \n",
      " 9   Country                155851 non-null  object \n",
      " 10  Company City           149115 non-null  object \n",
      " 11  Company State          138500 non-null  object \n",
      " 12  Company Post Code      83733 non-null   object \n",
      " 13  Company Country        154396 non-null  object \n",
      " 14  Industry               154688 non-null  object \n",
      " 15  SUB Industry           154688 non-null  object \n",
      " 16  Revenue                154693 non-null  object \n",
      " 17  Revenue Range          112579 non-null  object \n",
      " 18  EMP Range              154698 non-null  object \n",
      " 19  Clean Revenue          154693 non-null  float64\n",
      " 20  Clean Revenue Range    154693 non-null  object \n",
      " 21  Clean EMP Range        154695 non-null  object \n",
      " 22  Clean EMP Size         154695 non-null  float64\n",
      " 23  Clean Country          155851 non-null  object \n",
      " 24  Clean Company Country  154396 non-null  object \n",
      " 25  Clean Industry         154688 non-null  object \n",
      " 26  Clean Level            142987 non-null  object \n",
      " 27  Clean Department       142987 non-null  object \n",
      "dtypes: float64(2), object(26)\n",
      "memory usage: 33.3+ MB\n"
     ]
    }
   ],
   "source": [
    "prospect_use_cln_df.info()"
   ]
  },
  {
   "cell_type": "code",
   "execution_count": null,
   "id": "ea08bdc9-2849-4dba-aac9-110798f05b71",
   "metadata": {},
   "outputs": [],
   "source": []
  },
  {
   "cell_type": "code",
   "execution_count": 69,
   "id": "c2102a33-e149-4bf5-b719-8a41ddb08f9f",
   "metadata": {},
   "outputs": [],
   "source": [
    "prospect_use_cln_df.to_csv(\"/home/darshan/dev/AI_ML_Projects/schneider_electric /data/Schneider Electric Data/Email_Enagement_Data/SE Projects Consolidated File(Clean).csv\")"
   ]
  },
  {
   "cell_type": "code",
   "execution_count": null,
   "id": "873df412-2b0c-4f06-bafe-eb896af3a492",
   "metadata": {},
   "outputs": [],
   "source": []
  }
 ],
 "metadata": {
  "kernelspec": {
   "display_name": "Python 3 (ipykernel)",
   "language": "python",
   "name": "python3"
  },
  "language_info": {
   "codemirror_mode": {
    "name": "ipython",
    "version": 3
   },
   "file_extension": ".py",
   "mimetype": "text/x-python",
   "name": "python",
   "nbconvert_exporter": "python",
   "pygments_lexer": "ipython3",
   "version": "3.13.2"
  }
 },
 "nbformat": 4,
 "nbformat_minor": 5
}
