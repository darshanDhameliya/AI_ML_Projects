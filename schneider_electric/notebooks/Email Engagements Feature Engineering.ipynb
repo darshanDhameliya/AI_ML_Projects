{
 "cells": [
  {
   "cell_type": "code",
   "execution_count": 1,
   "id": "8c402185-917e-47df-8681-0a92bde1d8cc",
   "metadata": {},
   "outputs": [],
   "source": [
    "import pandas as pd\n",
    "import numpy as np\n",
    "import matplotlib.pyplot as plt\n",
    "import seaborn as sns"
   ]
  },
  {
   "cell_type": "code",
   "execution_count": null,
   "id": "b7b75bd8-22da-4e54-9df8-485bd82b465d",
   "metadata": {},
   "outputs": [],
   "source": []
  },
  {
   "cell_type": "code",
   "execution_count": null,
   "id": "b2810e68-6d60-417d-a234-352c7888e9f5",
   "metadata": {},
   "outputs": [],
   "source": []
  },
  {
   "cell_type": "code",
   "execution_count": 1,
   "id": "0fc6ef6e-bfa9-47b1-af6b-cc519a3b9009",
   "metadata": {},
   "outputs": [],
   "source": [
    "email_sent_statuses=['EMAIL_SENT','EMAIL_CLICKED','EMAIL_OPENED','UNSUBSCRIBED','RESPONDED']"
   ]
  },
  {
   "cell_type": "code",
   "execution_count": 3,
   "id": "4f9ba1db-dfa7-4007-966f-61d207b49941",
   "metadata": {},
   "outputs": [],
   "source": [
    "email_opened_statuses=['EMAIL_CLICKED','EMAIL_OPENED','RESPONDED']"
   ]
  },
  {
   "cell_type": "code",
   "execution_count": 305,
   "id": "e2b140e8-1a6f-4c39-8884-412985654338",
   "metadata": {},
   "outputs": [],
   "source": [
    "email_engagements['is_email_sent']=email_engagements['status'].apply(lambda x : 1 if x in email_sent_statuses else 0)"
   ]
  },
  {
   "cell_type": "code",
   "execution_count": 306,
   "id": "2622299c-7204-411a-856e-96eb52a8243a",
   "metadata": {},
   "outputs": [],
   "source": [
    "email_engagements['is_email_clicked']=email_engagements['status'].apply(lambda x : 1 if x=='EMAIL_CLICKED' else 0)"
   ]
  },
  {
   "cell_type": "code",
   "execution_count": 307,
   "id": "bb264f0a-75e6-40b2-b8c8-4a5481ca5b36",
   "metadata": {},
   "outputs": [],
   "source": [
    "email_engagements['is_email_opened']=email_engagements['status'].apply(lambda x : 1 if x in email_opened_statuses else 0)"
   ]
  },
  {
   "cell_type": "code",
   "execution_count": 308,
   "id": "8f639a28-2785-4693-846d-49a44c3a6cfe",
   "metadata": {},
   "outputs": [],
   "source": [
    "email_engagements['is_responded']=email_engagements['status'].apply(lambda x : 1 if x=='RESPONDED' else 0)"
   ]
  },
  {
   "cell_type": "code",
   "execution_count": 309,
   "id": "773c55d4-6134-4e2a-8375-7e766eb5b279",
   "metadata": {},
   "outputs": [],
   "source": [
    "email_engagements['is_bounced']=email_engagements['status'].apply(lambda x : 1 if x=='BOUNCED' else 0)"
   ]
  },
  {
   "cell_type": "code",
   "execution_count": 310,
   "id": "3d32b391-58ce-49e4-8bbd-3a11ab61eb83",
   "metadata": {},
   "outputs": [],
   "source": [
    "email_engagements['is_unsubscribed']=email_engagements['status'].apply(lambda x : 1 if x=='UNSUBSCRIBED' else 0)"
   ]
  },
  {
   "cell_type": "code",
   "execution_count": 312,
   "id": "1efe1ea1-4079-4e01-9d48-f539c2dd190b",
   "metadata": {},
   "outputs": [],
   "source": [
    "email_engagements['is_mail_not_sent']=email_engagements['status'].apply(lambda x : 1 if x=='EMAIL_NOT_SENT' else 0)"
   ]
  },
  {
   "cell_type": "code",
   "execution_count": 313,
   "id": "3ca5af10-0425-462f-9cf2-a9e1e11b8a38",
   "metadata": {},
   "outputs": [],
   "source": [
    "email_engagements['is_scheduled']=email_engagements['status'].apply(lambda x : 1 if x=='SCHEDULED' else 0)"
   ]
  },
  {
   "cell_type": "code",
   "execution_count": null,
   "id": "b4981bbe-125c-433e-bb23-9c21cf5870e4",
   "metadata": {},
   "outputs": [],
   "source": []
  },
  {
   "cell_type": "code",
   "execution_count": 249,
   "id": "f5a7500b-f976-4018-b723-aa42cbde9c4f",
   "metadata": {},
   "outputs": [],
   "source": [
    "email_engagements['status_time_utc']=pd.to_datetime(email_engagements['status_time_utc'],utc=True)"
   ]
  },
  {
   "cell_type": "code",
   "execution_count": null,
   "id": "a0d96739-3662-4151-b4f5-faf8b7c1fc8b",
   "metadata": {},
   "outputs": [],
   "source": []
  },
  {
   "cell_type": "code",
   "execution_count": null,
   "id": "dbbf6ffc-43a2-4a5a-81f1-2895cbded652",
   "metadata": {},
   "outputs": [],
   "source": []
  },
  {
   "cell_type": "code",
   "execution_count": 800,
   "id": "37314ffc-58ad-43aa-b8f7-1cc86324ded7",
   "metadata": {},
   "outputs": [
    {
     "data": {
      "text/plain": [
       "status\n",
       "EMAIL_SENT        5053540\n",
       "EMAIL_NOT_SENT    1381692\n",
       "BOUNCED            145289\n",
       "EMAIL_OPENED        45538\n",
       "EMAIL_CLICKED       34921\n",
       "SCHEDULED           30072\n",
       "ERROR                2736\n",
       "UNSUBSCRIBED         2216\n",
       "RESPONDED             191\n",
       "-                       2\n",
       "Name: count, dtype: int64"
      ]
     },
     "execution_count": 800,
     "metadata": {},
     "output_type": "execute_result"
    }
   ],
   "source": [
    "email_engagements['status'].value_counts()"
   ]
  },
  {
   "cell_type": "markdown",
   "id": "7d5d2b98-7f63-4e43-a058-938966f8bcba",
   "metadata": {},
   "source": [
    "## Total Emails Sent"
   ]
  },
  {
   "cell_type": "code",
   "execution_count": 324,
   "id": "1a1e40f4-25de-404d-8d5f-9f0d64673ffe",
   "metadata": {},
   "outputs": [],
   "source": [
    "total_emails_sent=email_engagements.groupby('derived_mail')['is_email_sent'].sum().reset_index(name='total_emails_sent')"
   ]
  },
  {
   "cell_type": "code",
   "execution_count": 326,
   "id": "7ff78804-f42b-4f98-a7fe-60d1bfcebce0",
   "metadata": {},
   "outputs": [
    {
     "data": {
      "text/html": [
       "<div>\n",
       "<style scoped>\n",
       "    .dataframe tbody tr th:only-of-type {\n",
       "        vertical-align: middle;\n",
       "    }\n",
       "\n",
       "    .dataframe tbody tr th {\n",
       "        vertical-align: top;\n",
       "    }\n",
       "\n",
       "    .dataframe thead th {\n",
       "        text-align: right;\n",
       "    }\n",
       "</style>\n",
       "<table border=\"1\" class=\"dataframe\">\n",
       "  <thead>\n",
       "    <tr style=\"text-align: right;\">\n",
       "      <th></th>\n",
       "      <th>derived_mail</th>\n",
       "      <th>total_emails_sent</th>\n",
       "    </tr>\n",
       "  </thead>\n",
       "  <tbody>\n",
       "    <tr>\n",
       "      <th>0</th>\n",
       "      <td>9fake@thomasfellows.com</td>\n",
       "      <td>5</td>\n",
       "    </tr>\n",
       "    <tr>\n",
       "      <th>1</th>\n",
       "      <td>Adaku.Ude@sfdph.org</td>\n",
       "      <td>13</td>\n",
       "    </tr>\n",
       "    <tr>\n",
       "      <th>2</th>\n",
       "      <td>Ahess@amgen.com</td>\n",
       "      <td>1</td>\n",
       "    </tr>\n",
       "    <tr>\n",
       "      <th>3</th>\n",
       "      <td>Carlos.Perez@thermofisher.com</td>\n",
       "      <td>4</td>\n",
       "    </tr>\n",
       "    <tr>\n",
       "      <th>4</th>\n",
       "      <td>CarlosOliverMontejano.Ramirez@magna.com</td>\n",
       "      <td>30</td>\n",
       "    </tr>\n",
       "    <tr>\n",
       "      <th>...</th>\n",
       "      <td>...</td>\n",
       "      <td>...</td>\n",
       "    </tr>\n",
       "    <tr>\n",
       "      <th>157164</th>\n",
       "      <td>å©§å¼ @ashleyfurniture.com</td>\n",
       "      <td>0</td>\n",
       "    </tr>\n",
       "    <tr>\n",
       "      <th>157165</th>\n",
       "      <td>å¸†æ¨@its.jnj.com</td>\n",
       "      <td>0</td>\n",
       "    </tr>\n",
       "    <tr>\n",
       "      <th>157166</th>\n",
       "      <td>æ´å¼ @its.jnj.com</td>\n",
       "      <td>0</td>\n",
       "    </tr>\n",
       "    <tr>\n",
       "      <th>157167</th>\n",
       "      <td>è”šæ±ÿ.æ–‡@gm.com</td>\n",
       "      <td>24</td>\n",
       "    </tr>\n",
       "    <tr>\n",
       "      <th>157168</th>\n",
       "      <td>é˜³é˜³.é­@aecom.com</td>\n",
       "      <td>0</td>\n",
       "    </tr>\n",
       "  </tbody>\n",
       "</table>\n",
       "<p>157169 rows × 2 columns</p>\n",
       "</div>"
      ],
      "text/plain": [
       "                                   derived_mail  total_emails_sent\n",
       "0                       9fake@thomasfellows.com                  5\n",
       "1                           Adaku.Ude@sfdph.org                 13\n",
       "2                               Ahess@amgen.com                  1\n",
       "3                 Carlos.Perez@thermofisher.com                  4\n",
       "4       CarlosOliverMontejano.Ramirez@magna.com                 30\n",
       "...                                         ...                ...\n",
       "157164               å©§å¼ @ashleyfurniture.com                  0\n",
       "157165                       å¸†æ¨@its.jnj.com                  0\n",
       "157166                       æ´å¼ @its.jnj.com                  0\n",
       "157167                        è”šæ±ÿ.æ–‡@gm.com                 24\n",
       "157168                     é˜³é˜³.é­@aecom.com                  0\n",
       "\n",
       "[157169 rows x 2 columns]"
      ]
     },
     "execution_count": 326,
     "metadata": {},
     "output_type": "execute_result"
    }
   ],
   "source": [
    "total_emails_sent"
   ]
  },
  {
   "cell_type": "code",
   "execution_count": null,
   "id": "24cb4daf-d540-40c6-b902-0c705f2a21ac",
   "metadata": {},
   "outputs": [],
   "source": []
  },
  {
   "cell_type": "markdown",
   "id": "1dc2fdfc-d673-4b20-aef4-62d9d71d25bf",
   "metadata": {},
   "source": [
    "## Total Emails Clicked"
   ]
  },
  {
   "cell_type": "code",
   "execution_count": 330,
   "id": "2f5b5f4d-10fd-4d4c-a00f-8c25c76e944b",
   "metadata": {},
   "outputs": [],
   "source": [
    "total_emails_clicked=email_engagements.groupby('derived_mail')['is_email_clicked'].sum().reset_index(name='total_emails_clicked')"
   ]
  },
  {
   "cell_type": "code",
   "execution_count": 331,
   "id": "33dee543-48ff-4605-862a-f72efad4bfc2",
   "metadata": {},
   "outputs": [
    {
     "data": {
      "text/html": [
       "<div>\n",
       "<style scoped>\n",
       "    .dataframe tbody tr th:only-of-type {\n",
       "        vertical-align: middle;\n",
       "    }\n",
       "\n",
       "    .dataframe tbody tr th {\n",
       "        vertical-align: top;\n",
       "    }\n",
       "\n",
       "    .dataframe thead th {\n",
       "        text-align: right;\n",
       "    }\n",
       "</style>\n",
       "<table border=\"1\" class=\"dataframe\">\n",
       "  <thead>\n",
       "    <tr style=\"text-align: right;\">\n",
       "      <th></th>\n",
       "      <th>derived_mail</th>\n",
       "      <th>total_emails_clicked</th>\n",
       "    </tr>\n",
       "  </thead>\n",
       "  <tbody>\n",
       "    <tr>\n",
       "      <th>7385</th>\n",
       "      <td>anahi.c@byd.com</td>\n",
       "      <td>77</td>\n",
       "    </tr>\n",
       "    <tr>\n",
       "      <th>96110</th>\n",
       "      <td>mark_ard@ahm.honda.com</td>\n",
       "      <td>48</td>\n",
       "    </tr>\n",
       "    <tr>\n",
       "      <th>43499</th>\n",
       "      <td>edgar_morales@honda.com</td>\n",
       "      <td>47</td>\n",
       "    </tr>\n",
       "    <tr>\n",
       "      <th>143034</th>\n",
       "      <td>tark_martin@ahm.honda.com</td>\n",
       "      <td>45</td>\n",
       "    </tr>\n",
       "    <tr>\n",
       "      <th>94060</th>\n",
       "      <td>marc_fifolt@ahm.honda.com</td>\n",
       "      <td>41</td>\n",
       "    </tr>\n",
       "    <tr>\n",
       "      <th>...</th>\n",
       "      <td>...</td>\n",
       "      <td>...</td>\n",
       "    </tr>\n",
       "    <tr>\n",
       "      <th>54005</th>\n",
       "      <td>guerrero.b@pg.com</td>\n",
       "      <td>0</td>\n",
       "    </tr>\n",
       "    <tr>\n",
       "      <th>54006</th>\n",
       "      <td>guerrero.marita@pfizer.com</td>\n",
       "      <td>0</td>\n",
       "    </tr>\n",
       "    <tr>\n",
       "      <th>54007</th>\n",
       "      <td>guerric.willemart@ab-inbev.com</td>\n",
       "      <td>0</td>\n",
       "    </tr>\n",
       "    <tr>\n",
       "      <th>54008</th>\n",
       "      <td>guess.michael@sfgov.org</td>\n",
       "      <td>0</td>\n",
       "    </tr>\n",
       "    <tr>\n",
       "      <th>157168</th>\n",
       "      <td>é˜³é˜³.é­@aecom.com</td>\n",
       "      <td>0</td>\n",
       "    </tr>\n",
       "  </tbody>\n",
       "</table>\n",
       "<p>157169 rows × 2 columns</p>\n",
       "</div>"
      ],
      "text/plain": [
       "                          derived_mail  total_emails_clicked\n",
       "7385                   anahi.c@byd.com                    77\n",
       "96110           mark_ard@ahm.honda.com                    48\n",
       "43499          edgar_morales@honda.com                    47\n",
       "143034       tark_martin@ahm.honda.com                    45\n",
       "94060        marc_fifolt@ahm.honda.com                    41\n",
       "...                                ...                   ...\n",
       "54005                guerrero.b@pg.com                     0\n",
       "54006       guerrero.marita@pfizer.com                     0\n",
       "54007   guerric.willemart@ab-inbev.com                     0\n",
       "54008          guess.michael@sfgov.org                     0\n",
       "157168            é˜³é˜³.é­@aecom.com                     0\n",
       "\n",
       "[157169 rows x 2 columns]"
      ]
     },
     "execution_count": 331,
     "metadata": {},
     "output_type": "execute_result"
    }
   ],
   "source": [
    "total_emails_clicked.sort_values(by='total_emails_clicked',ascending=False)"
   ]
  },
  {
   "cell_type": "code",
   "execution_count": null,
   "id": "3ce26dfc-a9c9-4331-aa9a-8218e2600b46",
   "metadata": {},
   "outputs": [],
   "source": []
  },
  {
   "cell_type": "markdown",
   "id": "52e49a0a-87d0-49ac-9576-89e939df4282",
   "metadata": {},
   "source": [
    "## Total Emails Opened"
   ]
  },
  {
   "cell_type": "code",
   "execution_count": 334,
   "id": "b64cff34-27af-404b-8b7d-593bd3b58a61",
   "metadata": {},
   "outputs": [],
   "source": [
    "total_emails_opened=email_engagements.groupby('derived_mail')['is_email_opened'].sum().reset_index(name='total_emails_opened')"
   ]
  },
  {
   "cell_type": "code",
   "execution_count": 335,
   "id": "44844320-420a-473d-b2da-fc23ace617e0",
   "metadata": {},
   "outputs": [
    {
     "data": {
      "text/html": [
       "<div>\n",
       "<style scoped>\n",
       "    .dataframe tbody tr th:only-of-type {\n",
       "        vertical-align: middle;\n",
       "    }\n",
       "\n",
       "    .dataframe tbody tr th {\n",
       "        vertical-align: top;\n",
       "    }\n",
       "\n",
       "    .dataframe thead th {\n",
       "        text-align: right;\n",
       "    }\n",
       "</style>\n",
       "<table border=\"1\" class=\"dataframe\">\n",
       "  <thead>\n",
       "    <tr style=\"text-align: right;\">\n",
       "      <th></th>\n",
       "      <th>derived_mail</th>\n",
       "      <th>total_emails_opened</th>\n",
       "    </tr>\n",
       "  </thead>\n",
       "  <tbody>\n",
       "    <tr>\n",
       "      <th>123561</th>\n",
       "      <td>rik@riktek.com</td>\n",
       "      <td>97</td>\n",
       "    </tr>\n",
       "    <tr>\n",
       "      <th>111368</th>\n",
       "      <td>niraj.chaudhary@nexsales.com</td>\n",
       "      <td>84</td>\n",
       "    </tr>\n",
       "    <tr>\n",
       "      <th>119744</th>\n",
       "      <td>rama.dasari@apple.com</td>\n",
       "      <td>80</td>\n",
       "    </tr>\n",
       "    <tr>\n",
       "      <th>7385</th>\n",
       "      <td>anahi.c@byd.com</td>\n",
       "      <td>78</td>\n",
       "    </tr>\n",
       "    <tr>\n",
       "      <th>58949</th>\n",
       "      <td>j_abstender@apple.com</td>\n",
       "      <td>78</td>\n",
       "    </tr>\n",
       "    <tr>\n",
       "      <th>...</th>\n",
       "      <td>...</td>\n",
       "      <td>...</td>\n",
       "    </tr>\n",
       "    <tr>\n",
       "      <th>55387</th>\n",
       "      <td>hcortes@rivian.com</td>\n",
       "      <td>0</td>\n",
       "    </tr>\n",
       "    <tr>\n",
       "      <th>55388</th>\n",
       "      <td>hcosta@amgen.com</td>\n",
       "      <td>0</td>\n",
       "    </tr>\n",
       "    <tr>\n",
       "      <th>55389</th>\n",
       "      <td>hcostilla@ti.com</td>\n",
       "      <td>0</td>\n",
       "    </tr>\n",
       "    <tr>\n",
       "      <th>55390</th>\n",
       "      <td>hcox@aep.com</td>\n",
       "      <td>0</td>\n",
       "    </tr>\n",
       "    <tr>\n",
       "      <th>157168</th>\n",
       "      <td>é˜³é˜³.é­@aecom.com</td>\n",
       "      <td>0</td>\n",
       "    </tr>\n",
       "  </tbody>\n",
       "</table>\n",
       "<p>157169 rows × 2 columns</p>\n",
       "</div>"
      ],
      "text/plain": [
       "                        derived_mail  total_emails_opened\n",
       "123561                rik@riktek.com                   97\n",
       "111368  niraj.chaudhary@nexsales.com                   84\n",
       "119744         rama.dasari@apple.com                   80\n",
       "7385                 anahi.c@byd.com                   78\n",
       "58949          j_abstender@apple.com                   78\n",
       "...                              ...                  ...\n",
       "55387             hcortes@rivian.com                    0\n",
       "55388               hcosta@amgen.com                    0\n",
       "55389               hcostilla@ti.com                    0\n",
       "55390                   hcox@aep.com                    0\n",
       "157168          é˜³é˜³.é­@aecom.com                    0\n",
       "\n",
       "[157169 rows x 2 columns]"
      ]
     },
     "execution_count": 335,
     "metadata": {},
     "output_type": "execute_result"
    }
   ],
   "source": [
    "total_emails_opened.sort_values(by='total_emails_opened',ascending=False)"
   ]
  },
  {
   "cell_type": "code",
   "execution_count": null,
   "id": "a48888fd-9485-4b8e-9357-56cfa2a13d70",
   "metadata": {},
   "outputs": [],
   "source": []
  },
  {
   "cell_type": "markdown",
   "id": "b76c8a58-6d59-4408-aa50-ba76284c5210",
   "metadata": {},
   "source": [
    "## Total Emails Unsubscribed"
   ]
  },
  {
   "cell_type": "code",
   "execution_count": 340,
   "id": "08c9fc1b-e1d5-427b-8818-44a8792359a7",
   "metadata": {},
   "outputs": [],
   "source": [
    "total_emails_unsubscribed=email_engagements.groupby('derived_mail')['is_unsubscribed'].sum().reset_index(name='total_emails_unsubscribed')"
   ]
  },
  {
   "cell_type": "code",
   "execution_count": 341,
   "id": "d6bb59cc-5a62-4110-a8b3-cc5373811fa9",
   "metadata": {},
   "outputs": [
    {
     "data": {
      "text/html": [
       "<div>\n",
       "<style scoped>\n",
       "    .dataframe tbody tr th:only-of-type {\n",
       "        vertical-align: middle;\n",
       "    }\n",
       "\n",
       "    .dataframe tbody tr th {\n",
       "        vertical-align: top;\n",
       "    }\n",
       "\n",
       "    .dataframe thead th {\n",
       "        text-align: right;\n",
       "    }\n",
       "</style>\n",
       "<table border=\"1\" class=\"dataframe\">\n",
       "  <thead>\n",
       "    <tr style=\"text-align: right;\">\n",
       "      <th></th>\n",
       "      <th>derived_mail</th>\n",
       "      <th>total_emails_unsubscribed</th>\n",
       "    </tr>\n",
       "  </thead>\n",
       "  <tbody>\n",
       "    <tr>\n",
       "      <th>132568</th>\n",
       "      <td>scott.viehouser@petco.com</td>\n",
       "      <td>12</td>\n",
       "    </tr>\n",
       "    <tr>\n",
       "      <th>58308</th>\n",
       "      <td>irwin.nudelman@7-11.com</td>\n",
       "      <td>11</td>\n",
       "    </tr>\n",
       "    <tr>\n",
       "      <th>30299</th>\n",
       "      <td>coryr@mwes.com</td>\n",
       "      <td>10</td>\n",
       "    </tr>\n",
       "    <tr>\n",
       "      <th>19283</th>\n",
       "      <td>brian.eisenhauer@lmco.com</td>\n",
       "      <td>8</td>\n",
       "    </tr>\n",
       "    <tr>\n",
       "      <th>1852</th>\n",
       "      <td>adam.williams@louisville.edu</td>\n",
       "      <td>8</td>\n",
       "    </tr>\n",
       "    <tr>\n",
       "      <th>...</th>\n",
       "      <td>...</td>\n",
       "      <td>...</td>\n",
       "    </tr>\n",
       "    <tr>\n",
       "      <th>52551</th>\n",
       "      <td>gloria_gutierrez-sotoed@cargill.com</td>\n",
       "      <td>0</td>\n",
       "    </tr>\n",
       "    <tr>\n",
       "      <th>52552</th>\n",
       "      <td>gloria_molina@homedepot.com</td>\n",
       "      <td>0</td>\n",
       "    </tr>\n",
       "    <tr>\n",
       "      <th>52553</th>\n",
       "      <td>gloriana@amgen.com</td>\n",
       "      <td>0</td>\n",
       "    </tr>\n",
       "    <tr>\n",
       "      <th>52554</th>\n",
       "      <td>gloriaramosyother@consumersenergy.com</td>\n",
       "      <td>0</td>\n",
       "    </tr>\n",
       "    <tr>\n",
       "      <th>157168</th>\n",
       "      <td>é˜³é˜³.é­@aecom.com</td>\n",
       "      <td>0</td>\n",
       "    </tr>\n",
       "  </tbody>\n",
       "</table>\n",
       "<p>157169 rows × 2 columns</p>\n",
       "</div>"
      ],
      "text/plain": [
       "                                 derived_mail  total_emails_unsubscribed\n",
       "132568              scott.viehouser@petco.com                         12\n",
       "58308                 irwin.nudelman@7-11.com                         11\n",
       "30299                          coryr@mwes.com                         10\n",
       "19283               brian.eisenhauer@lmco.com                          8\n",
       "1852             adam.williams@louisville.edu                          8\n",
       "...                                       ...                        ...\n",
       "52551     gloria_gutierrez-sotoed@cargill.com                          0\n",
       "52552             gloria_molina@homedepot.com                          0\n",
       "52553                      gloriana@amgen.com                          0\n",
       "52554   gloriaramosyother@consumersenergy.com                          0\n",
       "157168                   é˜³é˜³.é­@aecom.com                          0\n",
       "\n",
       "[157169 rows x 2 columns]"
      ]
     },
     "execution_count": 341,
     "metadata": {},
     "output_type": "execute_result"
    }
   ],
   "source": [
    "total_emails_unsubscribed.sort_values(by='total_emails_unsubscribed',ascending=False)"
   ]
  },
  {
   "cell_type": "code",
   "execution_count": 342,
   "id": "3d4deda1-e54b-41e7-9761-b20cc122544f",
   "metadata": {},
   "outputs": [],
   "source": [
    "# email_engagements[email_engagements['derived_mail']=='rik@riktek.com']"
   ]
  },
  {
   "cell_type": "code",
   "execution_count": null,
   "id": "ee574bb8-fd0b-4d48-b9f7-6b2a981ecb43",
   "metadata": {},
   "outputs": [],
   "source": []
  },
  {
   "cell_type": "markdown",
   "id": "e9f0746e-9d2d-4b38-9fd7-461b54526923",
   "metadata": {},
   "source": [
    "## Total Emails Bounced"
   ]
  },
  {
   "cell_type": "code",
   "execution_count": 347,
   "id": "3a5a00de-3936-4f33-b79d-6a975909fcfc",
   "metadata": {},
   "outputs": [],
   "source": [
    "total_emails_bounced=email_engagements.groupby('derived_mail')['is_bounced'].sum().reset_index(name='total_emails_bounced')"
   ]
  },
  {
   "cell_type": "code",
   "execution_count": 348,
   "id": "ccb5e383-ca26-4d9e-adf5-978fa393ba82",
   "metadata": {},
   "outputs": [
    {
     "data": {
      "text/html": [
       "<div>\n",
       "<style scoped>\n",
       "    .dataframe tbody tr th:only-of-type {\n",
       "        vertical-align: middle;\n",
       "    }\n",
       "\n",
       "    .dataframe tbody tr th {\n",
       "        vertical-align: top;\n",
       "    }\n",
       "\n",
       "    .dataframe thead th {\n",
       "        text-align: right;\n",
       "    }\n",
       "</style>\n",
       "<table border=\"1\" class=\"dataframe\">\n",
       "  <thead>\n",
       "    <tr style=\"text-align: right;\">\n",
       "      <th></th>\n",
       "      <th>derived_mail</th>\n",
       "      <th>total_emails_bounced</th>\n",
       "    </tr>\n",
       "  </thead>\n",
       "  <tbody>\n",
       "    <tr>\n",
       "      <th>0</th>\n",
       "      <td>9fake@thomasfellows.com</td>\n",
       "      <td>1</td>\n",
       "    </tr>\n",
       "    <tr>\n",
       "      <th>1</th>\n",
       "      <td>Adaku.Ude@sfdph.org</td>\n",
       "      <td>0</td>\n",
       "    </tr>\n",
       "    <tr>\n",
       "      <th>2</th>\n",
       "      <td>Ahess@amgen.com</td>\n",
       "      <td>3</td>\n",
       "    </tr>\n",
       "    <tr>\n",
       "      <th>3</th>\n",
       "      <td>Carlos.Perez@thermofisher.com</td>\n",
       "      <td>0</td>\n",
       "    </tr>\n",
       "    <tr>\n",
       "      <th>4</th>\n",
       "      <td>CarlosOliverMontejano.Ramirez@magna.com</td>\n",
       "      <td>7</td>\n",
       "    </tr>\n",
       "    <tr>\n",
       "      <th>...</th>\n",
       "      <td>...</td>\n",
       "      <td>...</td>\n",
       "    </tr>\n",
       "    <tr>\n",
       "      <th>157164</th>\n",
       "      <td>å©§å¼ @ashleyfurniture.com</td>\n",
       "      <td>0</td>\n",
       "    </tr>\n",
       "    <tr>\n",
       "      <th>157165</th>\n",
       "      <td>å¸†æ¨@its.jnj.com</td>\n",
       "      <td>0</td>\n",
       "    </tr>\n",
       "    <tr>\n",
       "      <th>157166</th>\n",
       "      <td>æ´å¼ @its.jnj.com</td>\n",
       "      <td>0</td>\n",
       "    </tr>\n",
       "    <tr>\n",
       "      <th>157167</th>\n",
       "      <td>è”šæ±ÿ.æ–‡@gm.com</td>\n",
       "      <td>0</td>\n",
       "    </tr>\n",
       "    <tr>\n",
       "      <th>157168</th>\n",
       "      <td>é˜³é˜³.é­@aecom.com</td>\n",
       "      <td>0</td>\n",
       "    </tr>\n",
       "  </tbody>\n",
       "</table>\n",
       "<p>157169 rows × 2 columns</p>\n",
       "</div>"
      ],
      "text/plain": [
       "                                   derived_mail  total_emails_bounced\n",
       "0                       9fake@thomasfellows.com                     1\n",
       "1                           Adaku.Ude@sfdph.org                     0\n",
       "2                               Ahess@amgen.com                     3\n",
       "3                 Carlos.Perez@thermofisher.com                     0\n",
       "4       CarlosOliverMontejano.Ramirez@magna.com                     7\n",
       "...                                         ...                   ...\n",
       "157164               å©§å¼ @ashleyfurniture.com                     0\n",
       "157165                       å¸†æ¨@its.jnj.com                     0\n",
       "157166                       æ´å¼ @its.jnj.com                     0\n",
       "157167                        è”šæ±ÿ.æ–‡@gm.com                     0\n",
       "157168                     é˜³é˜³.é­@aecom.com                     0\n",
       "\n",
       "[157169 rows x 2 columns]"
      ]
     },
     "execution_count": 348,
     "metadata": {},
     "output_type": "execute_result"
    }
   ],
   "source": [
    "total_emails_bounced"
   ]
  },
  {
   "cell_type": "code",
   "execution_count": null,
   "id": "b719c0f5-ea30-409d-8795-5aa641834175",
   "metadata": {},
   "outputs": [],
   "source": []
  },
  {
   "cell_type": "code",
   "execution_count": 355,
   "id": "89e7f7e2-6f15-40d4-9cf2-0f5d9322d45b",
   "metadata": {},
   "outputs": [],
   "source": [
    "# unique_prop_firmo_data.drop(columns=['Unnamed: 0'],inplace=True)"
   ]
  },
  {
   "cell_type": "code",
   "execution_count": null,
   "id": "3e36f138-c24d-47ed-85a3-1c27f4879d2f",
   "metadata": {},
   "outputs": [],
   "source": []
  },
  {
   "cell_type": "code",
   "execution_count": 358,
   "id": "8f26a3fe-8f83-44ff-9771-6d1ff4353f39",
   "metadata": {},
   "outputs": [],
   "source": [
    "unique_prop_firmo_data['derived_mail']=unique_prop_firmo_data['Email']"
   ]
  },
  {
   "cell_type": "code",
   "execution_count": 192,
   "id": "eeaf3f84-822e-40fb-862e-5a27bc93595c",
   "metadata": {},
   "outputs": [],
   "source": [
    "# unique_prop_firmo_data=prop_firmo_data.copy()"
   ]
  },
  {
   "cell_type": "code",
   "execution_count": 360,
   "id": "716ff404-7598-4b60-8870-2188e6487cce",
   "metadata": {},
   "outputs": [
    {
     "data": {
      "text/html": [
       "<div>\n",
       "<style scoped>\n",
       "    .dataframe tbody tr th:only-of-type {\n",
       "        vertical-align: middle;\n",
       "    }\n",
       "\n",
       "    .dataframe tbody tr th {\n",
       "        vertical-align: top;\n",
       "    }\n",
       "\n",
       "    .dataframe thead th {\n",
       "        text-align: right;\n",
       "    }\n",
       "</style>\n",
       "<table border=\"1\" class=\"dataframe\">\n",
       "  <thead>\n",
       "    <tr style=\"text-align: right;\">\n",
       "      <th></th>\n",
       "      <th>Company Name</th>\n",
       "      <th>First Name</th>\n",
       "      <th>Middle Name</th>\n",
       "      <th>Last Name</th>\n",
       "      <th>Title</th>\n",
       "      <th>Level</th>\n",
       "      <th>Seniority</th>\n",
       "      <th>Department</th>\n",
       "      <th>Email ID</th>\n",
       "      <th>Email 1</th>\n",
       "      <th>Contact_City</th>\n",
       "      <th>Contact_State</th>\n",
       "      <th>Contact City</th>\n",
       "      <th>Contact State</th>\n",
       "      <th>Contact Country</th>\n",
       "      <th>Country</th>\n",
       "      <th>Website</th>\n",
       "      <th>Company City</th>\n",
       "      <th>Company State</th>\n",
       "      <th>Company Country</th>\n",
       "      <th>Industry</th>\n",
       "      <th>Sub Industry</th>\n",
       "      <th>Revenue</th>\n",
       "      <th>Revenue Range</th>\n",
       "      <th>EMP Range</th>\n",
       "      <th>Company Annual Revenue</th>\n",
       "      <th>Company Industry</th>\n",
       "      <th>Company Staff Count Range</th>\n",
       "      <th>Company Staff Count</th>\n",
       "      <th>Contact Linkedin URL</th>\n",
       "      <th>Contact LI Profile URL</th>\n",
       "      <th>source</th>\n",
       "      <th>Email</th>\n",
       "      <th>derived_mail</th>\n",
       "    </tr>\n",
       "  </thead>\n",
       "  <tbody>\n",
       "    <tr>\n",
       "      <th>0</th>\n",
       "      <td>Puget Sound Energy</td>\n",
       "      <td>Max</td>\n",
       "      <td>NaN</td>\n",
       "      <td>Emrick</td>\n",
       "      <td>Engineering Manager</td>\n",
       "      <td>NaN</td>\n",
       "      <td>NaN</td>\n",
       "      <td>NaN</td>\n",
       "      <td>NaN</td>\n",
       "      <td>max.emrick@pse.com</td>\n",
       "      <td>Issaquah</td>\n",
       "      <td>Washington</td>\n",
       "      <td>Issaquah</td>\n",
       "      <td>Washington</td>\n",
       "      <td>NaN</td>\n",
       "      <td>NaN</td>\n",
       "      <td>www.pse.com</td>\n",
       "      <td>Bellevue</td>\n",
       "      <td>Washington</td>\n",
       "      <td>United States</td>\n",
       "      <td>NaN</td>\n",
       "      <td>NaN</td>\n",
       "      <td>NaN</td>\n",
       "      <td>NaN</td>\n",
       "      <td>NaN</td>\n",
       "      <td>$4.2B</td>\n",
       "      <td>Electricity, Oil &amp; Gas</td>\n",
       "      <td>1,001-5,000</td>\n",
       "      <td>3100.0</td>\n",
       "      <td>NaN</td>\n",
       "      <td>https://www.linkedin.com/in/max-emrick-21490726</td>\n",
       "      <td>../datasets/latest_dataset/Schneider_Electric_...</td>\n",
       "      <td>max.emrick@pse.com</td>\n",
       "      <td>max.emrick@pse.com</td>\n",
       "    </tr>\n",
       "    <tr>\n",
       "      <th>1</th>\n",
       "      <td>Puget Sound Energy</td>\n",
       "      <td>Greg</td>\n",
       "      <td>NaN</td>\n",
       "      <td>Frisbee</td>\n",
       "      <td>Engineering Manager</td>\n",
       "      <td>NaN</td>\n",
       "      <td>NaN</td>\n",
       "      <td>NaN</td>\n",
       "      <td>NaN</td>\n",
       "      <td>greg.frisbee@pse.com</td>\n",
       "      <td>Bellevue</td>\n",
       "      <td>Washington</td>\n",
       "      <td>Bellevue</td>\n",
       "      <td>Washington</td>\n",
       "      <td>NaN</td>\n",
       "      <td>NaN</td>\n",
       "      <td>www.pse.com</td>\n",
       "      <td>Bellevue</td>\n",
       "      <td>Washington</td>\n",
       "      <td>United States</td>\n",
       "      <td>NaN</td>\n",
       "      <td>NaN</td>\n",
       "      <td>NaN</td>\n",
       "      <td>NaN</td>\n",
       "      <td>NaN</td>\n",
       "      <td>$4.2B</td>\n",
       "      <td>Electricity, Oil &amp; Gas</td>\n",
       "      <td>1,001-5,000</td>\n",
       "      <td>3100.0</td>\n",
       "      <td>NaN</td>\n",
       "      <td>https://www.linkedin.com/in/greg-frisbee-83690932</td>\n",
       "      <td>../datasets/latest_dataset/Schneider_Electric_...</td>\n",
       "      <td>greg.frisbee@pse.com</td>\n",
       "      <td>greg.frisbee@pse.com</td>\n",
       "    </tr>\n",
       "    <tr>\n",
       "      <th>2</th>\n",
       "      <td>Puget Sound Energy</td>\n",
       "      <td>Cheryl</td>\n",
       "      <td>NaN</td>\n",
       "      <td>McGrath</td>\n",
       "      <td>Manager Field Engineering and Innovation</td>\n",
       "      <td>NaN</td>\n",
       "      <td>NaN</td>\n",
       "      <td>NaN</td>\n",
       "      <td>NaN</td>\n",
       "      <td>cheryl.mcgrath@pse.com</td>\n",
       "      <td>Woodinville</td>\n",
       "      <td>Washington</td>\n",
       "      <td>Woodinville</td>\n",
       "      <td>Washington</td>\n",
       "      <td>NaN</td>\n",
       "      <td>NaN</td>\n",
       "      <td>www.pse.com</td>\n",
       "      <td>Bellevue</td>\n",
       "      <td>Washington</td>\n",
       "      <td>United States</td>\n",
       "      <td>NaN</td>\n",
       "      <td>NaN</td>\n",
       "      <td>NaN</td>\n",
       "      <td>NaN</td>\n",
       "      <td>NaN</td>\n",
       "      <td>$4.2B</td>\n",
       "      <td>Electricity, Oil &amp; Gas</td>\n",
       "      <td>1,001-5,000</td>\n",
       "      <td>3100.0</td>\n",
       "      <td>NaN</td>\n",
       "      <td>https://www.linkedin.com/in/cheryl-mcgrath-327...</td>\n",
       "      <td>../datasets/latest_dataset/Schneider_Electric_...</td>\n",
       "      <td>cheryl.mcgrath@pse.com</td>\n",
       "      <td>cheryl.mcgrath@pse.com</td>\n",
       "    </tr>\n",
       "    <tr>\n",
       "      <th>3</th>\n",
       "      <td>Puget Sound Energy</td>\n",
       "      <td>Joshua</td>\n",
       "      <td>NaN</td>\n",
       "      <td>Peavler</td>\n",
       "      <td>Engineering Manager</td>\n",
       "      <td>NaN</td>\n",
       "      <td>NaN</td>\n",
       "      <td>NaN</td>\n",
       "      <td>NaN</td>\n",
       "      <td>joshua.peavler@pse.com</td>\n",
       "      <td>Chino</td>\n",
       "      <td>California</td>\n",
       "      <td>Chino</td>\n",
       "      <td>California</td>\n",
       "      <td>NaN</td>\n",
       "      <td>NaN</td>\n",
       "      <td>www.pse.com</td>\n",
       "      <td>Bellevue</td>\n",
       "      <td>Washington</td>\n",
       "      <td>United States</td>\n",
       "      <td>NaN</td>\n",
       "      <td>NaN</td>\n",
       "      <td>NaN</td>\n",
       "      <td>NaN</td>\n",
       "      <td>NaN</td>\n",
       "      <td>$4.2B</td>\n",
       "      <td>Electricity, Oil &amp; Gas</td>\n",
       "      <td>1,001-5,000</td>\n",
       "      <td>3100.0</td>\n",
       "      <td>NaN</td>\n",
       "      <td>https://www.linkedin.com/in/joshua-peavler-pe-...</td>\n",
       "      <td>../datasets/latest_dataset/Schneider_Electric_...</td>\n",
       "      <td>joshua.peavler@pse.com</td>\n",
       "      <td>joshua.peavler@pse.com</td>\n",
       "    </tr>\n",
       "    <tr>\n",
       "      <th>4</th>\n",
       "      <td>Duke Energy Corporation</td>\n",
       "      <td>Brian</td>\n",
       "      <td>NaN</td>\n",
       "      <td>Woody</td>\n",
       "      <td>VICE PRESIDENT OF NATURAL GAS OPERATIONS</td>\n",
       "      <td>VP</td>\n",
       "      <td>VP</td>\n",
       "      <td>Operations</td>\n",
       "      <td>NaN</td>\n",
       "      <td>brian.woody@piedmontng.com</td>\n",
       "      <td>Rock Hill</td>\n",
       "      <td>South Carolina</td>\n",
       "      <td>Rock Hill</td>\n",
       "      <td>South Carolina</td>\n",
       "      <td>United States</td>\n",
       "      <td>NaN</td>\n",
       "      <td>duke-energy.com</td>\n",
       "      <td>Charlotte</td>\n",
       "      <td>North Carolina</td>\n",
       "      <td>United States</td>\n",
       "      <td>NaN</td>\n",
       "      <td>NaN</td>\n",
       "      <td>NaN</td>\n",
       "      <td>NaN</td>\n",
       "      <td>NaN</td>\n",
       "      <td>$28.8B</td>\n",
       "      <td>Electricity, Oil &amp; Gas</td>\n",
       "      <td>10,001+</td>\n",
       "      <td>27859</td>\n",
       "      <td>NaN</td>\n",
       "      <td>https://www.linkedin.com/in/brian-woody-40a694...</td>\n",
       "      <td>../datasets/latest_dataset/Schneider_Electric_...</td>\n",
       "      <td>brian.woody@piedmontng.com</td>\n",
       "      <td>brian.woody@piedmontng.com</td>\n",
       "    </tr>\n",
       "    <tr>\n",
       "      <th>...</th>\n",
       "      <td>...</td>\n",
       "      <td>...</td>\n",
       "      <td>...</td>\n",
       "      <td>...</td>\n",
       "      <td>...</td>\n",
       "      <td>...</td>\n",
       "      <td>...</td>\n",
       "      <td>...</td>\n",
       "      <td>...</td>\n",
       "      <td>...</td>\n",
       "      <td>...</td>\n",
       "      <td>...</td>\n",
       "      <td>...</td>\n",
       "      <td>...</td>\n",
       "      <td>...</td>\n",
       "      <td>...</td>\n",
       "      <td>...</td>\n",
       "      <td>...</td>\n",
       "      <td>...</td>\n",
       "      <td>...</td>\n",
       "      <td>...</td>\n",
       "      <td>...</td>\n",
       "      <td>...</td>\n",
       "      <td>...</td>\n",
       "      <td>...</td>\n",
       "      <td>...</td>\n",
       "      <td>...</td>\n",
       "      <td>...</td>\n",
       "      <td>...</td>\n",
       "      <td>...</td>\n",
       "      <td>...</td>\n",
       "      <td>...</td>\n",
       "      <td>...</td>\n",
       "      <td>...</td>\n",
       "    </tr>\n",
       "    <tr>\n",
       "      <th>157512</th>\n",
       "      <td>Texas Instruments</td>\n",
       "      <td>Tim</td>\n",
       "      <td>NaN</td>\n",
       "      <td>Horton</td>\n",
       "      <td>Vice President</td>\n",
       "      <td>VP</td>\n",
       "      <td>NaN</td>\n",
       "      <td>Operations</td>\n",
       "      <td>thorton@ti.com</td>\n",
       "      <td>NaN</td>\n",
       "      <td>Dallas</td>\n",
       "      <td>TX</td>\n",
       "      <td>NaN</td>\n",
       "      <td>NaN</td>\n",
       "      <td>NaN</td>\n",
       "      <td>United States</td>\n",
       "      <td>www.ti.com</td>\n",
       "      <td>Dallas</td>\n",
       "      <td>TX</td>\n",
       "      <td>United States</td>\n",
       "      <td>Manufacturing</td>\n",
       "      <td>NaN</td>\n",
       "      <td>$17.5B</td>\n",
       "      <td>10B+</td>\n",
       "      <td>10,000+</td>\n",
       "      <td>NaN</td>\n",
       "      <td>NaN</td>\n",
       "      <td>NaN</td>\n",
       "      <td>NaN</td>\n",
       "      <td>https://www.linkedin.com/in/ACwAAEzMAHkBtTFP5x...</td>\n",
       "      <td>NaN</td>\n",
       "      <td>../datasets/latest_dataset/Schneider_Electric_...</td>\n",
       "      <td>thorton@ti.com</td>\n",
       "      <td>thorton@ti.com</td>\n",
       "    </tr>\n",
       "    <tr>\n",
       "      <th>157513</th>\n",
       "      <td>Texas Instruments</td>\n",
       "      <td>Robert</td>\n",
       "      <td>NaN</td>\n",
       "      <td>Duhon</td>\n",
       "      <td>owner/operator</td>\n",
       "      <td>CXO</td>\n",
       "      <td>NaN</td>\n",
       "      <td>Operations</td>\n",
       "      <td>rduhon@ti.com</td>\n",
       "      <td>NaN</td>\n",
       "      <td>Whitewright</td>\n",
       "      <td>TX</td>\n",
       "      <td>NaN</td>\n",
       "      <td>NaN</td>\n",
       "      <td>NaN</td>\n",
       "      <td>United States</td>\n",
       "      <td>www.ti.com</td>\n",
       "      <td>Dallas</td>\n",
       "      <td>TX</td>\n",
       "      <td>United States</td>\n",
       "      <td>Manufacturing</td>\n",
       "      <td>NaN</td>\n",
       "      <td>$17.5B</td>\n",
       "      <td>10B+</td>\n",
       "      <td>10,000+</td>\n",
       "      <td>NaN</td>\n",
       "      <td>NaN</td>\n",
       "      <td>NaN</td>\n",
       "      <td>NaN</td>\n",
       "      <td>https://www.linkedin.com/in/ACwAAAkrYBwBz1A8pq...</td>\n",
       "      <td>NaN</td>\n",
       "      <td>../datasets/latest_dataset/Schneider_Electric_...</td>\n",
       "      <td>rduhon@ti.com</td>\n",
       "      <td>rduhon@ti.com</td>\n",
       "    </tr>\n",
       "    <tr>\n",
       "      <th>157514</th>\n",
       "      <td>Texas Instruments</td>\n",
       "      <td>Ashley</td>\n",
       "      <td>NaN</td>\n",
       "      <td>Hinson</td>\n",
       "      <td>Managing Director</td>\n",
       "      <td>Dir</td>\n",
       "      <td>NaN</td>\n",
       "      <td>Operations</td>\n",
       "      <td>ahinson@ti.com</td>\n",
       "      <td>NaN</td>\n",
       "      <td>Dallas</td>\n",
       "      <td>TX</td>\n",
       "      <td>NaN</td>\n",
       "      <td>NaN</td>\n",
       "      <td>NaN</td>\n",
       "      <td>United States</td>\n",
       "      <td>www.ti.com</td>\n",
       "      <td>Dallas</td>\n",
       "      <td>TX</td>\n",
       "      <td>United States</td>\n",
       "      <td>Manufacturing</td>\n",
       "      <td>NaN</td>\n",
       "      <td>$17.5B</td>\n",
       "      <td>10B+</td>\n",
       "      <td>10,000+</td>\n",
       "      <td>NaN</td>\n",
       "      <td>NaN</td>\n",
       "      <td>NaN</td>\n",
       "      <td>NaN</td>\n",
       "      <td>https://www.linkedin.com/in/ACwAAFDSNAAB2xAOsK...</td>\n",
       "      <td>NaN</td>\n",
       "      <td>../datasets/latest_dataset/Schneider_Electric_...</td>\n",
       "      <td>ahinson@ti.com</td>\n",
       "      <td>ahinson@ti.com</td>\n",
       "    </tr>\n",
       "    <tr>\n",
       "      <th>157515</th>\n",
       "      <td>Texas Instruments</td>\n",
       "      <td>Jon</td>\n",
       "      <td>NaN</td>\n",
       "      <td>Jordan</td>\n",
       "      <td>Equipment Owner</td>\n",
       "      <td>CXO</td>\n",
       "      <td>NaN</td>\n",
       "      <td>Operations</td>\n",
       "      <td>jjordan@ti.com</td>\n",
       "      <td>NaN</td>\n",
       "      <td>Orem</td>\n",
       "      <td>UT</td>\n",
       "      <td>NaN</td>\n",
       "      <td>NaN</td>\n",
       "      <td>NaN</td>\n",
       "      <td>United States</td>\n",
       "      <td>www.ti.com</td>\n",
       "      <td>Dallas</td>\n",
       "      <td>TX</td>\n",
       "      <td>United States</td>\n",
       "      <td>Manufacturing</td>\n",
       "      <td>NaN</td>\n",
       "      <td>$17.5B</td>\n",
       "      <td>10B+</td>\n",
       "      <td>10,000+</td>\n",
       "      <td>NaN</td>\n",
       "      <td>NaN</td>\n",
       "      <td>NaN</td>\n",
       "      <td>NaN</td>\n",
       "      <td>https://www.linkedin.com/in/ACwAAEh30LABoiWGWd...</td>\n",
       "      <td>NaN</td>\n",
       "      <td>../datasets/latest_dataset/Schneider_Electric_...</td>\n",
       "      <td>jjordan@ti.com</td>\n",
       "      <td>jjordan@ti.com</td>\n",
       "    </tr>\n",
       "    <tr>\n",
       "      <th>157516</th>\n",
       "      <td>Texas Instruments</td>\n",
       "      <td>Ernest</td>\n",
       "      <td>NaN</td>\n",
       "      <td>Keill</td>\n",
       "      <td>Music Director</td>\n",
       "      <td>Dir</td>\n",
       "      <td>NaN</td>\n",
       "      <td>Operations</td>\n",
       "      <td>ekeill@ti.com</td>\n",
       "      <td>NaN</td>\n",
       "      <td>San Antonio</td>\n",
       "      <td>TX</td>\n",
       "      <td>NaN</td>\n",
       "      <td>NaN</td>\n",
       "      <td>NaN</td>\n",
       "      <td>United States</td>\n",
       "      <td>www.ti.com</td>\n",
       "      <td>Dallas</td>\n",
       "      <td>TX</td>\n",
       "      <td>United States</td>\n",
       "      <td>Manufacturing</td>\n",
       "      <td>NaN</td>\n",
       "      <td>$17.5B</td>\n",
       "      <td>10B+</td>\n",
       "      <td>10,000+</td>\n",
       "      <td>NaN</td>\n",
       "      <td>NaN</td>\n",
       "      <td>NaN</td>\n",
       "      <td>NaN</td>\n",
       "      <td>https://www.linkedin.com/in/ACwAAEsW8P0BkDEmgW...</td>\n",
       "      <td>NaN</td>\n",
       "      <td>../datasets/latest_dataset/Schneider_Electric_...</td>\n",
       "      <td>ekeill@ti.com</td>\n",
       "      <td>ekeill@ti.com</td>\n",
       "    </tr>\n",
       "  </tbody>\n",
       "</table>\n",
       "<p>157517 rows × 34 columns</p>\n",
       "</div>"
      ],
      "text/plain": [
       "                   Company Name First Name Middle Name Last Name  \\\n",
       "0            Puget Sound Energy        Max         NaN    Emrick   \n",
       "1            Puget Sound Energy       Greg         NaN   Frisbee   \n",
       "2            Puget Sound Energy     Cheryl         NaN   McGrath   \n",
       "3            Puget Sound Energy     Joshua         NaN   Peavler   \n",
       "4       Duke Energy Corporation      Brian         NaN     Woody   \n",
       "...                         ...        ...         ...       ...   \n",
       "157512        Texas Instruments        Tim         NaN    Horton   \n",
       "157513        Texas Instruments     Robert         NaN     Duhon   \n",
       "157514        Texas Instruments     Ashley         NaN    Hinson   \n",
       "157515        Texas Instruments        Jon         NaN    Jordan   \n",
       "157516        Texas Instruments     Ernest         NaN     Keill   \n",
       "\n",
       "                                           Title Level Seniority  Department  \\\n",
       "0                            Engineering Manager   NaN       NaN         NaN   \n",
       "1                            Engineering Manager   NaN       NaN         NaN   \n",
       "2       Manager Field Engineering and Innovation   NaN       NaN         NaN   \n",
       "3                            Engineering Manager   NaN       NaN         NaN   \n",
       "4       VICE PRESIDENT OF NATURAL GAS OPERATIONS    VP        VP  Operations   \n",
       "...                                          ...   ...       ...         ...   \n",
       "157512                            Vice President    VP       NaN  Operations   \n",
       "157513                            owner/operator   CXO       NaN  Operations   \n",
       "157514                         Managing Director   Dir       NaN  Operations   \n",
       "157515                           Equipment Owner   CXO       NaN  Operations   \n",
       "157516                            Music Director   Dir       NaN  Operations   \n",
       "\n",
       "              Email ID                     Email 1 Contact_City  \\\n",
       "0                  NaN          max.emrick@pse.com     Issaquah   \n",
       "1                  NaN        greg.frisbee@pse.com     Bellevue   \n",
       "2                  NaN      cheryl.mcgrath@pse.com  Woodinville   \n",
       "3                  NaN      joshua.peavler@pse.com        Chino   \n",
       "4                  NaN  brian.woody@piedmontng.com    Rock Hill   \n",
       "...                ...                         ...          ...   \n",
       "157512  thorton@ti.com                         NaN       Dallas   \n",
       "157513   rduhon@ti.com                         NaN  Whitewright   \n",
       "157514  ahinson@ti.com                         NaN       Dallas   \n",
       "157515  jjordan@ti.com                         NaN         Orem   \n",
       "157516   ekeill@ti.com                         NaN  San Antonio   \n",
       "\n",
       "         Contact_State Contact City   Contact State Contact Country  \\\n",
       "0           Washington     Issaquah      Washington             NaN   \n",
       "1           Washington     Bellevue      Washington             NaN   \n",
       "2           Washington  Woodinville      Washington             NaN   \n",
       "3           California        Chino      California             NaN   \n",
       "4       South Carolina    Rock Hill  South Carolina   United States   \n",
       "...                ...          ...             ...             ...   \n",
       "157512              TX          NaN             NaN             NaN   \n",
       "157513              TX          NaN             NaN             NaN   \n",
       "157514              TX          NaN             NaN             NaN   \n",
       "157515              UT          NaN             NaN             NaN   \n",
       "157516              TX          NaN             NaN             NaN   \n",
       "\n",
       "              Country          Website Company City   Company State  \\\n",
       "0                 NaN      www.pse.com     Bellevue      Washington   \n",
       "1                 NaN      www.pse.com     Bellevue      Washington   \n",
       "2                 NaN      www.pse.com     Bellevue      Washington   \n",
       "3                 NaN      www.pse.com     Bellevue      Washington   \n",
       "4                 NaN  duke-energy.com    Charlotte  North Carolina   \n",
       "...               ...              ...          ...             ...   \n",
       "157512  United States       www.ti.com       Dallas              TX   \n",
       "157513  United States       www.ti.com       Dallas              TX   \n",
       "157514  United States       www.ti.com       Dallas              TX   \n",
       "157515  United States       www.ti.com       Dallas              TX   \n",
       "157516  United States       www.ti.com       Dallas              TX   \n",
       "\n",
       "       Company Country       Industry Sub Industry Revenue Revenue Range  \\\n",
       "0        United States            NaN          NaN     NaN           NaN   \n",
       "1        United States            NaN          NaN     NaN           NaN   \n",
       "2        United States            NaN          NaN     NaN           NaN   \n",
       "3        United States            NaN          NaN     NaN           NaN   \n",
       "4        United States            NaN          NaN     NaN           NaN   \n",
       "...                ...            ...          ...     ...           ...   \n",
       "157512   United States  Manufacturing          NaN  $17.5B          10B+   \n",
       "157513   United States  Manufacturing          NaN  $17.5B          10B+   \n",
       "157514   United States  Manufacturing          NaN  $17.5B          10B+   \n",
       "157515   United States  Manufacturing          NaN  $17.5B          10B+   \n",
       "157516   United States  Manufacturing          NaN  $17.5B          10B+   \n",
       "\n",
       "       EMP Range Company Annual Revenue        Company Industry  \\\n",
       "0            NaN                  $4.2B  Electricity, Oil & Gas   \n",
       "1            NaN                  $4.2B  Electricity, Oil & Gas   \n",
       "2            NaN                  $4.2B  Electricity, Oil & Gas   \n",
       "3            NaN                  $4.2B  Electricity, Oil & Gas   \n",
       "4            NaN                 $28.8B  Electricity, Oil & Gas   \n",
       "...          ...                    ...                     ...   \n",
       "157512   10,000+                    NaN                     NaN   \n",
       "157513   10,000+                    NaN                     NaN   \n",
       "157514   10,000+                    NaN                     NaN   \n",
       "157515   10,000+                    NaN                     NaN   \n",
       "157516   10,000+                    NaN                     NaN   \n",
       "\n",
       "       Company Staff Count Range Company Staff Count  \\\n",
       "0                    1,001-5,000              3100.0   \n",
       "1                    1,001-5,000              3100.0   \n",
       "2                    1,001-5,000              3100.0   \n",
       "3                    1,001-5,000              3100.0   \n",
       "4                        10,001+               27859   \n",
       "...                          ...                 ...   \n",
       "157512                       NaN                 NaN   \n",
       "157513                       NaN                 NaN   \n",
       "157514                       NaN                 NaN   \n",
       "157515                       NaN                 NaN   \n",
       "157516                       NaN                 NaN   \n",
       "\n",
       "                                     Contact Linkedin URL  \\\n",
       "0                                                     NaN   \n",
       "1                                                     NaN   \n",
       "2                                                     NaN   \n",
       "3                                                     NaN   \n",
       "4                                                     NaN   \n",
       "...                                                   ...   \n",
       "157512  https://www.linkedin.com/in/ACwAAEzMAHkBtTFP5x...   \n",
       "157513  https://www.linkedin.com/in/ACwAAAkrYBwBz1A8pq...   \n",
       "157514  https://www.linkedin.com/in/ACwAAFDSNAAB2xAOsK...   \n",
       "157515  https://www.linkedin.com/in/ACwAAEh30LABoiWGWd...   \n",
       "157516  https://www.linkedin.com/in/ACwAAEsW8P0BkDEmgW...   \n",
       "\n",
       "                                   Contact LI Profile URL  \\\n",
       "0         https://www.linkedin.com/in/max-emrick-21490726   \n",
       "1       https://www.linkedin.com/in/greg-frisbee-83690932   \n",
       "2       https://www.linkedin.com/in/cheryl-mcgrath-327...   \n",
       "3       https://www.linkedin.com/in/joshua-peavler-pe-...   \n",
       "4       https://www.linkedin.com/in/brian-woody-40a694...   \n",
       "...                                                   ...   \n",
       "157512                                                NaN   \n",
       "157513                                                NaN   \n",
       "157514                                                NaN   \n",
       "157515                                                NaN   \n",
       "157516                                                NaN   \n",
       "\n",
       "                                                   source  \\\n",
       "0       ../datasets/latest_dataset/Schneider_Electric_...   \n",
       "1       ../datasets/latest_dataset/Schneider_Electric_...   \n",
       "2       ../datasets/latest_dataset/Schneider_Electric_...   \n",
       "3       ../datasets/latest_dataset/Schneider_Electric_...   \n",
       "4       ../datasets/latest_dataset/Schneider_Electric_...   \n",
       "...                                                   ...   \n",
       "157512  ../datasets/latest_dataset/Schneider_Electric_...   \n",
       "157513  ../datasets/latest_dataset/Schneider_Electric_...   \n",
       "157514  ../datasets/latest_dataset/Schneider_Electric_...   \n",
       "157515  ../datasets/latest_dataset/Schneider_Electric_...   \n",
       "157516  ../datasets/latest_dataset/Schneider_Electric_...   \n",
       "\n",
       "                             Email                derived_mail  \n",
       "0               max.emrick@pse.com          max.emrick@pse.com  \n",
       "1             greg.frisbee@pse.com        greg.frisbee@pse.com  \n",
       "2           cheryl.mcgrath@pse.com      cheryl.mcgrath@pse.com  \n",
       "3           joshua.peavler@pse.com      joshua.peavler@pse.com  \n",
       "4       brian.woody@piedmontng.com  brian.woody@piedmontng.com  \n",
       "...                            ...                         ...  \n",
       "157512              thorton@ti.com              thorton@ti.com  \n",
       "157513               rduhon@ti.com               rduhon@ti.com  \n",
       "157514              ahinson@ti.com              ahinson@ti.com  \n",
       "157515              jjordan@ti.com              jjordan@ti.com  \n",
       "157516               ekeill@ti.com               ekeill@ti.com  \n",
       "\n",
       "[157517 rows x 34 columns]"
      ]
     },
     "execution_count": 360,
     "metadata": {},
     "output_type": "execute_result"
    }
   ],
   "source": [
    "unique_prop_firmo_data"
   ]
  },
  {
   "cell_type": "code",
   "execution_count": 362,
   "id": "6e2864a1-8189-4d53-a492-fc3fe5996e34",
   "metadata": {},
   "outputs": [],
   "source": [
    "unique_prop_firmo_data=unique_prop_firmo_data.merge(total_emails_sent,on='derived_mail',how='left')"
   ]
  },
  {
   "cell_type": "code",
   "execution_count": 363,
   "id": "706e5c10-aba0-4554-b05f-2a7f12df2059",
   "metadata": {},
   "outputs": [],
   "source": [
    "unique_prop_firmo_data=unique_prop_firmo_data.merge(total_emails_opened,on='derived_mail',how='left')"
   ]
  },
  {
   "cell_type": "code",
   "execution_count": 366,
   "id": "f984d983-da7e-40a4-a8f8-23d37583916d",
   "metadata": {},
   "outputs": [],
   "source": [
    "unique_prop_firmo_data=unique_prop_firmo_data.merge(total_emails_clicked,on='derived_mail',how='left')"
   ]
  },
  {
   "cell_type": "code",
   "execution_count": 368,
   "id": "aaf10f89-caf3-4462-bcd6-21b059f4f44b",
   "metadata": {},
   "outputs": [],
   "source": [
    "unique_prop_firmo_data=unique_prop_firmo_data.merge(total_emails_bounced,on='derived_mail',how='left')"
   ]
  },
  {
   "cell_type": "code",
   "execution_count": 370,
   "id": "6fefba00-2d37-4df0-a051-fce1509e7d1e",
   "metadata": {},
   "outputs": [],
   "source": [
    "unique_prop_firmo_data=unique_prop_firmo_data.merge(total_emails_unsubscribed,on='derived_mail',how='left')"
   ]
  },
  {
   "cell_type": "code",
   "execution_count": null,
   "id": "dc0fd71a-ce89-4445-9988-ee07692e376f",
   "metadata": {},
   "outputs": [],
   "source": []
  },
  {
   "cell_type": "code",
   "execution_count": 372,
   "id": "12c9e6f6-8d13-4c97-9b92-0597a27e8f98",
   "metadata": {},
   "outputs": [
    {
     "name": "stdout",
     "output_type": "stream",
     "text": [
      "<class 'pandas.core.frame.DataFrame'>\n",
      "RangeIndex: 157517 entries, 0 to 157516\n",
      "Data columns (total 39 columns):\n",
      " #   Column                     Non-Null Count   Dtype  \n",
      "---  ------                     --------------   -----  \n",
      " 0   Company Name               157130 non-null  object \n",
      " 1   First Name                 157516 non-null  object \n",
      " 2   Middle Name                5889 non-null    object \n",
      " 3   Last Name                  157492 non-null  object \n",
      " 4   Title                      157512 non-null  object \n",
      " 5   Level                      147641 non-null  object \n",
      " 6   Seniority                  2876 non-null    object \n",
      " 7   Department                 147641 non-null  object \n",
      " 8   Email ID                   144938 non-null  object \n",
      " 9   Email 1                    12579 non-null   object \n",
      " 10  Contact_City               134574 non-null  object \n",
      " 11  Contact_State              118863 non-null  object \n",
      " 12  Contact City               11463 non-null   object \n",
      " 13  Contact State              10232 non-null   object \n",
      " 14  Contact Country            2854 non-null    object \n",
      " 15  Country                    144897 non-null  object \n",
      " 16  Website                    157421 non-null  object \n",
      " 17  Company City               151867 non-null  object \n",
      " 18  Company State              141584 non-null  object \n",
      " 19  Company Country            156825 non-null  object \n",
      " 20  Industry                   144922 non-null  object \n",
      " 21  Sub Industry               7109 non-null    object \n",
      " 22  Revenue                    142105 non-null  object \n",
      " 23  Revenue Range              114253 non-null  object \n",
      " 24  EMP Range                  144522 non-null  object \n",
      " 25  Company Annual Revenue     12579 non-null   object \n",
      " 26  Company Industry           12579 non-null   object \n",
      " 27  Company Staff Count Range  12493 non-null   object \n",
      " 28  Company Staff Count        12579 non-null   object \n",
      " 29  Contact Linkedin URL       100490 non-null  object \n",
      " 30  Contact LI Profile URL     12420 non-null   object \n",
      " 31  source                     157517 non-null  object \n",
      " 32  Email                      157517 non-null  object \n",
      " 33  derived_mail               157517 non-null  object \n",
      " 34  total_emails_sent          156613 non-null  float64\n",
      " 35  total_emails_opened        156613 non-null  float64\n",
      " 36  total_emails_clicked       156613 non-null  float64\n",
      " 37  total_emails_bounced       156613 non-null  float64\n",
      " 38  total_emails_unsubscribed  156613 non-null  float64\n",
      "dtypes: float64(5), object(34)\n",
      "memory usage: 46.9+ MB\n"
     ]
    }
   ],
   "source": [
    "unique_prop_firmo_data.info()"
   ]
  },
  {
   "cell_type": "code",
   "execution_count": null,
   "id": "7a0f96c1-4fc8-4929-9ca9-ddb250582c98",
   "metadata": {},
   "outputs": [],
   "source": []
  },
  {
   "cell_type": "markdown",
   "id": "db17e1b1-2c99-4824-acea-ca84153c71e4",
   "metadata": {},
   "source": [
    "## Average Time Between Emails"
   ]
  },
  {
   "cell_type": "code",
   "execution_count": 374,
   "id": "3e1a3f84-33e8-4cee-a5ed-77287a6141af",
   "metadata": {},
   "outputs": [],
   "source": [
    "email_engagements['status_time_utc'] = pd.to_datetime(email_engagements['status_time_utc'], utc=True)"
   ]
  },
  {
   "cell_type": "code",
   "execution_count": 376,
   "id": "cfce477d-63e3-4aee-bc51-8063e51c9847",
   "metadata": {},
   "outputs": [],
   "source": [
    "email_engagements.sort_values(by=['derived_mail','status_time_utc'],inplace=True)"
   ]
  },
  {
   "cell_type": "code",
   "execution_count": null,
   "id": "33200ebb-0efc-43b4-82ba-8c34c3c17244",
   "metadata": {},
   "outputs": [],
   "source": []
  },
  {
   "cell_type": "code",
   "execution_count": 378,
   "id": "a679c73f-cbb4-475b-9e21-dd16666eadae",
   "metadata": {},
   "outputs": [
    {
     "data": {
      "text/plain": [
       "status\n",
       "EMAIL_NOT_SENT    1332652\n",
       "BOUNCED            145053\n",
       "NaN                 56225\n",
       "SCHEDULED           29810\n",
       "ERROR                2736\n",
       "-                       2\n",
       "Name: count, dtype: int64"
      ]
     },
     "execution_count": 378,
     "metadata": {},
     "output_type": "execute_result"
    }
   ],
   "source": [
    "email_engagements[email_engagements['status_time_utc'].isnull()]['status'].value_counts(dropna=False)"
   ]
  },
  {
   "cell_type": "code",
   "execution_count": null,
   "id": "d6493191-2be6-4354-adcd-49ce4e7254a1",
   "metadata": {},
   "outputs": [],
   "source": []
  },
  {
   "cell_type": "markdown",
   "id": "6ca0c823-ae4e-4233-9531-45c118ecb954",
   "metadata": {},
   "source": [
    "## Below Code For Fill status_time_utc nan valus by date column where status= EMAIL_SENT and UNSUBSCRIBED"
   ]
  },
  {
   "cell_type": "code",
   "execution_count": null,
   "id": "6dd4ba85-66c3-48a1-be32-25186bbc4a3b",
   "metadata": {},
   "outputs": [],
   "source": []
  },
  {
   "cell_type": "code",
   "execution_count": 432,
   "id": "acd319d2-2bcf-4934-b64d-5d5afae447e8",
   "metadata": {},
   "outputs": [],
   "source": [
    "mask = (email_engagements['status'] == 'EMAIL_SENT') & (email_engagements['status_time_utc'].isna())\n",
    "\n",
    "# Fill missing 'status_time' with 'date' for those rows\n",
    "email_engagements.loc[mask, 'status_time_utc'] = email_engagements.loc[mask, 'date']"
   ]
  },
  {
   "cell_type": "code",
   "execution_count": null,
   "id": "b7dd742d-d405-484d-902a-537dcc9212c3",
   "metadata": {},
   "outputs": [],
   "source": []
  },
  {
   "cell_type": "code",
   "execution_count": 436,
   "id": "ad2ffeba-e697-4260-8877-4e524d4b4952",
   "metadata": {},
   "outputs": [],
   "source": [
    "mask = (email_engagements['status'] == 'UNSUBSCRIBED') & (email_engagements['status_time_utc'].isna())\n",
    "\n",
    "# Fill missing 'status_time' with 'date' for those rows\n",
    "email_engagements.loc[mask, 'status_time_utc'] = email_engagements.loc[mask, 'date']"
   ]
  },
  {
   "cell_type": "code",
   "execution_count": null,
   "id": "d3ca1c67-a045-4bbc-a0f9-1e1179c44d4b",
   "metadata": {},
   "outputs": [],
   "source": []
  },
  {
   "cell_type": "code",
   "execution_count": 438,
   "id": "9cb00f53-d5d8-4e7b-b3a4-7595655ec128",
   "metadata": {},
   "outputs": [],
   "source": [
    "email_engagements['status_time_utc'] = pd.to_datetime(email_engagements['status_time_utc'], utc=True)"
   ]
  },
  {
   "cell_type": "code",
   "execution_count": 382,
   "id": "d58c8572-2d90-4af2-9537-d322f904cec2",
   "metadata": {},
   "outputs": [],
   "source": [
    "email_engagements.sort_values(by=['derived_mail','status_time_utc'],inplace=True)"
   ]
  },
  {
   "cell_type": "code",
   "execution_count": null,
   "id": "cbad10d5-ff87-4fa6-88c4-fb56eed2865f",
   "metadata": {},
   "outputs": [],
   "source": []
  },
  {
   "cell_type": "code",
   "execution_count": null,
   "id": "42b6622c-713d-47f9-b3fb-ee17f4c7b0ea",
   "metadata": {},
   "outputs": [],
   "source": []
  },
  {
   "cell_type": "code",
   "execution_count": 386,
   "id": "6046a7f6-b499-4686-a89c-5630bfb6c166",
   "metadata": {},
   "outputs": [],
   "source": [
    "sent_emails=email_engagements[email_engagements['is_email_sent']==1]"
   ]
  },
  {
   "cell_type": "code",
   "execution_count": 388,
   "id": "eeece556-7a11-403b-bca9-e0acbe06af7e",
   "metadata": {},
   "outputs": [
    {
     "name": "stderr",
     "output_type": "stream",
     "text": [
      "C:\\Users\\Admin\\AppData\\Local\\Temp\\ipykernel_26432\\1506379369.py:1: SettingWithCopyWarning: \n",
      "A value is trying to be set on a copy of a slice from a DataFrame.\n",
      "Try using .loc[row_indexer,col_indexer] = value instead\n",
      "\n",
      "See the caveats in the documentation: https://pandas.pydata.org/pandas-docs/stable/user_guide/indexing.html#returning-a-view-versus-a-copy\n",
      "  sent_emails['time_gap']=sent_emails.groupby('derived_mail')['status_time_utc'].diff().dt.days\n"
     ]
    }
   ],
   "source": [
    "sent_emails['time_gap']=sent_emails.groupby('derived_mail')['status_time_utc'].diff().dt.days"
   ]
  },
  {
   "cell_type": "code",
   "execution_count": 390,
   "id": "e4226886-0dfb-4262-8cf8-818326a923d2",
   "metadata": {},
   "outputs": [],
   "source": [
    "avg_time_between_emails=sent_emails.groupby('derived_mail')['time_gap'].mean().reset_index().rename(columns={'time_gap': 'avg_time_between_emails'})"
   ]
  },
  {
   "cell_type": "code",
   "execution_count": 392,
   "id": "a270ab7e-2450-48a2-9d0c-50c72107b4ef",
   "metadata": {},
   "outputs": [
    {
     "data": {
      "text/html": [
       "<div>\n",
       "<style scoped>\n",
       "    .dataframe tbody tr th:only-of-type {\n",
       "        vertical-align: middle;\n",
       "    }\n",
       "\n",
       "    .dataframe tbody tr th {\n",
       "        vertical-align: top;\n",
       "    }\n",
       "\n",
       "    .dataframe thead th {\n",
       "        text-align: right;\n",
       "    }\n",
       "</style>\n",
       "<table border=\"1\" class=\"dataframe\">\n",
       "  <thead>\n",
       "    <tr style=\"text-align: right;\">\n",
       "      <th></th>\n",
       "      <th>derived_mail</th>\n",
       "      <th>avg_time_between_emails</th>\n",
       "    </tr>\n",
       "  </thead>\n",
       "  <tbody>\n",
       "    <tr>\n",
       "      <th>0</th>\n",
       "      <td>9fake@thomasfellows.com</td>\n",
       "      <td>0.250000</td>\n",
       "    </tr>\n",
       "    <tr>\n",
       "      <th>1</th>\n",
       "      <td>Adaku.Ude@sfdph.org</td>\n",
       "      <td>1.083333</td>\n",
       "    </tr>\n",
       "    <tr>\n",
       "      <th>2</th>\n",
       "      <td>Ahess@amgen.com</td>\n",
       "      <td>NaN</td>\n",
       "    </tr>\n",
       "    <tr>\n",
       "      <th>3</th>\n",
       "      <td>Carlos.Perez@thermofisher.com</td>\n",
       "      <td>1.000000</td>\n",
       "    </tr>\n",
       "    <tr>\n",
       "      <th>4</th>\n",
       "      <td>CarlosOliverMontejano.Ramirez@magna.com</td>\n",
       "      <td>0.655172</td>\n",
       "    </tr>\n",
       "    <tr>\n",
       "      <th>...</th>\n",
       "      <td>...</td>\n",
       "      <td>...</td>\n",
       "    </tr>\n",
       "    <tr>\n",
       "      <th>145628</th>\n",
       "      <td>Ø¹Ø¨Ø¯Ø§Ù„Ø±Ø­Ù…Ù†.Ø§Ù„Ø¯Ø±Ø¯ÙŠØ±ÙŠ@aecom.com</td>\n",
       "      <td>1.133333</td>\n",
       "    </tr>\n",
       "    <tr>\n",
       "      <th>145629</th>\n",
       "      <td>Ù…Ø­Ù…Ø¯.Ø­Ø³ÙŠÙ†@aecom.com</td>\n",
       "      <td>3.071429</td>\n",
       "    </tr>\n",
       "    <tr>\n",
       "      <th>145630</th>\n",
       "      <td>â€žâ€žm.herigstad@abbvie.com</td>\n",
       "      <td>1.285714</td>\n",
       "    </tr>\n",
       "    <tr>\n",
       "      <th>145631</th>\n",
       "      <td>ä½³æ›¹@its.jnj.com</td>\n",
       "      <td>0.500000</td>\n",
       "    </tr>\n",
       "    <tr>\n",
       "      <th>145632</th>\n",
       "      <td>è”šæ±ÿ.æ–‡@gm.com</td>\n",
       "      <td>2.565217</td>\n",
       "    </tr>\n",
       "  </tbody>\n",
       "</table>\n",
       "<p>145633 rows × 2 columns</p>\n",
       "</div>"
      ],
      "text/plain": [
       "                                         derived_mail  avg_time_between_emails\n",
       "0                             9fake@thomasfellows.com                 0.250000\n",
       "1                                 Adaku.Ude@sfdph.org                 1.083333\n",
       "2                                     Ahess@amgen.com                      NaN\n",
       "3                       Carlos.Perez@thermofisher.com                 1.000000\n",
       "4             CarlosOliverMontejano.Ramirez@magna.com                 0.655172\n",
       "...                                               ...                      ...\n",
       "145628  Ø¹Ø¨Ø¯Ø§Ù„Ø±Ø­Ù…Ù†.Ø§Ù„Ø¯Ø±Ø¯ÙŠØ±ÙŠ@aecom.com                 1.133333\n",
       "145629                    Ù…Ø­Ù…Ø¯.Ø­Ø³ÙŠÙ†@aecom.com                 3.071429\n",
       "145630                   â€žâ€žm.herigstad@abbvie.com                 1.285714\n",
       "145631                             ä½³æ›¹@its.jnj.com                 0.500000\n",
       "145632                              è”šæ±ÿ.æ–‡@gm.com                 2.565217\n",
       "\n",
       "[145633 rows x 2 columns]"
      ]
     },
     "execution_count": 392,
     "metadata": {},
     "output_type": "execute_result"
    }
   ],
   "source": [
    "avg_time_between_emails"
   ]
  },
  {
   "cell_type": "code",
   "execution_count": 394,
   "id": "d483bee7-1ee2-4a8d-8d24-28f2aabd4060",
   "metadata": {},
   "outputs": [],
   "source": [
    "unique_prop_firmo_data=unique_prop_firmo_data.merge(avg_time_between_emails,on='derived_mail',how='left')"
   ]
  },
  {
   "cell_type": "code",
   "execution_count": null,
   "id": "cae9acd4-f2a9-405d-8396-68016d9ecda1",
   "metadata": {},
   "outputs": [],
   "source": []
  },
  {
   "cell_type": "markdown",
   "id": "2c5af557-63f2-410f-8905-a321ecf26ee0",
   "metadata": {},
   "source": [
    "## Average Time Between Email Opened"
   ]
  },
  {
   "cell_type": "code",
   "execution_count": null,
   "id": "e02c725b-6418-4323-be2a-b591bc98058a",
   "metadata": {},
   "outputs": [],
   "source": []
  },
  {
   "cell_type": "code",
   "execution_count": 399,
   "id": "172b3ac3-b6dd-4f11-b839-a28d8fd617c8",
   "metadata": {},
   "outputs": [],
   "source": [
    "opened_emails=email_engagements[email_engagements['is_email_opened']==1]"
   ]
  },
  {
   "cell_type": "code",
   "execution_count": 401,
   "id": "8775d28a-e09e-43f8-8657-58c92ce58ad5",
   "metadata": {},
   "outputs": [
    {
     "data": {
      "text/plain": [
       "(80650, 24)"
      ]
     },
     "execution_count": 401,
     "metadata": {},
     "output_type": "execute_result"
    }
   ],
   "source": [
    "opened_emails.shape"
   ]
  },
  {
   "cell_type": "code",
   "execution_count": 403,
   "id": "249218e0-6b01-47a4-a68b-08bb734082cb",
   "metadata": {},
   "outputs": [
    {
     "name": "stderr",
     "output_type": "stream",
     "text": [
      "C:\\Users\\Admin\\AppData\\Local\\Temp\\ipykernel_26432\\3877662092.py:1: SettingWithCopyWarning: \n",
      "A value is trying to be set on a copy of a slice from a DataFrame.\n",
      "Try using .loc[row_indexer,col_indexer] = value instead\n",
      "\n",
      "See the caveats in the documentation: https://pandas.pydata.org/pandas-docs/stable/user_guide/indexing.html#returning-a-view-versus-a-copy\n",
      "  opened_emails['time_gap']=opened_emails.groupby('derived_mail')['status_time_utc'].diff().dt.days\n"
     ]
    }
   ],
   "source": [
    "opened_emails['time_gap']=opened_emails.groupby('derived_mail')['status_time_utc'].diff().dt.days"
   ]
  },
  {
   "cell_type": "code",
   "execution_count": 405,
   "id": "60e4d4b2-1f63-48d2-984a-4f32849d65ad",
   "metadata": {},
   "outputs": [],
   "source": [
    "avg_time_between_emails_opened=opened_emails.groupby('derived_mail')['time_gap'].mean().reset_index().rename(columns={'time_gap': 'avg_time_between_emails_opened'})"
   ]
  },
  {
   "cell_type": "code",
   "execution_count": 407,
   "id": "b4ea2b21-50d9-4598-bd80-bf9a439975e3",
   "metadata": {},
   "outputs": [
    {
     "data": {
      "text/html": [
       "<div>\n",
       "<style scoped>\n",
       "    .dataframe tbody tr th:only-of-type {\n",
       "        vertical-align: middle;\n",
       "    }\n",
       "\n",
       "    .dataframe tbody tr th {\n",
       "        vertical-align: top;\n",
       "    }\n",
       "\n",
       "    .dataframe thead th {\n",
       "        text-align: right;\n",
       "    }\n",
       "</style>\n",
       "<table border=\"1\" class=\"dataframe\">\n",
       "  <thead>\n",
       "    <tr style=\"text-align: right;\">\n",
       "      <th></th>\n",
       "      <th>derived_mail</th>\n",
       "      <th>avg_time_between_emails_opened</th>\n",
       "    </tr>\n",
       "  </thead>\n",
       "  <tbody>\n",
       "    <tr>\n",
       "      <th>0</th>\n",
       "      <td>a-holley@ti.com</td>\n",
       "      <td>NaN</td>\n",
       "    </tr>\n",
       "    <tr>\n",
       "      <th>1</th>\n",
       "      <td>a-smith3@ti.com</td>\n",
       "      <td>NaN</td>\n",
       "    </tr>\n",
       "    <tr>\n",
       "      <th>2</th>\n",
       "      <td>a.akingboju@apple.com</td>\n",
       "      <td>0.809524</td>\n",
       "    </tr>\n",
       "    <tr>\n",
       "      <th>3</th>\n",
       "      <td>a.alexander@samsung.com</td>\n",
       "      <td>NaN</td>\n",
       "    </tr>\n",
       "    <tr>\n",
       "      <th>4</th>\n",
       "      <td>a.calzola@samsung.com</td>\n",
       "      <td>26.500000</td>\n",
       "    </tr>\n",
       "    <tr>\n",
       "      <th>...</th>\n",
       "      <td>...</td>\n",
       "      <td>...</td>\n",
       "    </tr>\n",
       "    <tr>\n",
       "      <th>17270</th>\n",
       "      <td>zstoller@coca-cola.com</td>\n",
       "      <td>0.333333</td>\n",
       "    </tr>\n",
       "    <tr>\n",
       "      <th>17271</th>\n",
       "      <td>zulfiqar.haider@cityofchicago.org</td>\n",
       "      <td>NaN</td>\n",
       "    </tr>\n",
       "    <tr>\n",
       "      <th>17272</th>\n",
       "      <td>zurielsuarez@dswinc.com</td>\n",
       "      <td>0.200000</td>\n",
       "    </tr>\n",
       "    <tr>\n",
       "      <th>17273</th>\n",
       "      <td>zwadie.castro@jacobs.com</td>\n",
       "      <td>7.000000</td>\n",
       "    </tr>\n",
       "    <tr>\n",
       "      <th>17274</th>\n",
       "      <td>è”šæ±ÿ.æ–‡@gm.com</td>\n",
       "      <td>NaN</td>\n",
       "    </tr>\n",
       "  </tbody>\n",
       "</table>\n",
       "<p>17275 rows × 2 columns</p>\n",
       "</div>"
      ],
      "text/plain": [
       "                            derived_mail  avg_time_between_emails_opened\n",
       "0                        a-holley@ti.com                             NaN\n",
       "1                        a-smith3@ti.com                             NaN\n",
       "2                  a.akingboju@apple.com                        0.809524\n",
       "3                a.alexander@samsung.com                             NaN\n",
       "4                  a.calzola@samsung.com                       26.500000\n",
       "...                                  ...                             ...\n",
       "17270             zstoller@coca-cola.com                        0.333333\n",
       "17271  zulfiqar.haider@cityofchicago.org                             NaN\n",
       "17272            zurielsuarez@dswinc.com                        0.200000\n",
       "17273           zwadie.castro@jacobs.com                        7.000000\n",
       "17274                  è”šæ±ÿ.æ–‡@gm.com                             NaN\n",
       "\n",
       "[17275 rows x 2 columns]"
      ]
     },
     "execution_count": 407,
     "metadata": {},
     "output_type": "execute_result"
    }
   ],
   "source": [
    "avg_time_between_emails_opened"
   ]
  },
  {
   "cell_type": "code",
   "execution_count": 414,
   "id": "c90d5da0-bc99-4f36-8164-2adc9f2894e4",
   "metadata": {},
   "outputs": [],
   "source": [
    "unique_prop_firmo_data=unique_prop_firmo_data.merge(avg_time_between_emails_opened,on='derived_mail',how='left')"
   ]
  },
  {
   "cell_type": "code",
   "execution_count": null,
   "id": "1670ac4a-52cc-4d90-b5e5-9bfd605e0477",
   "metadata": {},
   "outputs": [],
   "source": []
  },
  {
   "cell_type": "code",
   "execution_count": 417,
   "id": "0123a674-25b6-4943-a5e3-5675d953fbbf",
   "metadata": {},
   "outputs": [
    {
     "data": {
      "text/plain": [
       "status\n",
       "EMAIL_SENT       34\n",
       "EMAIL_CLICKED     1\n",
       "Name: count, dtype: int64"
      ]
     },
     "execution_count": 417,
     "metadata": {},
     "output_type": "execute_result"
    }
   ],
   "source": [
    "email_engagements[email_engagements['derived_mail']=='a-holley@ti.com']['status'].value_counts()"
   ]
  },
  {
   "cell_type": "code",
   "execution_count": 419,
   "id": "89bd43d6-0815-4b50-aa2c-023f23c8d4ee",
   "metadata": {},
   "outputs": [
    {
     "data": {
      "text/plain": [
       "is_email_opened\n",
       "0    34\n",
       "1     1\n",
       "Name: count, dtype: int64"
      ]
     },
     "execution_count": 419,
     "metadata": {},
     "output_type": "execute_result"
    }
   ],
   "source": [
    "email_engagements[email_engagements['derived_mail']=='a-holley@ti.com']['is_email_opened'].value_counts()"
   ]
  },
  {
   "cell_type": "code",
   "execution_count": 477,
   "id": "06bedec3-c4f4-46ed-9354-38bd980020db",
   "metadata": {},
   "outputs": [
    {
     "data": {
      "text/plain": [
       "source\n",
       "../datasets/Schneider_Electric_Data/Schneider_Electric_Email_Data/SE_Leadgen_Tracker_File/July 2024/Schneider_SemiConductor_Generic_Del2&5_16July_2024-16_July_2024.xlsx : <Worksheet \"kelly.jones@adeptpanels.com\">    1\n",
       "../datasets/Schneider_Electric_Data/Schneider_Electric_Email_Data/SE_Leadgen_Tracker_File/July 2024/Schneider_SemiConductor_Generic_Del2&5_16July_2024-17_July_2024.xlsx : <Worksheet \"kelly.jones@adeptpanels.com\">    1\n",
       "../datasets/Schneider_Electric_Data/Schneider_Electric_Email_Data/SE_Leadgen_Tracker_File/July 2024/Schneider_SemiConductor_Generic_Del2&5_16July_2024-18_July_2024.xlsx : <Worksheet \"kelly.jones@adeptpanels.com\">    1\n",
       "../datasets/Schneider_Electric_Data/Schneider_Electric_Email_Data/SE_Leadgen_Tracker_File/July 2024/Schneider_SemiConductor_Generic_Del2&5_16July_2024-19_July_2024.xlsx : <Worksheet \"kelly.jones@adeptpanels.com\">    1\n",
       "../datasets/Schneider_Electric_Data/Schneider_Electric_Email_Data/SE_Leadgen_Tracker_File/July 2024/Schneider_SemiConductor_Generic_Del2&5_16July_2024-20_July_2024.xlsx : <Worksheet \"kelly.jones@adeptpanels.com\">    1\n",
       "../datasets/Schneider_Electric_Data/Schneider_Electric_Email_Data/SE_Leadgen_Tracker_File/July 2024/Schneider_SemiConductor_Generic_Del2&5_16July_2024-22_July_2024.xlsx : <Worksheet \"kelly.jones@adeptpanels.com\">    1\n",
       "Name: count, dtype: int64"
      ]
     },
     "execution_count": 477,
     "metadata": {},
     "output_type": "execute_result"
    }
   ],
   "source": [
    "email_engagements[(email_engagements['derived_mail']=='a-holley@ti.com') & (email_engagements['status']=='EMAIL_CLICKED')]['source'].value_counts()"
   ]
  },
  {
   "cell_type": "code",
   "execution_count": 479,
   "id": "4d89c566-0a2c-4714-adbf-c5956f31083f",
   "metadata": {},
   "outputs": [
    {
     "data": {
      "text/html": [
       "<div>\n",
       "<style scoped>\n",
       "    .dataframe tbody tr th:only-of-type {\n",
       "        vertical-align: middle;\n",
       "    }\n",
       "\n",
       "    .dataframe tbody tr th {\n",
       "        vertical-align: top;\n",
       "    }\n",
       "\n",
       "    .dataframe thead th {\n",
       "        text-align: right;\n",
       "    }\n",
       "</style>\n",
       "<table border=\"1\" class=\"dataframe\">\n",
       "  <thead>\n",
       "    <tr style=\"text-align: right;\">\n",
       "      <th></th>\n",
       "      <th>FirstName</th>\n",
       "      <th>CompanyName</th>\n",
       "      <th>mail</th>\n",
       "      <th>Email</th>\n",
       "      <th>CTA</th>\n",
       "      <th>Domain</th>\n",
       "      <th>ID</th>\n",
       "      <th>source</th>\n",
       "      <th>date</th>\n",
       "      <th>raw_status</th>\n",
       "      <th>status</th>\n",
       "      <th>status_time</th>\n",
       "      <th>reason</th>\n",
       "      <th>status_time_utc</th>\n",
       "      <th>derived_mail</th>\n",
       "      <th>derived_email</th>\n",
       "      <th>filled_survey_form</th>\n",
       "      <th>is_email_sent</th>\n",
       "      <th>is_email_clicked</th>\n",
       "      <th>is_email_opened</th>\n",
       "      <th>is_responded</th>\n",
       "      <th>is_bounced</th>\n",
       "      <th>is_unsubscribed</th>\n",
       "      <th>is_mail_not_sent</th>\n",
       "      <th>is_scheduled</th>\n",
       "    </tr>\n",
       "  </thead>\n",
       "  <tbody>\n",
       "    <tr>\n",
       "      <th>19778155</th>\n",
       "      <td>Ashley</td>\n",
       "      <td>Texas Instruments</td>\n",
       "      <td>a-holley@ti.com</td>\n",
       "      <td>a-holley@ti.com # YAMMID-1721660084499/190daf0...</td>\n",
       "      <td>se.adeptpanels.com/semiconductor/?utm_source=d...</td>\n",
       "      <td>Kelly Jones</td>\n",
       "      <td>kelly.jones@adeptpanels.com</td>\n",
       "      <td>../datasets/Schneider_Electric_Data/Schneider_...</td>\n",
       "      <td>2024-07-20 00:00:00</td>\n",
       "      <td>EMAIL_CLICKED # Clicked: 07/21/2024 - 03:51 PM...</td>\n",
       "      <td>EMAIL_CLICKED</td>\n",
       "      <td>07/21/2024 - 03:51 PM IST</td>\n",
       "      <td>NaN</td>\n",
       "      <td>2024-07-21 10:21:00+00:00</td>\n",
       "      <td>a-holley@ti.com</td>\n",
       "      <td>a-holley@ti.com</td>\n",
       "      <td>0.0</td>\n",
       "      <td>1</td>\n",
       "      <td>1</td>\n",
       "      <td>1</td>\n",
       "      <td>0</td>\n",
       "      <td>0</td>\n",
       "      <td>0</td>\n",
       "      <td>0</td>\n",
       "      <td>0</td>\n",
       "    </tr>\n",
       "    <tr>\n",
       "      <th>19828441</th>\n",
       "      <td>Ashley</td>\n",
       "      <td>Texas Instruments</td>\n",
       "      <td>a-holley@ti.com</td>\n",
       "      <td>a-holley@ti.com # YAMMID-1721660084499/190daf0...</td>\n",
       "      <td>se.adeptpanels.com/semiconductor/?utm_source=d...</td>\n",
       "      <td>Kelly Jones</td>\n",
       "      <td>kelly.jones@adeptpanels.com</td>\n",
       "      <td>../datasets/Schneider_Electric_Data/Schneider_...</td>\n",
       "      <td>2024-07-20 00:00:00</td>\n",
       "      <td>EMAIL_CLICKED # Clicked: 07/21/2024 - 03:51 PM...</td>\n",
       "      <td>EMAIL_CLICKED</td>\n",
       "      <td>07/21/2024 - 03:51 PM IST</td>\n",
       "      <td>NaN</td>\n",
       "      <td>2024-07-21 10:21:00+00:00</td>\n",
       "      <td>a-holley@ti.com</td>\n",
       "      <td>a-holley@ti.com</td>\n",
       "      <td>0.0</td>\n",
       "      <td>1</td>\n",
       "      <td>1</td>\n",
       "      <td>1</td>\n",
       "      <td>0</td>\n",
       "      <td>0</td>\n",
       "      <td>0</td>\n",
       "      <td>0</td>\n",
       "      <td>0</td>\n",
       "    </tr>\n",
       "    <tr>\n",
       "      <th>19878727</th>\n",
       "      <td>Ashley</td>\n",
       "      <td>Texas Instruments</td>\n",
       "      <td>a-holley@ti.com</td>\n",
       "      <td>a-holley@ti.com # YAMMID-1721660084499/190daf0...</td>\n",
       "      <td>se.adeptpanels.com/semiconductor/?utm_source=d...</td>\n",
       "      <td>Kelly Jones</td>\n",
       "      <td>kelly.jones@adeptpanels.com</td>\n",
       "      <td>../datasets/Schneider_Electric_Data/Schneider_...</td>\n",
       "      <td>2024-07-20 00:00:00</td>\n",
       "      <td>EMAIL_CLICKED # Clicked: 07/21/2024 - 03:51 PM...</td>\n",
       "      <td>EMAIL_CLICKED</td>\n",
       "      <td>07/21/2024 - 03:51 PM IST</td>\n",
       "      <td>NaN</td>\n",
       "      <td>2024-07-21 10:21:00+00:00</td>\n",
       "      <td>a-holley@ti.com</td>\n",
       "      <td>a-holley@ti.com</td>\n",
       "      <td>0.0</td>\n",
       "      <td>1</td>\n",
       "      <td>1</td>\n",
       "      <td>1</td>\n",
       "      <td>0</td>\n",
       "      <td>0</td>\n",
       "      <td>0</td>\n",
       "      <td>0</td>\n",
       "      <td>0</td>\n",
       "    </tr>\n",
       "    <tr>\n",
       "      <th>19929013</th>\n",
       "      <td>Ashley</td>\n",
       "      <td>Texas Instruments</td>\n",
       "      <td>a-holley@ti.com</td>\n",
       "      <td>a-holley@ti.com # YAMMID-1721660084499/190daf0...</td>\n",
       "      <td>se.adeptpanels.com/semiconductor/?utm_source=d...</td>\n",
       "      <td>Kelly Jones</td>\n",
       "      <td>kelly.jones@adeptpanels.com</td>\n",
       "      <td>../datasets/Schneider_Electric_Data/Schneider_...</td>\n",
       "      <td>2024-07-20 00:00:00</td>\n",
       "      <td>EMAIL_CLICKED # Clicked: 07/21/2024 - 03:51 PM...</td>\n",
       "      <td>EMAIL_CLICKED</td>\n",
       "      <td>07/21/2024 - 03:51 PM IST</td>\n",
       "      <td>NaN</td>\n",
       "      <td>2024-07-21 10:21:00+00:00</td>\n",
       "      <td>a-holley@ti.com</td>\n",
       "      <td>a-holley@ti.com</td>\n",
       "      <td>0.0</td>\n",
       "      <td>1</td>\n",
       "      <td>1</td>\n",
       "      <td>1</td>\n",
       "      <td>0</td>\n",
       "      <td>0</td>\n",
       "      <td>0</td>\n",
       "      <td>0</td>\n",
       "      <td>0</td>\n",
       "    </tr>\n",
       "    <tr>\n",
       "      <th>19979299</th>\n",
       "      <td>Ashley</td>\n",
       "      <td>Texas Instruments</td>\n",
       "      <td>a-holley@ti.com</td>\n",
       "      <td>a-holley@ti.com # YAMMID-1721660084499/190daf0...</td>\n",
       "      <td>se.adeptpanels.com/semiconductor/?utm_source=d...</td>\n",
       "      <td>Kelly Jones</td>\n",
       "      <td>kelly.jones@adeptpanels.com</td>\n",
       "      <td>../datasets/Schneider_Electric_Data/Schneider_...</td>\n",
       "      <td>2024-07-20 00:00:00</td>\n",
       "      <td>EMAIL_CLICKED # Clicked: 07/21/2024 - 03:51 PM...</td>\n",
       "      <td>EMAIL_CLICKED</td>\n",
       "      <td>07/21/2024 - 03:51 PM IST</td>\n",
       "      <td>NaN</td>\n",
       "      <td>2024-07-21 10:21:00+00:00</td>\n",
       "      <td>a-holley@ti.com</td>\n",
       "      <td>a-holley@ti.com</td>\n",
       "      <td>0.0</td>\n",
       "      <td>1</td>\n",
       "      <td>1</td>\n",
       "      <td>1</td>\n",
       "      <td>0</td>\n",
       "      <td>0</td>\n",
       "      <td>0</td>\n",
       "      <td>0</td>\n",
       "      <td>0</td>\n",
       "    </tr>\n",
       "    <tr>\n",
       "      <th>20020987</th>\n",
       "      <td>Ashley</td>\n",
       "      <td>Texas Instruments</td>\n",
       "      <td>a-holley@ti.com</td>\n",
       "      <td>a-holley@ti.com # YAMMID-1721660084499/190daf0...</td>\n",
       "      <td>se.adeptpanels.com/semiconductor/?utm_source=d...</td>\n",
       "      <td>Kelly Jones</td>\n",
       "      <td>kelly.jones@adeptpanels.com</td>\n",
       "      <td>../datasets/Schneider_Electric_Data/Schneider_...</td>\n",
       "      <td>2024-07-20 00:00:00</td>\n",
       "      <td>EMAIL_CLICKED # Clicked: 07/21/2024 - 03:51 PM...</td>\n",
       "      <td>EMAIL_CLICKED</td>\n",
       "      <td>07/21/2024 - 03:51 PM IST</td>\n",
       "      <td>NaN</td>\n",
       "      <td>2024-07-21 10:21:00+00:00</td>\n",
       "      <td>a-holley@ti.com</td>\n",
       "      <td>a-holley@ti.com</td>\n",
       "      <td>0.0</td>\n",
       "      <td>1</td>\n",
       "      <td>1</td>\n",
       "      <td>1</td>\n",
       "      <td>0</td>\n",
       "      <td>0</td>\n",
       "      <td>0</td>\n",
       "      <td>0</td>\n",
       "      <td>0</td>\n",
       "    </tr>\n",
       "  </tbody>\n",
       "</table>\n",
       "</div>"
      ],
      "text/plain": [
       "         FirstName        CompanyName             mail  \\\n",
       "19778155    Ashley  Texas Instruments  a-holley@ti.com   \n",
       "19828441    Ashley  Texas Instruments  a-holley@ti.com   \n",
       "19878727    Ashley  Texas Instruments  a-holley@ti.com   \n",
       "19929013    Ashley  Texas Instruments  a-holley@ti.com   \n",
       "19979299    Ashley  Texas Instruments  a-holley@ti.com   \n",
       "20020987    Ashley  Texas Instruments  a-holley@ti.com   \n",
       "\n",
       "                                                      Email  \\\n",
       "19778155  a-holley@ti.com # YAMMID-1721660084499/190daf0...   \n",
       "19828441  a-holley@ti.com # YAMMID-1721660084499/190daf0...   \n",
       "19878727  a-holley@ti.com # YAMMID-1721660084499/190daf0...   \n",
       "19929013  a-holley@ti.com # YAMMID-1721660084499/190daf0...   \n",
       "19979299  a-holley@ti.com # YAMMID-1721660084499/190daf0...   \n",
       "20020987  a-holley@ti.com # YAMMID-1721660084499/190daf0...   \n",
       "\n",
       "                                                        CTA        Domain  \\\n",
       "19778155  se.adeptpanels.com/semiconductor/?utm_source=d...  Kelly Jones    \n",
       "19828441  se.adeptpanels.com/semiconductor/?utm_source=d...  Kelly Jones    \n",
       "19878727  se.adeptpanels.com/semiconductor/?utm_source=d...  Kelly Jones    \n",
       "19929013  se.adeptpanels.com/semiconductor/?utm_source=d...  Kelly Jones    \n",
       "19979299  se.adeptpanels.com/semiconductor/?utm_source=d...  Kelly Jones    \n",
       "20020987  se.adeptpanels.com/semiconductor/?utm_source=d...  Kelly Jones    \n",
       "\n",
       "                                   ID  \\\n",
       "19778155  kelly.jones@adeptpanels.com   \n",
       "19828441  kelly.jones@adeptpanels.com   \n",
       "19878727  kelly.jones@adeptpanels.com   \n",
       "19929013  kelly.jones@adeptpanels.com   \n",
       "19979299  kelly.jones@adeptpanels.com   \n",
       "20020987  kelly.jones@adeptpanels.com   \n",
       "\n",
       "                                                     source  \\\n",
       "19778155  ../datasets/Schneider_Electric_Data/Schneider_...   \n",
       "19828441  ../datasets/Schneider_Electric_Data/Schneider_...   \n",
       "19878727  ../datasets/Schneider_Electric_Data/Schneider_...   \n",
       "19929013  ../datasets/Schneider_Electric_Data/Schneider_...   \n",
       "19979299  ../datasets/Schneider_Electric_Data/Schneider_...   \n",
       "20020987  ../datasets/Schneider_Electric_Data/Schneider_...   \n",
       "\n",
       "                         date  \\\n",
       "19778155  2024-07-20 00:00:00   \n",
       "19828441  2024-07-20 00:00:00   \n",
       "19878727  2024-07-20 00:00:00   \n",
       "19929013  2024-07-20 00:00:00   \n",
       "19979299  2024-07-20 00:00:00   \n",
       "20020987  2024-07-20 00:00:00   \n",
       "\n",
       "                                                 raw_status         status  \\\n",
       "19778155  EMAIL_CLICKED # Clicked: 07/21/2024 - 03:51 PM...  EMAIL_CLICKED   \n",
       "19828441  EMAIL_CLICKED # Clicked: 07/21/2024 - 03:51 PM...  EMAIL_CLICKED   \n",
       "19878727  EMAIL_CLICKED # Clicked: 07/21/2024 - 03:51 PM...  EMAIL_CLICKED   \n",
       "19929013  EMAIL_CLICKED # Clicked: 07/21/2024 - 03:51 PM...  EMAIL_CLICKED   \n",
       "19979299  EMAIL_CLICKED # Clicked: 07/21/2024 - 03:51 PM...  EMAIL_CLICKED   \n",
       "20020987  EMAIL_CLICKED # Clicked: 07/21/2024 - 03:51 PM...  EMAIL_CLICKED   \n",
       "\n",
       "                        status_time reason           status_time_utc  \\\n",
       "19778155  07/21/2024 - 03:51 PM IST    NaN 2024-07-21 10:21:00+00:00   \n",
       "19828441  07/21/2024 - 03:51 PM IST    NaN 2024-07-21 10:21:00+00:00   \n",
       "19878727  07/21/2024 - 03:51 PM IST    NaN 2024-07-21 10:21:00+00:00   \n",
       "19929013  07/21/2024 - 03:51 PM IST    NaN 2024-07-21 10:21:00+00:00   \n",
       "19979299  07/21/2024 - 03:51 PM IST    NaN 2024-07-21 10:21:00+00:00   \n",
       "20020987  07/21/2024 - 03:51 PM IST    NaN 2024-07-21 10:21:00+00:00   \n",
       "\n",
       "             derived_mail    derived_email  filled_survey_form  is_email_sent  \\\n",
       "19778155  a-holley@ti.com  a-holley@ti.com                 0.0              1   \n",
       "19828441  a-holley@ti.com  a-holley@ti.com                 0.0              1   \n",
       "19878727  a-holley@ti.com  a-holley@ti.com                 0.0              1   \n",
       "19929013  a-holley@ti.com  a-holley@ti.com                 0.0              1   \n",
       "19979299  a-holley@ti.com  a-holley@ti.com                 0.0              1   \n",
       "20020987  a-holley@ti.com  a-holley@ti.com                 0.0              1   \n",
       "\n",
       "          is_email_clicked  is_email_opened  is_responded  is_bounced  \\\n",
       "19778155                 1                1             0           0   \n",
       "19828441                 1                1             0           0   \n",
       "19878727                 1                1             0           0   \n",
       "19929013                 1                1             0           0   \n",
       "19979299                 1                1             0           0   \n",
       "20020987                 1                1             0           0   \n",
       "\n",
       "          is_unsubscribed  is_mail_not_sent  is_scheduled  \n",
       "19778155                0                 0             0  \n",
       "19828441                0                 0             0  \n",
       "19878727                0                 0             0  \n",
       "19929013                0                 0             0  \n",
       "19979299                0                 0             0  \n",
       "20020987                0                 0             0  "
      ]
     },
     "execution_count": 479,
     "metadata": {},
     "output_type": "execute_result"
    }
   ],
   "source": [
    "email_engagements[(email_engagements['derived_mail']=='a-holley@ti.com') & (email_engagements['status']=='EMAIL_CLICKED')]"
   ]
  },
  {
   "cell_type": "code",
   "execution_count": null,
   "id": "1cbd6b5d-cd64-4bb9-ae5a-6863362c5b58",
   "metadata": {},
   "outputs": [],
   "source": []
  },
  {
   "cell_type": "markdown",
   "id": "6b7c24f9-e4f4-4ee6-be31-46bf28213ca7",
   "metadata": {},
   "source": [
    "## Average Time Between Email Clicked"
   ]
  },
  {
   "cell_type": "code",
   "execution_count": null,
   "id": "ee386530-7041-4896-b712-e1ae76ce52c3",
   "metadata": {},
   "outputs": [],
   "source": []
  },
  {
   "cell_type": "code",
   "execution_count": 421,
   "id": "10bc07c8-9f44-4af9-bc07-7e1b5435c6e7",
   "metadata": {},
   "outputs": [],
   "source": [
    "clicked_emails=email_engagements[email_engagements['is_email_clicked']==1]"
   ]
  },
  {
   "cell_type": "code",
   "execution_count": 423,
   "id": "eba97bb7-7bae-47ed-bf33-f7e07fd62cd2",
   "metadata": {},
   "outputs": [
    {
     "name": "stderr",
     "output_type": "stream",
     "text": [
      "C:\\Users\\Admin\\AppData\\Local\\Temp\\ipykernel_26432\\3298743066.py:1: SettingWithCopyWarning: \n",
      "A value is trying to be set on a copy of a slice from a DataFrame.\n",
      "Try using .loc[row_indexer,col_indexer] = value instead\n",
      "\n",
      "See the caveats in the documentation: https://pandas.pydata.org/pandas-docs/stable/user_guide/indexing.html#returning-a-view-versus-a-copy\n",
      "  clicked_emails['time_gap']=clicked_emails.groupby('derived_mail')['status_time_utc'].diff().dt.days\n"
     ]
    }
   ],
   "source": [
    "clicked_emails['time_gap']=clicked_emails.groupby('derived_mail')['status_time_utc'].diff().dt.days"
   ]
  },
  {
   "cell_type": "code",
   "execution_count": 425,
   "id": "cd78f87b-6b19-4b5c-a1a4-91f37e91542c",
   "metadata": {},
   "outputs": [
    {
     "data": {
      "text/plain": [
       "(34921, 25)"
      ]
     },
     "execution_count": 425,
     "metadata": {},
     "output_type": "execute_result"
    }
   ],
   "source": [
    "clicked_emails.shape"
   ]
  },
  {
   "cell_type": "code",
   "execution_count": 427,
   "id": "72f1463a-d8ca-4ed2-8e05-e4662b9a5204",
   "metadata": {},
   "outputs": [],
   "source": [
    "avg_time_between_emails_clicked=clicked_emails.groupby('derived_mail')['time_gap'].mean().reset_index().rename(columns={'time_gap': 'avg_time_between_emails_clicked'})"
   ]
  },
  {
   "cell_type": "code",
   "execution_count": 429,
   "id": "87f1ee74-cf2c-4751-a68a-2c18e9954683",
   "metadata": {},
   "outputs": [
    {
     "data": {
      "text/html": [
       "<div>\n",
       "<style scoped>\n",
       "    .dataframe tbody tr th:only-of-type {\n",
       "        vertical-align: middle;\n",
       "    }\n",
       "\n",
       "    .dataframe tbody tr th {\n",
       "        vertical-align: top;\n",
       "    }\n",
       "\n",
       "    .dataframe thead th {\n",
       "        text-align: right;\n",
       "    }\n",
       "</style>\n",
       "<table border=\"1\" class=\"dataframe\">\n",
       "  <thead>\n",
       "    <tr style=\"text-align: right;\">\n",
       "      <th></th>\n",
       "      <th>derived_mail</th>\n",
       "      <th>avg_time_between_emails_clicked</th>\n",
       "    </tr>\n",
       "  </thead>\n",
       "  <tbody>\n",
       "    <tr>\n",
       "      <th>0</th>\n",
       "      <td>a-holley@ti.com</td>\n",
       "      <td>NaN</td>\n",
       "    </tr>\n",
       "    <tr>\n",
       "      <th>1</th>\n",
       "      <td>a-smith3@ti.com</td>\n",
       "      <td>NaN</td>\n",
       "    </tr>\n",
       "    <tr>\n",
       "      <th>2</th>\n",
       "      <td>a.danielson@aps.com</td>\n",
       "      <td>NaN</td>\n",
       "    </tr>\n",
       "    <tr>\n",
       "      <th>3</th>\n",
       "      <td>a.freitas@samsung.com</td>\n",
       "      <td>13.5</td>\n",
       "    </tr>\n",
       "    <tr>\n",
       "      <th>4</th>\n",
       "      <td>a.khani@samsung.com</td>\n",
       "      <td>NaN</td>\n",
       "    </tr>\n",
       "    <tr>\n",
       "      <th>...</th>\n",
       "      <td>...</td>\n",
       "      <td>...</td>\n",
       "    </tr>\n",
       "    <tr>\n",
       "      <th>9516</th>\n",
       "      <td>zluo@amazon.com</td>\n",
       "      <td>1.0</td>\n",
       "    </tr>\n",
       "    <tr>\n",
       "      <th>9517</th>\n",
       "      <td>zoe.taylor@walmart.com</td>\n",
       "      <td>NaN</td>\n",
       "    </tr>\n",
       "    <tr>\n",
       "      <th>9518</th>\n",
       "      <td>zsolt.gyurko@flextronics.com</td>\n",
       "      <td>NaN</td>\n",
       "    </tr>\n",
       "    <tr>\n",
       "      <th>9519</th>\n",
       "      <td>zulfiqar.haider@cityofchicago.org</td>\n",
       "      <td>NaN</td>\n",
       "    </tr>\n",
       "    <tr>\n",
       "      <th>9520</th>\n",
       "      <td>zwadie.castro@jacobs.com</td>\n",
       "      <td>7.0</td>\n",
       "    </tr>\n",
       "  </tbody>\n",
       "</table>\n",
       "<p>9521 rows × 2 columns</p>\n",
       "</div>"
      ],
      "text/plain": [
       "                           derived_mail  avg_time_between_emails_clicked\n",
       "0                       a-holley@ti.com                              NaN\n",
       "1                       a-smith3@ti.com                              NaN\n",
       "2                   a.danielson@aps.com                              NaN\n",
       "3                 a.freitas@samsung.com                             13.5\n",
       "4                   a.khani@samsung.com                              NaN\n",
       "...                                 ...                              ...\n",
       "9516                    zluo@amazon.com                              1.0\n",
       "9517             zoe.taylor@walmart.com                              NaN\n",
       "9518       zsolt.gyurko@flextronics.com                              NaN\n",
       "9519  zulfiqar.haider@cityofchicago.org                              NaN\n",
       "9520           zwadie.castro@jacobs.com                              7.0\n",
       "\n",
       "[9521 rows x 2 columns]"
      ]
     },
     "execution_count": 429,
     "metadata": {},
     "output_type": "execute_result"
    }
   ],
   "source": [
    "avg_time_between_emails_clicked"
   ]
  },
  {
   "cell_type": "code",
   "execution_count": null,
   "id": "385dc1f1-f1cc-4660-b91a-686c7fb38de3",
   "metadata": {},
   "outputs": [],
   "source": []
  },
  {
   "cell_type": "code",
   "execution_count": 431,
   "id": "a377388f-47ee-4a0e-bc2e-508260493303",
   "metadata": {},
   "outputs": [],
   "source": [
    "unique_prop_firmo_data=unique_prop_firmo_data.merge(avg_time_between_emails_clicked,on='derived_mail',how='left')"
   ]
  },
  {
   "cell_type": "code",
   "execution_count": null,
   "id": "001c82da-096c-4636-ae4f-875989cdfdb8",
   "metadata": {},
   "outputs": [],
   "source": []
  },
  {
   "cell_type": "markdown",
   "id": "72966860-7c00-4576-9c22-5224a6c6529d",
   "metadata": {},
   "source": [
    "## Click To Open Ratio"
   ]
  },
  {
   "cell_type": "code",
   "execution_count": 435,
   "id": "ea176c7e-f757-4d9d-83c3-49ba979a6afc",
   "metadata": {},
   "outputs": [],
   "source": [
    "unique_prop_firmo_data['click_to_open_ratio']=unique_prop_firmo_data['total_emails_clicked']/unique_prop_firmo_data['total_emails_opened']"
   ]
  },
  {
   "cell_type": "code",
   "execution_count": null,
   "id": "0e347937-00ea-4178-a289-7cb27921f855",
   "metadata": {},
   "outputs": [],
   "source": []
  },
  {
   "cell_type": "markdown",
   "id": "62c278fb-5e98-4a64-901b-5a69c068d4b9",
   "metadata": {},
   "source": [
    "## Click Through Rate"
   ]
  },
  {
   "cell_type": "code",
   "execution_count": 439,
   "id": "668376a3-ca03-4a70-8ca5-14092a82a41e",
   "metadata": {},
   "outputs": [],
   "source": [
    "unique_prop_firmo_data['click_through_rate']=unique_prop_firmo_data['total_emails_clicked']/unique_prop_firmo_data['total_emails_sent']"
   ]
  },
  {
   "cell_type": "code",
   "execution_count": null,
   "id": "6f9ec29a-0193-4eb4-a1b5-4e09a673b8a8",
   "metadata": {},
   "outputs": [],
   "source": []
  },
  {
   "cell_type": "code",
   "execution_count": null,
   "id": "79dfa950-0f54-441a-8ff6-142ab439e9c5",
   "metadata": {},
   "outputs": [],
   "source": []
  },
  {
   "cell_type": "code",
   "execution_count": 443,
   "id": "1fa2e2ce-d006-4729-b63a-a40d7639ddc1",
   "metadata": {},
   "outputs": [],
   "source": [
    "import pytz\n",
    "from datetime import date,datetime\n",
    "\n",
    "# Define a specific date and time\n",
    "today = datetime(2025, 2, 28, 0, 0, 0)  # Year, Month, Day, Hour, Minute, Second\n",
    "\n",
    "# Assign UTC timezone\n",
    "today_date_utc = today.replace(tzinfo=pytz.utc)"
   ]
  },
  {
   "cell_type": "code",
   "execution_count": 445,
   "id": "936c6075-8725-4ba4-9a15-cd0a1e6ebdc5",
   "metadata": {},
   "outputs": [
    {
     "data": {
      "text/plain": [
       "datetime.datetime(2025, 2, 28, 0, 0, tzinfo=<UTC>)"
      ]
     },
     "execution_count": 445,
     "metadata": {},
     "output_type": "execute_result"
    }
   ],
   "source": [
    "today_date_utc"
   ]
  },
  {
   "cell_type": "code",
   "execution_count": 447,
   "id": "3141e07a-6ef4-4ede-90dd-6d4f24e7f1fb",
   "metadata": {},
   "outputs": [
    {
     "data": {
      "text/plain": [
       "Timestamp('2025-02-25 18:23:00+0000', tz='UTC')"
      ]
     },
     "execution_count": 447,
     "metadata": {},
     "output_type": "execute_result"
    }
   ],
   "source": [
    "email_engagements['status_time_utc'].max()"
   ]
  },
  {
   "cell_type": "code",
   "execution_count": null,
   "id": "6a15493a-c613-4466-be34-06dd851d962c",
   "metadata": {},
   "outputs": [],
   "source": []
  },
  {
   "cell_type": "markdown",
   "id": "2f9acc8c-1972-4c50-ab37-1cd53676c561",
   "metadata": {},
   "source": [
    "## Days Since Last Email Clicked"
   ]
  },
  {
   "cell_type": "code",
   "execution_count": 449,
   "id": "9f862442-baaf-4de9-9e52-2ec9d2fe470a",
   "metadata": {},
   "outputs": [],
   "source": [
    "email_engagements.sort_values(by=['derived_mail','status_time_utc'],ascending=True,inplace=True)"
   ]
  },
  {
   "cell_type": "code",
   "execution_count": 451,
   "id": "b414a9ec-6e1c-4b2c-a9ce-ec5c7e7fe67c",
   "metadata": {},
   "outputs": [],
   "source": [
    "prospects_last_email_clicked_data=email_engagements[email_engagements['is_email_clicked']==1].groupby('derived_mail')['status_time_utc'].max().reset_index(name='last_email_clicked_date')"
   ]
  },
  {
   "cell_type": "code",
   "execution_count": 453,
   "id": "d3791e8c-62d8-4914-8ac3-92c7c43c4817",
   "metadata": {},
   "outputs": [
    {
     "data": {
      "text/html": [
       "<div>\n",
       "<style scoped>\n",
       "    .dataframe tbody tr th:only-of-type {\n",
       "        vertical-align: middle;\n",
       "    }\n",
       "\n",
       "    .dataframe tbody tr th {\n",
       "        vertical-align: top;\n",
       "    }\n",
       "\n",
       "    .dataframe thead th {\n",
       "        text-align: right;\n",
       "    }\n",
       "</style>\n",
       "<table border=\"1\" class=\"dataframe\">\n",
       "  <thead>\n",
       "    <tr style=\"text-align: right;\">\n",
       "      <th></th>\n",
       "      <th>derived_mail</th>\n",
       "      <th>last_email_clicked_date</th>\n",
       "    </tr>\n",
       "  </thead>\n",
       "  <tbody>\n",
       "    <tr>\n",
       "      <th>0</th>\n",
       "      <td>a-holley@ti.com</td>\n",
       "      <td>2024-07-21 10:21:00+00:00</td>\n",
       "    </tr>\n",
       "    <tr>\n",
       "      <th>1</th>\n",
       "      <td>a-smith3@ti.com</td>\n",
       "      <td>2024-06-19 00:49:00+00:00</td>\n",
       "    </tr>\n",
       "    <tr>\n",
       "      <th>2</th>\n",
       "      <td>a.danielson@aps.com</td>\n",
       "      <td>2024-01-26 14:47:00+00:00</td>\n",
       "    </tr>\n",
       "    <tr>\n",
       "      <th>3</th>\n",
       "      <td>a.freitas@samsung.com</td>\n",
       "      <td>2024-09-02 17:06:00+00:00</td>\n",
       "    </tr>\n",
       "    <tr>\n",
       "      <th>4</th>\n",
       "      <td>a.khani@samsung.com</td>\n",
       "      <td>2024-08-06 16:19:00+00:00</td>\n",
       "    </tr>\n",
       "    <tr>\n",
       "      <th>...</th>\n",
       "      <td>...</td>\n",
       "      <td>...</td>\n",
       "    </tr>\n",
       "    <tr>\n",
       "      <th>9516</th>\n",
       "      <td>zluo@amazon.com</td>\n",
       "      <td>2024-12-06 18:49:00+00:00</td>\n",
       "    </tr>\n",
       "    <tr>\n",
       "      <th>9517</th>\n",
       "      <td>zoe.taylor@walmart.com</td>\n",
       "      <td>2025-01-10 12:18:00+00:00</td>\n",
       "    </tr>\n",
       "    <tr>\n",
       "      <th>9518</th>\n",
       "      <td>zsolt.gyurko@flextronics.com</td>\n",
       "      <td>2024-09-23 13:58:00+00:00</td>\n",
       "    </tr>\n",
       "    <tr>\n",
       "      <th>9519</th>\n",
       "      <td>zulfiqar.haider@cityofchicago.org</td>\n",
       "      <td>2024-10-16 18:46:00+00:00</td>\n",
       "    </tr>\n",
       "    <tr>\n",
       "      <th>9520</th>\n",
       "      <td>zwadie.castro@jacobs.com</td>\n",
       "      <td>2025-01-22 05:05:00+00:00</td>\n",
       "    </tr>\n",
       "  </tbody>\n",
       "</table>\n",
       "<p>9521 rows × 2 columns</p>\n",
       "</div>"
      ],
      "text/plain": [
       "                           derived_mail   last_email_clicked_date\n",
       "0                       a-holley@ti.com 2024-07-21 10:21:00+00:00\n",
       "1                       a-smith3@ti.com 2024-06-19 00:49:00+00:00\n",
       "2                   a.danielson@aps.com 2024-01-26 14:47:00+00:00\n",
       "3                 a.freitas@samsung.com 2024-09-02 17:06:00+00:00\n",
       "4                   a.khani@samsung.com 2024-08-06 16:19:00+00:00\n",
       "...                                 ...                       ...\n",
       "9516                    zluo@amazon.com 2024-12-06 18:49:00+00:00\n",
       "9517             zoe.taylor@walmart.com 2025-01-10 12:18:00+00:00\n",
       "9518       zsolt.gyurko@flextronics.com 2024-09-23 13:58:00+00:00\n",
       "9519  zulfiqar.haider@cityofchicago.org 2024-10-16 18:46:00+00:00\n",
       "9520           zwadie.castro@jacobs.com 2025-01-22 05:05:00+00:00\n",
       "\n",
       "[9521 rows x 2 columns]"
      ]
     },
     "execution_count": 453,
     "metadata": {},
     "output_type": "execute_result"
    }
   ],
   "source": [
    "prospects_last_email_clicked_data"
   ]
  },
  {
   "cell_type": "code",
   "execution_count": 455,
   "id": "85c236eb-b36d-41d3-993d-fe2e8d75fbae",
   "metadata": {},
   "outputs": [],
   "source": [
    "prospects_last_email_clicked_data['days_since_last_email_clicked']=(today_date_utc-prospects_last_email_clicked_data['last_email_clicked_date']).dt.days"
   ]
  },
  {
   "cell_type": "code",
   "execution_count": 457,
   "id": "a163e67c-df70-4228-bdf7-92bdd0aa53a5",
   "metadata": {},
   "outputs": [
    {
     "data": {
      "text/html": [
       "<div>\n",
       "<style scoped>\n",
       "    .dataframe tbody tr th:only-of-type {\n",
       "        vertical-align: middle;\n",
       "    }\n",
       "\n",
       "    .dataframe tbody tr th {\n",
       "        vertical-align: top;\n",
       "    }\n",
       "\n",
       "    .dataframe thead th {\n",
       "        text-align: right;\n",
       "    }\n",
       "</style>\n",
       "<table border=\"1\" class=\"dataframe\">\n",
       "  <thead>\n",
       "    <tr style=\"text-align: right;\">\n",
       "      <th></th>\n",
       "      <th>derived_mail</th>\n",
       "      <th>last_email_clicked_date</th>\n",
       "      <th>days_since_last_email_clicked</th>\n",
       "    </tr>\n",
       "  </thead>\n",
       "  <tbody>\n",
       "    <tr>\n",
       "      <th>0</th>\n",
       "      <td>a-holley@ti.com</td>\n",
       "      <td>2024-07-21 10:21:00+00:00</td>\n",
       "      <td>221</td>\n",
       "    </tr>\n",
       "    <tr>\n",
       "      <th>1</th>\n",
       "      <td>a-smith3@ti.com</td>\n",
       "      <td>2024-06-19 00:49:00+00:00</td>\n",
       "      <td>253</td>\n",
       "    </tr>\n",
       "    <tr>\n",
       "      <th>2</th>\n",
       "      <td>a.danielson@aps.com</td>\n",
       "      <td>2024-01-26 14:47:00+00:00</td>\n",
       "      <td>398</td>\n",
       "    </tr>\n",
       "    <tr>\n",
       "      <th>3</th>\n",
       "      <td>a.freitas@samsung.com</td>\n",
       "      <td>2024-09-02 17:06:00+00:00</td>\n",
       "      <td>178</td>\n",
       "    </tr>\n",
       "    <tr>\n",
       "      <th>4</th>\n",
       "      <td>a.khani@samsung.com</td>\n",
       "      <td>2024-08-06 16:19:00+00:00</td>\n",
       "      <td>205</td>\n",
       "    </tr>\n",
       "    <tr>\n",
       "      <th>...</th>\n",
       "      <td>...</td>\n",
       "      <td>...</td>\n",
       "      <td>...</td>\n",
       "    </tr>\n",
       "    <tr>\n",
       "      <th>9516</th>\n",
       "      <td>zluo@amazon.com</td>\n",
       "      <td>2024-12-06 18:49:00+00:00</td>\n",
       "      <td>83</td>\n",
       "    </tr>\n",
       "    <tr>\n",
       "      <th>9517</th>\n",
       "      <td>zoe.taylor@walmart.com</td>\n",
       "      <td>2025-01-10 12:18:00+00:00</td>\n",
       "      <td>48</td>\n",
       "    </tr>\n",
       "    <tr>\n",
       "      <th>9518</th>\n",
       "      <td>zsolt.gyurko@flextronics.com</td>\n",
       "      <td>2024-09-23 13:58:00+00:00</td>\n",
       "      <td>157</td>\n",
       "    </tr>\n",
       "    <tr>\n",
       "      <th>9519</th>\n",
       "      <td>zulfiqar.haider@cityofchicago.org</td>\n",
       "      <td>2024-10-16 18:46:00+00:00</td>\n",
       "      <td>134</td>\n",
       "    </tr>\n",
       "    <tr>\n",
       "      <th>9520</th>\n",
       "      <td>zwadie.castro@jacobs.com</td>\n",
       "      <td>2025-01-22 05:05:00+00:00</td>\n",
       "      <td>36</td>\n",
       "    </tr>\n",
       "  </tbody>\n",
       "</table>\n",
       "<p>9521 rows × 3 columns</p>\n",
       "</div>"
      ],
      "text/plain": [
       "                           derived_mail   last_email_clicked_date  \\\n",
       "0                       a-holley@ti.com 2024-07-21 10:21:00+00:00   \n",
       "1                       a-smith3@ti.com 2024-06-19 00:49:00+00:00   \n",
       "2                   a.danielson@aps.com 2024-01-26 14:47:00+00:00   \n",
       "3                 a.freitas@samsung.com 2024-09-02 17:06:00+00:00   \n",
       "4                   a.khani@samsung.com 2024-08-06 16:19:00+00:00   \n",
       "...                                 ...                       ...   \n",
       "9516                    zluo@amazon.com 2024-12-06 18:49:00+00:00   \n",
       "9517             zoe.taylor@walmart.com 2025-01-10 12:18:00+00:00   \n",
       "9518       zsolt.gyurko@flextronics.com 2024-09-23 13:58:00+00:00   \n",
       "9519  zulfiqar.haider@cityofchicago.org 2024-10-16 18:46:00+00:00   \n",
       "9520           zwadie.castro@jacobs.com 2025-01-22 05:05:00+00:00   \n",
       "\n",
       "      days_since_last_email_clicked  \n",
       "0                               221  \n",
       "1                               253  \n",
       "2                               398  \n",
       "3                               178  \n",
       "4                               205  \n",
       "...                             ...  \n",
       "9516                             83  \n",
       "9517                             48  \n",
       "9518                            157  \n",
       "9519                            134  \n",
       "9520                             36  \n",
       "\n",
       "[9521 rows x 3 columns]"
      ]
     },
     "execution_count": 457,
     "metadata": {},
     "output_type": "execute_result"
    }
   ],
   "source": [
    "prospects_last_email_clicked_data"
   ]
  },
  {
   "cell_type": "code",
   "execution_count": 459,
   "id": "af16d926-f397-4d23-9016-0a49f4bf509f",
   "metadata": {},
   "outputs": [],
   "source": [
    "unique_prop_firmo_data=unique_prop_firmo_data.merge(prospects_last_email_clicked_data[['derived_mail','days_since_last_email_clicked']],on='derived_mail',how='left')"
   ]
  },
  {
   "cell_type": "code",
   "execution_count": null,
   "id": "78246dc2-7b1d-40bf-9003-bcbc4e241f05",
   "metadata": {},
   "outputs": [],
   "source": []
  },
  {
   "cell_type": "markdown",
   "id": "fd57a4e3-a150-4eda-8533-1da22daf92ce",
   "metadata": {},
   "source": [
    "## Total Emails Clicked Last 2/4/8/12 Weeks"
   ]
  },
  {
   "cell_type": "code",
   "execution_count": 463,
   "id": "8a6eb240-a08b-41ae-913a-970954d63a07",
   "metadata": {},
   "outputs": [],
   "source": [
    "from datetime import timedelta"
   ]
  },
  {
   "cell_type": "code",
   "execution_count": 465,
   "id": "aa90d436-e2a4-43f9-b9cc-fb28c83d8717",
   "metadata": {},
   "outputs": [],
   "source": [
    "email_engagements['2_weeks_ago'] = today_date_utc - timedelta(weeks=2)\n",
    "\n",
    "email_engagements['4_weeks_ago'] = today_date_utc - timedelta(weeks=4)\n",
    "\n",
    "email_engagements['8_weeks_ago'] = today_date_utc - timedelta(weeks=8)\n",
    "\n",
    "email_engagements['12_weeks_ago'] = today_date_utc - timedelta(weeks=12)\n"
   ]
  },
  {
   "cell_type": "code",
   "execution_count": 467,
   "id": "1e1f578a-ab9e-4bdd-a1d7-91c9618a4ad9",
   "metadata": {},
   "outputs": [],
   "source": [
    "two_weeks_ago_propspect_engagements = email_engagements[\n",
    "    (email_engagements['status_time_utc'] >= email_engagements['2_weeks_ago']) & (email_engagements['is_email_sent'] ==1)\n",
    "]"
   ]
  },
  {
   "cell_type": "code",
   "execution_count": 469,
   "id": "3d45731e-7903-460e-a5b1-4c0fd28edf81",
   "metadata": {},
   "outputs": [
    {
     "data": {
      "text/plain": [
       "(86509, 28)"
      ]
     },
     "execution_count": 469,
     "metadata": {},
     "output_type": "execute_result"
    }
   ],
   "source": [
    "two_weeks_ago_propspect_engagements.shape"
   ]
  },
  {
   "cell_type": "code",
   "execution_count": null,
   "id": "b13c232b-760c-4fa9-805b-61ba38633716",
   "metadata": {},
   "outputs": [],
   "source": []
  },
  {
   "cell_type": "code",
   "execution_count": 472,
   "id": "ae30d8ce-82e7-4d36-a004-465ec68e32a6",
   "metadata": {},
   "outputs": [],
   "source": [
    "four_weeks_ago_propspect_engagements = email_engagements[\n",
    "    (email_engagements['status_time_utc'] >= email_engagements['4_weeks_ago']) & (email_engagements['is_email_sent'] ==1)\n",
    "]"
   ]
  },
  {
   "cell_type": "code",
   "execution_count": 474,
   "id": "ec681820-d8c7-435b-8fe7-1ce7231d927a",
   "metadata": {},
   "outputs": [
    {
     "data": {
      "text/plain": [
       "(223766, 28)"
      ]
     },
     "execution_count": 474,
     "metadata": {},
     "output_type": "execute_result"
    }
   ],
   "source": [
    "four_weeks_ago_propspect_engagements.shape"
   ]
  },
  {
   "cell_type": "code",
   "execution_count": null,
   "id": "f9b34075-78c9-4eb0-a884-e7c81f00a8ec",
   "metadata": {},
   "outputs": [],
   "source": []
  },
  {
   "cell_type": "code",
   "execution_count": 477,
   "id": "724a7678-5c1e-4252-9393-7d6235feaa67",
   "metadata": {},
   "outputs": [],
   "source": [
    "eight_weeks_ago_propspect_engagements = email_engagements[\n",
    "    (email_engagements['status_time_utc'] >= email_engagements['8_weeks_ago']) & (email_engagements['is_email_sent'] ==1)\n",
    "]"
   ]
  },
  {
   "cell_type": "code",
   "execution_count": 478,
   "id": "01f55879-c3c8-4f49-adb3-67f893fb212b",
   "metadata": {},
   "outputs": [
    {
     "data": {
      "text/plain": [
       "(476425, 28)"
      ]
     },
     "execution_count": 478,
     "metadata": {},
     "output_type": "execute_result"
    }
   ],
   "source": [
    "eight_weeks_ago_propspect_engagements.shape"
   ]
  },
  {
   "cell_type": "code",
   "execution_count": null,
   "id": "39aa99e0-dfbd-49b5-906f-774389d83048",
   "metadata": {},
   "outputs": [],
   "source": []
  },
  {
   "cell_type": "code",
   "execution_count": 482,
   "id": "bdea1597-e688-4a8d-8de0-8dba8dffb520",
   "metadata": {},
   "outputs": [],
   "source": [
    "twelve_weeks_ago_propspect_engagements = email_engagements[\n",
    "    (email_engagements['status_time_utc'] >= email_engagements['12_weeks_ago']) & (email_engagements['is_email_sent'] ==1)\n",
    "]"
   ]
  },
  {
   "cell_type": "code",
   "execution_count": 483,
   "id": "c2e7bf1e-5fd5-482a-b123-14509ef67254",
   "metadata": {},
   "outputs": [
    {
     "data": {
      "text/plain": [
       "(729890, 28)"
      ]
     },
     "execution_count": 483,
     "metadata": {},
     "output_type": "execute_result"
    }
   ],
   "source": [
    "twelve_weeks_ago_propspect_engagements.shape"
   ]
  },
  {
   "cell_type": "code",
   "execution_count": null,
   "id": "27088914-0a89-4773-ad03-26616feb1e2b",
   "metadata": {},
   "outputs": [],
   "source": []
  },
  {
   "cell_type": "code",
   "execution_count": 487,
   "id": "d3d49a42-cb85-44ec-bc62-f3ee93cc581b",
   "metadata": {},
   "outputs": [],
   "source": [
    "total_emails_sent_last_two_weeks = (\n",
    "    two_weeks_ago_propspect_engagements\n",
    "    .groupby('derived_mail')\n",
    "    .size()\n",
    "    .reset_index(name='total_emails_sent_last_two_weeks')\n",
    ")"
   ]
  },
  {
   "cell_type": "code",
   "execution_count": 489,
   "id": "be4fe74a-2edf-4ca1-9db8-b82600b5a356",
   "metadata": {},
   "outputs": [
    {
     "data": {
      "text/html": [
       "<div>\n",
       "<style scoped>\n",
       "    .dataframe tbody tr th:only-of-type {\n",
       "        vertical-align: middle;\n",
       "    }\n",
       "\n",
       "    .dataframe tbody tr th {\n",
       "        vertical-align: top;\n",
       "    }\n",
       "\n",
       "    .dataframe thead th {\n",
       "        text-align: right;\n",
       "    }\n",
       "</style>\n",
       "<table border=\"1\" class=\"dataframe\">\n",
       "  <thead>\n",
       "    <tr style=\"text-align: right;\">\n",
       "      <th></th>\n",
       "      <th>derived_mail</th>\n",
       "      <th>total_emails_sent_last_two_weeks</th>\n",
       "    </tr>\n",
       "  </thead>\n",
       "  <tbody>\n",
       "    <tr>\n",
       "      <th>0</th>\n",
       "      <td>a.akingboju@apple.com</td>\n",
       "      <td>9</td>\n",
       "    </tr>\n",
       "    <tr>\n",
       "      <th>1</th>\n",
       "      <td>a.rosales@mdlz.com</td>\n",
       "      <td>10</td>\n",
       "    </tr>\n",
       "    <tr>\n",
       "      <th>2</th>\n",
       "      <td>a.s@hm.com</td>\n",
       "      <td>9</td>\n",
       "    </tr>\n",
       "    <tr>\n",
       "      <th>3</th>\n",
       "      <td>a_asemota@apple.com</td>\n",
       "      <td>9</td>\n",
       "    </tr>\n",
       "    <tr>\n",
       "      <th>4</th>\n",
       "      <td>a_m@subway.com</td>\n",
       "      <td>9</td>\n",
       "    </tr>\n",
       "    <tr>\n",
       "      <th>...</th>\n",
       "      <td>...</td>\n",
       "      <td>...</td>\n",
       "    </tr>\n",
       "    <tr>\n",
       "      <th>9649</th>\n",
       "      <td>zoe.taylor@walmart.com</td>\n",
       "      <td>9</td>\n",
       "    </tr>\n",
       "    <tr>\n",
       "      <th>9650</th>\n",
       "      <td>zolly.shah@goodwill.org</td>\n",
       "      <td>9</td>\n",
       "    </tr>\n",
       "    <tr>\n",
       "      <th>9651</th>\n",
       "      <td>zroberson@apple.com</td>\n",
       "      <td>9</td>\n",
       "    </tr>\n",
       "    <tr>\n",
       "      <th>9652</th>\n",
       "      <td>zsmith@lululemon.com</td>\n",
       "      <td>9</td>\n",
       "    </tr>\n",
       "    <tr>\n",
       "      <th>9653</th>\n",
       "      <td>zyao@dollargeneral.com</td>\n",
       "      <td>9</td>\n",
       "    </tr>\n",
       "  </tbody>\n",
       "</table>\n",
       "<p>9654 rows × 2 columns</p>\n",
       "</div>"
      ],
      "text/plain": [
       "                 derived_mail  total_emails_sent_last_two_weeks\n",
       "0       a.akingboju@apple.com                                 9\n",
       "1          a.rosales@mdlz.com                                10\n",
       "2                  a.s@hm.com                                 9\n",
       "3         a_asemota@apple.com                                 9\n",
       "4              a_m@subway.com                                 9\n",
       "...                       ...                               ...\n",
       "9649   zoe.taylor@walmart.com                                 9\n",
       "9650  zolly.shah@goodwill.org                                 9\n",
       "9651      zroberson@apple.com                                 9\n",
       "9652     zsmith@lululemon.com                                 9\n",
       "9653   zyao@dollargeneral.com                                 9\n",
       "\n",
       "[9654 rows x 2 columns]"
      ]
     },
     "execution_count": 489,
     "metadata": {},
     "output_type": "execute_result"
    }
   ],
   "source": [
    "total_emails_sent_last_two_weeks"
   ]
  },
  {
   "cell_type": "code",
   "execution_count": 491,
   "id": "c7761b7b-0666-418a-a20e-eeafa45beac0",
   "metadata": {},
   "outputs": [],
   "source": [
    "total_emails_sent_last_four_weeks = (\n",
    "    four_weeks_ago_propspect_engagements\n",
    "    .groupby('derived_mail')\n",
    "    .size()\n",
    "    .reset_index(name='total_emails_sent_last_four_weeks')\n",
    ")"
   ]
  },
  {
   "cell_type": "code",
   "execution_count": 493,
   "id": "937e2f9f-5471-4f9a-80ce-8b9f342b72e9",
   "metadata": {},
   "outputs": [
    {
     "data": {
      "text/html": [
       "<div>\n",
       "<style scoped>\n",
       "    .dataframe tbody tr th:only-of-type {\n",
       "        vertical-align: middle;\n",
       "    }\n",
       "\n",
       "    .dataframe tbody tr th {\n",
       "        vertical-align: top;\n",
       "    }\n",
       "\n",
       "    .dataframe thead th {\n",
       "        text-align: right;\n",
       "    }\n",
       "</style>\n",
       "<table border=\"1\" class=\"dataframe\">\n",
       "  <thead>\n",
       "    <tr style=\"text-align: right;\">\n",
       "      <th></th>\n",
       "      <th>derived_mail</th>\n",
       "      <th>total_emails_sent_last_four_weeks</th>\n",
       "    </tr>\n",
       "  </thead>\n",
       "  <tbody>\n",
       "    <tr>\n",
       "      <th>0</th>\n",
       "      <td>a.akingboju@apple.com</td>\n",
       "      <td>20</td>\n",
       "    </tr>\n",
       "    <tr>\n",
       "      <th>1</th>\n",
       "      <td>a.allan@walmart.com</td>\n",
       "      <td>2</td>\n",
       "    </tr>\n",
       "    <tr>\n",
       "      <th>2</th>\n",
       "      <td>a.cardenas@bbva.com</td>\n",
       "      <td>10</td>\n",
       "    </tr>\n",
       "    <tr>\n",
       "      <th>3</th>\n",
       "      <td>a.pizarro@bbva.com</td>\n",
       "      <td>10</td>\n",
       "    </tr>\n",
       "    <tr>\n",
       "      <th>4</th>\n",
       "      <td>a.romo@chipotle.com</td>\n",
       "      <td>4</td>\n",
       "    </tr>\n",
       "    <tr>\n",
       "      <th>...</th>\n",
       "      <td>...</td>\n",
       "      <td>...</td>\n",
       "    </tr>\n",
       "    <tr>\n",
       "      <th>12023</th>\n",
       "      <td>zroberson@apple.com</td>\n",
       "      <td>23</td>\n",
       "    </tr>\n",
       "    <tr>\n",
       "      <th>12024</th>\n",
       "      <td>zsmith@lululemon.com</td>\n",
       "      <td>18</td>\n",
       "    </tr>\n",
       "    <tr>\n",
       "      <th>12025</th>\n",
       "      <td>zulma.mendoza@citibanamex.com</td>\n",
       "      <td>10</td>\n",
       "    </tr>\n",
       "    <tr>\n",
       "      <th>12026</th>\n",
       "      <td>zyanya.luna.lopez@bbva.com</td>\n",
       "      <td>10</td>\n",
       "    </tr>\n",
       "    <tr>\n",
       "      <th>12027</th>\n",
       "      <td>zyao@dollargeneral.com</td>\n",
       "      <td>19</td>\n",
       "    </tr>\n",
       "  </tbody>\n",
       "</table>\n",
       "<p>12028 rows × 2 columns</p>\n",
       "</div>"
      ],
      "text/plain": [
       "                        derived_mail  total_emails_sent_last_four_weeks\n",
       "0              a.akingboju@apple.com                                 20\n",
       "1                a.allan@walmart.com                                  2\n",
       "2                a.cardenas@bbva.com                                 10\n",
       "3                 a.pizarro@bbva.com                                 10\n",
       "4                a.romo@chipotle.com                                  4\n",
       "...                              ...                                ...\n",
       "12023            zroberson@apple.com                                 23\n",
       "12024           zsmith@lululemon.com                                 18\n",
       "12025  zulma.mendoza@citibanamex.com                                 10\n",
       "12026     zyanya.luna.lopez@bbva.com                                 10\n",
       "12027         zyao@dollargeneral.com                                 19\n",
       "\n",
       "[12028 rows x 2 columns]"
      ]
     },
     "execution_count": 493,
     "metadata": {},
     "output_type": "execute_result"
    }
   ],
   "source": [
    "total_emails_sent_last_four_weeks"
   ]
  },
  {
   "cell_type": "code",
   "execution_count": 495,
   "id": "f452e82d-5e6a-410a-841b-4d900fb92fc2",
   "metadata": {},
   "outputs": [],
   "source": [
    "total_emails_sent_last_eight_weeks = (\n",
    "    eight_weeks_ago_propspect_engagements\n",
    "    .groupby('derived_mail')\n",
    "    .size()\n",
    "    .reset_index(name='total_emails_sent_last_eight_weeks')\n",
    ")"
   ]
  },
  {
   "cell_type": "code",
   "execution_count": 497,
   "id": "70231801-ea0a-47eb-a89c-ff031cccd26d",
   "metadata": {},
   "outputs": [
    {
     "data": {
      "text/html": [
       "<div>\n",
       "<style scoped>\n",
       "    .dataframe tbody tr th:only-of-type {\n",
       "        vertical-align: middle;\n",
       "    }\n",
       "\n",
       "    .dataframe tbody tr th {\n",
       "        vertical-align: top;\n",
       "    }\n",
       "\n",
       "    .dataframe thead th {\n",
       "        text-align: right;\n",
       "    }\n",
       "</style>\n",
       "<table border=\"1\" class=\"dataframe\">\n",
       "  <thead>\n",
       "    <tr style=\"text-align: right;\">\n",
       "      <th></th>\n",
       "      <th>derived_mail</th>\n",
       "      <th>total_emails_sent_last_eight_weeks</th>\n",
       "    </tr>\n",
       "  </thead>\n",
       "  <tbody>\n",
       "    <tr>\n",
       "      <th>0</th>\n",
       "      <td>CarlosOliverMontejano.Ramirez@magna.com</td>\n",
       "      <td>8</td>\n",
       "    </tr>\n",
       "    <tr>\n",
       "      <th>1</th>\n",
       "      <td>a.akingboju@apple.com</td>\n",
       "      <td>28</td>\n",
       "    </tr>\n",
       "    <tr>\n",
       "      <th>2</th>\n",
       "      <td>a.allan@walmart.com</td>\n",
       "      <td>2</td>\n",
       "    </tr>\n",
       "    <tr>\n",
       "      <th>3</th>\n",
       "      <td>a.black@louisville.edu</td>\n",
       "      <td>19</td>\n",
       "    </tr>\n",
       "    <tr>\n",
       "      <th>4</th>\n",
       "      <td>a.c@erdmananthony.com</td>\n",
       "      <td>14</td>\n",
       "    </tr>\n",
       "    <tr>\n",
       "      <th>...</th>\n",
       "      <td>...</td>\n",
       "      <td>...</td>\n",
       "    </tr>\n",
       "    <tr>\n",
       "      <th>16989</th>\n",
       "      <td>zsmith@lululemon.com</td>\n",
       "      <td>18</td>\n",
       "    </tr>\n",
       "    <tr>\n",
       "      <th>16990</th>\n",
       "      <td>zulma.mendoza@citibanamex.com</td>\n",
       "      <td>22</td>\n",
       "    </tr>\n",
       "    <tr>\n",
       "      <th>16991</th>\n",
       "      <td>zwadie.castro@jacobs.com</td>\n",
       "      <td>18</td>\n",
       "    </tr>\n",
       "    <tr>\n",
       "      <th>16992</th>\n",
       "      <td>zyanya.luna.lopez@bbva.com</td>\n",
       "      <td>22</td>\n",
       "    </tr>\n",
       "    <tr>\n",
       "      <th>16993</th>\n",
       "      <td>zyao@dollargeneral.com</td>\n",
       "      <td>19</td>\n",
       "    </tr>\n",
       "  </tbody>\n",
       "</table>\n",
       "<p>16994 rows × 2 columns</p>\n",
       "</div>"
      ],
      "text/plain": [
       "                                  derived_mail  \\\n",
       "0      CarlosOliverMontejano.Ramirez@magna.com   \n",
       "1                        a.akingboju@apple.com   \n",
       "2                          a.allan@walmart.com   \n",
       "3                       a.black@louisville.edu   \n",
       "4                        a.c@erdmananthony.com   \n",
       "...                                        ...   \n",
       "16989                     zsmith@lululemon.com   \n",
       "16990            zulma.mendoza@citibanamex.com   \n",
       "16991                 zwadie.castro@jacobs.com   \n",
       "16992               zyanya.luna.lopez@bbva.com   \n",
       "16993                   zyao@dollargeneral.com   \n",
       "\n",
       "       total_emails_sent_last_eight_weeks  \n",
       "0                                       8  \n",
       "1                                      28  \n",
       "2                                       2  \n",
       "3                                      19  \n",
       "4                                      14  \n",
       "...                                   ...  \n",
       "16989                                  18  \n",
       "16990                                  22  \n",
       "16991                                  18  \n",
       "16992                                  22  \n",
       "16993                                  19  \n",
       "\n",
       "[16994 rows x 2 columns]"
      ]
     },
     "execution_count": 497,
     "metadata": {},
     "output_type": "execute_result"
    }
   ],
   "source": [
    "total_emails_sent_last_eight_weeks"
   ]
  },
  {
   "cell_type": "code",
   "execution_count": null,
   "id": "82e3d37f-863a-408b-be7d-9d4da3ed2761",
   "metadata": {},
   "outputs": [],
   "source": []
  },
  {
   "cell_type": "code",
   "execution_count": 500,
   "id": "306aca3f-ea80-4d80-935d-3f4eb60256bf",
   "metadata": {},
   "outputs": [],
   "source": [
    "total_emails_sent_last_twelve_weeks = (\n",
    "    twelve_weeks_ago_propspect_engagements\n",
    "    .groupby('derived_mail')\n",
    "    .size()\n",
    "    .reset_index(name='total_emails_sent_last_twelve_weeks')\n",
    ")"
   ]
  },
  {
   "cell_type": "code",
   "execution_count": 502,
   "id": "d83bf6d7-aff5-400e-8795-92be79608131",
   "metadata": {},
   "outputs": [
    {
     "data": {
      "text/html": [
       "<div>\n",
       "<style scoped>\n",
       "    .dataframe tbody tr th:only-of-type {\n",
       "        vertical-align: middle;\n",
       "    }\n",
       "\n",
       "    .dataframe tbody tr th {\n",
       "        vertical-align: top;\n",
       "    }\n",
       "\n",
       "    .dataframe thead th {\n",
       "        text-align: right;\n",
       "    }\n",
       "</style>\n",
       "<table border=\"1\" class=\"dataframe\">\n",
       "  <thead>\n",
       "    <tr style=\"text-align: right;\">\n",
       "      <th></th>\n",
       "      <th>derived_mail</th>\n",
       "      <th>total_emails_sent_last_twelve_weeks</th>\n",
       "    </tr>\n",
       "  </thead>\n",
       "  <tbody>\n",
       "    <tr>\n",
       "      <th>0</th>\n",
       "      <td>CarlosOliverMontejano.Ramirez@magna.com</td>\n",
       "      <td>30</td>\n",
       "    </tr>\n",
       "    <tr>\n",
       "      <th>1</th>\n",
       "      <td>a.akingboju@apple.com</td>\n",
       "      <td>28</td>\n",
       "    </tr>\n",
       "    <tr>\n",
       "      <th>2</th>\n",
       "      <td>a.allan@walmart.com</td>\n",
       "      <td>2</td>\n",
       "    </tr>\n",
       "    <tr>\n",
       "      <th>3</th>\n",
       "      <td>a.baauw@dlninc.com</td>\n",
       "      <td>2</td>\n",
       "    </tr>\n",
       "    <tr>\n",
       "      <th>4</th>\n",
       "      <td>a.black@louisville.edu</td>\n",
       "      <td>19</td>\n",
       "    </tr>\n",
       "    <tr>\n",
       "      <th>...</th>\n",
       "      <td>...</td>\n",
       "      <td>...</td>\n",
       "    </tr>\n",
       "    <tr>\n",
       "      <th>28250</th>\n",
       "      <td>zwang@amazon.com</td>\n",
       "      <td>2</td>\n",
       "    </tr>\n",
       "    <tr>\n",
       "      <th>28251</th>\n",
       "      <td>zwilsterman@wildeck.com</td>\n",
       "      <td>2</td>\n",
       "    </tr>\n",
       "    <tr>\n",
       "      <th>28252</th>\n",
       "      <td>zyanya.luna.lopez@bbva.com</td>\n",
       "      <td>22</td>\n",
       "    </tr>\n",
       "    <tr>\n",
       "      <th>28253</th>\n",
       "      <td>zyao@dollargeneral.com</td>\n",
       "      <td>19</td>\n",
       "    </tr>\n",
       "    <tr>\n",
       "      <th>28254</th>\n",
       "      <td>zzhu@fetchrobotics.com</td>\n",
       "      <td>2</td>\n",
       "    </tr>\n",
       "  </tbody>\n",
       "</table>\n",
       "<p>28255 rows × 2 columns</p>\n",
       "</div>"
      ],
      "text/plain": [
       "                                  derived_mail  \\\n",
       "0      CarlosOliverMontejano.Ramirez@magna.com   \n",
       "1                        a.akingboju@apple.com   \n",
       "2                          a.allan@walmart.com   \n",
       "3                           a.baauw@dlninc.com   \n",
       "4                       a.black@louisville.edu   \n",
       "...                                        ...   \n",
       "28250                         zwang@amazon.com   \n",
       "28251                  zwilsterman@wildeck.com   \n",
       "28252               zyanya.luna.lopez@bbva.com   \n",
       "28253                   zyao@dollargeneral.com   \n",
       "28254                   zzhu@fetchrobotics.com   \n",
       "\n",
       "       total_emails_sent_last_twelve_weeks  \n",
       "0                                       30  \n",
       "1                                       28  \n",
       "2                                        2  \n",
       "3                                        2  \n",
       "4                                       19  \n",
       "...                                    ...  \n",
       "28250                                    2  \n",
       "28251                                    2  \n",
       "28252                                   22  \n",
       "28253                                   19  \n",
       "28254                                    2  \n",
       "\n",
       "[28255 rows x 2 columns]"
      ]
     },
     "execution_count": 502,
     "metadata": {},
     "output_type": "execute_result"
    }
   ],
   "source": [
    "total_emails_sent_last_twelve_weeks"
   ]
  },
  {
   "cell_type": "code",
   "execution_count": null,
   "id": "06f5c67f-66fa-4c4b-a500-6ce98f22bc03",
   "metadata": {},
   "outputs": [],
   "source": []
  },
  {
   "cell_type": "code",
   "execution_count": 505,
   "id": "0226880d-ca7e-4ee4-bb82-459933425bdb",
   "metadata": {},
   "outputs": [],
   "source": [
    "unique_prop_firmo_data=unique_prop_firmo_data.merge(total_emails_sent_last_two_weeks,on='derived_mail',how='left')"
   ]
  },
  {
   "cell_type": "code",
   "execution_count": 507,
   "id": "b20b822d-9214-45b6-ba03-fd5d8e48bd11",
   "metadata": {},
   "outputs": [],
   "source": [
    "unique_prop_firmo_data=unique_prop_firmo_data.merge(total_emails_sent_last_four_weeks,on='derived_mail',how='left')"
   ]
  },
  {
   "cell_type": "code",
   "execution_count": 508,
   "id": "96f497ba-882f-47bb-af5f-1012b5c3c7c6",
   "metadata": {},
   "outputs": [],
   "source": [
    "unique_prop_firmo_data=unique_prop_firmo_data.merge(total_emails_sent_last_eight_weeks,on='derived_mail',how='left')"
   ]
  },
  {
   "cell_type": "code",
   "execution_count": 510,
   "id": "d2873b49-e550-49d8-9a69-754d07ce75c4",
   "metadata": {},
   "outputs": [],
   "source": [
    "unique_prop_firmo_data=unique_prop_firmo_data.merge(total_emails_sent_last_twelve_weeks,on='derived_mail',how='left')"
   ]
  },
  {
   "cell_type": "code",
   "execution_count": null,
   "id": "7ee8823b-2ffd-4ce1-8a1a-46bbbc87eb94",
   "metadata": {},
   "outputs": [],
   "source": []
  },
  {
   "cell_type": "code",
   "execution_count": null,
   "id": "56b3ff85-3dbf-41b4-a295-ffc7f28f9fdd",
   "metadata": {},
   "outputs": [],
   "source": []
  },
  {
   "cell_type": "markdown",
   "id": "490c4d81-95ef-4b7e-bbd3-dca50a3f3f1d",
   "metadata": {},
   "source": [
    "## Total Emails Opened Last 2/4/8/12 Weeks"
   ]
  },
  {
   "cell_type": "code",
   "execution_count": null,
   "id": "15cd08df-d3a3-4b38-afaf-6531054783f5",
   "metadata": {},
   "outputs": [],
   "source": []
  },
  {
   "cell_type": "code",
   "execution_count": 517,
   "id": "b7d0a4ba-e41e-47e4-94a9-4cd9618ce660",
   "metadata": {},
   "outputs": [],
   "source": [
    "two_weeks_ago_propspect_open_emails = email_engagements[\n",
    "    (email_engagements['status_time_utc'] >= email_engagements['2_weeks_ago']) & (email_engagements['is_email_opened'] ==1)\n",
    "]"
   ]
  },
  {
   "cell_type": "code",
   "execution_count": 518,
   "id": "d57ecd34-bfa1-46e8-9f96-de2bf4f7b17c",
   "metadata": {},
   "outputs": [
    {
     "data": {
      "text/plain": [
       "(3056, 28)"
      ]
     },
     "execution_count": 518,
     "metadata": {},
     "output_type": "execute_result"
    }
   ],
   "source": [
    "two_weeks_ago_propspect_open_emails.shape"
   ]
  },
  {
   "cell_type": "code",
   "execution_count": 519,
   "id": "e98bea76-3a38-4c05-a76c-d43bba6f38f8",
   "metadata": {},
   "outputs": [],
   "source": [
    "four_weeks_ago_propspect_open_emails = email_engagements[\n",
    "    (email_engagements['status_time_utc'] >= email_engagements['4_weeks_ago']) & (email_engagements['is_email_opened'] ==1)\n",
    "]"
   ]
  },
  {
   "cell_type": "code",
   "execution_count": 522,
   "id": "4c47f5c6-f927-4694-b28e-fa7923792fd8",
   "metadata": {},
   "outputs": [
    {
     "data": {
      "text/plain": [
       "(7507, 28)"
      ]
     },
     "execution_count": 522,
     "metadata": {},
     "output_type": "execute_result"
    }
   ],
   "source": [
    "four_weeks_ago_propspect_open_emails.shape"
   ]
  },
  {
   "cell_type": "code",
   "execution_count": 523,
   "id": "9cd01fe8-b53c-4d11-a224-b8337271f239",
   "metadata": {},
   "outputs": [],
   "source": [
    "eight_weeks_ago_propspect_open_emails = email_engagements[\n",
    "    (email_engagements['status_time_utc'] >= email_engagements['8_weeks_ago']) & (email_engagements['is_email_opened'] ==1)\n",
    "]"
   ]
  },
  {
   "cell_type": "code",
   "execution_count": 526,
   "id": "d769f8ee-b29c-4236-9cc6-23ac2bb3ebb0",
   "metadata": {},
   "outputs": [
    {
     "data": {
      "text/plain": [
       "(17667, 28)"
      ]
     },
     "execution_count": 526,
     "metadata": {},
     "output_type": "execute_result"
    }
   ],
   "source": [
    "eight_weeks_ago_propspect_open_emails.shape"
   ]
  },
  {
   "cell_type": "code",
   "execution_count": null,
   "id": "abca7c2e-cfc2-41a1-ac6c-390ad5558bde",
   "metadata": {},
   "outputs": [],
   "source": []
  },
  {
   "cell_type": "code",
   "execution_count": 530,
   "id": "e0765fe0-167c-4f94-a1c5-295f3adad42d",
   "metadata": {},
   "outputs": [],
   "source": [
    "twelve_weeks_ago_propspect_open_emails = email_engagements[\n",
    "    (email_engagements['status_time_utc'] >= email_engagements['12_weeks_ago']) & (email_engagements['is_email_opened'] ==1)\n",
    "]"
   ]
  },
  {
   "cell_type": "code",
   "execution_count": 531,
   "id": "3f0e09d3-509a-46c5-acd4-bac5b1075722",
   "metadata": {},
   "outputs": [
    {
     "data": {
      "text/plain": [
       "(21651, 28)"
      ]
     },
     "execution_count": 531,
     "metadata": {},
     "output_type": "execute_result"
    }
   ],
   "source": [
    "twelve_weeks_ago_propspect_open_emails.shape"
   ]
  },
  {
   "cell_type": "code",
   "execution_count": null,
   "id": "a2a52d49-315a-429c-8174-c4d6e6b206db",
   "metadata": {},
   "outputs": [],
   "source": []
  },
  {
   "cell_type": "code",
   "execution_count": 535,
   "id": "6c36d2fa-b7b5-4b5d-8fef-b7815951df5e",
   "metadata": {},
   "outputs": [],
   "source": [
    "total_emails_opened_last_two_weeks = (\n",
    "    two_weeks_ago_propspect_open_emails\n",
    "    .groupby('derived_mail')\n",
    "    .size()\n",
    "    .reset_index(name='total_emails_opened_last_two_weeks')\n",
    ")"
   ]
  },
  {
   "cell_type": "code",
   "execution_count": 537,
   "id": "548753ac-0a57-49f0-9c63-65ff87df8ec4",
   "metadata": {},
   "outputs": [
    {
     "data": {
      "text/html": [
       "<div>\n",
       "<style scoped>\n",
       "    .dataframe tbody tr th:only-of-type {\n",
       "        vertical-align: middle;\n",
       "    }\n",
       "\n",
       "    .dataframe tbody tr th {\n",
       "        vertical-align: top;\n",
       "    }\n",
       "\n",
       "    .dataframe thead th {\n",
       "        text-align: right;\n",
       "    }\n",
       "</style>\n",
       "<table border=\"1\" class=\"dataframe\">\n",
       "  <thead>\n",
       "    <tr style=\"text-align: right;\">\n",
       "      <th></th>\n",
       "      <th>derived_mail</th>\n",
       "      <th>total_emails_opened_last_two_weeks</th>\n",
       "    </tr>\n",
       "  </thead>\n",
       "  <tbody>\n",
       "    <tr>\n",
       "      <th>0</th>\n",
       "      <td>a.akingboju@apple.com</td>\n",
       "      <td>7</td>\n",
       "    </tr>\n",
       "    <tr>\n",
       "      <th>1</th>\n",
       "      <td>a_asemota@apple.com</td>\n",
       "      <td>6</td>\n",
       "    </tr>\n",
       "    <tr>\n",
       "      <th>2</th>\n",
       "      <td>a_tallas@apple.com</td>\n",
       "      <td>6</td>\n",
       "    </tr>\n",
       "    <tr>\n",
       "      <th>3</th>\n",
       "      <td>aabraham24@apple.com</td>\n",
       "      <td>6</td>\n",
       "    </tr>\n",
       "    <tr>\n",
       "      <th>4</th>\n",
       "      <td>aaron_s_ushiro@apple.com</td>\n",
       "      <td>6</td>\n",
       "    </tr>\n",
       "    <tr>\n",
       "      <th>...</th>\n",
       "      <td>...</td>\n",
       "      <td>...</td>\n",
       "    </tr>\n",
       "    <tr>\n",
       "      <th>600</th>\n",
       "      <td>zach.marshall@apple.com</td>\n",
       "      <td>7</td>\n",
       "    </tr>\n",
       "    <tr>\n",
       "      <th>601</th>\n",
       "      <td>zachary.m@apple.com</td>\n",
       "      <td>8</td>\n",
       "    </tr>\n",
       "    <tr>\n",
       "      <th>602</th>\n",
       "      <td>zhaohui_yuan@apple.com</td>\n",
       "      <td>8</td>\n",
       "    </tr>\n",
       "    <tr>\n",
       "      <th>603</th>\n",
       "      <td>ziye_liu@apple.com</td>\n",
       "      <td>4</td>\n",
       "    </tr>\n",
       "    <tr>\n",
       "      <th>604</th>\n",
       "      <td>zroberson@apple.com</td>\n",
       "      <td>2</td>\n",
       "    </tr>\n",
       "  </tbody>\n",
       "</table>\n",
       "<p>605 rows × 2 columns</p>\n",
       "</div>"
      ],
      "text/plain": [
       "                 derived_mail  total_emails_opened_last_two_weeks\n",
       "0       a.akingboju@apple.com                                   7\n",
       "1         a_asemota@apple.com                                   6\n",
       "2          a_tallas@apple.com                                   6\n",
       "3        aabraham24@apple.com                                   6\n",
       "4    aaron_s_ushiro@apple.com                                   6\n",
       "..                        ...                                 ...\n",
       "600   zach.marshall@apple.com                                   7\n",
       "601       zachary.m@apple.com                                   8\n",
       "602    zhaohui_yuan@apple.com                                   8\n",
       "603        ziye_liu@apple.com                                   4\n",
       "604       zroberson@apple.com                                   2\n",
       "\n",
       "[605 rows x 2 columns]"
      ]
     },
     "execution_count": 537,
     "metadata": {},
     "output_type": "execute_result"
    }
   ],
   "source": [
    "total_emails_opened_last_two_weeks"
   ]
  },
  {
   "cell_type": "code",
   "execution_count": null,
   "id": "18eaaa39-a300-4b06-856e-90857669a2d4",
   "metadata": {},
   "outputs": [],
   "source": []
  },
  {
   "cell_type": "code",
   "execution_count": 540,
   "id": "63a328d7-ccb8-4b61-ace0-bec630859e3c",
   "metadata": {},
   "outputs": [],
   "source": [
    "total_emails_opened_last_four_weeks = (\n",
    "    four_weeks_ago_propspect_open_emails\n",
    "    .groupby('derived_mail')\n",
    "    .size()\n",
    "    .reset_index(name='total_emails_opened_last_four_weeks')\n",
    ")"
   ]
  },
  {
   "cell_type": "code",
   "execution_count": 542,
   "id": "82844a23-503e-412f-91f0-ce05e89ab80c",
   "metadata": {},
   "outputs": [
    {
     "data": {
      "text/html": [
       "<div>\n",
       "<style scoped>\n",
       "    .dataframe tbody tr th:only-of-type {\n",
       "        vertical-align: middle;\n",
       "    }\n",
       "\n",
       "    .dataframe tbody tr th {\n",
       "        vertical-align: top;\n",
       "    }\n",
       "\n",
       "    .dataframe thead th {\n",
       "        text-align: right;\n",
       "    }\n",
       "</style>\n",
       "<table border=\"1\" class=\"dataframe\">\n",
       "  <thead>\n",
       "    <tr style=\"text-align: right;\">\n",
       "      <th></th>\n",
       "      <th>derived_mail</th>\n",
       "      <th>total_emails_opened_last_four_weeks</th>\n",
       "    </tr>\n",
       "  </thead>\n",
       "  <tbody>\n",
       "    <tr>\n",
       "      <th>0</th>\n",
       "      <td>a.akingboju@apple.com</td>\n",
       "      <td>14</td>\n",
       "    </tr>\n",
       "    <tr>\n",
       "      <th>1</th>\n",
       "      <td>a_asemota@apple.com</td>\n",
       "      <td>11</td>\n",
       "    </tr>\n",
       "    <tr>\n",
       "      <th>2</th>\n",
       "      <td>a_tallas@apple.com</td>\n",
       "      <td>14</td>\n",
       "    </tr>\n",
       "    <tr>\n",
       "      <th>3</th>\n",
       "      <td>aabraham24@apple.com</td>\n",
       "      <td>17</td>\n",
       "    </tr>\n",
       "    <tr>\n",
       "      <th>4</th>\n",
       "      <td>aahrabi@apple.com</td>\n",
       "      <td>2</td>\n",
       "    </tr>\n",
       "    <tr>\n",
       "      <th>...</th>\n",
       "      <td>...</td>\n",
       "      <td>...</td>\n",
       "    </tr>\n",
       "    <tr>\n",
       "      <th>833</th>\n",
       "      <td>zach.marshall@apple.com</td>\n",
       "      <td>13</td>\n",
       "    </tr>\n",
       "    <tr>\n",
       "      <th>834</th>\n",
       "      <td>zachary.m@apple.com</td>\n",
       "      <td>15</td>\n",
       "    </tr>\n",
       "    <tr>\n",
       "      <th>835</th>\n",
       "      <td>zhaohui_yuan@apple.com</td>\n",
       "      <td>18</td>\n",
       "    </tr>\n",
       "    <tr>\n",
       "      <th>836</th>\n",
       "      <td>ziye_liu@apple.com</td>\n",
       "      <td>12</td>\n",
       "    </tr>\n",
       "    <tr>\n",
       "      <th>837</th>\n",
       "      <td>zroberson@apple.com</td>\n",
       "      <td>14</td>\n",
       "    </tr>\n",
       "  </tbody>\n",
       "</table>\n",
       "<p>838 rows × 2 columns</p>\n",
       "</div>"
      ],
      "text/plain": [
       "                derived_mail  total_emails_opened_last_four_weeks\n",
       "0      a.akingboju@apple.com                                   14\n",
       "1        a_asemota@apple.com                                   11\n",
       "2         a_tallas@apple.com                                   14\n",
       "3       aabraham24@apple.com                                   17\n",
       "4          aahrabi@apple.com                                    2\n",
       "..                       ...                                  ...\n",
       "833  zach.marshall@apple.com                                   13\n",
       "834      zachary.m@apple.com                                   15\n",
       "835   zhaohui_yuan@apple.com                                   18\n",
       "836       ziye_liu@apple.com                                   12\n",
       "837      zroberson@apple.com                                   14\n",
       "\n",
       "[838 rows x 2 columns]"
      ]
     },
     "execution_count": 542,
     "metadata": {},
     "output_type": "execute_result"
    }
   ],
   "source": [
    "total_emails_opened_last_four_weeks"
   ]
  },
  {
   "cell_type": "code",
   "execution_count": 544,
   "id": "431a274d-2d66-4705-810d-01ab261efe19",
   "metadata": {},
   "outputs": [],
   "source": [
    "total_emails_opened_last_eight_weeks = (\n",
    "    eight_weeks_ago_propspect_open_emails\n",
    "    .groupby('derived_mail')\n",
    "    .size()\n",
    "    .reset_index(name='total_emails_opened_last_eight_weeks')\n",
    ")"
   ]
  },
  {
   "cell_type": "code",
   "execution_count": null,
   "id": "502a9566-4483-4824-8753-7583990608f7",
   "metadata": {},
   "outputs": [],
   "source": []
  },
  {
   "cell_type": "code",
   "execution_count": 547,
   "id": "eb463171-b94f-4ab8-a4b7-d80cf883c000",
   "metadata": {},
   "outputs": [
    {
     "data": {
      "text/html": [
       "<div>\n",
       "<style scoped>\n",
       "    .dataframe tbody tr th:only-of-type {\n",
       "        vertical-align: middle;\n",
       "    }\n",
       "\n",
       "    .dataframe tbody tr th {\n",
       "        vertical-align: top;\n",
       "    }\n",
       "\n",
       "    .dataframe thead th {\n",
       "        text-align: right;\n",
       "    }\n",
       "</style>\n",
       "<table border=\"1\" class=\"dataframe\">\n",
       "  <thead>\n",
       "    <tr style=\"text-align: right;\">\n",
       "      <th></th>\n",
       "      <th>derived_mail</th>\n",
       "      <th>total_emails_opened_last_eight_weeks</th>\n",
       "    </tr>\n",
       "  </thead>\n",
       "  <tbody>\n",
       "    <tr>\n",
       "      <th>0</th>\n",
       "      <td>a.akingboju@apple.com</td>\n",
       "      <td>22</td>\n",
       "    </tr>\n",
       "    <tr>\n",
       "      <th>1</th>\n",
       "      <td>a.wilcox@nexteraenergy.com</td>\n",
       "      <td>2</td>\n",
       "    </tr>\n",
       "    <tr>\n",
       "      <th>2</th>\n",
       "      <td>a_asemota@apple.com</td>\n",
       "      <td>19</td>\n",
       "    </tr>\n",
       "    <tr>\n",
       "      <th>3</th>\n",
       "      <td>a_tallas@apple.com</td>\n",
       "      <td>20</td>\n",
       "    </tr>\n",
       "    <tr>\n",
       "      <th>4</th>\n",
       "      <td>aabraham24@apple.com</td>\n",
       "      <td>35</td>\n",
       "    </tr>\n",
       "    <tr>\n",
       "      <th>...</th>\n",
       "      <td>...</td>\n",
       "      <td>...</td>\n",
       "    </tr>\n",
       "    <tr>\n",
       "      <th>3636</th>\n",
       "      <td>zhaohui_yuan@apple.com</td>\n",
       "      <td>18</td>\n",
       "    </tr>\n",
       "    <tr>\n",
       "      <th>3637</th>\n",
       "      <td>ziye_liu@apple.com</td>\n",
       "      <td>16</td>\n",
       "    </tr>\n",
       "    <tr>\n",
       "      <th>3638</th>\n",
       "      <td>zoe.taylor@walmart.com</td>\n",
       "      <td>1</td>\n",
       "    </tr>\n",
       "    <tr>\n",
       "      <th>3639</th>\n",
       "      <td>zroberson@apple.com</td>\n",
       "      <td>36</td>\n",
       "    </tr>\n",
       "    <tr>\n",
       "      <th>3640</th>\n",
       "      <td>zwadie.castro@jacobs.com</td>\n",
       "      <td>2</td>\n",
       "    </tr>\n",
       "  </tbody>\n",
       "</table>\n",
       "<p>3641 rows × 2 columns</p>\n",
       "</div>"
      ],
      "text/plain": [
       "                    derived_mail  total_emails_opened_last_eight_weeks\n",
       "0          a.akingboju@apple.com                                    22\n",
       "1     a.wilcox@nexteraenergy.com                                     2\n",
       "2            a_asemota@apple.com                                    19\n",
       "3             a_tallas@apple.com                                    20\n",
       "4           aabraham24@apple.com                                    35\n",
       "...                          ...                                   ...\n",
       "3636      zhaohui_yuan@apple.com                                    18\n",
       "3637          ziye_liu@apple.com                                    16\n",
       "3638      zoe.taylor@walmart.com                                     1\n",
       "3639         zroberson@apple.com                                    36\n",
       "3640    zwadie.castro@jacobs.com                                     2\n",
       "\n",
       "[3641 rows x 2 columns]"
      ]
     },
     "execution_count": 547,
     "metadata": {},
     "output_type": "execute_result"
    }
   ],
   "source": [
    "total_emails_opened_last_eight_weeks"
   ]
  },
  {
   "cell_type": "code",
   "execution_count": null,
   "id": "c7b074bc-2f86-4eb9-895a-a3b05c6e4fbb",
   "metadata": {},
   "outputs": [],
   "source": []
  },
  {
   "cell_type": "code",
   "execution_count": 550,
   "id": "23711706-fe5c-475f-80b1-ba4f4ffcbbf1",
   "metadata": {},
   "outputs": [],
   "source": [
    "total_emails_opened_last_twelve_weeks = (\n",
    "    twelve_weeks_ago_propspect_open_emails\n",
    "    .groupby('derived_mail')\n",
    "    .size()\n",
    "    .reset_index(name='total_emails_opened_last_twelve_weeks')\n",
    ")"
   ]
  },
  {
   "cell_type": "code",
   "execution_count": 552,
   "id": "769dceac-46dc-425c-baad-f87c38846985",
   "metadata": {},
   "outputs": [
    {
     "data": {
      "text/html": [
       "<div>\n",
       "<style scoped>\n",
       "    .dataframe tbody tr th:only-of-type {\n",
       "        vertical-align: middle;\n",
       "    }\n",
       "\n",
       "    .dataframe tbody tr th {\n",
       "        vertical-align: top;\n",
       "    }\n",
       "\n",
       "    .dataframe thead th {\n",
       "        text-align: right;\n",
       "    }\n",
       "</style>\n",
       "<table border=\"1\" class=\"dataframe\">\n",
       "  <thead>\n",
       "    <tr style=\"text-align: right;\">\n",
       "      <th></th>\n",
       "      <th>derived_mail</th>\n",
       "      <th>total_emails_opened_last_twelve_weeks</th>\n",
       "    </tr>\n",
       "  </thead>\n",
       "  <tbody>\n",
       "    <tr>\n",
       "      <th>0</th>\n",
       "      <td>a.akingboju@apple.com</td>\n",
       "      <td>22</td>\n",
       "    </tr>\n",
       "    <tr>\n",
       "      <th>1</th>\n",
       "      <td>a.wilcox@nexteraenergy.com</td>\n",
       "      <td>4</td>\n",
       "    </tr>\n",
       "    <tr>\n",
       "      <th>2</th>\n",
       "      <td>a.zamanillo@ferrovial.com</td>\n",
       "      <td>2</td>\n",
       "    </tr>\n",
       "    <tr>\n",
       "      <th>3</th>\n",
       "      <td>a_asemota@apple.com</td>\n",
       "      <td>19</td>\n",
       "    </tr>\n",
       "    <tr>\n",
       "      <th>4</th>\n",
       "      <td>a_tallas@apple.com</td>\n",
       "      <td>20</td>\n",
       "    </tr>\n",
       "    <tr>\n",
       "      <th>...</th>\n",
       "      <td>...</td>\n",
       "      <td>...</td>\n",
       "    </tr>\n",
       "    <tr>\n",
       "      <th>4278</th>\n",
       "      <td>ziye_liu@apple.com</td>\n",
       "      <td>16</td>\n",
       "    </tr>\n",
       "    <tr>\n",
       "      <th>4279</th>\n",
       "      <td>zluo@amazon.com</td>\n",
       "      <td>1</td>\n",
       "    </tr>\n",
       "    <tr>\n",
       "      <th>4280</th>\n",
       "      <td>zoe.taylor@walmart.com</td>\n",
       "      <td>1</td>\n",
       "    </tr>\n",
       "    <tr>\n",
       "      <th>4281</th>\n",
       "      <td>zroberson@apple.com</td>\n",
       "      <td>58</td>\n",
       "    </tr>\n",
       "    <tr>\n",
       "      <th>4282</th>\n",
       "      <td>zwadie.castro@jacobs.com</td>\n",
       "      <td>2</td>\n",
       "    </tr>\n",
       "  </tbody>\n",
       "</table>\n",
       "<p>4283 rows × 2 columns</p>\n",
       "</div>"
      ],
      "text/plain": [
       "                    derived_mail  total_emails_opened_last_twelve_weeks\n",
       "0          a.akingboju@apple.com                                     22\n",
       "1     a.wilcox@nexteraenergy.com                                      4\n",
       "2      a.zamanillo@ferrovial.com                                      2\n",
       "3            a_asemota@apple.com                                     19\n",
       "4             a_tallas@apple.com                                     20\n",
       "...                          ...                                    ...\n",
       "4278          ziye_liu@apple.com                                     16\n",
       "4279             zluo@amazon.com                                      1\n",
       "4280      zoe.taylor@walmart.com                                      1\n",
       "4281         zroberson@apple.com                                     58\n",
       "4282    zwadie.castro@jacobs.com                                      2\n",
       "\n",
       "[4283 rows x 2 columns]"
      ]
     },
     "execution_count": 552,
     "metadata": {},
     "output_type": "execute_result"
    }
   ],
   "source": [
    "total_emails_opened_last_twelve_weeks"
   ]
  },
  {
   "cell_type": "code",
   "execution_count": null,
   "id": "a008e691-b449-4e74-91c7-6d88a3543d0e",
   "metadata": {},
   "outputs": [],
   "source": []
  },
  {
   "cell_type": "code",
   "execution_count": 555,
   "id": "264fbbd4-c54a-4ea3-8ca3-dfff10fdbb35",
   "metadata": {},
   "outputs": [],
   "source": [
    "unique_prop_firmo_data=unique_prop_firmo_data.merge(total_emails_opened_last_two_weeks,on='derived_mail',how='left')"
   ]
  },
  {
   "cell_type": "code",
   "execution_count": 556,
   "id": "6d7f0f0b-7ed5-48ac-9dad-3289b9811496",
   "metadata": {},
   "outputs": [],
   "source": [
    "unique_prop_firmo_data=unique_prop_firmo_data.merge(total_emails_opened_last_four_weeks,on='derived_mail',how='left')"
   ]
  },
  {
   "cell_type": "code",
   "execution_count": 558,
   "id": "0d7409e3-f1d1-4063-9301-e84e64a7f619",
   "metadata": {},
   "outputs": [],
   "source": [
    "unique_prop_firmo_data=unique_prop_firmo_data.merge(total_emails_opened_last_eight_weeks,on='derived_mail',how='left')"
   ]
  },
  {
   "cell_type": "code",
   "execution_count": 560,
   "id": "52d7d920-1874-48c2-92e5-17e50fb19482",
   "metadata": {},
   "outputs": [],
   "source": [
    "unique_prop_firmo_data=unique_prop_firmo_data.merge(total_emails_opened_last_twelve_weeks,on='derived_mail',how='left')"
   ]
  },
  {
   "cell_type": "code",
   "execution_count": null,
   "id": "09029169-a698-470c-9ace-9e8df738f5b7",
   "metadata": {},
   "outputs": [],
   "source": []
  },
  {
   "cell_type": "markdown",
   "id": "3acc0666-2714-45b9-a220-a09f677baf7a",
   "metadata": {},
   "source": [
    "## Total Emails Sent On Week-Ends (Saturday - Sunday)"
   ]
  },
  {
   "cell_type": "code",
   "execution_count": 565,
   "id": "e3972cf2-b29a-4e84-8abf-e2753c92b4f4",
   "metadata": {},
   "outputs": [],
   "source": [
    "email_engagements['day_of_week']=email_engagements[\"status_time_utc\"].dt.day_name()"
   ]
  },
  {
   "cell_type": "code",
   "execution_count": 566,
   "id": "6bf6696a-5ffd-464c-bbac-315c074fc696",
   "metadata": {},
   "outputs": [],
   "source": [
    "sent_emails=email_engagements[email_engagements['is_email_sent']==1]"
   ]
  },
  {
   "cell_type": "code",
   "execution_count": 571,
   "id": "1da52de2-3896-4dda-be61-522fb18d7f76",
   "metadata": {},
   "outputs": [
    {
     "data": {
      "text/plain": [
       "day_of_week\n",
       "Friday       881085\n",
       "Thursday     870962\n",
       "Tuesday      864352\n",
       "Monday       853710\n",
       "Wednesday    850332\n",
       "Saturday     807433\n",
       "Sunday         8532\n",
       "Name: count, dtype: int64"
      ]
     },
     "execution_count": 571,
     "metadata": {},
     "output_type": "execute_result"
    }
   ],
   "source": [
    "sent_emails['day_of_week'].value_counts()"
   ]
  },
  {
   "cell_type": "code",
   "execution_count": 573,
   "id": "b85de1c4-6c87-476e-bd46-347ad8af03c3",
   "metadata": {},
   "outputs": [],
   "source": [
    "total_emails_sent_week_ends=sent_emails[sent_emails['day_of_week'].isin(['Saturday','Sunday'])].groupby('derived_mail').size().reset_index(name='total_emails_sent_week_ends')"
   ]
  },
  {
   "cell_type": "code",
   "execution_count": 575,
   "id": "ac4c2191-efd1-4dd0-8161-8f55abb0fdeb",
   "metadata": {},
   "outputs": [
    {
     "data": {
      "text/html": [
       "<div>\n",
       "<style scoped>\n",
       "    .dataframe tbody tr th:only-of-type {\n",
       "        vertical-align: middle;\n",
       "    }\n",
       "\n",
       "    .dataframe tbody tr th {\n",
       "        vertical-align: top;\n",
       "    }\n",
       "\n",
       "    .dataframe thead th {\n",
       "        text-align: right;\n",
       "    }\n",
       "</style>\n",
       "<table border=\"1\" class=\"dataframe\">\n",
       "  <thead>\n",
       "    <tr style=\"text-align: right;\">\n",
       "      <th></th>\n",
       "      <th>derived_mail</th>\n",
       "      <th>total_emails_sent_week_ends</th>\n",
       "    </tr>\n",
       "  </thead>\n",
       "  <tbody>\n",
       "    <tr>\n",
       "      <th>0</th>\n",
       "      <td>9fake@thomasfellows.com</td>\n",
       "      <td>1</td>\n",
       "    </tr>\n",
       "    <tr>\n",
       "      <th>1</th>\n",
       "      <td>Adaku.Ude@sfdph.org</td>\n",
       "      <td>2</td>\n",
       "    </tr>\n",
       "    <tr>\n",
       "      <th>2</th>\n",
       "      <td>CarlosOliverMontejano.Ramirez@magna.com</td>\n",
       "      <td>5</td>\n",
       "    </tr>\n",
       "    <tr>\n",
       "      <th>3</th>\n",
       "      <td>GRogers@lilly.com</td>\n",
       "      <td>1</td>\n",
       "    </tr>\n",
       "    <tr>\n",
       "      <th>4</th>\n",
       "      <td>Ian.Corn@lilly.com</td>\n",
       "      <td>1</td>\n",
       "    </tr>\n",
       "    <tr>\n",
       "      <th>...</th>\n",
       "      <td>...</td>\n",
       "      <td>...</td>\n",
       "    </tr>\n",
       "    <tr>\n",
       "      <th>131405</th>\n",
       "      <td>Ø³Ø±Ù‰.Ø§Ù„Ø«Ø§Ø¨Øª@aecom.com</td>\n",
       "      <td>10</td>\n",
       "    </tr>\n",
       "    <tr>\n",
       "      <th>131406</th>\n",
       "      <td>Ø¹Ø¨Ø¯Ø§Ù„Ø±Ø­Ù…Ù†.Ø§Ù„Ø¯Ø±Ø¯ÙŠØ±ÙŠ@aecom.com</td>\n",
       "      <td>5</td>\n",
       "    </tr>\n",
       "    <tr>\n",
       "      <th>131407</th>\n",
       "      <td>Ù…Ø­Ù…Ø¯.Ø­Ø³ÙŠÙ†@aecom.com</td>\n",
       "      <td>1</td>\n",
       "    </tr>\n",
       "    <tr>\n",
       "      <th>131408</th>\n",
       "      <td>â€žâ€žm.herigstad@abbvie.com</td>\n",
       "      <td>6</td>\n",
       "    </tr>\n",
       "    <tr>\n",
       "      <th>131409</th>\n",
       "      <td>è”šæ±ÿ.æ–‡@gm.com</td>\n",
       "      <td>4</td>\n",
       "    </tr>\n",
       "  </tbody>\n",
       "</table>\n",
       "<p>131410 rows × 2 columns</p>\n",
       "</div>"
      ],
      "text/plain": [
       "                                         derived_mail  \\\n",
       "0                             9fake@thomasfellows.com   \n",
       "1                                 Adaku.Ude@sfdph.org   \n",
       "2             CarlosOliverMontejano.Ramirez@magna.com   \n",
       "3                                   GRogers@lilly.com   \n",
       "4                                  Ian.Corn@lilly.com   \n",
       "...                                               ...   \n",
       "131405                  Ø³Ø±Ù‰.Ø§Ù„Ø«Ø§Ø¨Øª@aecom.com   \n",
       "131406  Ø¹Ø¨Ø¯Ø§Ù„Ø±Ø­Ù…Ù†.Ø§Ù„Ø¯Ø±Ø¯ÙŠØ±ÙŠ@aecom.com   \n",
       "131407                    Ù…Ø­Ù…Ø¯.Ø­Ø³ÙŠÙ†@aecom.com   \n",
       "131408                   â€žâ€žm.herigstad@abbvie.com   \n",
       "131409                              è”šæ±ÿ.æ–‡@gm.com   \n",
       "\n",
       "        total_emails_sent_week_ends  \n",
       "0                                 1  \n",
       "1                                 2  \n",
       "2                                 5  \n",
       "3                                 1  \n",
       "4                                 1  \n",
       "...                             ...  \n",
       "131405                           10  \n",
       "131406                            5  \n",
       "131407                            1  \n",
       "131408                            6  \n",
       "131409                            4  \n",
       "\n",
       "[131410 rows x 2 columns]"
      ]
     },
     "execution_count": 575,
     "metadata": {},
     "output_type": "execute_result"
    }
   ],
   "source": [
    "total_emails_sent_week_ends"
   ]
  },
  {
   "cell_type": "code",
   "execution_count": null,
   "id": "f644419d-ac3b-4f1d-bf01-c4ca2982994d",
   "metadata": {},
   "outputs": [],
   "source": []
  },
  {
   "cell_type": "code",
   "execution_count": 577,
   "id": "394d7346-b438-471b-a3ac-003c91d59bb2",
   "metadata": {},
   "outputs": [],
   "source": [
    "unique_prop_firmo_data=unique_prop_firmo_data.merge(total_emails_sent_week_ends,on='derived_mail',how='left')"
   ]
  },
  {
   "cell_type": "code",
   "execution_count": null,
   "id": "21a84a13-954d-4640-951d-10fdf97c401c",
   "metadata": {},
   "outputs": [],
   "source": []
  },
  {
   "cell_type": "markdown",
   "id": "e8fa2567-2b4b-4bc5-b7be-7d0e969082b8",
   "metadata": {},
   "source": [
    "## Bounce Rate"
   ]
  },
  {
   "cell_type": "code",
   "execution_count": null,
   "id": "95b6c33f-ca9f-444f-989c-3df62575b62c",
   "metadata": {},
   "outputs": [],
   "source": []
  },
  {
   "cell_type": "code",
   "execution_count": 579,
   "id": "5185cbc8-7cee-4c48-86c0-85a152cd3de4",
   "metadata": {},
   "outputs": [],
   "source": [
    "unique_prop_firmo_data[\"bounce_rate\"]=np.where(\n",
    "    ((unique_prop_firmo_data[\"total_emails_bounced\"] > 0) & (unique_prop_firmo_data[\"total_emails_sent\"] > 0)),\n",
    "    unique_prop_firmo_data[\"total_emails_bounced\"] / unique_prop_firmo_data[\"total_emails_sent\"],\n",
    "    0\n",
    ")"
   ]
  },
  {
   "cell_type": "code",
   "execution_count": 581,
   "id": "60635544-c0ee-47d1-b397-2b9b1386323f",
   "metadata": {},
   "outputs": [
    {
     "data": {
      "text/plain": [
       "bounce_rate\n",
       "0.000000    128813\n",
       "1.000000      1894\n",
       "3.000000      1606\n",
       "0.500000      1394\n",
       "4.000000      1075\n",
       "             ...  \n",
       "0.089552         1\n",
       "0.044776         1\n",
       "0.705882         1\n",
       "0.085106         1\n",
       "0.764706         1\n",
       "Name: count, Length: 572, dtype: int64"
      ]
     },
     "execution_count": 581,
     "metadata": {},
     "output_type": "execute_result"
    }
   ],
   "source": [
    "unique_prop_firmo_data[\"bounce_rate\"].value_counts()"
   ]
  },
  {
   "cell_type": "code",
   "execution_count": null,
   "id": "f050cf66-190d-4a4d-9429-360466e7f816",
   "metadata": {},
   "outputs": [],
   "source": []
  },
  {
   "cell_type": "markdown",
   "id": "47d8fad1-8e4d-4bc3-ae9d-295dce328b30",
   "metadata": {},
   "source": [
    "## Open Rate"
   ]
  },
  {
   "cell_type": "code",
   "execution_count": 583,
   "id": "28deca86-a929-43bb-bb7b-84e13edec3fb",
   "metadata": {},
   "outputs": [],
   "source": [
    "unique_prop_firmo_data[\"email_open_rate\"]=np.where(\n",
    "    ((unique_prop_firmo_data[\"total_emails_opened\"] > 0) & (unique_prop_firmo_data[\"total_emails_sent\"] > 0)),\n",
    "    unique_prop_firmo_data[\"total_emails_opened\"] / unique_prop_firmo_data[\"total_emails_sent\"],\n",
    "    0\n",
    ")"
   ]
  },
  {
   "cell_type": "code",
   "execution_count": null,
   "id": "5a094c03-2943-4249-b501-e155dcd359ae",
   "metadata": {},
   "outputs": [],
   "source": []
  },
  {
   "cell_type": "markdown",
   "id": "9a425320-7361-452a-80b0-da26ba02ba42",
   "metadata": {},
   "source": [
    "## Click Rate"
   ]
  },
  {
   "cell_type": "code",
   "execution_count": 585,
   "id": "a57ddafe-a23c-476b-95e7-495329459101",
   "metadata": {},
   "outputs": [],
   "source": [
    "unique_prop_firmo_data[\"email_click_rate\"]=np.where(\n",
    "    ((unique_prop_firmo_data[\"total_emails_clicked\"] > 0) & (unique_prop_firmo_data[\"total_emails_sent\"] > 0)),\n",
    "    unique_prop_firmo_data[\"total_emails_clicked\"] / unique_prop_firmo_data[\"total_emails_sent\"],\n",
    "    0\n",
    ")"
   ]
  },
  {
   "cell_type": "code",
   "execution_count": null,
   "id": "15911794-d5b2-4226-9827-b3c261cc4a9e",
   "metadata": {},
   "outputs": [],
   "source": []
  },
  {
   "cell_type": "markdown",
   "id": "d113bacd-c021-4c21-93eb-3edc8e65fe59",
   "metadata": {},
   "source": [
    "## Last Email Status"
   ]
  },
  {
   "cell_type": "code",
   "execution_count": null,
   "id": "b3930bb4-ef43-471f-9aea-3772ba390204",
   "metadata": {},
   "outputs": [],
   "source": []
  },
  {
   "cell_type": "code",
   "execution_count": 587,
   "id": "1473c3f0-49e3-4edf-afe6-62c797951813",
   "metadata": {},
   "outputs": [],
   "source": [
    "email_engagements.sort_values(by=['derived_mail','status_time_utc'],inplace=True)"
   ]
  },
  {
   "cell_type": "code",
   "execution_count": 589,
   "id": "86ea2a72-d01c-4d19-8a6a-37688b0cb795",
   "metadata": {},
   "outputs": [],
   "source": [
    "prospect_last_email_status=email_engagements[email_engagements['status'].isin(['EMAIL_SENT', 'BOUNCED',\n",
    "       'EMAIL_OPENED', 'EMAIL_CLICKED', 'UNSUBSCRIBED', 'RESPONDED'])].groupby('derived_mail')['status'].last().reset_index(name='last_email_status')"
   ]
  },
  {
   "cell_type": "code",
   "execution_count": 590,
   "id": "b20a96f8-9a8d-4bf5-b12d-c5e0051dea9e",
   "metadata": {},
   "outputs": [
    {
     "data": {
      "text/html": [
       "<div>\n",
       "<style scoped>\n",
       "    .dataframe tbody tr th:only-of-type {\n",
       "        vertical-align: middle;\n",
       "    }\n",
       "\n",
       "    .dataframe tbody tr th {\n",
       "        vertical-align: top;\n",
       "    }\n",
       "\n",
       "    .dataframe thead th {\n",
       "        text-align: right;\n",
       "    }\n",
       "</style>\n",
       "<table border=\"1\" class=\"dataframe\">\n",
       "  <thead>\n",
       "    <tr style=\"text-align: right;\">\n",
       "      <th></th>\n",
       "      <th>derived_mail</th>\n",
       "      <th>last_email_status</th>\n",
       "    </tr>\n",
       "  </thead>\n",
       "  <tbody>\n",
       "    <tr>\n",
       "      <th>0</th>\n",
       "      <td>9fake@thomasfellows.com</td>\n",
       "      <td>BOUNCED</td>\n",
       "    </tr>\n",
       "    <tr>\n",
       "      <th>1</th>\n",
       "      <td>Adaku.Ude@sfdph.org</td>\n",
       "      <td>EMAIL_SENT</td>\n",
       "    </tr>\n",
       "    <tr>\n",
       "      <th>2</th>\n",
       "      <td>Ahess@amgen.com</td>\n",
       "      <td>BOUNCED</td>\n",
       "    </tr>\n",
       "    <tr>\n",
       "      <th>3</th>\n",
       "      <td>Carlos.Perez@thermofisher.com</td>\n",
       "      <td>EMAIL_SENT</td>\n",
       "    </tr>\n",
       "    <tr>\n",
       "      <th>4</th>\n",
       "      <td>CarlosOliverMontejano.Ramirez@magna.com</td>\n",
       "      <td>BOUNCED</td>\n",
       "    </tr>\n",
       "    <tr>\n",
       "      <th>...</th>\n",
       "      <td>...</td>\n",
       "      <td>...</td>\n",
       "    </tr>\n",
       "    <tr>\n",
       "      <th>157079</th>\n",
       "      <td>Ø¹Ø¨Ø¯Ø§Ù„Ø±Ø­Ù…Ù†.Ø§Ù„Ø¯Ø±Ø¯ÙŠØ±ÙŠ@aecom.com</td>\n",
       "      <td>EMAIL_SENT</td>\n",
       "    </tr>\n",
       "    <tr>\n",
       "      <th>157080</th>\n",
       "      <td>Ù…Ø­Ù…Ø¯.Ø­Ø³ÙŠÙ†@aecom.com</td>\n",
       "      <td>EMAIL_SENT</td>\n",
       "    </tr>\n",
       "    <tr>\n",
       "      <th>157081</th>\n",
       "      <td>â€žâ€žm.herigstad@abbvie.com</td>\n",
       "      <td>EMAIL_SENT</td>\n",
       "    </tr>\n",
       "    <tr>\n",
       "      <th>157082</th>\n",
       "      <td>ä½³æ›¹@its.jnj.com</td>\n",
       "      <td>EMAIL_SENT</td>\n",
       "    </tr>\n",
       "    <tr>\n",
       "      <th>157083</th>\n",
       "      <td>è”šæ±ÿ.æ–‡@gm.com</td>\n",
       "      <td>EMAIL_SENT</td>\n",
       "    </tr>\n",
       "  </tbody>\n",
       "</table>\n",
       "<p>157084 rows × 2 columns</p>\n",
       "</div>"
      ],
      "text/plain": [
       "                                         derived_mail last_email_status\n",
       "0                             9fake@thomasfellows.com           BOUNCED\n",
       "1                                 Adaku.Ude@sfdph.org        EMAIL_SENT\n",
       "2                                     Ahess@amgen.com           BOUNCED\n",
       "3                       Carlos.Perez@thermofisher.com        EMAIL_SENT\n",
       "4             CarlosOliverMontejano.Ramirez@magna.com           BOUNCED\n",
       "...                                               ...               ...\n",
       "157079  Ø¹Ø¨Ø¯Ø§Ù„Ø±Ø­Ù…Ù†.Ø§Ù„Ø¯Ø±Ø¯ÙŠØ±ÙŠ@aecom.com        EMAIL_SENT\n",
       "157080                    Ù…Ø­Ù…Ø¯.Ø­Ø³ÙŠÙ†@aecom.com        EMAIL_SENT\n",
       "157081                   â€žâ€žm.herigstad@abbvie.com        EMAIL_SENT\n",
       "157082                             ä½³æ›¹@its.jnj.com        EMAIL_SENT\n",
       "157083                              è”šæ±ÿ.æ–‡@gm.com        EMAIL_SENT\n",
       "\n",
       "[157084 rows x 2 columns]"
      ]
     },
     "execution_count": 590,
     "metadata": {},
     "output_type": "execute_result"
    }
   ],
   "source": [
    "prospect_last_email_status"
   ]
  },
  {
   "cell_type": "code",
   "execution_count": 593,
   "id": "68a917e3-4ddf-48bb-bc7f-831cf971b399",
   "metadata": {},
   "outputs": [],
   "source": [
    "prospect_last_email_status['last_email_status']=prospect_last_email_status['last_email_status'].replace('RESPONDED','EMAIL_OPENED')"
   ]
  },
  {
   "cell_type": "code",
   "execution_count": null,
   "id": "a17b5d22-e61d-4fe7-bd78-410d27651175",
   "metadata": {},
   "outputs": [],
   "source": []
  },
  {
   "cell_type": "code",
   "execution_count": 595,
   "id": "a2c91479-78bd-4d37-8a93-3a6fe0e9345b",
   "metadata": {},
   "outputs": [],
   "source": [
    "unique_prop_firmo_data=unique_prop_firmo_data.merge(prospect_last_email_status,on='derived_mail',how='left')"
   ]
  },
  {
   "cell_type": "code",
   "execution_count": null,
   "id": "76f08cd6-143e-492d-aaa7-edc5f6ea2ded",
   "metadata": {},
   "outputs": [],
   "source": []
  },
  {
   "cell_type": "code",
   "execution_count": 598,
   "id": "a69ec8c0-6ac5-4ef3-8991-2636ae6d198b",
   "metadata": {},
   "outputs": [
    {
     "data": {
      "text/plain": [
       "last_email_status\n",
       "EMAIL_SENT       115100\n",
       "BOUNCED           40138\n",
       "EMAIL_OPENED        454\n",
       "UNSUBSCRIBED        428\n",
       "EMAIL_CLICKED       408\n",
       "Name: count, dtype: int64"
      ]
     },
     "execution_count": 598,
     "metadata": {},
     "output_type": "execute_result"
    }
   ],
   "source": [
    "unique_prop_firmo_data['last_email_status'].value_counts()"
   ]
  },
  {
   "cell_type": "code",
   "execution_count": null,
   "id": "280562c9-d09b-42d9-a255-3c699f66ae28",
   "metadata": {},
   "outputs": [],
   "source": []
  },
  {
   "cell_type": "markdown",
   "id": "c7d83a4d-4017-4505-8757-a20d305ed916",
   "metadata": {},
   "source": [
    "## Days Since Last Email Opened"
   ]
  },
  {
   "cell_type": "code",
   "execution_count": null,
   "id": "33f0b406-3968-49b3-9c13-56486cc50494",
   "metadata": {},
   "outputs": [],
   "source": []
  },
  {
   "cell_type": "code",
   "execution_count": 846,
   "id": "60d17660-e537-424a-9f0e-7bbba1644231",
   "metadata": {},
   "outputs": [],
   "source": [
    "email_engagements['status_time_utc']=pd.to_datetime(email_engagements['status_time_utc'],utc=True)"
   ]
  },
  {
   "cell_type": "code",
   "execution_count": 848,
   "id": "80f3d2b6-f0c4-41fd-8702-d35a0cd45cfc",
   "metadata": {},
   "outputs": [],
   "source": [
    "prospect_last_email_open_dates=email_engagements[email_engagements['is_email_opened']==1].groupby('derived_mail')['status_time_utc'].max().reset_index(name='last_email_open_date')"
   ]
  },
  {
   "cell_type": "code",
   "execution_count": 850,
   "id": "5380ec8c-bc4c-4ab8-9605-f5676188f188",
   "metadata": {},
   "outputs": [
    {
     "data": {
      "text/html": [
       "<div>\n",
       "<style scoped>\n",
       "    .dataframe tbody tr th:only-of-type {\n",
       "        vertical-align: middle;\n",
       "    }\n",
       "\n",
       "    .dataframe tbody tr th {\n",
       "        vertical-align: top;\n",
       "    }\n",
       "\n",
       "    .dataframe thead th {\n",
       "        text-align: right;\n",
       "    }\n",
       "</style>\n",
       "<table border=\"1\" class=\"dataframe\">\n",
       "  <thead>\n",
       "    <tr style=\"text-align: right;\">\n",
       "      <th></th>\n",
       "      <th>derived_mail</th>\n",
       "      <th>last_email_open_date</th>\n",
       "    </tr>\n",
       "  </thead>\n",
       "  <tbody>\n",
       "    <tr>\n",
       "      <th>0</th>\n",
       "      <td>a-holley@ti.com</td>\n",
       "      <td>2024-07-21 10:21:00+00:00</td>\n",
       "    </tr>\n",
       "    <tr>\n",
       "      <th>1</th>\n",
       "      <td>a-smith3@ti.com</td>\n",
       "      <td>2024-06-19 00:49:00+00:00</td>\n",
       "    </tr>\n",
       "    <tr>\n",
       "      <th>2</th>\n",
       "      <td>a.akingboju@apple.com</td>\n",
       "      <td>2025-02-21 16:29:00+00:00</td>\n",
       "    </tr>\n",
       "    <tr>\n",
       "      <th>3</th>\n",
       "      <td>a.alexander@samsung.com</td>\n",
       "      <td>2024-06-20 13:23:00+00:00</td>\n",
       "    </tr>\n",
       "    <tr>\n",
       "      <th>4</th>\n",
       "      <td>a.calzola@samsung.com</td>\n",
       "      <td>2024-08-12 15:47:00+00:00</td>\n",
       "    </tr>\n",
       "    <tr>\n",
       "      <th>...</th>\n",
       "      <td>...</td>\n",
       "      <td>...</td>\n",
       "    </tr>\n",
       "    <tr>\n",
       "      <th>13681</th>\n",
       "      <td>zrogers@coca-cola.com</td>\n",
       "      <td>2024-03-07 15:33:00+00:00</td>\n",
       "    </tr>\n",
       "    <tr>\n",
       "      <th>13682</th>\n",
       "      <td>zsiddiq@rivian.com</td>\n",
       "      <td>2024-08-19 22:04:00+00:00</td>\n",
       "    </tr>\n",
       "    <tr>\n",
       "      <th>13683</th>\n",
       "      <td>zstoller@coca-cola.com</td>\n",
       "      <td>2024-03-29 19:57:00+00:00</td>\n",
       "    </tr>\n",
       "    <tr>\n",
       "      <th>13684</th>\n",
       "      <td>zurielsuarez@dswinc.com</td>\n",
       "      <td>2024-08-31 14:28:00+00:00</td>\n",
       "    </tr>\n",
       "    <tr>\n",
       "      <th>13685</th>\n",
       "      <td>è”šæ±ÿ.æ–‡@gm.com</td>\n",
       "      <td>2024-07-23 13:45:00+00:00</td>\n",
       "    </tr>\n",
       "  </tbody>\n",
       "</table>\n",
       "<p>13686 rows × 2 columns</p>\n",
       "</div>"
      ],
      "text/plain": [
       "                  derived_mail      last_email_open_date\n",
       "0              a-holley@ti.com 2024-07-21 10:21:00+00:00\n",
       "1              a-smith3@ti.com 2024-06-19 00:49:00+00:00\n",
       "2        a.akingboju@apple.com 2025-02-21 16:29:00+00:00\n",
       "3      a.alexander@samsung.com 2024-06-20 13:23:00+00:00\n",
       "4        a.calzola@samsung.com 2024-08-12 15:47:00+00:00\n",
       "...                        ...                       ...\n",
       "13681    zrogers@coca-cola.com 2024-03-07 15:33:00+00:00\n",
       "13682       zsiddiq@rivian.com 2024-08-19 22:04:00+00:00\n",
       "13683   zstoller@coca-cola.com 2024-03-29 19:57:00+00:00\n",
       "13684  zurielsuarez@dswinc.com 2024-08-31 14:28:00+00:00\n",
       "13685        è”šæ±ÿ.æ–‡@gm.com 2024-07-23 13:45:00+00:00\n",
       "\n",
       "[13686 rows x 2 columns]"
      ]
     },
     "execution_count": 850,
     "metadata": {},
     "output_type": "execute_result"
    }
   ],
   "source": [
    "prospect_last_email_open_dates"
   ]
  },
  {
   "cell_type": "code",
   "execution_count": 852,
   "id": "558ee140-c3b9-425b-b731-2c60a741c703",
   "metadata": {},
   "outputs": [],
   "source": [
    "prospect_last_email_open_dates['days_since_last_email_opened']=(today_date_utc-prospect_last_email_open_dates['last_email_open_date']).dt.days"
   ]
  },
  {
   "cell_type": "code",
   "execution_count": 854,
   "id": "c40de3b5-374f-41d6-a47f-50557d2ff5de",
   "metadata": {},
   "outputs": [
    {
     "data": {
      "text/html": [
       "<div>\n",
       "<style scoped>\n",
       "    .dataframe tbody tr th:only-of-type {\n",
       "        vertical-align: middle;\n",
       "    }\n",
       "\n",
       "    .dataframe tbody tr th {\n",
       "        vertical-align: top;\n",
       "    }\n",
       "\n",
       "    .dataframe thead th {\n",
       "        text-align: right;\n",
       "    }\n",
       "</style>\n",
       "<table border=\"1\" class=\"dataframe\">\n",
       "  <thead>\n",
       "    <tr style=\"text-align: right;\">\n",
       "      <th></th>\n",
       "      <th>derived_mail</th>\n",
       "      <th>last_email_open_date</th>\n",
       "      <th>days_since_last_email_opened</th>\n",
       "    </tr>\n",
       "  </thead>\n",
       "  <tbody>\n",
       "    <tr>\n",
       "      <th>0</th>\n",
       "      <td>a-holley@ti.com</td>\n",
       "      <td>2024-07-21 10:21:00+00:00</td>\n",
       "      <td>221</td>\n",
       "    </tr>\n",
       "    <tr>\n",
       "      <th>1</th>\n",
       "      <td>a-smith3@ti.com</td>\n",
       "      <td>2024-06-19 00:49:00+00:00</td>\n",
       "      <td>253</td>\n",
       "    </tr>\n",
       "    <tr>\n",
       "      <th>2</th>\n",
       "      <td>a.akingboju@apple.com</td>\n",
       "      <td>2025-02-21 16:29:00+00:00</td>\n",
       "      <td>6</td>\n",
       "    </tr>\n",
       "    <tr>\n",
       "      <th>3</th>\n",
       "      <td>a.alexander@samsung.com</td>\n",
       "      <td>2024-06-20 13:23:00+00:00</td>\n",
       "      <td>252</td>\n",
       "    </tr>\n",
       "    <tr>\n",
       "      <th>4</th>\n",
       "      <td>a.calzola@samsung.com</td>\n",
       "      <td>2024-08-12 15:47:00+00:00</td>\n",
       "      <td>199</td>\n",
       "    </tr>\n",
       "    <tr>\n",
       "      <th>...</th>\n",
       "      <td>...</td>\n",
       "      <td>...</td>\n",
       "      <td>...</td>\n",
       "    </tr>\n",
       "    <tr>\n",
       "      <th>13681</th>\n",
       "      <td>zrogers@coca-cola.com</td>\n",
       "      <td>2024-03-07 15:33:00+00:00</td>\n",
       "      <td>357</td>\n",
       "    </tr>\n",
       "    <tr>\n",
       "      <th>13682</th>\n",
       "      <td>zsiddiq@rivian.com</td>\n",
       "      <td>2024-08-19 22:04:00+00:00</td>\n",
       "      <td>192</td>\n",
       "    </tr>\n",
       "    <tr>\n",
       "      <th>13683</th>\n",
       "      <td>zstoller@coca-cola.com</td>\n",
       "      <td>2024-03-29 19:57:00+00:00</td>\n",
       "      <td>335</td>\n",
       "    </tr>\n",
       "    <tr>\n",
       "      <th>13684</th>\n",
       "      <td>zurielsuarez@dswinc.com</td>\n",
       "      <td>2024-08-31 14:28:00+00:00</td>\n",
       "      <td>180</td>\n",
       "    </tr>\n",
       "    <tr>\n",
       "      <th>13685</th>\n",
       "      <td>è”šæ±ÿ.æ–‡@gm.com</td>\n",
       "      <td>2024-07-23 13:45:00+00:00</td>\n",
       "      <td>219</td>\n",
       "    </tr>\n",
       "  </tbody>\n",
       "</table>\n",
       "<p>13686 rows × 3 columns</p>\n",
       "</div>"
      ],
      "text/plain": [
       "                  derived_mail      last_email_open_date  \\\n",
       "0              a-holley@ti.com 2024-07-21 10:21:00+00:00   \n",
       "1              a-smith3@ti.com 2024-06-19 00:49:00+00:00   \n",
       "2        a.akingboju@apple.com 2025-02-21 16:29:00+00:00   \n",
       "3      a.alexander@samsung.com 2024-06-20 13:23:00+00:00   \n",
       "4        a.calzola@samsung.com 2024-08-12 15:47:00+00:00   \n",
       "...                        ...                       ...   \n",
       "13681    zrogers@coca-cola.com 2024-03-07 15:33:00+00:00   \n",
       "13682       zsiddiq@rivian.com 2024-08-19 22:04:00+00:00   \n",
       "13683   zstoller@coca-cola.com 2024-03-29 19:57:00+00:00   \n",
       "13684  zurielsuarez@dswinc.com 2024-08-31 14:28:00+00:00   \n",
       "13685        è”šæ±ÿ.æ–‡@gm.com 2024-07-23 13:45:00+00:00   \n",
       "\n",
       "       days_since_last_email_opened  \n",
       "0                               221  \n",
       "1                               253  \n",
       "2                                 6  \n",
       "3                               252  \n",
       "4                               199  \n",
       "...                             ...  \n",
       "13681                           357  \n",
       "13682                           192  \n",
       "13683                           335  \n",
       "13684                           180  \n",
       "13685                           219  \n",
       "\n",
       "[13686 rows x 3 columns]"
      ]
     },
     "execution_count": 854,
     "metadata": {},
     "output_type": "execute_result"
    }
   ],
   "source": [
    "prospect_last_email_open_dates"
   ]
  },
  {
   "cell_type": "code",
   "execution_count": null,
   "id": "9106db54-3c7a-4e5d-a447-cc8176d9e028",
   "metadata": {},
   "outputs": [],
   "source": []
  },
  {
   "cell_type": "code",
   "execution_count": 856,
   "id": "6e1d66e0-cbd7-443a-8552-60f45ce4f428",
   "metadata": {},
   "outputs": [],
   "source": [
    "unique_prop_firmo_data=unique_prop_firmo_data.merge(prospect_last_email_open_dates[['derived_mail','days_since_last_email_opened']],on='derived_mail',how='left')"
   ]
  },
  {
   "cell_type": "code",
   "execution_count": null,
   "id": "a5479a8b-c416-4c87-b413-1c63c051afa7",
   "metadata": {},
   "outputs": [],
   "source": []
  },
  {
   "cell_type": "markdown",
   "id": "d261c24a-6fd6-491c-b56e-03904ee63fb0",
   "metadata": {},
   "source": [
    "## Has Ever Clicked Email"
   ]
  },
  {
   "cell_type": "code",
   "execution_count": 861,
   "id": "ba39587e-32d2-468c-aef4-1c90101a5cde",
   "metadata": {},
   "outputs": [],
   "source": [
    "unique_prop_firmo_data['has_ever_clicked_email']=unique_prop_firmo_data['total_emails_sent'].apply(lambda x : 1 if x>0 else 0)"
   ]
  },
  {
   "cell_type": "code",
   "execution_count": 863,
   "id": "f59c4e71-e906-41b5-8649-d4c3965f0ccc",
   "metadata": {},
   "outputs": [
    {
     "data": {
      "text/plain": [
       "has_ever_clicked_email\n",
       "1    125118\n",
       "0     13665\n",
       "Name: count, dtype: int64"
      ]
     },
     "execution_count": 863,
     "metadata": {},
     "output_type": "execute_result"
    }
   ],
   "source": [
    "unique_prop_firmo_data['has_ever_clicked_email'].value_counts()"
   ]
  },
  {
   "cell_type": "code",
   "execution_count": null,
   "id": "5d74a97a-3bee-4f56-befe-4d5ce65f89db",
   "metadata": {},
   "outputs": [],
   "source": []
  },
  {
   "cell_type": "markdown",
   "id": "68a13526-35f3-435d-99cd-37a4a69ef772",
   "metadata": {},
   "source": [
    "## Has Ever Opened Email"
   ]
  },
  {
   "cell_type": "code",
   "execution_count": 868,
   "id": "50e23140-9b3e-46ed-b969-18c1f2c00777",
   "metadata": {},
   "outputs": [],
   "source": [
    "unique_prop_firmo_data['has_ever_opened_email']=unique_prop_firmo_data['total_emails_opened'].apply(lambda x : 1 if x>0 else 0)"
   ]
  },
  {
   "cell_type": "code",
   "execution_count": null,
   "id": "ffaf0b65-0cc7-40bc-8f2a-00174bee946e",
   "metadata": {},
   "outputs": [],
   "source": []
  },
  {
   "cell_type": "code",
   "execution_count": null,
   "id": "e9b1a458-78d9-44ef-b9f5-75d79b42401b",
   "metadata": {},
   "outputs": [],
   "source": []
  },
  {
   "cell_type": "code",
   "execution_count": 872,
   "id": "c2eeba88-8453-4c89-ba0c-0ffcddae1eb1",
   "metadata": {},
   "outputs": [],
   "source": [
    "unique_prop_firmo_data.to_csv('../datasets/result_datasets/Email_Engagement_Aggregated/processed_email_features.csv')"
   ]
  },
  {
   "cell_type": "code",
   "execution_count": null,
   "id": "ac43c79a-cf9f-443f-aaca-c0913f5c8ca4",
   "metadata": {},
   "outputs": [],
   "source": []
  },
  {
   "cell_type": "code",
   "execution_count": null,
   "id": "4908e0f5-cf8c-4746-83f3-1b9405d21fbb",
   "metadata": {},
   "outputs": [],
   "source": []
  },
  {
   "cell_type": "code",
   "execution_count": 920,
   "id": "a4118b7d-56ce-4f5e-9e44-dd0d9754b595",
   "metadata": {},
   "outputs": [],
   "source": []
  },
  {
   "cell_type": "code",
   "execution_count": null,
   "id": "46c074c8-f66b-4c2e-8f30-0e062dfa826f",
   "metadata": {},
   "outputs": [],
   "source": []
  },
  {
   "cell_type": "code",
   "execution_count": null,
   "id": "d69f2ac5-92c8-41be-a093-2e8f3b9a7427",
   "metadata": {},
   "outputs": [],
   "source": []
  },
  {
   "cell_type": "markdown",
   "id": "17bc790e-18f4-4e8e-b9f7-0fccea2125e4",
   "metadata": {},
   "source": [
    "## EDA On Email Engagements"
   ]
  },
  {
   "cell_type": "code",
   "execution_count": null,
   "id": "d27a2ed2-80ab-47c3-8bc3-30f5032ce7bd",
   "metadata": {},
   "outputs": [],
   "source": []
  },
  {
   "cell_type": "code",
   "execution_count": 65,
   "id": "1fa04454-35d3-499e-8a81-c638bf838da5",
   "metadata": {},
   "outputs": [
    {
     "name": "stderr",
     "output_type": "stream",
     "text": [
      "C:\\Users\\Admin\\AppData\\Local\\Temp\\ipykernel_13852\\1367417036.py:1: DtypeWarning: Columns (7,10,13,14,15,22,26,27,28,29) have mixed types. Specify dtype option on import or set low_memory=False.\n",
      "  unique_prop_firmo_data=pd.read_csv('../datasets/result_datasets/Email_Engagement_Aggregated/processed_email_features.csv')\n"
     ]
    }
   ],
   "source": [
    "unique_prop_firmo_data=pd.read_csv('../datasets/result_datasets/Email_Engagement_Aggregated/processed_email_features.csv')"
   ]
  },
  {
   "cell_type": "code",
   "execution_count": 67,
   "id": "af0b160e-7e81-490d-a271-7ccd66cbf9c0",
   "metadata": {},
   "outputs": [
    {
     "data": {
      "text/plain": [
       "(138783, 60)"
      ]
     },
     "execution_count": 67,
     "metadata": {},
     "output_type": "execute_result"
    }
   ],
   "source": [
    "unique_prop_firmo_data.shape"
   ]
  },
  {
   "cell_type": "code",
   "execution_count": 71,
   "id": "6c06fd89-e404-4d27-b5d8-79571613d48d",
   "metadata": {},
   "outputs": [],
   "source": [
    "unique_prop_firmo_data.drop(columns=['Unnamed: 0'],inplace=True)"
   ]
  },
  {
   "cell_type": "code",
   "execution_count": null,
   "id": "b4fde479-0607-48c4-b23f-d03fdd018468",
   "metadata": {},
   "outputs": [],
   "source": []
  },
  {
   "cell_type": "code",
   "execution_count": 73,
   "id": "d6bb6363-f8fd-4eb9-a67b-9e9799c6beb0",
   "metadata": {},
   "outputs": [
    {
     "name": "stdout",
     "output_type": "stream",
     "text": [
      "<class 'pandas.core.frame.DataFrame'>\n",
      "RangeIndex: 138783 entries, 0 to 138782\n",
      "Data columns (total 59 columns):\n",
      " #   Column                                 Non-Null Count   Dtype  \n",
      "---  ------                                 --------------   -----  \n",
      " 0   Company Name                           138472 non-null  object \n",
      " 1   First Name                             138781 non-null  object \n",
      " 2   Middle Name                            4986 non-null    object \n",
      " 3   Last Name                              138764 non-null  object \n",
      " 4   Title                                  138782 non-null  object \n",
      " 5   Level                                  131570 non-null  object \n",
      " 6   Seniority                              6008 non-null    object \n",
      " 7   Department                             131570 non-null  object \n",
      " 8   Email ID                               125562 non-null  object \n",
      " 9   Email 1                                13220 non-null   object \n",
      " 10  Contact_City                           117852 non-null  object \n",
      " 11  Contact_State                          104589 non-null  object \n",
      " 12  Contact City                           12037 non-null   object \n",
      " 13  Contact State                          10803 non-null   object \n",
      " 14  Contact Country                        5841 non-null    object \n",
      " 15  Country                                125562 non-null  object \n",
      " 16  Website                                138782 non-null  object \n",
      " 17  Company City                           134263 non-null  object \n",
      " 18  Company State                          124699 non-null  object \n",
      " 19  Company Country                        138445 non-null  object \n",
      " 20  Industry                               125548 non-null  object \n",
      " 21  Sub Industry                           22654 non-null   object \n",
      " 22  Revenue                                122446 non-null  object \n",
      " 23  Revenue Range                          102761 non-null  object \n",
      " 24  EMP Range                              124607 non-null  object \n",
      " 25  Company Annual Revenue                 13195 non-null   object \n",
      " 26  Company Industry                       13195 non-null   object \n",
      " 27  Company Staff Count Range              13195 non-null   object \n",
      " 28  Company Staff Count                    13195 non-null   object \n",
      " 29  source                                 138783 non-null  object \n",
      " 30  Email                                  138782 non-null  object \n",
      " 31  derived_mail                           138782 non-null  object \n",
      " 32  total_emails_sent                      138141 non-null  float64\n",
      " 33  total_emails_opened                    138141 non-null  float64\n",
      " 34  total_emails_clicked                   138141 non-null  float64\n",
      " 35  total_emails_bounced                   138141 non-null  float64\n",
      " 36  total_emails_unsubscribed              138141 non-null  float64\n",
      " 37  avg_time_between_emails                124378 non-null  float64\n",
      " 38  avg_time_between_emails_opened         13291 non-null   float64\n",
      " 39  avg_time_between_emails_clicked        6515 non-null    float64\n",
      " 40  click_to_open_ratio                    13593 non-null   float64\n",
      " 41  click_through_rate                     125118 non-null  float64\n",
      " 42  days_since_last_email_clicked          6673 non-null    float64\n",
      " 43  total_emails_sent_last_two_weeks       11591 non-null   float64\n",
      " 44  total_emails_sent_last_four_weeks      12315 non-null   float64\n",
      " 45  total_emails_sent_last_eight_weeks     16387 non-null   float64\n",
      " 46  total_emails_sent_last_twelve_weeks    19239 non-null   float64\n",
      " 47  total_emails_opened_last_two_weeks     640 non-null     float64\n",
      " 48  total_emails_opened_last_four_weeks    876 non-null     float64\n",
      " 49  total_emails_opened_last_eight_weeks   1390 non-null    float64\n",
      " 50  total_emails_opened_last_twelve_weeks  1898 non-null    float64\n",
      " 51  total_emails_sent_week_ends            116981 non-null  float64\n",
      " 52  bounce_rate                            138783 non-null  float64\n",
      " 53  email_open_rate                        138783 non-null  float64\n",
      " 54  email_click_rate                       138783 non-null  float64\n",
      " 55  last_email_status                      137825 non-null  object \n",
      " 56  days_since_last_email_opened           13593 non-null   float64\n",
      " 57  has_ever_clicked_email                 138783 non-null  int64  \n",
      " 58  has_ever_opened_email                  138783 non-null  int64  \n",
      "dtypes: float64(24), int64(2), object(33)\n",
      "memory usage: 62.5+ MB\n"
     ]
    }
   ],
   "source": [
    "unique_prop_firmo_data.info()"
   ]
  },
  {
   "cell_type": "code",
   "execution_count": 93,
   "id": "320e325c-8d32-423b-aeec-bac2caea987e",
   "metadata": {},
   "outputs": [],
   "source": [
    "unique_prop_firmo_data=unique_prop_firmo_data.merge(hql_prospects[['mail','filled_survey_form']],right_on='mail',left_on='Email',how='left')"
   ]
  },
  {
   "cell_type": "code",
   "execution_count": null,
   "id": "2c4da20c-92e0-4e2f-8b68-d9d033654bca",
   "metadata": {},
   "outputs": [],
   "source": []
  },
  {
   "cell_type": "code",
   "execution_count": 95,
   "id": "1d1db0d6-0866-4e7a-b17d-7e80c6683ac2",
   "metadata": {},
   "outputs": [
    {
     "data": {
      "text/plain": [
       "filled_survey_form\n",
       "NaN    138391\n",
       "1.0       416\n",
       "Name: count, dtype: int64"
      ]
     },
     "execution_count": 95,
     "metadata": {},
     "output_type": "execute_result"
    }
   ],
   "source": [
    "unique_prop_firmo_data['filled_survey_form'].value_counts(dropna=False)"
   ]
  },
  {
   "cell_type": "code",
   "execution_count": 97,
   "id": "3a4eda57-0de8-44d7-868c-3ff6b177d35a",
   "metadata": {},
   "outputs": [],
   "source": [
    "unique_prop_firmo_data.fillna(0,inplace=True)"
   ]
  },
  {
   "cell_type": "code",
   "execution_count": null,
   "id": "02377fb1-87de-442e-aad5-c82a7ebdf362",
   "metadata": {},
   "outputs": [],
   "source": []
  },
  {
   "cell_type": "code",
   "execution_count": 99,
   "id": "a255aa17-bc15-4ee3-867e-93f1f832d0e7",
   "metadata": {},
   "outputs": [
    {
     "data": {
      "text/plain": [
       "<Axes: xlabel='filled_survey_form', ylabel='count'>"
      ]
     },
     "execution_count": 99,
     "metadata": {},
     "output_type": "execute_result"
    },
    {
     "data": {
      "image/png": "[encoded data removed]",
      "text/plain": [
       "<Figure size 640x480 with 1 Axes>"
      ]
     },
     "metadata": {},
     "output_type": "display_data"
    }
   ],
   "source": [
    "sns.countplot(x='filled_survey_form',data=unique_prop_firmo_data)"
   ]
  },
  {
   "cell_type": "code",
   "execution_count": 101,
   "id": "0dd4343f-be08-415f-ba96-5759b44c2adc",
   "metadata": {},
   "outputs": [
    {
     "data": {
      "text/plain": [
       "filled_survey_form\n",
       "0.0    138391\n",
       "1.0       416\n",
       "Name: count, dtype: int64"
      ]
     },
     "execution_count": 101,
     "metadata": {},
     "output_type": "execute_result"
    }
   ],
   "source": [
    "unique_prop_firmo_data['filled_survey_form'].value_counts()"
   ]
  },
  {
   "cell_type": "code",
   "execution_count": 105,
   "id": "7648aa5d-13a6-4f43-80ca-224634e6ec32",
   "metadata": {},
   "outputs": [
    {
     "data": {
      "text/plain": [
       "<Axes: xlabel='bounce_rate', ylabel='Density'>"
      ]
     },
     "execution_count": 105,
     "metadata": {},
     "output_type": "execute_result"
    },
    {
     "data": {
      "image/png": "[encoded data removed]",
      "text/plain": [
       "<Figure size 640x480 with 1 Axes>"
      ]
     },
     "metadata": {},
     "output_type": "display_data"
    }
   ],
   "source": [
    "sns.kdeplot(x='bounce_rate',data=unique_prop_firmo_data,hue='filled_survey_form')"
   ]
  },
  {
   "cell_type": "code",
   "execution_count": 109,
   "id": "81dc6449-9ee6-445a-b643-ade17a0f22c8",
   "metadata": {},
   "outputs": [
    {
     "data": {
      "text/plain": [
       "(0.0, 1000.0)"
      ]
     },
     "execution_count": 109,
     "metadata": {},
     "output_type": "execute_result"
    },
    {
     "data": {
      "image/png": "[encoded data removed]",
      "text/plain": [
       "<Figure size 640x480 with 1 Axes>"
      ]
     },
     "metadata": {},
     "output_type": "display_data"
    }
   ],
   "source": [
    "sns.countplot(x='has_ever_clicked_email',hue='filled_survey_form',data=unique_prop_firmo_data)\n",
    "plt.ylim(0,1000)"
   ]
  },
  {
   "cell_type": "code",
   "execution_count": null,
   "id": "aa683b74-e82a-4183-b291-b8b13d7968c4",
   "metadata": {},
   "outputs": [],
   "source": []
  },
  {
   "cell_type": "code",
   "execution_count": 111,
   "id": "3392cc24-ec3b-4a94-8321-33fc01c157fd",
   "metadata": {},
   "outputs": [
    {
     "data": {
      "text/plain": [
       "(0.0, 1000.0)"
      ]
     },
     "execution_count": 111,
     "metadata": {},
     "output_type": "execute_result"
    },
    {
     "data": {
      "image/png": "[encoded data removed]",
      "text/plain": [
       "<Figure size 640x480 with 1 Axes>"
      ]
     },
     "metadata": {},
     "output_type": "display_data"
    }
   ],
   "source": [
    "sns.countplot(x='has_ever_opened_email',hue='filled_survey_form',data=unique_prop_firmo_data)\n",
    "plt.ylim(0,1000)"
   ]
  },
  {
   "cell_type": "code",
   "execution_count": 131,
   "id": "964e5e4d-0d77-433b-bb9f-e8e10817e866",
   "metadata": {},
   "outputs": [
    {
     "data": {
      "image/png": "[encoded data removed]",
      "text/plain": [
       "<Figure size 640x480 with 1 Axes>"
      ]
     },
     "metadata": {},
     "output_type": "display_data"
    }
   ],
   "source": [
    "sns.countplot(x='last_email_status',hue='filled_survey_form',data=unique_prop_firmo_data)\n",
    "plt.ylim(0,1000)\n",
    "plt.xticks(rotation=75)\n",
    "plt.show()"
   ]
  },
  {
   "cell_type": "code",
   "execution_count": null,
   "id": "5608ab72-9f66-44ba-9784-2f4923122cf6",
   "metadata": {},
   "outputs": [],
   "source": []
  },
  {
   "cell_type": "code",
   "execution_count": 133,
   "id": "163c732f-c045-4913-8de2-dec50f324dd8",
   "metadata": {},
   "outputs": [
    {
     "data": {
      "text/plain": [
       "(1018, 77)"
      ]
     },
     "execution_count": 133,
     "metadata": {},
     "output_type": "execute_result"
    }
   ],
   "source": [
    "hql_prospects.shape"
   ]
  },
  {
   "cell_type": "code",
   "execution_count": null,
   "id": "304883eb-446a-465e-914b-f260659e38fa",
   "metadata": {},
   "outputs": [],
   "source": []
  },
  {
   "cell_type": "code",
   "execution_count": 137,
   "id": "ba84d475-f2fc-407e-af37-cb0b34392c24",
   "metadata": {},
   "outputs": [
    {
     "data": {
      "text/plain": [
       "792"
      ]
     },
     "execution_count": 137,
     "metadata": {},
     "output_type": "execute_result"
    }
   ],
   "source": [
    "hql_prospects['mail'].nunique()"
   ]
  },
  {
   "cell_type": "code",
   "execution_count": 141,
   "id": "27764e95-6346-403b-ad39-341372ea625a",
   "metadata": {},
   "outputs": [
    {
     "data": {
      "text/plain": [
       "225"
      ]
     },
     "execution_count": 141,
     "metadata": {},
     "output_type": "execute_result"
    }
   ],
   "source": [
    "hql_prospects['mail'].duplicated().sum()"
   ]
  },
  {
   "cell_type": "code",
   "execution_count": 147,
   "id": "27d52754-b226-4485-b9b5-66b83a21bcf7",
   "metadata": {},
   "outputs": [
    {
     "data": {
      "text/plain": [
       "58"
      ]
     },
     "execution_count": 147,
     "metadata": {},
     "output_type": "execute_result"
    }
   ],
   "source": [
    "hql_prospects[hql_prospects['mail'].duplicated()]['mail'].nunique()"
   ]
  },
  {
   "cell_type": "code",
   "execution_count": 153,
   "id": "8da488d4-5a80-4a71-b004-8195e7cfa157",
   "metadata": {},
   "outputs": [
    {
     "data": {
      "text/plain": [
       "mail\n",
       "NaN                           159\n",
       "john.beltrami@worley.com        5\n",
       "taiwan.cameron@atlnext.com      4\n",
       "dmollaun@dollargeneral.com      4\n",
       "apurva.sawant@jacobs.com        3\n",
       "                             ... \n",
       "nam.nguyen@lmco.com             1\n",
       "apurva.shinde@lmco.com          1\n",
       "clinton.h.cash@lmco.com         1\n",
       "aarya.shah@lmco.com             1\n",
       "raauker@aep.com                 1\n",
       "Name: count, Length: 792, dtype: int64"
      ]
     },
     "execution_count": 153,
     "metadata": {},
     "output_type": "execute_result"
    }
   ],
   "source": [
    "hql_prospects['mail'].value_counts(dropna=False)"
   ]
  },
  {
   "cell_type": "code",
   "execution_count": 151,
   "id": "4bfbad38-9894-41ad-9f8c-9c367761a09d",
   "metadata": {},
   "outputs": [
    {
     "name": "stderr",
     "output_type": "stream",
     "text": [
      "C:\\Users\\Admin\\AppData\\Local\\Temp\\ipykernel_13852\\1293974427.py:1: FutureWarning: A value is trying to be set on a copy of a DataFrame or Series through chained assignment using an inplace method.\n",
      "The behavior will change in pandas 3.0. This inplace method will never work because the intermediate object on which we are setting values always behaves as a copy.\n",
      "\n",
      "For example, when doing 'df[col].method(value, inplace=True)', try using 'df.method({col: value}, inplace=True)' or df[col] = df[col].method(value) instead, to perform the operation inplace on the original object.\n",
      "\n",
      "\n",
      "  hql_prospects['mail'].replace(\"-\",np.nan,inplace=True)\n"
     ]
    }
   ],
   "source": [
    "hql_prospects['mail'].replace(\"-\",np.nan,inplace=True)"
   ]
  },
  {
   "cell_type": "code",
   "execution_count": 155,
   "id": "b5dfe02a-8850-4b3b-a8b3-828a2d20e8ca",
   "metadata": {},
   "outputs": [],
   "source": [
    "hql_prospects['new_email']=hql_prospects['mail'].fillna(hql_prospects['Personal Email id'])"
   ]
  },
  {
   "cell_type": "code",
   "execution_count": 234,
   "id": "2552a160-361d-479a-8506-9393e09f3203",
   "metadata": {},
   "outputs": [
    {
     "data": {
      "text/plain": [
       "new_email\n",
       "john.beltrami@worley.com        5\n",
       "dmollaun@dollargeneral.com      4\n",
       "taiwan.cameron@atlnext.com      4\n",
       "shrujank@hiinet.com             3\n",
       "marc.schneidermann@fpl.com      3\n",
       "                               ..\n",
       "oliver.gilding@iceland.co.uk    1\n",
       "johnchapman91@gmail.com         1\n",
       "sathyanshiju@gmail.com          1\n",
       "jonathan.hill@coop.co.uk        1\n",
       "raauker@aep.com                 1\n",
       "Name: count, Length: 946, dtype: int64"
      ]
     },
     "execution_count": 234,
     "metadata": {},
     "output_type": "execute_result"
    }
   ],
   "source": [
    "hql_prospects['new_email'].value_counts()"
   ]
  },
  {
   "cell_type": "code",
   "execution_count": null,
   "id": "187e8802-882c-408c-91a2-0ac1757ee2e2",
   "metadata": {},
   "outputs": [],
   "source": []
  },
  {
   "cell_type": "code",
   "execution_count": 232,
   "id": "7c76ad88-b780-47da-94ab-882fd0d121cb",
   "metadata": {},
   "outputs": [
    {
     "data": {
      "text/plain": [
       "946"
      ]
     },
     "execution_count": 232,
     "metadata": {},
     "output_type": "execute_result"
    }
   ],
   "source": [
    "hql_prospects['new_email'].nunique()"
   ]
  },
  {
   "cell_type": "code",
   "execution_count": null,
   "id": "c14a3741-f664-480d-be70-53052cf4f261",
   "metadata": {},
   "outputs": [],
   "source": []
  },
  {
   "cell_type": "code",
   "execution_count": null,
   "id": "dd3bf90d-3ed8-4a94-998b-989f1674d157",
   "metadata": {},
   "outputs": [],
   "source": []
  },
  {
   "cell_type": "code",
   "execution_count": null,
   "id": "d68912ce-3424-4d44-b1e5-4ab47651dafb",
   "metadata": {},
   "outputs": [],
   "source": []
  },
  {
   "cell_type": "code",
   "execution_count": null,
   "id": "0dd7d3b8-5152-4a6c-a0db-7ffe7505140a",
   "metadata": {},
   "outputs": [],
   "source": []
  },
  {
   "cell_type": "code",
   "execution_count": 238,
   "id": "6b223ed4-5b30-45cd-af05-5173d69968c7",
   "metadata": {},
   "outputs": [
    {
     "data": {
      "text/html": [
       "<div>\n",
       "<style scoped>\n",
       "    .dataframe tbody tr th:only-of-type {\n",
       "        vertical-align: middle;\n",
       "    }\n",
       "\n",
       "    .dataframe tbody tr th {\n",
       "        vertical-align: top;\n",
       "    }\n",
       "\n",
       "    .dataframe thead th {\n",
       "        text-align: right;\n",
       "    }\n",
       "</style>\n",
       "<table border=\"1\" class=\"dataframe\">\n",
       "  <thead>\n",
       "    <tr style=\"text-align: right;\">\n",
       "      <th></th>\n",
       "      <th>Date</th>\n",
       "      <th>Campaign Type</th>\n",
       "      <th>Campaign Name</th>\n",
       "      <th>Domain</th>\n",
       "      <th>Lead type</th>\n",
       "      <th>If Disqualified - WHY?</th>\n",
       "      <th>Any meeting/ prospect update comments</th>\n",
       "      <th>First name</th>\n",
       "      <th>Last name</th>\n",
       "      <th>Employee Title</th>\n",
       "      <th>Company Name</th>\n",
       "      <th>Corporate Email Address</th>\n",
       "      <th>Personal Email id</th>\n",
       "      <th>Phone</th>\n",
       "      <th>Direct/Mobile</th>\n",
       "      <th>Industry</th>\n",
       "      <th>Annual Revenue</th>\n",
       "      <th>Employee Size</th>\n",
       "      <th>Schneider Electric specialist reach out</th>\n",
       "      <th>Authority</th>\n",
       "      <th>$20 Amazon gift card</th>\n",
       "      <th>$100 Amazon gift card</th>\n",
       "      <th>OP Status</th>\n",
       "      <th>Interaction Comments</th>\n",
       "      <th>Email 1.0</th>\n",
       "      <th>Email 2.0</th>\n",
       "      <th>Voicemail 2.0</th>\n",
       "      <th>Email 2.1</th>\n",
       "      <th>Voicemail 2.1</th>\n",
       "      <th>Email 2.2</th>\n",
       "      <th>Voicemail 2.2</th>\n",
       "      <th>Email 3.0</th>\n",
       "      <th>Voicemai 3.0</th>\n",
       "      <th>Email 4.0</th>\n",
       "      <th>Email 5.0</th>\n",
       "      <th>Voicemail 5.0</th>\n",
       "      <th>Email 5.1</th>\n",
       "      <th>Voicemail 5.1</th>\n",
       "      <th>Email 6.0</th>\n",
       "      <th>Marketing Collaterals</th>\n",
       "      <th>No Show Follow-up</th>\n",
       "      <th>G2 review</th>\n",
       "      <th>G2 review shared</th>\n",
       "      <th>Text Outreach</th>\n",
       "      <th>Confirmed via</th>\n",
       "      <th>Confirmed Date</th>\n",
       "      <th>LinkedIn Outreach</th>\n",
       "      <th>LinkedIn Outreach Date</th>\n",
       "      <th>Replied</th>\n",
       "      <th>VR Confirmation</th>\n",
       "      <th>7 Touchpoints</th>\n",
       "      <th>Unnamed: 51</th>\n",
       "      <th>Segment</th>\n",
       "      <th>Meeting Date</th>\n",
       "      <th>Meeting Time (EST)</th>\n",
       "      <th>Meeting status</th>\n",
       "      <th>Invite status</th>\n",
       "      <th>Prospect Acceptance</th>\n",
       "      <th>Acceptance Date</th>\n",
       "      <th>$200 Amazon gift card</th>\n",
       "      <th>Apple AirPods Pro</th>\n",
       "      <th>Assigned Meeting to?</th>\n",
       "      <th>Unnamed: 59</th>\n",
       "      <th>Apple AirPods 4</th>\n",
       "      <th>Unnamed: 53</th>\n",
       "      <th>Send me an email now and follow-up in a month.</th>\n",
       "      <th>£150 Amazon gift card</th>\n",
       "      <th>£100 Amazon gift card</th>\n",
       "      <th>£20 Amazon gift card</th>\n",
       "      <th>AirPods 4</th>\n",
       "      <th>Text Outreached</th>\n",
       "      <th>$200/ $100 Amazon gift card</th>\n",
       "      <th>Unnamed: 50</th>\n",
       "      <th>Apple AirPods Pro 2nd Gen</th>\n",
       "      <th>Source</th>\n",
       "      <th>filled_survey_form</th>\n",
       "      <th>mail</th>\n",
       "      <th>new_email</th>\n",
       "      <th>campaign_type</th>\n",
       "    </tr>\n",
       "  </thead>\n",
       "  <tbody>\n",
       "    <tr>\n",
       "      <th>158</th>\n",
       "      <td>2024-11-01 00:00:00</td>\n",
       "      <td>LinkedIn Campaign-Typeform</td>\n",
       "      <td>-</td>\n",
       "      <td>Insight Lab</td>\n",
       "      <td>Disqualified</td>\n",
       "      <td>Prospect is not in the target list | As per hi...</td>\n",
       "      <td>Deep qualification - Completed by Matt</td>\n",
       "      <td>Marc</td>\n",
       "      <td>Schneidermann</td>\n",
       "      <td>Environmental Services Project Manager</td>\n",
       "      <td>NextEra Energy, Inc.</td>\n",
       "      <td>marc.schneidermann@fpl.com</td>\n",
       "      <td>marcwpb@outlook.com</td>\n",
       "      <td>(561) 694-4000</td>\n",
       "      <td>(561) 339-6386</td>\n",
       "      <td>Electricity, Oil &amp; Gas</td>\n",
       "      <td>$25.9 Billion</td>\n",
       "      <td>16,800</td>\n",
       "      <td>Send me an email now and follow-up in a month</td>\n",
       "      <td>Influencer</td>\n",
       "      <td>Sent</td>\n",
       "      <td>NaN</td>\n",
       "      <td>NaN</td>\n",
       "      <td>-</td>\n",
       "      <td>Auto Sent</td>\n",
       "      <td>Sent</td>\n",
       "      <td>NaN</td>\n",
       "      <td>NaN</td>\n",
       "      <td>NaN</td>\n",
       "      <td>NaN</td>\n",
       "      <td>NaN</td>\n",
       "      <td>NaN</td>\n",
       "      <td>NaN</td>\n",
       "      <td>NaN</td>\n",
       "      <td>NaN</td>\n",
       "      <td>NaN</td>\n",
       "      <td>NaN</td>\n",
       "      <td>NaN</td>\n",
       "      <td>NaN</td>\n",
       "      <td>NaN</td>\n",
       "      <td>NaN</td>\n",
       "      <td>NaN</td>\n",
       "      <td>NaN</td>\n",
       "      <td>NaN</td>\n",
       "      <td>NaN</td>\n",
       "      <td>NaN</td>\n",
       "      <td>NaN</td>\n",
       "      <td>NaN</td>\n",
       "      <td>NaN</td>\n",
       "      <td>NaN</td>\n",
       "      <td>NaN</td>\n",
       "      <td>NaN</td>\n",
       "      <td>MicroGrid</td>\n",
       "      <td>NaN</td>\n",
       "      <td>NaN</td>\n",
       "      <td>NaN</td>\n",
       "      <td>NaN</td>\n",
       "      <td>NaN</td>\n",
       "      <td>NaN</td>\n",
       "      <td>NaN</td>\n",
       "      <td>NaN</td>\n",
       "      <td>NaN</td>\n",
       "      <td>NaN</td>\n",
       "      <td>NaN</td>\n",
       "      <td>NaN</td>\n",
       "      <td>NaN</td>\n",
       "      <td>NaN</td>\n",
       "      <td>NaN</td>\n",
       "      <td>NaN</td>\n",
       "      <td>NaN</td>\n",
       "      <td>NaN</td>\n",
       "      <td>NaN</td>\n",
       "      <td>NaN</td>\n",
       "      <td>NaN</td>\n",
       "      <td>NaN</td>\n",
       "      <td>1</td>\n",
       "      <td>marc.schneidermann@fpl.com</td>\n",
       "      <td>marc.schneidermann@fpl.com</td>\n",
       "      <td>LinkedIn</td>\n",
       "    </tr>\n",
       "    <tr>\n",
       "      <th>168</th>\n",
       "      <td>2024-11-14 00:00:00</td>\n",
       "      <td>LinkedIn Campaign-Typeform</td>\n",
       "      <td>-</td>\n",
       "      <td>Insight Lab</td>\n",
       "      <td>Disqualified</td>\n",
       "      <td>Duplicate - 2nd time filled the survey</td>\n",
       "      <td>-</td>\n",
       "      <td>Marc</td>\n",
       "      <td>Schneidermann</td>\n",
       "      <td>Environmental Services Project Manager</td>\n",
       "      <td>NextEra Energy, Inc.</td>\n",
       "      <td>marc.schneidermann@fpl.com</td>\n",
       "      <td>marcwpb@outlook.com</td>\n",
       "      <td>(561) 694-4000</td>\n",
       "      <td>(561) 339-6386</td>\n",
       "      <td>Electricity, Oil &amp; Gas</td>\n",
       "      <td>$25.9 Billion</td>\n",
       "      <td>16,800</td>\n",
       "      <td>Send me an email now and follow-up in a month</td>\n",
       "      <td>Influencer</td>\n",
       "      <td>NaN</td>\n",
       "      <td>NaN</td>\n",
       "      <td>NaN</td>\n",
       "      <td>-</td>\n",
       "      <td>Auto Sent</td>\n",
       "      <td>NaN</td>\n",
       "      <td>NaN</td>\n",
       "      <td>NaN</td>\n",
       "      <td>NaN</td>\n",
       "      <td>NaN</td>\n",
       "      <td>NaN</td>\n",
       "      <td>NaN</td>\n",
       "      <td>NaN</td>\n",
       "      <td>NaN</td>\n",
       "      <td>NaN</td>\n",
       "      <td>NaN</td>\n",
       "      <td>NaN</td>\n",
       "      <td>NaN</td>\n",
       "      <td>NaN</td>\n",
       "      <td>NaN</td>\n",
       "      <td>NaN</td>\n",
       "      <td>NaN</td>\n",
       "      <td>NaN</td>\n",
       "      <td>NaN</td>\n",
       "      <td>NaN</td>\n",
       "      <td>NaN</td>\n",
       "      <td>NaN</td>\n",
       "      <td>NaN</td>\n",
       "      <td>NaN</td>\n",
       "      <td>NaN</td>\n",
       "      <td>NaN</td>\n",
       "      <td>NaN</td>\n",
       "      <td>MicroGrid</td>\n",
       "      <td>NaN</td>\n",
       "      <td>NaN</td>\n",
       "      <td>NaN</td>\n",
       "      <td>NaN</td>\n",
       "      <td>NaN</td>\n",
       "      <td>NaN</td>\n",
       "      <td>NaN</td>\n",
       "      <td>NaN</td>\n",
       "      <td>NaN</td>\n",
       "      <td>NaN</td>\n",
       "      <td>NaN</td>\n",
       "      <td>NaN</td>\n",
       "      <td>NaN</td>\n",
       "      <td>NaN</td>\n",
       "      <td>NaN</td>\n",
       "      <td>NaN</td>\n",
       "      <td>NaN</td>\n",
       "      <td>NaN</td>\n",
       "      <td>NaN</td>\n",
       "      <td>NaN</td>\n",
       "      <td>NaN</td>\n",
       "      <td>NaN</td>\n",
       "      <td>1</td>\n",
       "      <td>marc.schneidermann@fpl.com</td>\n",
       "      <td>marc.schneidermann@fpl.com</td>\n",
       "      <td>LinkedIn</td>\n",
       "    </tr>\n",
       "    <tr>\n",
       "      <th>195</th>\n",
       "      <td>2024-12-12 00:00:00</td>\n",
       "      <td>LinkedIn Campaign-Typeform</td>\n",
       "      <td>-</td>\n",
       "      <td>Insight Lab</td>\n",
       "      <td>Disqualified</td>\n",
       "      <td>Duplicate - 2nd time filled the survey</td>\n",
       "      <td>-</td>\n",
       "      <td>Marc</td>\n",
       "      <td>Schneidermann</td>\n",
       "      <td>Environmental Services Project Manager</td>\n",
       "      <td>NextEra Energy, Inc.</td>\n",
       "      <td>marc.schneidermann@fpl.com</td>\n",
       "      <td>marcwpb@outlook.com</td>\n",
       "      <td>(561) 694-4000</td>\n",
       "      <td>(561) 339-6386</td>\n",
       "      <td>Electricity, Oil &amp; Gas</td>\n",
       "      <td>$25.9 Billion</td>\n",
       "      <td>16,800</td>\n",
       "      <td>Send me an email now and follow-up in a month</td>\n",
       "      <td>Not involved at all</td>\n",
       "      <td>NaN</td>\n",
       "      <td>NaN</td>\n",
       "      <td>NaN</td>\n",
       "      <td>-</td>\n",
       "      <td>Auto Sent</td>\n",
       "      <td>NaN</td>\n",
       "      <td>NaN</td>\n",
       "      <td>NaN</td>\n",
       "      <td>NaN</td>\n",
       "      <td>NaN</td>\n",
       "      <td>NaN</td>\n",
       "      <td>NaN</td>\n",
       "      <td>NaN</td>\n",
       "      <td>NaN</td>\n",
       "      <td>NaN</td>\n",
       "      <td>NaN</td>\n",
       "      <td>NaN</td>\n",
       "      <td>NaN</td>\n",
       "      <td>NaN</td>\n",
       "      <td>NaN</td>\n",
       "      <td>NaN</td>\n",
       "      <td>NaN</td>\n",
       "      <td>NaN</td>\n",
       "      <td>NaN</td>\n",
       "      <td>NaN</td>\n",
       "      <td>NaN</td>\n",
       "      <td>NaN</td>\n",
       "      <td>NaN</td>\n",
       "      <td>NaN</td>\n",
       "      <td>NaN</td>\n",
       "      <td>NaN</td>\n",
       "      <td>NaN</td>\n",
       "      <td>MicroGrid</td>\n",
       "      <td>NaN</td>\n",
       "      <td>NaN</td>\n",
       "      <td>NaN</td>\n",
       "      <td>NaN</td>\n",
       "      <td>NaN</td>\n",
       "      <td>NaN</td>\n",
       "      <td>NaN</td>\n",
       "      <td>NaN</td>\n",
       "      <td>NaN</td>\n",
       "      <td>NaN</td>\n",
       "      <td>NaN</td>\n",
       "      <td>NaN</td>\n",
       "      <td>NaN</td>\n",
       "      <td>NaN</td>\n",
       "      <td>NaN</td>\n",
       "      <td>NaN</td>\n",
       "      <td>NaN</td>\n",
       "      <td>NaN</td>\n",
       "      <td>NaN</td>\n",
       "      <td>NaN</td>\n",
       "      <td>NaN</td>\n",
       "      <td>NaN</td>\n",
       "      <td>1</td>\n",
       "      <td>marc.schneidermann@fpl.com</td>\n",
       "      <td>marc.schneidermann@fpl.com</td>\n",
       "      <td>LinkedIn</td>\n",
       "    </tr>\n",
       "  </tbody>\n",
       "</table>\n",
       "</div>"
      ],
      "text/plain": [
       "                    Date               Campaign Type Campaign Name  \\\n",
       "158  2024-11-01 00:00:00  LinkedIn Campaign-Typeform             -   \n",
       "168  2024-11-14 00:00:00  LinkedIn Campaign-Typeform             -   \n",
       "195  2024-12-12 00:00:00  LinkedIn Campaign-Typeform             -   \n",
       "\n",
       "          Domain     Lead type  \\\n",
       "158  Insight Lab  Disqualified   \n",
       "168  Insight Lab  Disqualified   \n",
       "195  Insight Lab  Disqualified   \n",
       "\n",
       "                                If Disqualified - WHY?  \\\n",
       "158  Prospect is not in the target list | As per hi...   \n",
       "168             Duplicate - 2nd time filled the survey   \n",
       "195             Duplicate - 2nd time filled the survey   \n",
       "\n",
       "      Any meeting/ prospect update comments First name      Last name  \\\n",
       "158  Deep qualification - Completed by Matt       Marc  Schneidermann   \n",
       "168                                       -       Marc  Schneidermann   \n",
       "195                                       -       Marc  Schneidermann   \n",
       "\n",
       "                             Employee Title           Company Name  \\\n",
       "158  Environmental Services Project Manager  NextEra Energy, Inc.    \n",
       "168  Environmental Services Project Manager  NextEra Energy, Inc.    \n",
       "195  Environmental Services Project Manager  NextEra Energy, Inc.    \n",
       "\n",
       "        Corporate Email Address    Personal Email id           Phone  \\\n",
       "158  marc.schneidermann@fpl.com  marcwpb@outlook.com  (561) 694-4000   \n",
       "168  marc.schneidermann@fpl.com  marcwpb@outlook.com  (561) 694-4000   \n",
       "195  marc.schneidermann@fpl.com  marcwpb@outlook.com  (561) 694-4000   \n",
       "\n",
       "      Direct/Mobile                Industry Annual Revenue Employee Size  \\\n",
       "158  (561) 339-6386  Electricity, Oil & Gas  $25.9 Billion       16,800    \n",
       "168  (561) 339-6386  Electricity, Oil & Gas  $25.9 Billion       16,800    \n",
       "195  (561) 339-6386  Electricity, Oil & Gas  $25.9 Billion       16,800    \n",
       "\n",
       "           Schneider Electric specialist reach out            Authority  \\\n",
       "158  Send me an email now and follow-up in a month           Influencer   \n",
       "168  Send me an email now and follow-up in a month           Influencer   \n",
       "195  Send me an email now and follow-up in a month  Not involved at all   \n",
       "\n",
       "    $20 Amazon gift card $100 Amazon gift card OP Status Interaction Comments  \\\n",
       "158                 Sent                   NaN       NaN                    -   \n",
       "168                  NaN                   NaN       NaN                    -   \n",
       "195                  NaN                   NaN       NaN                    -   \n",
       "\n",
       "     Email 1.0 Email 2.0 Voicemail 2.0 Email 2.1 Voicemail 2.1 Email 2.2  \\\n",
       "158  Auto Sent      Sent           NaN       NaN           NaN       NaN   \n",
       "168  Auto Sent       NaN           NaN       NaN           NaN       NaN   \n",
       "195  Auto Sent       NaN           NaN       NaN           NaN       NaN   \n",
       "\n",
       "    Voicemail 2.2 Email 3.0 Voicemai 3.0 Email 4.0 Email 5.0  Voicemail 5.0  \\\n",
       "158           NaN       NaN          NaN       NaN       NaN            NaN   \n",
       "168           NaN       NaN          NaN       NaN       NaN            NaN   \n",
       "195           NaN       NaN          NaN       NaN       NaN            NaN   \n",
       "\n",
       "     Email 5.1  Voicemail 5.1  Email 6.0  Marketing Collaterals  \\\n",
       "158        NaN            NaN        NaN                    NaN   \n",
       "168        NaN            NaN        NaN                    NaN   \n",
       "195        NaN            NaN        NaN                    NaN   \n",
       "\n",
       "     No Show Follow-up G2 review G2 review shared Text Outreach Confirmed via  \\\n",
       "158                NaN       NaN              NaN           NaN           NaN   \n",
       "168                NaN       NaN              NaN           NaN           NaN   \n",
       "195                NaN       NaN              NaN           NaN           NaN   \n",
       "\n",
       "    Confirmed Date LinkedIn Outreach LinkedIn Outreach Date Replied  \\\n",
       "158            NaN               NaN                    NaN     NaN   \n",
       "168            NaN               NaN                    NaN     NaN   \n",
       "195            NaN               NaN                    NaN     NaN   \n",
       "\n",
       "    VR Confirmation 7 Touchpoints Unnamed: 51    Segment Meeting Date   \\\n",
       "158             NaN           NaN         NaN  MicroGrid           NaN   \n",
       "168             NaN           NaN         NaN  MicroGrid           NaN   \n",
       "195             NaN           NaN         NaN  MicroGrid           NaN   \n",
       "\n",
       "    Meeting Time (EST) Meeting status Invite status Prospect Acceptance  \\\n",
       "158                NaN            NaN           NaN                 NaN   \n",
       "168                NaN            NaN           NaN                 NaN   \n",
       "195                NaN            NaN           NaN                 NaN   \n",
       "\n",
       "    Acceptance Date $200 Amazon gift card Apple AirPods Pro  \\\n",
       "158             NaN                   NaN               NaN   \n",
       "168             NaN                   NaN               NaN   \n",
       "195             NaN                   NaN               NaN   \n",
       "\n",
       "    Assigned Meeting to? Unnamed: 59 Apple AirPods 4 Unnamed: 53  \\\n",
       "158                  NaN         NaN             NaN         NaN   \n",
       "168                  NaN         NaN             NaN         NaN   \n",
       "195                  NaN         NaN             NaN         NaN   \n",
       "\n",
       "    Send me an email now and follow-up in a month. £150 Amazon gift card  \\\n",
       "158                                            NaN                   NaN   \n",
       "168                                            NaN                   NaN   \n",
       "195                                            NaN                   NaN   \n",
       "\n",
       "    £100 Amazon gift card  £20 Amazon gift card AirPods 4 Text Outreached  \\\n",
       "158                   NaN                   NaN       NaN             NaN   \n",
       "168                   NaN                   NaN       NaN             NaN   \n",
       "195                   NaN                   NaN       NaN             NaN   \n",
       "\n",
       "    $200/ $100 Amazon gift card Unnamed: 50 Apple AirPods Pro 2nd Gen  Source  \\\n",
       "158                         NaN         NaN                        NaN    NaN   \n",
       "168                         NaN         NaN                        NaN    NaN   \n",
       "195                         NaN         NaN                        NaN    NaN   \n",
       "\n",
       "     filled_survey_form                        mail  \\\n",
       "158                   1  marc.schneidermann@fpl.com   \n",
       "168                   1  marc.schneidermann@fpl.com   \n",
       "195                   1  marc.schneidermann@fpl.com   \n",
       "\n",
       "                      new_email campaign_type  \n",
       "158  marc.schneidermann@fpl.com      LinkedIn  \n",
       "168  marc.schneidermann@fpl.com      LinkedIn  \n",
       "195  marc.schneidermann@fpl.com      LinkedIn  "
      ]
     },
     "execution_count": 238,
     "metadata": {},
     "output_type": "execute_result"
    }
   ],
   "source": [
    "hql_prospects[hql_prospects['new_email']=='marc.schneidermann@fpl.com']"
   ]
  },
  {
   "cell_type": "code",
   "execution_count": 179,
   "id": "be2d5cb7-bb23-4fd9-a269-b32b8a9730cf",
   "metadata": {},
   "outputs": [
    {
     "data": {
      "text/html": [
       "<div>\n",
       "<style scoped>\n",
       "    .dataframe tbody tr th:only-of-type {\n",
       "        vertical-align: middle;\n",
       "    }\n",
       "\n",
       "    .dataframe tbody tr th {\n",
       "        vertical-align: top;\n",
       "    }\n",
       "\n",
       "    .dataframe thead th {\n",
       "        text-align: right;\n",
       "    }\n",
       "</style>\n",
       "<table border=\"1\" class=\"dataframe\">\n",
       "  <thead>\n",
       "    <tr style=\"text-align: right;\">\n",
       "      <th></th>\n",
       "      <th>new_email</th>\n",
       "      <th>count</th>\n",
       "    </tr>\n",
       "  </thead>\n",
       "  <tbody>\n",
       "    <tr>\n",
       "      <th>0</th>\n",
       "      <td>john.beltrami@worley.com</td>\n",
       "      <td>5</td>\n",
       "    </tr>\n",
       "    <tr>\n",
       "      <th>1</th>\n",
       "      <td>dmollaun@dollargeneral.com</td>\n",
       "      <td>4</td>\n",
       "    </tr>\n",
       "    <tr>\n",
       "      <th>2</th>\n",
       "      <td>taiwan.cameron@atlnext.com</td>\n",
       "      <td>4</td>\n",
       "    </tr>\n",
       "    <tr>\n",
       "      <th>3</th>\n",
       "      <td>shrujank@hiinet.com</td>\n",
       "      <td>3</td>\n",
       "    </tr>\n",
       "    <tr>\n",
       "      <th>4</th>\n",
       "      <td>marc.schneidermann@fpl.com</td>\n",
       "      <td>3</td>\n",
       "    </tr>\n",
       "    <tr>\n",
       "      <th>5</th>\n",
       "      <td>apurva.sawant@jacobs.com</td>\n",
       "      <td>3</td>\n",
       "    </tr>\n",
       "    <tr>\n",
       "      <th>6</th>\n",
       "      <td>skandov@phoenixmfg.biz</td>\n",
       "      <td>3</td>\n",
       "    </tr>\n",
       "    <tr>\n",
       "      <th>7</th>\n",
       "      <td>KFischer@tampaairport.com</td>\n",
       "      <td>2</td>\n",
       "    </tr>\n",
       "    <tr>\n",
       "      <th>8</th>\n",
       "      <td>white@circlek.com</td>\n",
       "      <td>2</td>\n",
       "    </tr>\n",
       "    <tr>\n",
       "      <th>9</th>\n",
       "      <td>amy.ebersole-martinez@petco.com</td>\n",
       "      <td>2</td>\n",
       "    </tr>\n",
       "    <tr>\n",
       "      <th>10</th>\n",
       "      <td>torres.edgar@xylem.com</td>\n",
       "      <td>2</td>\n",
       "    </tr>\n",
       "    <tr>\n",
       "      <th>11</th>\n",
       "      <td>rafid.karim@flexlink.com</td>\n",
       "      <td>2</td>\n",
       "    </tr>\n",
       "    <tr>\n",
       "      <th>12</th>\n",
       "      <td>marton.szirmai@asda.co.uk</td>\n",
       "      <td>2</td>\n",
       "    </tr>\n",
       "    <tr>\n",
       "      <th>13</th>\n",
       "      <td>smontagno@rivian.com</td>\n",
       "      <td>2</td>\n",
       "    </tr>\n",
       "    <tr>\n",
       "      <th>14</th>\n",
       "      <td>karen.zakhem@lmco.com</td>\n",
       "      <td>2</td>\n",
       "    </tr>\n",
       "    <tr>\n",
       "      <th>15</th>\n",
       "      <td>dustin.heiler@goodwill.org</td>\n",
       "      <td>2</td>\n",
       "    </tr>\n",
       "    <tr>\n",
       "      <th>16</th>\n",
       "      <td>jared.arnold@daimlertruck.com</td>\n",
       "      <td>2</td>\n",
       "    </tr>\n",
       "    <tr>\n",
       "      <th>17</th>\n",
       "      <td>hammad.amjad@asda.co.uk</td>\n",
       "      <td>2</td>\n",
       "    </tr>\n",
       "    <tr>\n",
       "      <th>18</th>\n",
       "      <td>matthew.rameson@sgsco.com</td>\n",
       "      <td>2</td>\n",
       "    </tr>\n",
       "    <tr>\n",
       "      <th>19</th>\n",
       "      <td>abhinav.gupta@intel.com</td>\n",
       "      <td>2</td>\n",
       "    </tr>\n",
       "  </tbody>\n",
       "</table>\n",
       "</div>"
      ],
      "text/plain": [
       "                          new_email  count\n",
       "0          john.beltrami@worley.com      5\n",
       "1        dmollaun@dollargeneral.com      4\n",
       "2        taiwan.cameron@atlnext.com      4\n",
       "3               shrujank@hiinet.com      3\n",
       "4        marc.schneidermann@fpl.com      3\n",
       "5          apurva.sawant@jacobs.com      3\n",
       "6            skandov@phoenixmfg.biz      3\n",
       "7         KFischer@tampaairport.com      2\n",
       "8                 white@circlek.com      2\n",
       "9   amy.ebersole-martinez@petco.com      2\n",
       "10           torres.edgar@xylem.com      2\n",
       "11         rafid.karim@flexlink.com      2\n",
       "12        marton.szirmai@asda.co.uk      2\n",
       "13             smontagno@rivian.com      2\n",
       "14            karen.zakhem@lmco.com      2\n",
       "15       dustin.heiler@goodwill.org      2\n",
       "16    jared.arnold@daimlertruck.com      2\n",
       "17          hammad.amjad@asda.co.uk      2\n",
       "18        matthew.rameson@sgsco.com      2\n",
       "19          abhinav.gupta@intel.com      2"
      ]
     },
     "execution_count": 179,
     "metadata": {},
     "output_type": "execute_result"
    }
   ],
   "source": [
    "x=hql_prospects['new_email'].value_counts().reset_index(name='count')\n",
    "x.head(20)"
   ]
  },
  {
   "cell_type": "code",
   "execution_count": 672,
   "id": "b0bf6014-d665-4103-9715-4ca8f1d86f98",
   "metadata": {},
   "outputs": [],
   "source": [
    "def filtter_campaign_type(campaign_type):\n",
    "    if \"linkedin\" in campaign_type.lower():\n",
    "        return \"LinkedIn\"\n",
    "    elif \"email\" in campaign_type.lower():\n",
    "        return \"Email\"\n",
    "    elif \"voicereach\" in campaign_type.lower():\n",
    "        return \"VoiceReach\"\n",
    "    else:\n",
    "        return \"Other\""
   ]
  },
  {
   "cell_type": "code",
   "execution_count": 674,
   "id": "21778544-bb04-4b60-9ea7-55de66a2f0a5",
   "metadata": {},
   "outputs": [],
   "source": [
    "hql_prospects['campaign_type']=hql_prospects['Campaign Type'].apply(filtter_campaign_type)"
   ]
  },
  {
   "cell_type": "code",
   "execution_count": 676,
   "id": "94824e74-cd0d-4cd2-88b3-610df6513c57",
   "metadata": {},
   "outputs": [
    {
     "data": {
      "text/plain": [
       "Campaign Type\n",
       "LinkedIn Campaign                            260\n",
       "Email Campaign (TypeForm)                    178\n",
       "Email Campaign                               166\n",
       "LinkedIn Campaign ( £ 150 )                   56\n",
       "Linkedin Campaign ($100)                      36\n",
       "LinkedIn ICP Match ($100 AGC)                 35\n",
       "LinkedIn Campaign-Typeform                    27\n",
       "Facebook Ads Campaign ($200 Gift Card)        24\n",
       "Linkedin Campaign ($200)                      23\n",
       "LinkedIn Campaign ($200 AGC)                  22\n",
       "VoiceReach- Talisa Van Ierland                19\n",
       "Email Campaign ($200)                         12\n",
       "LinkedIn Campaign ( Airpods )                  9\n",
       "Email Campaign ($100 GC)                       9\n",
       "LinkedIn Campaign TF (AirPods)                 8\n",
       "VoiceReach Campaign                            8\n",
       "Email Campaign-Typeform                        8\n",
       "Linkedin Campaign                              8\n",
       "Linkedin Typeform                              8\n",
       "Email Campaign-Typeform ($200 Gift Card)       8\n",
       "Email Campaign ($100)                          7\n",
       "VoiceReach - Mark                              7\n",
       "LinkedIn ICP Match ($200 AGC)                  6\n",
       "LinkedIn Typeform                              5\n",
       "LinkedIn Campaign ($200)                       5\n",
       "Email Campaign ($200)                          4\n",
       "6Sense Typeform                                4\n",
       "Email Typeform                                 4\n",
       "Email Campaign ($200 AGC)                      3\n",
       "VoiceReach Avesh ($200)                        3\n",
       "Email Typeform Campaign                        3\n",
       "LinkedIn Campaign ($100)                       3\n",
       "Email Campaign (TypeForm)                      3\n",
       "Email Campaign (AirPods 4)                     3\n",
       "VoiceReach - Don                               3\n",
       "VoiceReach Joseph ($200 AGC)                   2\n",
       "VoiceReach - Matt                              2\n",
       "(Facebook Ads) Campaign ($200)                 2\n",
       "VoiceReach Joslin ($200 AGC)                   2\n",
       "Email Typeform ( Air-Pods )                    2\n",
       "LinkedIn Campaign (TypeForm)                   2\n",
       "Email Campaign (TypeForm) AirPods              2\n",
       "Campaign Execusion                             1\n",
       "VoiceReach Joseph                              1\n",
       "Metadata.io) ($200 Gift Card)                  1\n",
       "Email Campaign Typeform ($200 Gift Card)       1\n",
       "VoiceReach - Joslin                            1\n",
       "LinkedIn Campaign-Typeform ($200)              1\n",
       "Email Campaign ($200 GC)                       1\n",
       "VoiceRech - Mark ($200 AGC)                    1\n",
       "LinkedIn Campaign (InMail)                     1\n",
       "Email Campaign (AirPods 4)                     1\n",
       "Email Campaign (AirPods Pro)                   1\n",
       "Email Campaign-Typeform (Apple AirPods 4)      1\n",
       "Email Campaign Typeform (AirPods Pro)          1\n",
       "6Sense Typeform Campaign                       1\n",
       "Email Typeform Campaign (AirPods Pro)          1\n",
       "LinkedIn Typeform Campaign                     1\n",
       "TypeFrom                                       1\n",
       "Name: count, dtype: int64"
      ]
     },
     "execution_count": 676,
     "metadata": {},
     "output_type": "execute_result"
    }
   ],
   "source": [
    "hql_prospects['Campaign Type'].value_counts(dropna=False)"
   ]
  },
  {
   "cell_type": "code",
   "execution_count": null,
   "id": "b7baac7f-8bce-430d-a574-4bf6cbd2dca4",
   "metadata": {},
   "outputs": [],
   "source": []
  },
  {
   "cell_type": "code",
   "execution_count": 680,
   "id": "ad00bb76-4fff-487c-8453-b364b5276887",
   "metadata": {},
   "outputs": [
    {
     "data": {
      "text/plain": [
       "campaign_type\n",
       "LinkedIn      516\n",
       "Email         419\n",
       "VoiceReach     48\n",
       "Other          35\n",
       "Name: count, dtype: int64"
      ]
     },
     "execution_count": 680,
     "metadata": {},
     "output_type": "execute_result"
    }
   ],
   "source": [
    "hql_prospects['campaign_type'].value_counts()"
   ]
  },
  {
   "cell_type": "code",
   "execution_count": 688,
   "id": "e28ab927-0c67-45ac-9d8e-fdee45777909",
   "metadata": {},
   "outputs": [
    {
     "data": {
      "text/plain": [
       "Email\n",
       "andrew.milner@avangrid.com              2\n",
       "semurali@amd.com                        2\n",
       "KFischer@tampaairport.com               2\n",
       "justin.loth@oncor.com                   2\n",
       "bwright-7045@sencorpwhite.com           2\n",
       "                                       ..\n",
       "maladdasi@rivian.com                    1\n",
       "mansoor.abbas@gf.com                    1\n",
       "vahidt@hiinet.com                       1\n",
       "segun.afonja@gea.com                    1\n",
       "robert.haas@freseniusmedicalcare.com    1\n",
       "Name: count, Length: 397, dtype: int64"
      ]
     },
     "execution_count": 688,
     "metadata": {},
     "output_type": "execute_result"
    }
   ],
   "source": [
    "hql_prospects[hql_prospects['campaign_type']=='Email']['Email'].value_counts()"
   ]
  },
  {
   "cell_type": "code",
   "execution_count": null,
   "id": "099a3dea-b993-4b67-8a4c-f0e9fde5e411",
   "metadata": {},
   "outputs": [],
   "source": []
  },
  {
   "cell_type": "code",
   "execution_count": null,
   "id": "5113bffd-95e6-4974-8d27-d377e1bb185f",
   "metadata": {},
   "outputs": [],
   "source": []
  },
  {
   "cell_type": "code",
   "execution_count": null,
   "id": "01b4f3e1-527d-4690-9968-7bb95278663e",
   "metadata": {},
   "outputs": [],
   "source": []
  },
  {
   "cell_type": "code",
   "execution_count": null,
   "id": "099a617a-1291-45d6-9d5b-46e932431ba9",
   "metadata": {},
   "outputs": [],
   "source": []
  },
  {
   "cell_type": "code",
   "execution_count": null,
   "id": "50cd5e3b-669f-4807-a802-55b1f92c33ec",
   "metadata": {},
   "outputs": [],
   "source": []
  },
  {
   "cell_type": "code",
   "execution_count": 242,
   "id": "208f036c-1041-4a32-9d76-52aeaae60bb7",
   "metadata": {},
   "outputs": [],
   "source": [
    "converted_hqls=unique_prop_firmo_data[unique_prop_firmo_data['filled_survey_form']==1]"
   ]
  },
  {
   "cell_type": "code",
   "execution_count": null,
   "id": "8889d793-e2ef-44a4-bf3c-e38a0fb5657d",
   "metadata": {},
   "outputs": [],
   "source": []
  },
  {
   "cell_type": "code",
   "execution_count": 244,
   "id": "2ebc2432-af32-4cf3-a2ea-dc358a425328",
   "metadata": {},
   "outputs": [
    {
     "data": {
      "text/plain": [
       "Index(['Company Name', 'First Name', 'Middle Name', 'Last Name', 'Title',\n",
       "       'Level', 'Seniority', 'Department', 'Email ID', 'Email 1',\n",
       "       'Contact_City', 'Contact_State', 'Contact City', 'Contact State',\n",
       "       'Contact Country', 'Country', 'Website', 'Company City',\n",
       "       'Company State', 'Company Country', 'Industry', 'Sub Industry',\n",
       "       'Revenue', 'Revenue Range', 'EMP Range', 'Company Annual Revenue',\n",
       "       'Company Industry', 'Company Staff Count Range', 'Company Staff Count',\n",
       "       'source', 'Email', 'derived_mail', 'total_emails_sent',\n",
       "       'total_emails_opened', 'total_emails_clicked', 'total_emails_bounced',\n",
       "       'total_emails_unsubscribed', 'avg_time_between_emails',\n",
       "       'avg_time_between_emails_opened', 'avg_time_between_emails_clicked',\n",
       "       'click_to_open_ratio', 'click_through_rate',\n",
       "       'days_since_last_email_clicked', 'total_emails_sent_last_two_weeks',\n",
       "       'total_emails_sent_last_four_weeks',\n",
       "       'total_emails_sent_last_eight_weeks',\n",
       "       'total_emails_sent_last_twelve_weeks',\n",
       "       'total_emails_opened_last_two_weeks',\n",
       "       'total_emails_opened_last_four_weeks',\n",
       "       'total_emails_opened_last_eight_weeks',\n",
       "       'total_emails_opened_last_twelve_weeks', 'total_emails_sent_week_ends',\n",
       "       'bounce_rate', 'email_open_rate', 'email_click_rate',\n",
       "       'last_email_status', 'days_since_last_email_opened',\n",
       "       'has_ever_clicked_email', 'has_ever_opened_email', 'mail',\n",
       "       'filled_survey_form'],\n",
       "      dtype='object')"
      ]
     },
     "execution_count": 244,
     "metadata": {},
     "output_type": "execute_result"
    }
   ],
   "source": [
    "converted_hqls.columns"
   ]
  },
  {
   "cell_type": "code",
   "execution_count": null,
   "id": "d9e06fad-6004-4ff9-a5b5-1b3212823f41",
   "metadata": {},
   "outputs": [],
   "source": []
  },
  {
   "cell_type": "code",
   "execution_count": 246,
   "id": "2a4eb95c-c389-4330-b042-e0567e9104fc",
   "metadata": {},
   "outputs": [
    {
     "data": {
      "text/plain": [
       "<Axes: xlabel='has_ever_clicked_email', ylabel='count'>"
      ]
     },
     "execution_count": 246,
     "metadata": {},
     "output_type": "execute_result"
    },
    {
     "data": {
      "image/png": "[encoded data removed]",
      "text/plain": [
       "<Figure size 640x480 with 1 Axes>"
      ]
     },
     "metadata": {},
     "output_type": "display_data"
    }
   ],
   "source": [
    "sns.countplot(x='has_ever_clicked_email',data=converted_hqls)"
   ]
  },
  {
   "cell_type": "code",
   "execution_count": 248,
   "id": "ab7df3e4-4363-4321-bf08-6c161665b70f",
   "metadata": {},
   "outputs": [
    {
     "data": {
      "text/plain": [
       "<Axes: xlabel='has_ever_opened_email', ylabel='count'>"
      ]
     },
     "execution_count": 248,
     "metadata": {},
     "output_type": "execute_result"
    },
    {
     "data": {
      "image/png": "[encoded data removed]",
      "text/plain": [
       "<Figure size 640x480 with 1 Axes>"
      ]
     },
     "metadata": {},
     "output_type": "display_data"
    }
   ],
   "source": [
    "sns.countplot(x='has_ever_opened_email',data=converted_hqls)"
   ]
  },
  {
   "cell_type": "code",
   "execution_count": null,
   "id": "8e3a0656-7fff-4510-be48-33535bd4e74c",
   "metadata": {},
   "outputs": [],
   "source": []
  },
  {
   "cell_type": "code",
   "execution_count": 270,
   "id": "38363354-aca4-4771-81ee-a19e6fbc5991",
   "metadata": {},
   "outputs": [
    {
     "data": {
      "image/png": "[encoded data removed]",
      "text/plain": [
       "<Figure size 640x480 with 1 Axes>"
      ]
     },
     "metadata": {},
     "output_type": "display_data"
    }
   ],
   "source": [
    "sns.countplot(x='last_email_status',data=converted_hqls)\n",
    "plt.xticks(rotation=75)\n",
    "plt.show()"
   ]
  },
  {
   "cell_type": "code",
   "execution_count": null,
   "id": "04f107f1-75e8-4030-a2f4-ac1f537e3184",
   "metadata": {},
   "outputs": [],
   "source": []
  },
  {
   "cell_type": "code",
   "execution_count": null,
   "id": "ea3c5810-c6fe-4977-9116-3465524f55a5",
   "metadata": {},
   "outputs": [],
   "source": []
  },
  {
   "cell_type": "code",
   "execution_count": 250,
   "id": "423eb3f9-3f61-431a-9cf4-cf4a379acf50",
   "metadata": {},
   "outputs": [
    {
     "data": {
      "text/plain": [
       "<Axes: xlabel='bounce_rate', ylabel='Density'>"
      ]
     },
     "execution_count": 250,
     "metadata": {},
     "output_type": "execute_result"
    },
    {
     "data": {
      "image/png": "[encoded data removed]",
      "text/plain": [
       "<Figure size 640x480 with 1 Axes>"
      ]
     },
     "metadata": {},
     "output_type": "display_data"
    }
   ],
   "source": [
    "sns.kdeplot(x='bounce_rate',data=converted_hqls)"
   ]
  },
  {
   "cell_type": "code",
   "execution_count": null,
   "id": "26aa0c09-110c-414b-93c6-942f95e96f73",
   "metadata": {},
   "outputs": [],
   "source": []
  },
  {
   "cell_type": "code",
   "execution_count": 254,
   "id": "6f778f04-fd34-4f24-be68-f96bf6a63f06",
   "metadata": {},
   "outputs": [
    {
     "data": {
      "text/plain": [
       "<Axes: xlabel='email_click_rate', ylabel='Density'>"
      ]
     },
     "execution_count": 254,
     "metadata": {},
     "output_type": "execute_result"
    },
    {
     "data": {
      "image/png": "[encoded data removed]",
      "text/plain": [
       "<Figure size 640x480 with 1 Axes>"
      ]
     },
     "metadata": {},
     "output_type": "display_data"
    }
   ],
   "source": [
    "sns.kdeplot(x='email_click_rate',data=converted_hqls)"
   ]
  },
  {
   "cell_type": "code",
   "execution_count": null,
   "id": "281d1cf0-e054-4d50-817d-e12ebfea81d1",
   "metadata": {},
   "outputs": [],
   "source": []
  },
  {
   "cell_type": "code",
   "execution_count": 256,
   "id": "a9058a9f-7bc7-46f6-8df5-45351cb13cab",
   "metadata": {},
   "outputs": [
    {
     "data": {
      "text/plain": [
       "<Axes: xlabel='email_open_rate', ylabel='Density'>"
      ]
     },
     "execution_count": 256,
     "metadata": {},
     "output_type": "execute_result"
    },
    {
     "data": {
      "image/png": "[encoded data removed]",
      "text/plain": [
       "<Figure size 640x480 with 1 Axes>"
      ]
     },
     "metadata": {},
     "output_type": "display_data"
    }
   ],
   "source": [
    "sns.kdeplot(x='email_open_rate',data=converted_hqls)"
   ]
  },
  {
   "cell_type": "code",
   "execution_count": 266,
   "id": "ddfd77b7-fdc9-4850-91d4-f3596efd45c9",
   "metadata": {},
   "outputs": [
    {
     "data": {
      "text/plain": [
       "<Axes: xlabel='click_to_open_ratio', ylabel='Density'>"
      ]
     },
     "execution_count": 266,
     "metadata": {},
     "output_type": "execute_result"
    },
    {
     "data": {
      "image/png": "[encoded data removed]",
      "text/plain": [
       "<Figure size 640x480 with 1 Axes>"
      ]
     },
     "metadata": {},
     "output_type": "display_data"
    }
   ],
   "source": [
    "sns.kdeplot(x='click_to_open_ratio',data=converted_hqls)"
   ]
  },
  {
   "cell_type": "code",
   "execution_count": null,
   "id": "74b0b17c-3a1e-4500-9c06-e8c60bd066bc",
   "metadata": {},
   "outputs": [],
   "source": []
  },
  {
   "cell_type": "code",
   "execution_count": 656,
   "id": "d84c919a-46cc-4298-95e3-c45bc40ec525",
   "metadata": {},
   "outputs": [
    {
     "name": "stderr",
     "output_type": "stream",
     "text": [
      "C:\\Users\\Admin\\AppData\\Local\\Temp\\ipykernel_26432\\2262882607.py:1: DtypeWarning: Columns (2,5,12,19) have mixed types. Specify dtype option on import or set low_memory=False.\n",
      "  voice_reach=pd.read_csv('../datasets/result_datasets/voice_reach_data_aggregated.csv')\n"
     ]
    }
   ],
   "source": [
    "voice_reach=pd.read_csv('../datasets/result_datasets/voice_reach_data_aggregated.csv')"
   ]
  },
  {
   "cell_type": "code",
   "execution_count": null,
   "id": "cf26aecc-c403-4e30-a69c-70f57ccfe4a3",
   "metadata": {},
   "outputs": [],
   "source": []
  },
  {
   "cell_type": "code",
   "execution_count": 262,
   "id": "113c189f-c433-4bb6-8e8f-a7371a8f996d",
   "metadata": {},
   "outputs": [
    {
     "data": {
      "text/plain": [
       "Series([], Name: count, dtype: int64)"
      ]
     },
     "execution_count": 262,
     "metadata": {},
     "output_type": "execute_result"
    }
   ],
   "source": [
    "voice_reach[voice_reach['Call Duration'].notna()]['Talk time'].value_counts()"
   ]
  },
  {
   "cell_type": "code",
   "execution_count": 658,
   "id": "3218c0db-f2cc-4b85-ae9d-ba4bfb8d6111",
   "metadata": {},
   "outputs": [
    {
     "data": {
      "text/html": [
       "<div>\n",
       "<style scoped>\n",
       "    .dataframe tbody tr th:only-of-type {\n",
       "        vertical-align: middle;\n",
       "    }\n",
       "\n",
       "    .dataframe tbody tr th {\n",
       "        vertical-align: top;\n",
       "    }\n",
       "\n",
       "    .dataframe thead th {\n",
       "        text-align: right;\n",
       "    }\n",
       "</style>\n",
       "<table border=\"1\" class=\"dataframe\">\n",
       "  <thead>\n",
       "    <tr style=\"text-align: right;\">\n",
       "      <th></th>\n",
       "      <th>Unnamed: 0</th>\n",
       "      <th>Sales Rep</th>\n",
       "      <th>Campaign</th>\n",
       "      <th>Date</th>\n",
       "      <th>Call Originate Time</th>\n",
       "      <th>Call Duration</th>\n",
       "      <th>Disposition Code</th>\n",
       "      <th>Company</th>\n",
       "      <th>First Name</th>\n",
       "      <th>Last Name</th>\n",
       "      <th>Job Title</th>\n",
       "      <th>Phone</th>\n",
       "      <th>Street</th>\n",
       "      <th>City</th>\n",
       "      <th>State</th>\n",
       "      <th>Zip</th>\n",
       "      <th>Country</th>\n",
       "      <th>Email</th>\n",
       "      <th>Interaction Comments</th>\n",
       "      <th>Unnamed: 18</th>\n",
       "      <th>source</th>\n",
       "      <th>conversation</th>\n",
       "      <th>Call End Time</th>\n",
       "      <th>Talk time</th>\n",
       "      <th>Wrap time</th>\n",
       "      <th>Direct Phone</th>\n",
       "      <th>Dialed Number</th>\n",
       "      <th>Address1</th>\n",
       "      <th>Address2</th>\n",
       "    </tr>\n",
       "  </thead>\n",
       "  <tbody>\n",
       "  </tbody>\n",
       "</table>\n",
       "</div>"
      ],
      "text/plain": [
       "Empty DataFrame\n",
       "Columns: [Unnamed: 0, Sales Rep, Campaign, Date, Call Originate Time, Call Duration, Disposition Code, Company, First Name, Last Name, Job Title, Phone, Street, City, State, Zip, Country, Email, Interaction Comments, Unnamed: 18, source, conversation, Call End Time, Talk time, Wrap time, Direct Phone, Dialed Number, Address1, Address2]\n",
       "Index: []"
      ]
     },
     "execution_count": 658,
     "metadata": {},
     "output_type": "execute_result"
    }
   ],
   "source": [
    "voice_reach[voice_reach['Email']=='shrujank@hiinet.com']"
   ]
  },
  {
   "cell_type": "code",
   "execution_count": 278,
   "id": "15e0bf68-45e6-45bf-bb4e-0403886c6b97",
   "metadata": {},
   "outputs": [
    {
     "data": {
      "text/plain": [
       "last_email_status\n",
       "EMAIL_SENT       314\n",
       "EMAIL_CLICKED     32\n",
       "0                 31\n",
       "EMAIL_OPENED      20\n",
       "BOUNCED           17\n",
       "UNSUBSCRIBED       2\n",
       "Name: count, dtype: int64"
      ]
     },
     "execution_count": 278,
     "metadata": {},
     "output_type": "execute_result"
    }
   ],
   "source": [
    "converted_hqls['last_email_status'].value_counts()"
   ]
  },
  {
   "cell_type": "code",
   "execution_count": 280,
   "id": "2c3c51c3-e237-45f8-9e3d-e0015fbb451e",
   "metadata": {},
   "outputs": [
    {
     "data": {
      "text/html": [
       "<div>\n",
       "<style scoped>\n",
       "    .dataframe tbody tr th:only-of-type {\n",
       "        vertical-align: middle;\n",
       "    }\n",
       "\n",
       "    .dataframe tbody tr th {\n",
       "        vertical-align: top;\n",
       "    }\n",
       "\n",
       "    .dataframe thead th {\n",
       "        text-align: right;\n",
       "    }\n",
       "</style>\n",
       "<table border=\"1\" class=\"dataframe\">\n",
       "  <thead>\n",
       "    <tr style=\"text-align: right;\">\n",
       "      <th></th>\n",
       "      <th>Company Name</th>\n",
       "      <th>First Name</th>\n",
       "      <th>Middle Name</th>\n",
       "      <th>Last Name</th>\n",
       "      <th>Title</th>\n",
       "      <th>Level</th>\n",
       "      <th>Seniority</th>\n",
       "      <th>Department</th>\n",
       "      <th>Email ID</th>\n",
       "      <th>Email 1</th>\n",
       "      <th>Contact_City</th>\n",
       "      <th>Contact_State</th>\n",
       "      <th>Contact City</th>\n",
       "      <th>Contact State</th>\n",
       "      <th>Contact Country</th>\n",
       "      <th>Country</th>\n",
       "      <th>Website</th>\n",
       "      <th>Company City</th>\n",
       "      <th>Company State</th>\n",
       "      <th>Company Country</th>\n",
       "      <th>Industry</th>\n",
       "      <th>Sub Industry</th>\n",
       "      <th>Revenue</th>\n",
       "      <th>Revenue Range</th>\n",
       "      <th>EMP Range</th>\n",
       "      <th>Company Annual Revenue</th>\n",
       "      <th>Company Industry</th>\n",
       "      <th>Company Staff Count Range</th>\n",
       "      <th>Company Staff Count</th>\n",
       "      <th>source</th>\n",
       "      <th>Email</th>\n",
       "      <th>derived_mail</th>\n",
       "      <th>total_emails_sent</th>\n",
       "      <th>total_emails_opened</th>\n",
       "      <th>total_emails_clicked</th>\n",
       "      <th>total_emails_bounced</th>\n",
       "      <th>total_emails_unsubscribed</th>\n",
       "      <th>avg_time_between_emails</th>\n",
       "      <th>avg_time_between_emails_opened</th>\n",
       "      <th>avg_time_between_emails_clicked</th>\n",
       "      <th>click_to_open_ratio</th>\n",
       "      <th>click_through_rate</th>\n",
       "      <th>days_since_last_email_clicked</th>\n",
       "      <th>total_emails_sent_last_two_weeks</th>\n",
       "      <th>total_emails_sent_last_four_weeks</th>\n",
       "      <th>total_emails_sent_last_eight_weeks</th>\n",
       "      <th>total_emails_sent_last_twelve_weeks</th>\n",
       "      <th>total_emails_opened_last_two_weeks</th>\n",
       "      <th>total_emails_opened_last_four_weeks</th>\n",
       "      <th>total_emails_opened_last_eight_weeks</th>\n",
       "      <th>total_emails_opened_last_twelve_weeks</th>\n",
       "      <th>total_emails_sent_week_ends</th>\n",
       "      <th>bounce_rate</th>\n",
       "      <th>email_open_rate</th>\n",
       "      <th>email_click_rate</th>\n",
       "      <th>last_email_status</th>\n",
       "      <th>days_since_last_email_opened</th>\n",
       "      <th>has_ever_clicked_email</th>\n",
       "      <th>has_ever_opened_email</th>\n",
       "      <th>mail</th>\n",
       "      <th>filled_survey_form</th>\n",
       "    </tr>\n",
       "  </thead>\n",
       "  <tbody>\n",
       "    <tr>\n",
       "      <th>234</th>\n",
       "      <td>NextEra Energy, Inc.</td>\n",
       "      <td>John</td>\n",
       "      <td>0</td>\n",
       "      <td>McDonald</td>\n",
       "      <td>System Operations Manager</td>\n",
       "      <td>0</td>\n",
       "      <td>0</td>\n",
       "      <td>0</td>\n",
       "      <td>0</td>\n",
       "      <td>john.mcdonald@nexteraenergy.com</td>\n",
       "      <td>Clifton Park</td>\n",
       "      <td>New York</td>\n",
       "      <td>Clifton Park</td>\n",
       "      <td>New York</td>\n",
       "      <td>0</td>\n",
       "      <td>0</td>\n",
       "      <td>www.nexteraenergy.com</td>\n",
       "      <td>Juno Beach</td>\n",
       "      <td>Florida</td>\n",
       "      <td>United States</td>\n",
       "      <td>0</td>\n",
       "      <td>0</td>\n",
       "      <td>0</td>\n",
       "      <td>0</td>\n",
       "      <td>0</td>\n",
       "      <td>$21B</td>\n",
       "      <td>Electricity, Oil &amp; Gas</td>\n",
       "      <td>10,001+</td>\n",
       "      <td>15300</td>\n",
       "      <td>../datasets/Schneider_Electric_Data/Schneider_...</td>\n",
       "      <td>john.mcdonald@nexteraenergy.com</td>\n",
       "      <td>john.mcdonald@nexteraenergy.com</td>\n",
       "      <td>165.0</td>\n",
       "      <td>0.0</td>\n",
       "      <td>0.0</td>\n",
       "      <td>0.0</td>\n",
       "      <td>0.0</td>\n",
       "      <td>0.195122</td>\n",
       "      <td>0.000000</td>\n",
       "      <td>0.0</td>\n",
       "      <td>0.000000</td>\n",
       "      <td>0.00000</td>\n",
       "      <td>0.0</td>\n",
       "      <td>0.0</td>\n",
       "      <td>0.0</td>\n",
       "      <td>0.0</td>\n",
       "      <td>0.0</td>\n",
       "      <td>0.0</td>\n",
       "      <td>0.0</td>\n",
       "      <td>0.0</td>\n",
       "      <td>0.0</td>\n",
       "      <td>32.0</td>\n",
       "      <td>0.0</td>\n",
       "      <td>0.000000</td>\n",
       "      <td>0.00000</td>\n",
       "      <td>EMAIL_SENT</td>\n",
       "      <td>0.0</td>\n",
       "      <td>1</td>\n",
       "      <td>0</td>\n",
       "      <td>john.mcdonald@nexteraenergy.com</td>\n",
       "      <td>1.0</td>\n",
       "    </tr>\n",
       "    <tr>\n",
       "      <th>346</th>\n",
       "      <td>Pacific Gas and Electric Company</td>\n",
       "      <td>Jeremy</td>\n",
       "      <td>0</td>\n",
       "      <td>Laurin</td>\n",
       "      <td>Business Operations Manager</td>\n",
       "      <td>0</td>\n",
       "      <td>0</td>\n",
       "      <td>0</td>\n",
       "      <td>0</td>\n",
       "      <td>jeremy.laurin@pge.com</td>\n",
       "      <td>Oakland</td>\n",
       "      <td>California</td>\n",
       "      <td>Oakland</td>\n",
       "      <td>California</td>\n",
       "      <td>0</td>\n",
       "      <td>0</td>\n",
       "      <td>www.pgecorp.com</td>\n",
       "      <td>San Francisco</td>\n",
       "      <td>California</td>\n",
       "      <td>United States</td>\n",
       "      <td>0</td>\n",
       "      <td>0</td>\n",
       "      <td>0</td>\n",
       "      <td>0</td>\n",
       "      <td>0</td>\n",
       "      <td>$21.7B</td>\n",
       "      <td>Electricity, Oil &amp; Gas</td>\n",
       "      <td>10,001+</td>\n",
       "      <td>26000</td>\n",
       "      <td>../datasets/Schneider_Electric_Data/Schneider_...</td>\n",
       "      <td>jeremy.laurin@pge.com</td>\n",
       "      <td>jeremy.laurin@pge.com</td>\n",
       "      <td>65.0</td>\n",
       "      <td>0.0</td>\n",
       "      <td>0.0</td>\n",
       "      <td>0.0</td>\n",
       "      <td>0.0</td>\n",
       "      <td>0.250000</td>\n",
       "      <td>0.000000</td>\n",
       "      <td>0.0</td>\n",
       "      <td>0.000000</td>\n",
       "      <td>0.00000</td>\n",
       "      <td>0.0</td>\n",
       "      <td>0.0</td>\n",
       "      <td>0.0</td>\n",
       "      <td>0.0</td>\n",
       "      <td>0.0</td>\n",
       "      <td>0.0</td>\n",
       "      <td>0.0</td>\n",
       "      <td>0.0</td>\n",
       "      <td>0.0</td>\n",
       "      <td>9.0</td>\n",
       "      <td>0.0</td>\n",
       "      <td>0.000000</td>\n",
       "      <td>0.00000</td>\n",
       "      <td>EMAIL_SENT</td>\n",
       "      <td>0.0</td>\n",
       "      <td>1</td>\n",
       "      <td>0</td>\n",
       "      <td>jeremy.laurin@pge.com</td>\n",
       "      <td>1.0</td>\n",
       "    </tr>\n",
       "    <tr>\n",
       "      <th>957</th>\n",
       "      <td>Puget Sound Energy</td>\n",
       "      <td>Zach</td>\n",
       "      <td>0</td>\n",
       "      <td>Bates</td>\n",
       "      <td>Product Development Manager</td>\n",
       "      <td>0</td>\n",
       "      <td>0</td>\n",
       "      <td>0</td>\n",
       "      <td>0</td>\n",
       "      <td>zach.bates@pse.com</td>\n",
       "      <td>Seattle</td>\n",
       "      <td>0</td>\n",
       "      <td>Seattle</td>\n",
       "      <td>0</td>\n",
       "      <td>0</td>\n",
       "      <td>0</td>\n",
       "      <td>www.pse.com</td>\n",
       "      <td>Bellevue</td>\n",
       "      <td>Washington</td>\n",
       "      <td>United States</td>\n",
       "      <td>0</td>\n",
       "      <td>0</td>\n",
       "      <td>0</td>\n",
       "      <td>0</td>\n",
       "      <td>0</td>\n",
       "      <td>$4.2B</td>\n",
       "      <td>Electricity, Oil &amp; Gas</td>\n",
       "      <td>1,001-5,000</td>\n",
       "      <td>3100</td>\n",
       "      <td>../datasets/Schneider_Electric_Data/Schneider_...</td>\n",
       "      <td>zach.bates@pse.com</td>\n",
       "      <td>zach.bates@pse.com</td>\n",
       "      <td>7.0</td>\n",
       "      <td>0.0</td>\n",
       "      <td>0.0</td>\n",
       "      <td>0.0</td>\n",
       "      <td>0.0</td>\n",
       "      <td>0.666667</td>\n",
       "      <td>0.000000</td>\n",
       "      <td>0.0</td>\n",
       "      <td>0.000000</td>\n",
       "      <td>0.00000</td>\n",
       "      <td>0.0</td>\n",
       "      <td>0.0</td>\n",
       "      <td>0.0</td>\n",
       "      <td>0.0</td>\n",
       "      <td>0.0</td>\n",
       "      <td>0.0</td>\n",
       "      <td>0.0</td>\n",
       "      <td>0.0</td>\n",
       "      <td>0.0</td>\n",
       "      <td>1.0</td>\n",
       "      <td>0.0</td>\n",
       "      <td>0.000000</td>\n",
       "      <td>0.00000</td>\n",
       "      <td>EMAIL_SENT</td>\n",
       "      <td>0.0</td>\n",
       "      <td>1</td>\n",
       "      <td>0</td>\n",
       "      <td>zach.bates@pse.com</td>\n",
       "      <td>1.0</td>\n",
       "    </tr>\n",
       "    <tr>\n",
       "      <th>961</th>\n",
       "      <td>Puget Sound Energy</td>\n",
       "      <td>Sam</td>\n",
       "      <td>0</td>\n",
       "      <td>Duncan</td>\n",
       "      <td>Product Development Manager</td>\n",
       "      <td>0</td>\n",
       "      <td>0</td>\n",
       "      <td>0</td>\n",
       "      <td>0</td>\n",
       "      <td>sam.duncan@pse.com</td>\n",
       "      <td>Seattle</td>\n",
       "      <td>Washington</td>\n",
       "      <td>Seattle</td>\n",
       "      <td>Washington</td>\n",
       "      <td>0</td>\n",
       "      <td>0</td>\n",
       "      <td>www.pse.com</td>\n",
       "      <td>Bellevue</td>\n",
       "      <td>Washington</td>\n",
       "      <td>United States</td>\n",
       "      <td>0</td>\n",
       "      <td>0</td>\n",
       "      <td>0</td>\n",
       "      <td>0</td>\n",
       "      <td>0</td>\n",
       "      <td>$4.2B</td>\n",
       "      <td>Electricity, Oil &amp; Gas</td>\n",
       "      <td>1,001-5,000</td>\n",
       "      <td>3100</td>\n",
       "      <td>../datasets/Schneider_Electric_Data/Schneider_...</td>\n",
       "      <td>sam.duncan@pse.com</td>\n",
       "      <td>sam.duncan@pse.com</td>\n",
       "      <td>17.0</td>\n",
       "      <td>0.0</td>\n",
       "      <td>0.0</td>\n",
       "      <td>0.0</td>\n",
       "      <td>0.0</td>\n",
       "      <td>0.875000</td>\n",
       "      <td>0.000000</td>\n",
       "      <td>0.0</td>\n",
       "      <td>0.000000</td>\n",
       "      <td>0.00000</td>\n",
       "      <td>0.0</td>\n",
       "      <td>0.0</td>\n",
       "      <td>0.0</td>\n",
       "      <td>0.0</td>\n",
       "      <td>0.0</td>\n",
       "      <td>0.0</td>\n",
       "      <td>0.0</td>\n",
       "      <td>0.0</td>\n",
       "      <td>0.0</td>\n",
       "      <td>3.0</td>\n",
       "      <td>0.0</td>\n",
       "      <td>0.000000</td>\n",
       "      <td>0.00000</td>\n",
       "      <td>EMAIL_SENT</td>\n",
       "      <td>0.0</td>\n",
       "      <td>1</td>\n",
       "      <td>0</td>\n",
       "      <td>sam.duncan@pse.com</td>\n",
       "      <td>1.0</td>\n",
       "    </tr>\n",
       "    <tr>\n",
       "      <th>1048</th>\n",
       "      <td>Salt River Project</td>\n",
       "      <td>Chris</td>\n",
       "      <td>0</td>\n",
       "      <td>Hofmann</td>\n",
       "      <td>Director Transmission &amp; Generation Operations</td>\n",
       "      <td>0</td>\n",
       "      <td>0</td>\n",
       "      <td>0</td>\n",
       "      <td>0</td>\n",
       "      <td>chris.hofmann@srpnet.com</td>\n",
       "      <td>Buckeye</td>\n",
       "      <td>Arizona</td>\n",
       "      <td>Buckeye</td>\n",
       "      <td>Arizona</td>\n",
       "      <td>0</td>\n",
       "      <td>0</td>\n",
       "      <td>www.srpnet.com</td>\n",
       "      <td>Tempe</td>\n",
       "      <td>Arizona</td>\n",
       "      <td>United States</td>\n",
       "      <td>0</td>\n",
       "      <td>0</td>\n",
       "      <td>0</td>\n",
       "      <td>0</td>\n",
       "      <td>0</td>\n",
       "      <td>$3.6B</td>\n",
       "      <td>Electricity, Oil &amp; Gas</td>\n",
       "      <td>1,001-5,000</td>\n",
       "      <td>4844</td>\n",
       "      <td>../datasets/Schneider_Electric_Data/Schneider_...</td>\n",
       "      <td>chris.hofmann@srpnet.com</td>\n",
       "      <td>chris.hofmann@srpnet.com</td>\n",
       "      <td>59.0</td>\n",
       "      <td>13.0</td>\n",
       "      <td>12.0</td>\n",
       "      <td>0.0</td>\n",
       "      <td>0.0</td>\n",
       "      <td>6.155172</td>\n",
       "      <td>28.916667</td>\n",
       "      <td>0.0</td>\n",
       "      <td>0.923077</td>\n",
       "      <td>0.20339</td>\n",
       "      <td>87.0</td>\n",
       "      <td>0.0</td>\n",
       "      <td>0.0</td>\n",
       "      <td>0.0</td>\n",
       "      <td>18.0</td>\n",
       "      <td>0.0</td>\n",
       "      <td>0.0</td>\n",
       "      <td>0.0</td>\n",
       "      <td>0.0</td>\n",
       "      <td>9.0</td>\n",
       "      <td>0.0</td>\n",
       "      <td>0.220339</td>\n",
       "      <td>0.20339</td>\n",
       "      <td>EMAIL_SENT</td>\n",
       "      <td>87.0</td>\n",
       "      <td>1</td>\n",
       "      <td>1</td>\n",
       "      <td>chris.hofmann@srpnet.com</td>\n",
       "      <td>1.0</td>\n",
       "    </tr>\n",
       "    <tr>\n",
       "      <th>...</th>\n",
       "      <td>...</td>\n",
       "      <td>...</td>\n",
       "      <td>...</td>\n",
       "      <td>...</td>\n",
       "      <td>...</td>\n",
       "      <td>...</td>\n",
       "      <td>...</td>\n",
       "      <td>...</td>\n",
       "      <td>...</td>\n",
       "      <td>...</td>\n",
       "      <td>...</td>\n",
       "      <td>...</td>\n",
       "      <td>...</td>\n",
       "      <td>...</td>\n",
       "      <td>...</td>\n",
       "      <td>...</td>\n",
       "      <td>...</td>\n",
       "      <td>...</td>\n",
       "      <td>...</td>\n",
       "      <td>...</td>\n",
       "      <td>...</td>\n",
       "      <td>...</td>\n",
       "      <td>...</td>\n",
       "      <td>...</td>\n",
       "      <td>...</td>\n",
       "      <td>...</td>\n",
       "      <td>...</td>\n",
       "      <td>...</td>\n",
       "      <td>...</td>\n",
       "      <td>...</td>\n",
       "      <td>...</td>\n",
       "      <td>...</td>\n",
       "      <td>...</td>\n",
       "      <td>...</td>\n",
       "      <td>...</td>\n",
       "      <td>...</td>\n",
       "      <td>...</td>\n",
       "      <td>...</td>\n",
       "      <td>...</td>\n",
       "      <td>...</td>\n",
       "      <td>...</td>\n",
       "      <td>...</td>\n",
       "      <td>...</td>\n",
       "      <td>...</td>\n",
       "      <td>...</td>\n",
       "      <td>...</td>\n",
       "      <td>...</td>\n",
       "      <td>...</td>\n",
       "      <td>...</td>\n",
       "      <td>...</td>\n",
       "      <td>...</td>\n",
       "      <td>...</td>\n",
       "      <td>...</td>\n",
       "      <td>...</td>\n",
       "      <td>...</td>\n",
       "      <td>...</td>\n",
       "      <td>...</td>\n",
       "      <td>...</td>\n",
       "      <td>...</td>\n",
       "      <td>...</td>\n",
       "      <td>...</td>\n",
       "    </tr>\n",
       "    <tr>\n",
       "      <th>135972</th>\n",
       "      <td>Westfalia Technologies Inc</td>\n",
       "      <td>Samuel</td>\n",
       "      <td>0</td>\n",
       "      <td>McGaughran</td>\n",
       "      <td>Mechanical Design Engineer</td>\n",
       "      <td>Mgr</td>\n",
       "      <td>0</td>\n",
       "      <td>Operations</td>\n",
       "      <td>smcgaughran@westfaliausa.com</td>\n",
       "      <td>0</td>\n",
       "      <td>York</td>\n",
       "      <td>PA</td>\n",
       "      <td>0</td>\n",
       "      <td>0</td>\n",
       "      <td>0</td>\n",
       "      <td>United States</td>\n",
       "      <td>westfaliausa.com</td>\n",
       "      <td>York</td>\n",
       "      <td>PA</td>\n",
       "      <td>United States</td>\n",
       "      <td>Manufacturing</td>\n",
       "      <td>0</td>\n",
       "      <td>$47.5M</td>\n",
       "      <td>10M - 50M</td>\n",
       "      <td>51 - 200</td>\n",
       "      <td>0</td>\n",
       "      <td>0</td>\n",
       "      <td>0</td>\n",
       "      <td>0</td>\n",
       "      <td>../datasets/Schneider_Electric_Data/Schneider_...</td>\n",
       "      <td>smcgaughran@westfaliausa.com</td>\n",
       "      <td>smcgaughran@westfaliausa.com</td>\n",
       "      <td>5.0</td>\n",
       "      <td>0.0</td>\n",
       "      <td>0.0</td>\n",
       "      <td>0.0</td>\n",
       "      <td>0.0</td>\n",
       "      <td>0.750000</td>\n",
       "      <td>0.000000</td>\n",
       "      <td>0.0</td>\n",
       "      <td>0.000000</td>\n",
       "      <td>0.00000</td>\n",
       "      <td>0.0</td>\n",
       "      <td>0.0</td>\n",
       "      <td>0.0</td>\n",
       "      <td>0.0</td>\n",
       "      <td>0.0</td>\n",
       "      <td>0.0</td>\n",
       "      <td>0.0</td>\n",
       "      <td>0.0</td>\n",
       "      <td>0.0</td>\n",
       "      <td>1.0</td>\n",
       "      <td>0.0</td>\n",
       "      <td>0.000000</td>\n",
       "      <td>0.00000</td>\n",
       "      <td>EMAIL_SENT</td>\n",
       "      <td>0.0</td>\n",
       "      <td>1</td>\n",
       "      <td>0</td>\n",
       "      <td>smcgaughran@westfaliausa.com</td>\n",
       "      <td>1.0</td>\n",
       "    </tr>\n",
       "    <tr>\n",
       "      <th>136000</th>\n",
       "      <td>Avid Solutions</td>\n",
       "      <td>Jonathan</td>\n",
       "      <td>0</td>\n",
       "      <td>Page</td>\n",
       "      <td>Controls Engineer I</td>\n",
       "      <td>Mgr</td>\n",
       "      <td>0</td>\n",
       "      <td>Operations</td>\n",
       "      <td>jpage@avidsolutionsinc.com</td>\n",
       "      <td>0</td>\n",
       "      <td>Kernersville</td>\n",
       "      <td>NC</td>\n",
       "      <td>0</td>\n",
       "      <td>0</td>\n",
       "      <td>0</td>\n",
       "      <td>United States</td>\n",
       "      <td>avidsolutionsinc.com</td>\n",
       "      <td>Morrisville</td>\n",
       "      <td>NC</td>\n",
       "      <td>United States</td>\n",
       "      <td>Business Services</td>\n",
       "      <td>0</td>\n",
       "      <td>$97M</td>\n",
       "      <td>50M - 100M</td>\n",
       "      <td>201 - 500</td>\n",
       "      <td>0</td>\n",
       "      <td>0</td>\n",
       "      <td>0</td>\n",
       "      <td>0</td>\n",
       "      <td>../datasets/Schneider_Electric_Data/Schneider_...</td>\n",
       "      <td>jpage@avidsolutionsinc.com</td>\n",
       "      <td>jpage@avidsolutionsinc.com</td>\n",
       "      <td>9.0</td>\n",
       "      <td>0.0</td>\n",
       "      <td>0.0</td>\n",
       "      <td>0.0</td>\n",
       "      <td>0.0</td>\n",
       "      <td>1.375000</td>\n",
       "      <td>0.000000</td>\n",
       "      <td>0.0</td>\n",
       "      <td>0.000000</td>\n",
       "      <td>0.00000</td>\n",
       "      <td>0.0</td>\n",
       "      <td>0.0</td>\n",
       "      <td>0.0</td>\n",
       "      <td>0.0</td>\n",
       "      <td>0.0</td>\n",
       "      <td>0.0</td>\n",
       "      <td>0.0</td>\n",
       "      <td>0.0</td>\n",
       "      <td>0.0</td>\n",
       "      <td>1.0</td>\n",
       "      <td>0.0</td>\n",
       "      <td>0.000000</td>\n",
       "      <td>0.00000</td>\n",
       "      <td>EMAIL_SENT</td>\n",
       "      <td>0.0</td>\n",
       "      <td>1</td>\n",
       "      <td>0</td>\n",
       "      <td>jpage@avidsolutionsinc.com</td>\n",
       "      <td>1.0</td>\n",
       "    </tr>\n",
       "    <tr>\n",
       "      <th>136004</th>\n",
       "      <td>Avid Solutions</td>\n",
       "      <td>Robert</td>\n",
       "      <td>0</td>\n",
       "      <td>Yingling</td>\n",
       "      <td>Controls Engineer II</td>\n",
       "      <td>Mgr</td>\n",
       "      <td>0</td>\n",
       "      <td>IT</td>\n",
       "      <td>ryingling@avidsolutionsinc.com</td>\n",
       "      <td>0</td>\n",
       "      <td>High Point</td>\n",
       "      <td>NC</td>\n",
       "      <td>0</td>\n",
       "      <td>0</td>\n",
       "      <td>0</td>\n",
       "      <td>United States</td>\n",
       "      <td>avidsolutionsinc.com</td>\n",
       "      <td>Morrisville</td>\n",
       "      <td>NC</td>\n",
       "      <td>United States</td>\n",
       "      <td>Business Services</td>\n",
       "      <td>0</td>\n",
       "      <td>$97M</td>\n",
       "      <td>50M - 100M</td>\n",
       "      <td>201 - 500</td>\n",
       "      <td>0</td>\n",
       "      <td>0</td>\n",
       "      <td>0</td>\n",
       "      <td>0</td>\n",
       "      <td>../datasets/Schneider_Electric_Data/Schneider_...</td>\n",
       "      <td>ryingling@avidsolutionsinc.com</td>\n",
       "      <td>ryingling@avidsolutionsinc.com</td>\n",
       "      <td>4.0</td>\n",
       "      <td>0.0</td>\n",
       "      <td>0.0</td>\n",
       "      <td>0.0</td>\n",
       "      <td>0.0</td>\n",
       "      <td>0.666667</td>\n",
       "      <td>0.000000</td>\n",
       "      <td>0.0</td>\n",
       "      <td>0.000000</td>\n",
       "      <td>0.00000</td>\n",
       "      <td>0.0</td>\n",
       "      <td>0.0</td>\n",
       "      <td>0.0</td>\n",
       "      <td>0.0</td>\n",
       "      <td>0.0</td>\n",
       "      <td>0.0</td>\n",
       "      <td>0.0</td>\n",
       "      <td>0.0</td>\n",
       "      <td>0.0</td>\n",
       "      <td>1.0</td>\n",
       "      <td>0.0</td>\n",
       "      <td>0.000000</td>\n",
       "      <td>0.00000</td>\n",
       "      <td>EMAIL_SENT</td>\n",
       "      <td>0.0</td>\n",
       "      <td>1</td>\n",
       "      <td>0</td>\n",
       "      <td>ryingling@avidsolutionsinc.com</td>\n",
       "      <td>1.0</td>\n",
       "    </tr>\n",
       "    <tr>\n",
       "      <th>137351</th>\n",
       "      <td>Conveyor &amp; Automation Technologies</td>\n",
       "      <td>Akinola</td>\n",
       "      <td>Oluwaseun</td>\n",
       "      <td>Oluwadare</td>\n",
       "      <td>Electrical Control Engineer</td>\n",
       "      <td>Mgr</td>\n",
       "      <td>0</td>\n",
       "      <td>Operations</td>\n",
       "      <td>akinola@conveyor-automation.com</td>\n",
       "      <td>0</td>\n",
       "      <td>Sparks Glencoe</td>\n",
       "      <td>MD</td>\n",
       "      <td>0</td>\n",
       "      <td>0</td>\n",
       "      <td>0</td>\n",
       "      <td>United States</td>\n",
       "      <td>conveyor-automation.com</td>\n",
       "      <td>Towson</td>\n",
       "      <td>MD</td>\n",
       "      <td>United States</td>\n",
       "      <td>Manufacturing</td>\n",
       "      <td>0</td>\n",
       "      <td>$30.5M</td>\n",
       "      <td>10M - 50M</td>\n",
       "      <td>11-50</td>\n",
       "      <td>0</td>\n",
       "      <td>0</td>\n",
       "      <td>0</td>\n",
       "      <td>0</td>\n",
       "      <td>../datasets/Schneider_Electric_Data/Schneider_...</td>\n",
       "      <td>akinola@conveyor-automation.com</td>\n",
       "      <td>akinola@conveyor-automation.com</td>\n",
       "      <td>10.0</td>\n",
       "      <td>0.0</td>\n",
       "      <td>0.0</td>\n",
       "      <td>0.0</td>\n",
       "      <td>0.0</td>\n",
       "      <td>1.000000</td>\n",
       "      <td>0.000000</td>\n",
       "      <td>0.0</td>\n",
       "      <td>0.000000</td>\n",
       "      <td>0.00000</td>\n",
       "      <td>0.0</td>\n",
       "      <td>0.0</td>\n",
       "      <td>0.0</td>\n",
       "      <td>0.0</td>\n",
       "      <td>0.0</td>\n",
       "      <td>0.0</td>\n",
       "      <td>0.0</td>\n",
       "      <td>0.0</td>\n",
       "      <td>0.0</td>\n",
       "      <td>1.0</td>\n",
       "      <td>0.0</td>\n",
       "      <td>0.000000</td>\n",
       "      <td>0.00000</td>\n",
       "      <td>EMAIL_SENT</td>\n",
       "      <td>0.0</td>\n",
       "      <td>1</td>\n",
       "      <td>0</td>\n",
       "      <td>akinola@conveyor-automation.com</td>\n",
       "      <td>1.0</td>\n",
       "    </tr>\n",
       "    <tr>\n",
       "      <th>138351</th>\n",
       "      <td>FirstEnergy Service Company</td>\n",
       "      <td>David</td>\n",
       "      <td>0</td>\n",
       "      <td>Roberts</td>\n",
       "      <td>Operations Manager at Jersey Central Power &amp; L...</td>\n",
       "      <td>Mgr</td>\n",
       "      <td>0</td>\n",
       "      <td>Operations</td>\n",
       "      <td>droberts@firstenergycorp.com</td>\n",
       "      <td>0</td>\n",
       "      <td>Summit</td>\n",
       "      <td>NJ</td>\n",
       "      <td>0</td>\n",
       "      <td>0</td>\n",
       "      <td>0</td>\n",
       "      <td>United States</td>\n",
       "      <td>firstenergycorp.com</td>\n",
       "      <td>Akron</td>\n",
       "      <td>OH</td>\n",
       "      <td>United States</td>\n",
       "      <td>Energy, Utilities &amp; Waste</td>\n",
       "      <td>0</td>\n",
       "      <td>$12.9B</td>\n",
       "      <td>0</td>\n",
       "      <td>10,000+</td>\n",
       "      <td>0</td>\n",
       "      <td>0</td>\n",
       "      <td>0</td>\n",
       "      <td>0</td>\n",
       "      <td>../datasets/Schneider_Electric_Data/Schneider_...</td>\n",
       "      <td>droberts@firstenergycorp.com</td>\n",
       "      <td>droberts@firstenergycorp.com</td>\n",
       "      <td>48.0</td>\n",
       "      <td>0.0</td>\n",
       "      <td>0.0</td>\n",
       "      <td>0.0</td>\n",
       "      <td>0.0</td>\n",
       "      <td>0.234043</td>\n",
       "      <td>0.000000</td>\n",
       "      <td>0.0</td>\n",
       "      <td>0.000000</td>\n",
       "      <td>0.00000</td>\n",
       "      <td>0.0</td>\n",
       "      <td>0.0</td>\n",
       "      <td>0.0</td>\n",
       "      <td>0.0</td>\n",
       "      <td>18.0</td>\n",
       "      <td>0.0</td>\n",
       "      <td>0.0</td>\n",
       "      <td>0.0</td>\n",
       "      <td>0.0</td>\n",
       "      <td>6.0</td>\n",
       "      <td>0.0</td>\n",
       "      <td>0.000000</td>\n",
       "      <td>0.00000</td>\n",
       "      <td>EMAIL_SENT</td>\n",
       "      <td>0.0</td>\n",
       "      <td>1</td>\n",
       "      <td>0</td>\n",
       "      <td>droberts@firstenergycorp.com</td>\n",
       "      <td>1.0</td>\n",
       "    </tr>\n",
       "  </tbody>\n",
       "</table>\n",
       "<p>314 rows × 61 columns</p>\n",
       "</div>"
      ],
      "text/plain": [
       "                              Company Name First Name Middle Name   Last Name  \\\n",
       "234                   NextEra Energy, Inc.       John           0    McDonald   \n",
       "346       Pacific Gas and Electric Company     Jeremy           0      Laurin   \n",
       "957                     Puget Sound Energy       Zach           0       Bates   \n",
       "961                     Puget Sound Energy        Sam           0      Duncan   \n",
       "1048                    Salt River Project      Chris           0     Hofmann   \n",
       "...                                    ...        ...         ...         ...   \n",
       "135972          Westfalia Technologies Inc     Samuel           0  McGaughran   \n",
       "136000                      Avid Solutions   Jonathan           0        Page   \n",
       "136004                      Avid Solutions     Robert           0    Yingling   \n",
       "137351  Conveyor & Automation Technologies    Akinola   Oluwaseun   Oluwadare   \n",
       "138351         FirstEnergy Service Company      David           0     Roberts   \n",
       "\n",
       "                                                    Title Level Seniority  \\\n",
       "234                             System Operations Manager     0         0   \n",
       "346                           Business Operations Manager     0         0   \n",
       "957                           Product Development Manager     0         0   \n",
       "961                           Product Development Manager     0         0   \n",
       "1048        Director Transmission & Generation Operations     0         0   \n",
       "...                                                   ...   ...       ...   \n",
       "135972                         Mechanical Design Engineer   Mgr         0   \n",
       "136000                                Controls Engineer I   Mgr         0   \n",
       "136004                               Controls Engineer II   Mgr         0   \n",
       "137351                        Electrical Control Engineer   Mgr         0   \n",
       "138351  Operations Manager at Jersey Central Power & L...   Mgr         0   \n",
       "\n",
       "        Department                         Email ID  \\\n",
       "234              0                                0   \n",
       "346              0                                0   \n",
       "957              0                                0   \n",
       "961              0                                0   \n",
       "1048             0                                0   \n",
       "...            ...                              ...   \n",
       "135972  Operations     smcgaughran@westfaliausa.com   \n",
       "136000  Operations       jpage@avidsolutionsinc.com   \n",
       "136004          IT   ryingling@avidsolutionsinc.com   \n",
       "137351  Operations  akinola@conveyor-automation.com   \n",
       "138351  Operations     droberts@firstenergycorp.com   \n",
       "\n",
       "                                Email 1    Contact_City Contact_State  \\\n",
       "234     john.mcdonald@nexteraenergy.com    Clifton Park      New York   \n",
       "346               jeremy.laurin@pge.com         Oakland    California   \n",
       "957                  zach.bates@pse.com         Seattle             0   \n",
       "961                  sam.duncan@pse.com         Seattle    Washington   \n",
       "1048           chris.hofmann@srpnet.com         Buckeye       Arizona   \n",
       "...                                 ...             ...           ...   \n",
       "135972                                0            York            PA   \n",
       "136000                                0    Kernersville            NC   \n",
       "136004                                0      High Point            NC   \n",
       "137351                                0  Sparks Glencoe            MD   \n",
       "138351                                0          Summit            NJ   \n",
       "\n",
       "        Contact City Contact State Contact Country        Country  \\\n",
       "234     Clifton Park      New York               0              0   \n",
       "346          Oakland    California               0              0   \n",
       "957          Seattle             0               0              0   \n",
       "961          Seattle    Washington               0              0   \n",
       "1048         Buckeye       Arizona               0              0   \n",
       "...              ...           ...             ...            ...   \n",
       "135972             0             0               0  United States   \n",
       "136000             0             0               0  United States   \n",
       "136004             0             0               0  United States   \n",
       "137351             0             0               0  United States   \n",
       "138351             0             0               0  United States   \n",
       "\n",
       "                        Website   Company City Company State Company Country  \\\n",
       "234       www.nexteraenergy.com     Juno Beach       Florida   United States   \n",
       "346             www.pgecorp.com  San Francisco    California   United States   \n",
       "957                 www.pse.com       Bellevue    Washington   United States   \n",
       "961                 www.pse.com       Bellevue    Washington   United States   \n",
       "1048             www.srpnet.com          Tempe       Arizona   United States   \n",
       "...                         ...            ...           ...             ...   \n",
       "135972         westfaliausa.com           York            PA   United States   \n",
       "136000     avidsolutionsinc.com    Morrisville            NC   United States   \n",
       "136004     avidsolutionsinc.com    Morrisville            NC   United States   \n",
       "137351  conveyor-automation.com         Towson            MD   United States   \n",
       "138351      firstenergycorp.com          Akron            OH   United States   \n",
       "\n",
       "                         Industry Sub Industry Revenue Revenue Range  \\\n",
       "234                             0            0       0             0   \n",
       "346                             0            0       0             0   \n",
       "957                             0            0       0             0   \n",
       "961                             0            0       0             0   \n",
       "1048                            0            0       0             0   \n",
       "...                           ...          ...     ...           ...   \n",
       "135972              Manufacturing            0  $47.5M     10M - 50M   \n",
       "136000          Business Services            0    $97M    50M - 100M   \n",
       "136004          Business Services            0    $97M    50M - 100M   \n",
       "137351              Manufacturing            0  $30.5M     10M - 50M   \n",
       "138351  Energy, Utilities & Waste            0  $12.9B             0   \n",
       "\n",
       "        EMP Range Company Annual Revenue        Company Industry  \\\n",
       "234             0                   $21B  Electricity, Oil & Gas   \n",
       "346             0                 $21.7B  Electricity, Oil & Gas   \n",
       "957             0                  $4.2B  Electricity, Oil & Gas   \n",
       "961             0                  $4.2B  Electricity, Oil & Gas   \n",
       "1048            0                  $3.6B  Electricity, Oil & Gas   \n",
       "...           ...                    ...                     ...   \n",
       "135972   51 - 200                      0                       0   \n",
       "136000  201 - 500                      0                       0   \n",
       "136004  201 - 500                      0                       0   \n",
       "137351      11-50                      0                       0   \n",
       "138351    10,000+                      0                       0   \n",
       "\n",
       "       Company Staff Count Range Company Staff Count  \\\n",
       "234                      10,001+               15300   \n",
       "346                      10,001+               26000   \n",
       "957                  1,001-5,000                3100   \n",
       "961                  1,001-5,000                3100   \n",
       "1048                 1,001-5,000                4844   \n",
       "...                          ...                 ...   \n",
       "135972                         0                   0   \n",
       "136000                         0                   0   \n",
       "136004                         0                   0   \n",
       "137351                         0                   0   \n",
       "138351                         0                   0   \n",
       "\n",
       "                                                   source  \\\n",
       "234     ../datasets/Schneider_Electric_Data/Schneider_...   \n",
       "346     ../datasets/Schneider_Electric_Data/Schneider_...   \n",
       "957     ../datasets/Schneider_Electric_Data/Schneider_...   \n",
       "961     ../datasets/Schneider_Electric_Data/Schneider_...   \n",
       "1048    ../datasets/Schneider_Electric_Data/Schneider_...   \n",
       "...                                                   ...   \n",
       "135972  ../datasets/Schneider_Electric_Data/Schneider_...   \n",
       "136000  ../datasets/Schneider_Electric_Data/Schneider_...   \n",
       "136004  ../datasets/Schneider_Electric_Data/Schneider_...   \n",
       "137351  ../datasets/Schneider_Electric_Data/Schneider_...   \n",
       "138351  ../datasets/Schneider_Electric_Data/Schneider_...   \n",
       "\n",
       "                                  Email                     derived_mail  \\\n",
       "234     john.mcdonald@nexteraenergy.com  john.mcdonald@nexteraenergy.com   \n",
       "346               jeremy.laurin@pge.com            jeremy.laurin@pge.com   \n",
       "957                  zach.bates@pse.com               zach.bates@pse.com   \n",
       "961                  sam.duncan@pse.com               sam.duncan@pse.com   \n",
       "1048           chris.hofmann@srpnet.com         chris.hofmann@srpnet.com   \n",
       "...                                 ...                              ...   \n",
       "135972     smcgaughran@westfaliausa.com     smcgaughran@westfaliausa.com   \n",
       "136000       jpage@avidsolutionsinc.com       jpage@avidsolutionsinc.com   \n",
       "136004   ryingling@avidsolutionsinc.com   ryingling@avidsolutionsinc.com   \n",
       "137351  akinola@conveyor-automation.com  akinola@conveyor-automation.com   \n",
       "138351     droberts@firstenergycorp.com     droberts@firstenergycorp.com   \n",
       "\n",
       "        total_emails_sent  total_emails_opened  total_emails_clicked  \\\n",
       "234                 165.0                  0.0                   0.0   \n",
       "346                  65.0                  0.0                   0.0   \n",
       "957                   7.0                  0.0                   0.0   \n",
       "961                  17.0                  0.0                   0.0   \n",
       "1048                 59.0                 13.0                  12.0   \n",
       "...                   ...                  ...                   ...   \n",
       "135972                5.0                  0.0                   0.0   \n",
       "136000                9.0                  0.0                   0.0   \n",
       "136004                4.0                  0.0                   0.0   \n",
       "137351               10.0                  0.0                   0.0   \n",
       "138351               48.0                  0.0                   0.0   \n",
       "\n",
       "        total_emails_bounced  total_emails_unsubscribed  \\\n",
       "234                      0.0                        0.0   \n",
       "346                      0.0                        0.0   \n",
       "957                      0.0                        0.0   \n",
       "961                      0.0                        0.0   \n",
       "1048                     0.0                        0.0   \n",
       "...                      ...                        ...   \n",
       "135972                   0.0                        0.0   \n",
       "136000                   0.0                        0.0   \n",
       "136004                   0.0                        0.0   \n",
       "137351                   0.0                        0.0   \n",
       "138351                   0.0                        0.0   \n",
       "\n",
       "        avg_time_between_emails  avg_time_between_emails_opened  \\\n",
       "234                    0.195122                        0.000000   \n",
       "346                    0.250000                        0.000000   \n",
       "957                    0.666667                        0.000000   \n",
       "961                    0.875000                        0.000000   \n",
       "1048                   6.155172                       28.916667   \n",
       "...                         ...                             ...   \n",
       "135972                 0.750000                        0.000000   \n",
       "136000                 1.375000                        0.000000   \n",
       "136004                 0.666667                        0.000000   \n",
       "137351                 1.000000                        0.000000   \n",
       "138351                 0.234043                        0.000000   \n",
       "\n",
       "        avg_time_between_emails_clicked  click_to_open_ratio  \\\n",
       "234                                 0.0             0.000000   \n",
       "346                                 0.0             0.000000   \n",
       "957                                 0.0             0.000000   \n",
       "961                                 0.0             0.000000   \n",
       "1048                                0.0             0.923077   \n",
       "...                                 ...                  ...   \n",
       "135972                              0.0             0.000000   \n",
       "136000                              0.0             0.000000   \n",
       "136004                              0.0             0.000000   \n",
       "137351                              0.0             0.000000   \n",
       "138351                              0.0             0.000000   \n",
       "\n",
       "        click_through_rate  days_since_last_email_clicked  \\\n",
       "234                0.00000                            0.0   \n",
       "346                0.00000                            0.0   \n",
       "957                0.00000                            0.0   \n",
       "961                0.00000                            0.0   \n",
       "1048               0.20339                           87.0   \n",
       "...                    ...                            ...   \n",
       "135972             0.00000                            0.0   \n",
       "136000             0.00000                            0.0   \n",
       "136004             0.00000                            0.0   \n",
       "137351             0.00000                            0.0   \n",
       "138351             0.00000                            0.0   \n",
       "\n",
       "        total_emails_sent_last_two_weeks  total_emails_sent_last_four_weeks  \\\n",
       "234                                  0.0                                0.0   \n",
       "346                                  0.0                                0.0   \n",
       "957                                  0.0                                0.0   \n",
       "961                                  0.0                                0.0   \n",
       "1048                                 0.0                                0.0   \n",
       "...                                  ...                                ...   \n",
       "135972                               0.0                                0.0   \n",
       "136000                               0.0                                0.0   \n",
       "136004                               0.0                                0.0   \n",
       "137351                               0.0                                0.0   \n",
       "138351                               0.0                                0.0   \n",
       "\n",
       "        total_emails_sent_last_eight_weeks  \\\n",
       "234                                    0.0   \n",
       "346                                    0.0   \n",
       "957                                    0.0   \n",
       "961                                    0.0   \n",
       "1048                                   0.0   \n",
       "...                                    ...   \n",
       "135972                                 0.0   \n",
       "136000                                 0.0   \n",
       "136004                                 0.0   \n",
       "137351                                 0.0   \n",
       "138351                                 0.0   \n",
       "\n",
       "        total_emails_sent_last_twelve_weeks  \\\n",
       "234                                     0.0   \n",
       "346                                     0.0   \n",
       "957                                     0.0   \n",
       "961                                     0.0   \n",
       "1048                                   18.0   \n",
       "...                                     ...   \n",
       "135972                                  0.0   \n",
       "136000                                  0.0   \n",
       "136004                                  0.0   \n",
       "137351                                  0.0   \n",
       "138351                                 18.0   \n",
       "\n",
       "        total_emails_opened_last_two_weeks  \\\n",
       "234                                    0.0   \n",
       "346                                    0.0   \n",
       "957                                    0.0   \n",
       "961                                    0.0   \n",
       "1048                                   0.0   \n",
       "...                                    ...   \n",
       "135972                                 0.0   \n",
       "136000                                 0.0   \n",
       "136004                                 0.0   \n",
       "137351                                 0.0   \n",
       "138351                                 0.0   \n",
       "\n",
       "        total_emails_opened_last_four_weeks  \\\n",
       "234                                     0.0   \n",
       "346                                     0.0   \n",
       "957                                     0.0   \n",
       "961                                     0.0   \n",
       "1048                                    0.0   \n",
       "...                                     ...   \n",
       "135972                                  0.0   \n",
       "136000                                  0.0   \n",
       "136004                                  0.0   \n",
       "137351                                  0.0   \n",
       "138351                                  0.0   \n",
       "\n",
       "        total_emails_opened_last_eight_weeks  \\\n",
       "234                                      0.0   \n",
       "346                                      0.0   \n",
       "957                                      0.0   \n",
       "961                                      0.0   \n",
       "1048                                     0.0   \n",
       "...                                      ...   \n",
       "135972                                   0.0   \n",
       "136000                                   0.0   \n",
       "136004                                   0.0   \n",
       "137351                                   0.0   \n",
       "138351                                   0.0   \n",
       "\n",
       "        total_emails_opened_last_twelve_weeks  total_emails_sent_week_ends  \\\n",
       "234                                       0.0                         32.0   \n",
       "346                                       0.0                          9.0   \n",
       "957                                       0.0                          1.0   \n",
       "961                                       0.0                          3.0   \n",
       "1048                                      0.0                          9.0   \n",
       "...                                       ...                          ...   \n",
       "135972                                    0.0                          1.0   \n",
       "136000                                    0.0                          1.0   \n",
       "136004                                    0.0                          1.0   \n",
       "137351                                    0.0                          1.0   \n",
       "138351                                    0.0                          6.0   \n",
       "\n",
       "        bounce_rate  email_open_rate  email_click_rate last_email_status  \\\n",
       "234             0.0         0.000000           0.00000        EMAIL_SENT   \n",
       "346             0.0         0.000000           0.00000        EMAIL_SENT   \n",
       "957             0.0         0.000000           0.00000        EMAIL_SENT   \n",
       "961             0.0         0.000000           0.00000        EMAIL_SENT   \n",
       "1048            0.0         0.220339           0.20339        EMAIL_SENT   \n",
       "...             ...              ...               ...               ...   \n",
       "135972          0.0         0.000000           0.00000        EMAIL_SENT   \n",
       "136000          0.0         0.000000           0.00000        EMAIL_SENT   \n",
       "136004          0.0         0.000000           0.00000        EMAIL_SENT   \n",
       "137351          0.0         0.000000           0.00000        EMAIL_SENT   \n",
       "138351          0.0         0.000000           0.00000        EMAIL_SENT   \n",
       "\n",
       "        days_since_last_email_opened  has_ever_clicked_email  \\\n",
       "234                              0.0                       1   \n",
       "346                              0.0                       1   \n",
       "957                              0.0                       1   \n",
       "961                              0.0                       1   \n",
       "1048                            87.0                       1   \n",
       "...                              ...                     ...   \n",
       "135972                           0.0                       1   \n",
       "136000                           0.0                       1   \n",
       "136004                           0.0                       1   \n",
       "137351                           0.0                       1   \n",
       "138351                           0.0                       1   \n",
       "\n",
       "        has_ever_opened_email                             mail  \\\n",
       "234                         0  john.mcdonald@nexteraenergy.com   \n",
       "346                         0            jeremy.laurin@pge.com   \n",
       "957                         0               zach.bates@pse.com   \n",
       "961                         0               sam.duncan@pse.com   \n",
       "1048                        1         chris.hofmann@srpnet.com   \n",
       "...                       ...                              ...   \n",
       "135972                      0     smcgaughran@westfaliausa.com   \n",
       "136000                      0       jpage@avidsolutionsinc.com   \n",
       "136004                      0   ryingling@avidsolutionsinc.com   \n",
       "137351                      0  akinola@conveyor-automation.com   \n",
       "138351                      0     droberts@firstenergycorp.com   \n",
       "\n",
       "        filled_survey_form  \n",
       "234                    1.0  \n",
       "346                    1.0  \n",
       "957                    1.0  \n",
       "961                    1.0  \n",
       "1048                   1.0  \n",
       "...                    ...  \n",
       "135972                 1.0  \n",
       "136000                 1.0  \n",
       "136004                 1.0  \n",
       "137351                 1.0  \n",
       "138351                 1.0  \n",
       "\n",
       "[314 rows x 61 columns]"
      ]
     },
     "execution_count": 280,
     "metadata": {},
     "output_type": "execute_result"
    }
   ],
   "source": [
    "converted_hqls[converted_hqls['last_email_status']=='EMAIL_SENT']"
   ]
  },
  {
   "cell_type": "code",
   "execution_count": 286,
   "id": "1354e02f-d83e-4ab2-b2e2-3a9bc0a975e7",
   "metadata": {},
   "outputs": [
    {
     "data": {
      "text/plain": [
       "Date\n",
       "2024-07-17 00:00:00    19\n",
       "2024-08-13 00:00:00    16\n",
       "2024-11-25 00:00:00    15\n",
       "2024-08-12 00:00:00    14\n",
       "2024-08-11 00:00:00    12\n",
       "                       ..\n",
       "2025-02-13 00:00:00     1\n",
       "2024-08-30 00:00:00     1\n",
       "2025-02-21 00:00:00     1\n",
       "2025-02-24 00:00:00     1\n",
       "2024-02-07 00:00:00     1\n",
       "Name: count, Length: 308, dtype: int64"
      ]
     },
     "execution_count": 286,
     "metadata": {},
     "output_type": "execute_result"
    }
   ],
   "source": [
    "hql_prospects['Date'].value_counts()"
   ]
  },
  {
   "cell_type": "code",
   "execution_count": 646,
   "id": "5319ea78-d768-4f6e-92a3-694836117c6a",
   "metadata": {},
   "outputs": [],
   "source": [
    "# hql_prospects['Date']=pd.to_datetime(hql_prospects['Date'])\n",
    "hql_prospects['Date'] = pd.to_datetime(hql_prospects['Date'], format='mixed', errors='coerce',utc=True)\n"
   ]
  },
  {
   "cell_type": "code",
   "execution_count": 298,
   "id": "79fecf87-d6b3-404c-8b47-30b97288f24b",
   "metadata": {},
   "outputs": [],
   "source": [
    "# hql_prospects['Date'] = hql_prospects['Date'].replace({'12/24/20224': '12/24/2024'})\n"
   ]
  },
  {
   "cell_type": "code",
   "execution_count": 311,
   "id": "3ab2c335-0fc0-408b-802e-531b61f36214",
   "metadata": {},
   "outputs": [],
   "source": [
    "email_engagements['status_time_utc']=pd.to_datetime(email_engagements['status_time_utc'],utc=True)"
   ]
  },
  {
   "cell_type": "code",
   "execution_count": 317,
   "id": "975bcfe5-2ae5-4ba7-a19f-1277ed55176c",
   "metadata": {},
   "outputs": [
    {
     "data": {
      "text/plain": [
       "Index(['FirstName', 'CompanyName', 'mail', 'Email', 'CTA', 'Domain', 'ID',\n",
       "       'source', 'date', 'raw_status', 'status', 'status_time', 'reason',\n",
       "       'status_time_utc', 'derived_mail', 'derived_email'],\n",
       "      dtype='object')"
      ]
     },
     "execution_count": 317,
     "metadata": {},
     "output_type": "execute_result"
    }
   ],
   "source": [
    "email_engagements.columns"
   ]
  },
  {
   "cell_type": "code",
   "execution_count": 343,
   "id": "5a5af6b0-4442-476c-b826-8ee93e122551",
   "metadata": {},
   "outputs": [],
   "source": [
    "df=email_engagements[email_engagements['derived_mail'].isin(converted_hqls['mail'].unique())].groupby('derived_mail').last()"
   ]
  },
  {
   "cell_type": "code",
   "execution_count": 321,
   "id": "97d5221d-f865-49e8-b688-b1d80abd6a9e",
   "metadata": {},
   "outputs": [],
   "source": [
    "# email_engagements.sort_values(by=['derived_mail','status_time_utc'],inplace=True)"
   ]
  },
  {
   "cell_type": "code",
   "execution_count": 331,
   "id": "26a1d75b-eff5-4bfd-bab7-112f5f252083",
   "metadata": {},
   "outputs": [
    {
     "data": {
      "text/plain": [
       "status\n",
       "0                 266\n",
       "EMAIL_SENT         93\n",
       "SCHEDULED          10\n",
       "EMAIL_CLICKED       2\n",
       "EMAIL_NOT_SENT      1\n",
       "EMAIL_OPENED        1\n",
       "ERROR               1\n",
       "Name: count, dtype: int64"
      ]
     },
     "execution_count": 331,
     "metadata": {},
     "output_type": "execute_result"
    }
   ],
   "source": [
    "df['status'].value_counts()"
   ]
  },
  {
   "cell_type": "code",
   "execution_count": 357,
   "id": "bffb3a52-1a60-4749-80f1-599d84647d23",
   "metadata": {},
   "outputs": [
    {
     "data": {
      "text/plain": [
       "Index(['Date', 'Campaign Type', 'Campaign Name', 'Domain', 'Lead type',\n",
       "       'If Disqualified - WHY?', 'Any meeting/ prospect update comments',\n",
       "       'First name', 'Last name', 'Employee Title', 'Company Name',\n",
       "       'Corporate Email Address', 'Personal Email id', 'Phone',\n",
       "       'Direct/Mobile', 'Industry', 'Annual Revenue', 'Employee Size',\n",
       "       'Schneider Electric specialist reach out', 'Authority',\n",
       "       '$20 Amazon gift card', '$100 Amazon gift card', 'OP Status',\n",
       "       'Interaction Comments', 'Email 1.0', 'Email 2.0', 'Voicemail 2.0',\n",
       "       'Email 2.1', 'Voicemail 2.1', 'Email 2.2', 'Voicemail 2.2', 'Email 3.0',\n",
       "       'Voicemai 3.0', 'Email 4.0', 'Email 5.0', 'Voicemail 5.0', 'Email 5.1',\n",
       "       'Voicemail 5.1', 'Email 6.0', 'Marketing Collaterals',\n",
       "       'No Show Follow-up', 'G2 review', 'G2 review shared', 'Text Outreach',\n",
       "       'Confirmed via', 'Confirmed Date', 'LinkedIn Outreach',\n",
       "       'LinkedIn Outreach Date', 'Replied', 'VR Confirmation', '7 Touchpoints',\n",
       "       'Unnamed: 51', 'Segment', 'Meeting Date ', 'Meeting Time (EST)',\n",
       "       'Meeting status', 'Invite status', 'Prospect Acceptance',\n",
       "       'Acceptance Date', '$200 Amazon gift card', 'Apple AirPods Pro',\n",
       "       'Assigned Meeting to?', 'Unnamed: 59', 'Apple AirPods 4', 'Unnamed: 53',\n",
       "       'Send me an email now and follow-up in a month.',\n",
       "       '£150 Amazon gift card', '£100 Amazon gift card',\n",
       "       '£20 Amazon gift card', 'AirPods 4', 'Text Outreached',\n",
       "       '$200/ $100 Amazon gift card', 'Unnamed: 50',\n",
       "       'Apple AirPods Pro 2nd Gen ', 'Source', 'filled_survey_form', 'mail',\n",
       "       'new_email', 'campaign_type'],\n",
       "      dtype='object')"
      ]
     },
     "execution_count": 357,
     "metadata": {},
     "output_type": "execute_result"
    }
   ],
   "source": [
    "hql_prospects.columns"
   ]
  },
  {
   "cell_type": "code",
   "execution_count": 349,
   "id": "6965c07c-2a2e-44eb-ad61-da2a48f78bb3",
   "metadata": {},
   "outputs": [],
   "source": [
    "df=converted_hqls.merge(df[['derived_email','status','status_time_utc']],left_on='mail',right_on='derived_email',how='left')"
   ]
  },
  {
   "cell_type": "code",
   "execution_count": 361,
   "id": "792b513f-0c7c-452d-bc49-1aeeecfdc524",
   "metadata": {},
   "outputs": [
    {
     "data": {
      "text/plain": [
       "Index(['Company Name', 'First Name', 'Middle Name', 'Last Name', 'Title',\n",
       "       'Level', 'Seniority', 'Department', 'Email ID', 'Email 1',\n",
       "       'Contact_City', 'Contact_State', 'Contact City', 'Contact State',\n",
       "       'Contact Country', 'Country', 'Website', 'Company City',\n",
       "       'Company State', 'Company Country', 'Industry', 'Sub Industry',\n",
       "       'Revenue', 'Revenue Range', 'EMP Range', 'Company Annual Revenue',\n",
       "       'Company Industry', 'Company Staff Count Range', 'Company Staff Count',\n",
       "       'source', 'Email', 'derived_mail', 'total_emails_sent',\n",
       "       'total_emails_opened', 'total_emails_clicked', 'total_emails_bounced',\n",
       "       'total_emails_unsubscribed', 'avg_time_between_emails',\n",
       "       'avg_time_between_emails_opened', 'avg_time_between_emails_clicked',\n",
       "       'click_to_open_ratio', 'click_through_rate',\n",
       "       'days_since_last_email_clicked', 'total_emails_sent_last_two_weeks',\n",
       "       'total_emails_sent_last_four_weeks',\n",
       "       'total_emails_sent_last_eight_weeks',\n",
       "       'total_emails_sent_last_twelve_weeks',\n",
       "       'total_emails_opened_last_two_weeks',\n",
       "       'total_emails_opened_last_four_weeks',\n",
       "       'total_emails_opened_last_eight_weeks',\n",
       "       'total_emails_opened_last_twelve_weeks', 'total_emails_sent_week_ends',\n",
       "       'bounce_rate', 'email_open_rate', 'email_click_rate',\n",
       "       'last_email_status', 'days_since_last_email_opened',\n",
       "       'has_ever_clicked_email', 'has_ever_opened_email', 'mail',\n",
       "       'filled_survey_form', 'derived_email', 'status', 'status_time_utc'],\n",
       "      dtype='object')"
      ]
     },
     "execution_count": 361,
     "metadata": {},
     "output_type": "execute_result"
    }
   ],
   "source": [
    "df.columns"
   ]
  },
  {
   "cell_type": "code",
   "execution_count": 365,
   "id": "0f643761-ff52-45cd-8496-82dafc16a20c",
   "metadata": {},
   "outputs": [],
   "source": [
    "df=df.merge(hql_prospects[['Date','new_email']],left_on='mail',right_on='new_email',how='left')"
   ]
  },
  {
   "cell_type": "code",
   "execution_count": null,
   "id": "c6467494-cac8-4ac1-981e-4bb5c8048bdd",
   "metadata": {},
   "outputs": [],
   "source": []
  },
  {
   "cell_type": "code",
   "execution_count": 477,
   "id": "09a39cc7-f495-4ea3-9f9c-bca95b03f377",
   "metadata": {},
   "outputs": [
    {
     "data": {
      "text/plain": [
       "status\n",
       "EMAIL_SENT    158\n",
       "Name: count, dtype: int64"
      ]
     },
     "execution_count": 477,
     "metadata": {},
     "output_type": "execute_result"
    }
   ],
   "source": [
    "email_engagements[email_engagements['derived_mail']=='tle@cpsenergy.com']['status'].value_counts()"
   ]
  },
  {
   "cell_type": "code",
   "execution_count": 485,
   "id": "c9534615-fd39-4945-a65f-8ecf96d44435",
   "metadata": {},
   "outputs": [
    {
     "data": {
      "text/html": [
       "<div>\n",
       "<style scoped>\n",
       "    .dataframe tbody tr th:only-of-type {\n",
       "        vertical-align: middle;\n",
       "    }\n",
       "\n",
       "    .dataframe tbody tr th {\n",
       "        vertical-align: top;\n",
       "    }\n",
       "\n",
       "    .dataframe thead th {\n",
       "        text-align: right;\n",
       "    }\n",
       "</style>\n",
       "<table border=\"1\" class=\"dataframe\">\n",
       "  <thead>\n",
       "    <tr style=\"text-align: right;\">\n",
       "      <th></th>\n",
       "      <th>status</th>\n",
       "      <th>status_time_utc</th>\n",
       "      <th>raw_status</th>\n",
       "    </tr>\n",
       "  </thead>\n",
       "  <tbody>\n",
       "    <tr>\n",
       "      <th>10689330</th>\n",
       "      <td>EMAIL_SENT</td>\n",
       "      <td>2024-12-06 14:15:00+00:00</td>\n",
       "      <td>EMAIL_SENT # 12/06/2024 - 02:15 PM UTC</td>\n",
       "    </tr>\n",
       "    <tr>\n",
       "      <th>10704586</th>\n",
       "      <td>EMAIL_SENT</td>\n",
       "      <td>2024-12-06 14:15:00+00:00</td>\n",
       "      <td>EMAIL_SENT # 12/06/2024 - 02:15 PM UTC</td>\n",
       "    </tr>\n",
       "    <tr>\n",
       "      <th>10719842</th>\n",
       "      <td>EMAIL_SENT</td>\n",
       "      <td>2024-12-06 14:15:00+00:00</td>\n",
       "      <td>EMAIL_SENT # 12/06/2024 - 02:15 PM UTC</td>\n",
       "    </tr>\n",
       "    <tr>\n",
       "      <th>10644513</th>\n",
       "      <td>EMAIL_SENT</td>\n",
       "      <td>2024-12-07 14:55:00+00:00</td>\n",
       "      <td>EMAIL_SENT # 12/07/2024 - 02:55 PM UTC</td>\n",
       "    </tr>\n",
       "    <tr>\n",
       "      <th>10659769</th>\n",
       "      <td>EMAIL_SENT</td>\n",
       "      <td>2024-12-07 14:55:00+00:00</td>\n",
       "      <td>EMAIL_SENT # 12/07/2024 - 02:55 PM UTC</td>\n",
       "    </tr>\n",
       "    <tr>\n",
       "      <th>10675025</th>\n",
       "      <td>EMAIL_SENT</td>\n",
       "      <td>2024-12-07 14:55:00+00:00</td>\n",
       "      <td>EMAIL_SENT # 12/07/2024 - 02:55 PM UTC</td>\n",
       "    </tr>\n",
       "    <tr>\n",
       "      <th>10690281</th>\n",
       "      <td>EMAIL_SENT</td>\n",
       "      <td>2024-12-07 14:55:00+00:00</td>\n",
       "      <td>EMAIL_SENT # 12/07/2024 - 02:55 PM UTC</td>\n",
       "    </tr>\n",
       "    <tr>\n",
       "      <th>10705537</th>\n",
       "      <td>EMAIL_SENT</td>\n",
       "      <td>2024-12-07 14:55:00+00:00</td>\n",
       "      <td>EMAIL_SENT # 12/07/2024 - 02:55 PM UTC</td>\n",
       "    </tr>\n",
       "    <tr>\n",
       "      <th>10720793</th>\n",
       "      <td>EMAIL_SENT</td>\n",
       "      <td>2024-12-07 14:55:00+00:00</td>\n",
       "      <td>EMAIL_SENT # 12/07/2024 - 02:55 PM UTC</td>\n",
       "    </tr>\n",
       "    <tr>\n",
       "      <th>10645464</th>\n",
       "      <td>EMAIL_SENT</td>\n",
       "      <td>2024-12-09 11:31:00+00:00</td>\n",
       "      <td>EMAIL_SENT # 12/09/2024 - 11:31 AM UTC</td>\n",
       "    </tr>\n",
       "    <tr>\n",
       "      <th>10660720</th>\n",
       "      <td>EMAIL_SENT</td>\n",
       "      <td>2024-12-09 11:31:00+00:00</td>\n",
       "      <td>EMAIL_SENT # 12/09/2024 - 11:31 AM UTC</td>\n",
       "    </tr>\n",
       "    <tr>\n",
       "      <th>10675976</th>\n",
       "      <td>EMAIL_SENT</td>\n",
       "      <td>2024-12-09 11:31:00+00:00</td>\n",
       "      <td>EMAIL_SENT # 12/09/2024 - 11:31 AM UTC</td>\n",
       "    </tr>\n",
       "    <tr>\n",
       "      <th>10691232</th>\n",
       "      <td>EMAIL_SENT</td>\n",
       "      <td>2024-12-09 11:31:00+00:00</td>\n",
       "      <td>EMAIL_SENT # 12/09/2024 - 11:31 AM UTC</td>\n",
       "    </tr>\n",
       "    <tr>\n",
       "      <th>10706488</th>\n",
       "      <td>EMAIL_SENT</td>\n",
       "      <td>2024-12-09 11:31:00+00:00</td>\n",
       "      <td>EMAIL_SENT # 12/09/2024 - 11:31 AM UTC</td>\n",
       "    </tr>\n",
       "    <tr>\n",
       "      <th>10721744</th>\n",
       "      <td>EMAIL_SENT</td>\n",
       "      <td>2024-12-09 11:31:00+00:00</td>\n",
       "      <td>EMAIL_SENT # 12/09/2024 - 11:31 AM UTC</td>\n",
       "    </tr>\n",
       "    <tr>\n",
       "      <th>10646415</th>\n",
       "      <td>EMAIL_SENT</td>\n",
       "      <td>2024-12-10 16:46:00+00:00</td>\n",
       "      <td>EMAIL_SENT # 12/10/2024 - 04:46 PM UTC</td>\n",
       "    </tr>\n",
       "    <tr>\n",
       "      <th>10661671</th>\n",
       "      <td>EMAIL_SENT</td>\n",
       "      <td>2024-12-10 16:46:00+00:00</td>\n",
       "      <td>EMAIL_SENT # 12/10/2024 - 04:46 PM UTC</td>\n",
       "    </tr>\n",
       "    <tr>\n",
       "      <th>10676927</th>\n",
       "      <td>EMAIL_SENT</td>\n",
       "      <td>2024-12-10 16:46:00+00:00</td>\n",
       "      <td>EMAIL_SENT # 12/10/2024 - 04:46 PM UTC</td>\n",
       "    </tr>\n",
       "    <tr>\n",
       "      <th>10692183</th>\n",
       "      <td>EMAIL_SENT</td>\n",
       "      <td>2024-12-10 16:46:00+00:00</td>\n",
       "      <td>EMAIL_SENT # 12/10/2024 - 04:46 PM UTC</td>\n",
       "    </tr>\n",
       "    <tr>\n",
       "      <th>10707439</th>\n",
       "      <td>EMAIL_SENT</td>\n",
       "      <td>2024-12-10 16:46:00+00:00</td>\n",
       "      <td>EMAIL_SENT # 12/10/2024 - 04:46 PM UTC</td>\n",
       "    </tr>\n",
       "    <tr>\n",
       "      <th>10722695</th>\n",
       "      <td>EMAIL_SENT</td>\n",
       "      <td>2024-12-10 16:46:00+00:00</td>\n",
       "      <td>EMAIL_SENT # 12/10/2024 - 04:46 PM UTC</td>\n",
       "    </tr>\n",
       "    <tr>\n",
       "      <th>10647366</th>\n",
       "      <td>0</td>\n",
       "      <td>2024-12-11 14:42:00+00:00</td>\n",
       "      <td>0 # 12/11/2024 - 02:42 PM UTC</td>\n",
       "    </tr>\n",
       "    <tr>\n",
       "      <th>10662622</th>\n",
       "      <td>0</td>\n",
       "      <td>2024-12-11 14:42:00+00:00</td>\n",
       "      <td>0 # 12/11/2024 - 02:42 PM UTC</td>\n",
       "    </tr>\n",
       "    <tr>\n",
       "      <th>10677878</th>\n",
       "      <td>0</td>\n",
       "      <td>2024-12-11 14:42:00+00:00</td>\n",
       "      <td>0 # 12/11/2024 - 02:42 PM UTC</td>\n",
       "    </tr>\n",
       "    <tr>\n",
       "      <th>10693134</th>\n",
       "      <td>0</td>\n",
       "      <td>2024-12-11 14:42:00+00:00</td>\n",
       "      <td>0 # 12/11/2024 - 02:42 PM UTC</td>\n",
       "    </tr>\n",
       "    <tr>\n",
       "      <th>10708390</th>\n",
       "      <td>0</td>\n",
       "      <td>2024-12-11 14:42:00+00:00</td>\n",
       "      <td>0 # 12/11/2024 - 02:42 PM UTC</td>\n",
       "    </tr>\n",
       "    <tr>\n",
       "      <th>10723646</th>\n",
       "      <td>0</td>\n",
       "      <td>2024-12-11 14:42:00+00:00</td>\n",
       "      <td>0 # 12/11/2024 - 02:42 PM UTC</td>\n",
       "    </tr>\n",
       "    <tr>\n",
       "      <th>77528</th>\n",
       "      <td>0</td>\n",
       "      <td>NaT</td>\n",
       "      <td>0</td>\n",
       "    </tr>\n",
       "    <tr>\n",
       "      <th>79227</th>\n",
       "      <td>0</td>\n",
       "      <td>NaT</td>\n",
       "      <td>0</td>\n",
       "    </tr>\n",
       "    <tr>\n",
       "      <th>80926</th>\n",
       "      <td>0</td>\n",
       "      <td>NaT</td>\n",
       "      <td>0</td>\n",
       "    </tr>\n",
       "    <tr>\n",
       "      <th>82625</th>\n",
       "      <td>0</td>\n",
       "      <td>NaT</td>\n",
       "      <td>0</td>\n",
       "    </tr>\n",
       "    <tr>\n",
       "      <th>84324</th>\n",
       "      <td>0</td>\n",
       "      <td>NaT</td>\n",
       "      <td>0</td>\n",
       "    </tr>\n",
       "    <tr>\n",
       "      <th>86023</th>\n",
       "      <td>0</td>\n",
       "      <td>NaT</td>\n",
       "      <td>0</td>\n",
       "    </tr>\n",
       "    <tr>\n",
       "      <th>87722</th>\n",
       "      <td>0</td>\n",
       "      <td>NaT</td>\n",
       "      <td>0</td>\n",
       "    </tr>\n",
       "    <tr>\n",
       "      <th>89421</th>\n",
       "      <td>0</td>\n",
       "      <td>NaT</td>\n",
       "      <td>0</td>\n",
       "    </tr>\n",
       "    <tr>\n",
       "      <th>91120</th>\n",
       "      <td>0</td>\n",
       "      <td>NaT</td>\n",
       "      <td>0</td>\n",
       "    </tr>\n",
       "    <tr>\n",
       "      <th>92819</th>\n",
       "      <td>0</td>\n",
       "      <td>NaT</td>\n",
       "      <td>0</td>\n",
       "    </tr>\n",
       "    <tr>\n",
       "      <th>94518</th>\n",
       "      <td>0</td>\n",
       "      <td>NaT</td>\n",
       "      <td>0</td>\n",
       "    </tr>\n",
       "    <tr>\n",
       "      <th>96217</th>\n",
       "      <td>0</td>\n",
       "      <td>NaT</td>\n",
       "      <td>0</td>\n",
       "    </tr>\n",
       "    <tr>\n",
       "      <th>97916</th>\n",
       "      <td>0</td>\n",
       "      <td>NaT</td>\n",
       "      <td>0</td>\n",
       "    </tr>\n",
       "  </tbody>\n",
       "</table>\n",
       "</div>"
      ],
      "text/plain": [
       "              status           status_time_utc  \\\n",
       "10689330  EMAIL_SENT 2024-12-06 14:15:00+00:00   \n",
       "10704586  EMAIL_SENT 2024-12-06 14:15:00+00:00   \n",
       "10719842  EMAIL_SENT 2024-12-06 14:15:00+00:00   \n",
       "10644513  EMAIL_SENT 2024-12-07 14:55:00+00:00   \n",
       "10659769  EMAIL_SENT 2024-12-07 14:55:00+00:00   \n",
       "10675025  EMAIL_SENT 2024-12-07 14:55:00+00:00   \n",
       "10690281  EMAIL_SENT 2024-12-07 14:55:00+00:00   \n",
       "10705537  EMAIL_SENT 2024-12-07 14:55:00+00:00   \n",
       "10720793  EMAIL_SENT 2024-12-07 14:55:00+00:00   \n",
       "10645464  EMAIL_SENT 2024-12-09 11:31:00+00:00   \n",
       "10660720  EMAIL_SENT 2024-12-09 11:31:00+00:00   \n",
       "10675976  EMAIL_SENT 2024-12-09 11:31:00+00:00   \n",
       "10691232  EMAIL_SENT 2024-12-09 11:31:00+00:00   \n",
       "10706488  EMAIL_SENT 2024-12-09 11:31:00+00:00   \n",
       "10721744  EMAIL_SENT 2024-12-09 11:31:00+00:00   \n",
       "10646415  EMAIL_SENT 2024-12-10 16:46:00+00:00   \n",
       "10661671  EMAIL_SENT 2024-12-10 16:46:00+00:00   \n",
       "10676927  EMAIL_SENT 2024-12-10 16:46:00+00:00   \n",
       "10692183  EMAIL_SENT 2024-12-10 16:46:00+00:00   \n",
       "10707439  EMAIL_SENT 2024-12-10 16:46:00+00:00   \n",
       "10722695  EMAIL_SENT 2024-12-10 16:46:00+00:00   \n",
       "10647366           0 2024-12-11 14:42:00+00:00   \n",
       "10662622           0 2024-12-11 14:42:00+00:00   \n",
       "10677878           0 2024-12-11 14:42:00+00:00   \n",
       "10693134           0 2024-12-11 14:42:00+00:00   \n",
       "10708390           0 2024-12-11 14:42:00+00:00   \n",
       "10723646           0 2024-12-11 14:42:00+00:00   \n",
       "77528              0                       NaT   \n",
       "79227              0                       NaT   \n",
       "80926              0                       NaT   \n",
       "82625              0                       NaT   \n",
       "84324              0                       NaT   \n",
       "86023              0                       NaT   \n",
       "87722              0                       NaT   \n",
       "89421              0                       NaT   \n",
       "91120              0                       NaT   \n",
       "92819              0                       NaT   \n",
       "94518              0                       NaT   \n",
       "96217              0                       NaT   \n",
       "97916              0                       NaT   \n",
       "\n",
       "                                      raw_status  \n",
       "10689330  EMAIL_SENT # 12/06/2024 - 02:15 PM UTC  \n",
       "10704586  EMAIL_SENT # 12/06/2024 - 02:15 PM UTC  \n",
       "10719842  EMAIL_SENT # 12/06/2024 - 02:15 PM UTC  \n",
       "10644513  EMAIL_SENT # 12/07/2024 - 02:55 PM UTC  \n",
       "10659769  EMAIL_SENT # 12/07/2024 - 02:55 PM UTC  \n",
       "10675025  EMAIL_SENT # 12/07/2024 - 02:55 PM UTC  \n",
       "10690281  EMAIL_SENT # 12/07/2024 - 02:55 PM UTC  \n",
       "10705537  EMAIL_SENT # 12/07/2024 - 02:55 PM UTC  \n",
       "10720793  EMAIL_SENT # 12/07/2024 - 02:55 PM UTC  \n",
       "10645464  EMAIL_SENT # 12/09/2024 - 11:31 AM UTC  \n",
       "10660720  EMAIL_SENT # 12/09/2024 - 11:31 AM UTC  \n",
       "10675976  EMAIL_SENT # 12/09/2024 - 11:31 AM UTC  \n",
       "10691232  EMAIL_SENT # 12/09/2024 - 11:31 AM UTC  \n",
       "10706488  EMAIL_SENT # 12/09/2024 - 11:31 AM UTC  \n",
       "10721744  EMAIL_SENT # 12/09/2024 - 11:31 AM UTC  \n",
       "10646415  EMAIL_SENT # 12/10/2024 - 04:46 PM UTC  \n",
       "10661671  EMAIL_SENT # 12/10/2024 - 04:46 PM UTC  \n",
       "10676927  EMAIL_SENT # 12/10/2024 - 04:46 PM UTC  \n",
       "10692183  EMAIL_SENT # 12/10/2024 - 04:46 PM UTC  \n",
       "10707439  EMAIL_SENT # 12/10/2024 - 04:46 PM UTC  \n",
       "10722695  EMAIL_SENT # 12/10/2024 - 04:46 PM UTC  \n",
       "10647366           0 # 12/11/2024 - 02:42 PM UTC  \n",
       "10662622           0 # 12/11/2024 - 02:42 PM UTC  \n",
       "10677878           0 # 12/11/2024 - 02:42 PM UTC  \n",
       "10693134           0 # 12/11/2024 - 02:42 PM UTC  \n",
       "10708390           0 # 12/11/2024 - 02:42 PM UTC  \n",
       "10723646           0 # 12/11/2024 - 02:42 PM UTC  \n",
       "77528                                          0  \n",
       "79227                                          0  \n",
       "80926                                          0  \n",
       "82625                                          0  \n",
       "84324                                          0  \n",
       "86023                                          0  \n",
       "87722                                          0  \n",
       "89421                                          0  \n",
       "91120                                          0  \n",
       "92819                                          0  \n",
       "94518                                          0  \n",
       "96217                                          0  \n",
       "97916                                          0  "
      ]
     },
     "execution_count": 485,
     "metadata": {},
     "output_type": "execute_result"
    }
   ],
   "source": [
    "email_engagements[email_engagements['derived_mail']=='andrew.milner@avangrid.com'][['status','status_time_utc','raw_status']].tail(40)"
   ]
  },
  {
   "cell_type": "code",
   "execution_count": 643,
   "id": "d198a458-ac64-4cca-a622-3a47f9f6730e",
   "metadata": {},
   "outputs": [
    {
     "data": {
      "text/plain": [
       "(474, 66)"
      ]
     },
     "execution_count": 643,
     "metadata": {},
     "output_type": "execute_result"
    }
   ],
   "source": [
    "df.shape"
   ]
  },
  {
   "cell_type": "code",
   "execution_count": 645,
   "id": "3cfe7449-f9ab-4a59-80cf-860ca5dcf239",
   "metadata": {},
   "outputs": [
    {
     "data": {
      "text/plain": [
       "Index(['Company Name', 'First Name', 'Middle Name', 'Last Name', 'Title',\n",
       "       'Level', 'Seniority', 'Department', 'Email ID', 'Email 1',\n",
       "       'Contact_City', 'Contact_State', 'Contact City', 'Contact State',\n",
       "       'Contact Country', 'Country', 'Website', 'Company City',\n",
       "       'Company State', 'Company Country', 'Industry', 'Sub Industry',\n",
       "       'Revenue', 'Revenue Range', 'EMP Range', 'Company Annual Revenue',\n",
       "       'Company Industry', 'Company Staff Count Range', 'Company Staff Count',\n",
       "       'source', 'Email', 'derived_mail', 'total_emails_sent',\n",
       "       'total_emails_opened', 'total_emails_clicked', 'total_emails_bounced',\n",
       "       'total_emails_unsubscribed', 'avg_time_between_emails',\n",
       "       'avg_time_between_emails_opened', 'avg_time_between_emails_clicked',\n",
       "       'click_to_open_ratio', 'click_through_rate',\n",
       "       'days_since_last_email_clicked', 'total_emails_sent_last_two_weeks',\n",
       "       'total_emails_sent_last_four_weeks',\n",
       "       'total_emails_sent_last_eight_weeks',\n",
       "       'total_emails_sent_last_twelve_weeks',\n",
       "       'total_emails_opened_last_two_weeks',\n",
       "       'total_emails_opened_last_four_weeks',\n",
       "       'total_emails_opened_last_eight_weeks',\n",
       "       'total_emails_opened_last_twelve_weeks', 'total_emails_sent_week_ends',\n",
       "       'bounce_rate', 'email_open_rate', 'email_click_rate',\n",
       "       'last_email_status', 'days_since_last_email_opened',\n",
       "       'has_ever_clicked_email', 'has_ever_opened_email', 'mail',\n",
       "       'filled_survey_form', 'derived_email', 'status', 'status_time_utc',\n",
       "       'Date', 'new_email'],\n",
       "      dtype='object')"
      ]
     },
     "execution_count": 645,
     "metadata": {},
     "output_type": "execute_result"
    }
   ],
   "source": [
    "df.columns"
   ]
  },
  {
   "cell_type": "code",
   "execution_count": 649,
   "id": "60366dca-3ab5-4de4-90f4-406b246fcf86",
   "metadata": {},
   "outputs": [
    {
     "data": {
      "text/plain": [
       "(419, 80)"
      ]
     },
     "execution_count": 649,
     "metadata": {},
     "output_type": "execute_result"
    }
   ],
   "source": [
    "email_hqls=hql_prospects[hql_prospects['campaign_type']=='Email']\n",
    "email_hqls.shape"
   ]
  },
  {
   "cell_type": "code",
   "execution_count": 653,
   "id": "9e9a534f-b1ef-49f2-a21a-1e9c69b0ec6f",
   "metadata": {},
   "outputs": [],
   "source": [
    "df=email_engagements[email_engagements['derived_mail'].isin(email_hqls['new_email'].unique())]"
   ]
  },
  {
   "cell_type": "code",
   "execution_count": 657,
   "id": "9dd31d07-424f-4c89-a98e-2e2fb8320d75",
   "metadata": {},
   "outputs": [
    {
     "data": {
      "text/plain": [
       "status\n",
       "EMAIL_SENT        31580\n",
       "0                 15811\n",
       "EMAIL_OPENED        935\n",
       "EMAIL_CLICKED       488\n",
       "SCHEDULED           262\n",
       "EMAIL_NOT_SENT       54\n",
       "ERROR                50\n",
       "UNSUBSCRIBED         15\n",
       "BOUNCED               4\n",
       "Name: count, dtype: int64"
      ]
     },
     "execution_count": 657,
     "metadata": {},
     "output_type": "execute_result"
    }
   ],
   "source": [
    "df['status'].value_counts()"
   ]
  },
  {
   "cell_type": "code",
   "execution_count": null,
   "id": "53c94229-2227-4adb-a94a-18f1fe76836f",
   "metadata": {},
   "outputs": [],
   "source": []
  },
  {
   "cell_type": "code",
   "execution_count": null,
   "id": "dd2cecc1-6d66-4ec9-9759-a6a6c07e3159",
   "metadata": {},
   "outputs": [],
   "source": [
    "unique_prop_firmo_data['C']"
   ]
  },
  {
   "cell_type": "code",
   "execution_count": 663,
   "id": "6a686d50-cbea-4cb8-a07c-1203bd8b1b99",
   "metadata": {},
   "outputs": [
    {
     "name": "stdout",
     "output_type": "stream",
     "text": [
      "<class 'pandas.core.frame.DataFrame'>\n",
      "RangeIndex: 138807 entries, 0 to 138806\n",
      "Data columns (total 61 columns):\n",
      " #   Column                                 Non-Null Count   Dtype  \n",
      "---  ------                                 --------------   -----  \n",
      " 0   Company Name                           138807 non-null  object \n",
      " 1   First Name                             138807 non-null  object \n",
      " 2   Middle Name                            138807 non-null  object \n",
      " 3   Last Name                              138807 non-null  object \n",
      " 4   Title                                  138807 non-null  object \n",
      " 5   Level                                  138807 non-null  object \n",
      " 6   Seniority                              138807 non-null  object \n",
      " 7   Department                             138807 non-null  object \n",
      " 8   Email ID                               138807 non-null  object \n",
      " 9   Email 1                                138807 non-null  object \n",
      " 10  Contact_City                           138807 non-null  object \n",
      " 11  Contact_State                          138807 non-null  object \n",
      " 12  Contact City                           138807 non-null  object \n",
      " 13  Contact State                          138807 non-null  object \n",
      " 14  Contact Country                        138807 non-null  object \n",
      " 15  Country                                138807 non-null  object \n",
      " 16  Website                                138807 non-null  object \n",
      " 17  Company City                           138807 non-null  object \n",
      " 18  Company State                          138807 non-null  object \n",
      " 19  Company Country                        138807 non-null  object \n",
      " 20  Industry                               138807 non-null  object \n",
      " 21  Sub Industry                           138807 non-null  object \n",
      " 22  Revenue                                138807 non-null  object \n",
      " 23  Revenue Range                          138807 non-null  object \n",
      " 24  EMP Range                              138807 non-null  object \n",
      " 25  Company Annual Revenue                 138807 non-null  object \n",
      " 26  Company Industry                       138807 non-null  object \n",
      " 27  Company Staff Count Range              138807 non-null  object \n",
      " 28  Company Staff Count                    138807 non-null  object \n",
      " 29  source                                 138807 non-null  object \n",
      " 30  Email                                  138807 non-null  object \n",
      " 31  derived_mail                           138807 non-null  object \n",
      " 32  total_emails_sent                      138807 non-null  float64\n",
      " 33  total_emails_opened                    138807 non-null  float64\n",
      " 34  total_emails_clicked                   138807 non-null  float64\n",
      " 35  total_emails_bounced                   138807 non-null  float64\n",
      " 36  total_emails_unsubscribed              138807 non-null  float64\n",
      " 37  avg_time_between_emails                138807 non-null  float64\n",
      " 38  avg_time_between_emails_opened         138807 non-null  float64\n",
      " 39  avg_time_between_emails_clicked        138807 non-null  float64\n",
      " 40  click_to_open_ratio                    138807 non-null  float64\n",
      " 41  click_through_rate                     138807 non-null  float64\n",
      " 42  days_since_last_email_clicked          138807 non-null  float64\n",
      " 43  total_emails_sent_last_two_weeks       138807 non-null  float64\n",
      " 44  total_emails_sent_last_four_weeks      138807 non-null  float64\n",
      " 45  total_emails_sent_last_eight_weeks     138807 non-null  float64\n",
      " 46  total_emails_sent_last_twelve_weeks    138807 non-null  float64\n",
      " 47  total_emails_opened_last_two_weeks     138807 non-null  float64\n",
      " 48  total_emails_opened_last_four_weeks    138807 non-null  float64\n",
      " 49  total_emails_opened_last_eight_weeks   138807 non-null  float64\n",
      " 50  total_emails_opened_last_twelve_weeks  138807 non-null  float64\n",
      " 51  total_emails_sent_week_ends            138807 non-null  float64\n",
      " 52  bounce_rate                            138807 non-null  float64\n",
      " 53  email_open_rate                        138807 non-null  float64\n",
      " 54  email_click_rate                       138807 non-null  float64\n",
      " 55  last_email_status                      138807 non-null  object \n",
      " 56  days_since_last_email_opened           138807 non-null  float64\n",
      " 57  has_ever_clicked_email                 138807 non-null  int64  \n",
      " 58  has_ever_opened_email                  138807 non-null  int64  \n",
      " 59  mail                                   138807 non-null  object \n",
      " 60  filled_survey_form                     138807 non-null  float64\n",
      "dtypes: float64(25), int64(2), object(34)\n",
      "memory usage: 64.6+ MB\n"
     ]
    }
   ],
   "source": [
    "unique_prop_firmo_data.info()"
   ]
  },
  {
   "cell_type": "code",
   "execution_count": 665,
   "id": "25f50ace-c46e-42ce-9a7b-2adf10f21f44",
   "metadata": {},
   "outputs": [
    {
     "data": {
      "text/plain": [
       "Revenue Range\n",
       "10B+             45772\n",
       "0                36030\n",
       "$10B+            31608\n",
       "1B - 10B         14259\n",
       "500M - 1B         2676\n",
       "1M - 10M          2398\n",
       "100M - 250M       1393\n",
       "10M - 50M         1314\n",
       "50M - 100M        1004\n",
       "10,000+            953\n",
       "250M - 500M        896\n",
       "$25.9B             159\n",
       "$16.9B             104\n",
       "$500M - $1B         76\n",
       "$260.5M             27\n",
       "100M - 1B           26\n",
       "$979.3M             20\n",
       "$79.5B              15\n",
       "$947.5M             15\n",
       "$189M               11\n",
       "$11M - $100M        11\n",
       "$2.3B                8\n",
       "$153.3M              6\n",
       "$8.8B                5\n",
       "$2.9M                4\n",
       "$365.5M              4\n",
       "$8B                  4\n",
       "$72.3M               3\n",
       "$128.7B              1\n",
       "$31.2M               1\n",
       "$23.3M               1\n",
       "0 - 1M               1\n",
       "$763.8M              1\n",
       "Revenue Range        1\n",
       "Name: count, dtype: int64"
      ]
     },
     "execution_count": 665,
     "metadata": {},
     "output_type": "execute_result"
    }
   ],
   "source": [
    "unique_prop_firmo_data['Revenue Range'].value_counts(dropna=False)"
   ]
  },
  {
   "cell_type": "code",
   "execution_count": 667,
   "id": "022ea881-1ed7-441e-b39c-187364f925d6",
   "metadata": {},
   "outputs": [
    {
     "ename": "NameError",
     "evalue": "name 'prop_firmo_data' is not defined",
     "output_type": "error",
     "traceback": [
      "\u001b[1;31m---------------------------------------------------------------------------\u001b[0m",
      "\u001b[1;31mNameError\u001b[0m                                 Traceback (most recent call last)",
      "Cell \u001b[1;32mIn[667], line 1\u001b[0m\n\u001b[1;32m----> 1\u001b[0m prop_firmo_data\u001b[38;5;241m.\u001b[39minfo()\n",
      "\u001b[1;31mNameError\u001b[0m: name 'prop_firmo_data' is not defined"
     ]
    }
   ],
   "source": [
    "prop_firmo_data.info()"
   ]
  },
  {
   "cell_type": "code",
   "execution_count": null,
   "id": "52b7fee0-fc12-4361-8c93-7e61b05dcbea",
   "metadata": {},
   "outputs": [],
   "source": []
  },
  {
   "cell_type": "code",
   "execution_count": null,
   "id": "6c5e1417-d586-42b2-a4b0-bdee468d6c7f",
   "metadata": {},
   "outputs": [],
   "source": []
  },
  {
   "cell_type": "code",
   "execution_count": null,
   "id": "79811c11-7f38-49f2-8af3-ee151c87b923",
   "metadata": {},
   "outputs": [],
   "source": []
  },
  {
   "cell_type": "code",
   "execution_count": null,
   "id": "90057ed2-5ccd-40d1-b995-9238769918c2",
   "metadata": {},
   "outputs": [],
   "source": []
  },
  {
   "cell_type": "code",
   "execution_count": null,
   "id": "559cdf92-b6a3-4d01-99fa-4f1b15d103d0",
   "metadata": {},
   "outputs": [],
   "source": []
  },
  {
   "cell_type": "code",
   "execution_count": 403,
   "id": "976cc527-2313-449b-8720-8b8e93b2946a",
   "metadata": {},
   "outputs": [
    {
     "data": {
      "text/html": [
       "<div>\n",
       "<style scoped>\n",
       "    .dataframe tbody tr th:only-of-type {\n",
       "        vertical-align: middle;\n",
       "    }\n",
       "\n",
       "    .dataframe tbody tr th {\n",
       "        vertical-align: top;\n",
       "    }\n",
       "\n",
       "    .dataframe thead th {\n",
       "        text-align: right;\n",
       "    }\n",
       "</style>\n",
       "<table border=\"1\" class=\"dataframe\">\n",
       "  <thead>\n",
       "    <tr style=\"text-align: right;\">\n",
       "      <th></th>\n",
       "      <th>Date</th>\n",
       "      <th>status_time_utc</th>\n",
       "      <th>status</th>\n",
       "      <th>mail</th>\n",
       "    </tr>\n",
       "  </thead>\n",
       "  <tbody>\n",
       "    <tr>\n",
       "      <th>0</th>\n",
       "      <td>2023-12-19 00:00:00+00:00</td>\n",
       "      <td>2023-12-19 15:44:00+00:00</td>\n",
       "      <td>0</td>\n",
       "      <td>valerie.donegan@aps.com</td>\n",
       "    </tr>\n",
       "    <tr>\n",
       "      <th>1</th>\n",
       "      <td>2024-11-19 00:00:00+00:00</td>\n",
       "      <td>2024-01-29 14:53:00+00:00</td>\n",
       "      <td>EMAIL_SENT</td>\n",
       "      <td>john.mcdonald@nexteraenergy.com</td>\n",
       "    </tr>\n",
       "    <tr>\n",
       "      <th>2</th>\n",
       "      <td>2024-01-08 00:00:00+00:00</td>\n",
       "      <td>2024-01-08 15:42:00+00:00</td>\n",
       "      <td>EMAIL_SENT</td>\n",
       "      <td>jeremy.laurin@pge.com</td>\n",
       "    </tr>\n",
       "    <tr>\n",
       "      <th>3</th>\n",
       "      <td>2024-02-04 00:00:00+00:00</td>\n",
       "      <td>2023-12-13 19:19:00+00:00</td>\n",
       "      <td>0</td>\n",
       "      <td>rick.kubin@pge.com</td>\n",
       "    </tr>\n",
       "    <tr>\n",
       "      <th>4</th>\n",
       "      <td>2023-12-21 00:00:00+00:00</td>\n",
       "      <td>2023-12-21 16:22:00+00:00</td>\n",
       "      <td>0</td>\n",
       "      <td>zach.bates@pse.com</td>\n",
       "    </tr>\n",
       "    <tr>\n",
       "      <th>5</th>\n",
       "      <td>2023-12-28 00:00:00+00:00</td>\n",
       "      <td>2024-01-02 16:40:00+00:00</td>\n",
       "      <td>EMAIL_SENT</td>\n",
       "      <td>sam.duncan@pse.com</td>\n",
       "    </tr>\n",
       "    <tr>\n",
       "      <th>6</th>\n",
       "      <td>2024-01-03 00:00:00+00:00</td>\n",
       "      <td>2024-01-03 20:05:00+00:00</td>\n",
       "      <td>0</td>\n",
       "      <td>clint.stewart@pse.com</td>\n",
       "    </tr>\n",
       "    <tr>\n",
       "      <th>7</th>\n",
       "      <td>2023-12-20 00:00:00+00:00</td>\n",
       "      <td>2024-12-11 15:22:00+00:00</td>\n",
       "      <td>0</td>\n",
       "      <td>chris.hofmann@srpnet.com</td>\n",
       "    </tr>\n",
       "    <tr>\n",
       "      <th>8</th>\n",
       "      <td>2023-12-19 00:00:00+00:00</td>\n",
       "      <td>2023-12-19 16:14:00+00:00</td>\n",
       "      <td>0</td>\n",
       "      <td>doug.gooch@srpnet.com</td>\n",
       "    </tr>\n",
       "    <tr>\n",
       "      <th>9</th>\n",
       "      <td>2024-01-13 00:00:00+00:00</td>\n",
       "      <td>2024-01-12 15:29:00+00:00</td>\n",
       "      <td>0</td>\n",
       "      <td>steve.watson@pge.com</td>\n",
       "    </tr>\n",
       "    <tr>\n",
       "      <th>10</th>\n",
       "      <td>2023-12-20 00:00:00+00:00</td>\n",
       "      <td>2023-12-20 16:56:00+00:00</td>\n",
       "      <td>0</td>\n",
       "      <td>troy.nutter@pse.com</td>\n",
       "    </tr>\n",
       "    <tr>\n",
       "      <th>11</th>\n",
       "      <td>2024-01-12 00:00:00+00:00</td>\n",
       "      <td>2024-01-13 16:17:00+00:00</td>\n",
       "      <td>EMAIL_SENT</td>\n",
       "      <td>christopher.shue@pge.com</td>\n",
       "    </tr>\n",
       "    <tr>\n",
       "      <th>12</th>\n",
       "      <td>2023-12-27 00:00:00+00:00</td>\n",
       "      <td>2023-12-27 18:00:00+00:00</td>\n",
       "      <td>0</td>\n",
       "      <td>chris.leyerle@pse.com</td>\n",
       "    </tr>\n",
       "    <tr>\n",
       "      <th>13</th>\n",
       "      <td>2023-12-19 00:00:00+00:00</td>\n",
       "      <td>2023-12-20 17:07:00+00:00</td>\n",
       "      <td>0</td>\n",
       "      <td>kevin.millward@aps.com</td>\n",
       "    </tr>\n",
       "    <tr>\n",
       "      <th>14</th>\n",
       "      <td>2024-01-11 00:00:00+00:00</td>\n",
       "      <td>2024-01-09 14:38:00+00:00</td>\n",
       "      <td>EMAIL_SENT</td>\n",
       "      <td>russel.monis@pge.com</td>\n",
       "    </tr>\n",
       "    <tr>\n",
       "      <th>15</th>\n",
       "      <td>2024-11-15 00:00:00+00:00</td>\n",
       "      <td>2024-01-29 16:22:00+00:00</td>\n",
       "      <td>EMAIL_SENT</td>\n",
       "      <td>tle@cpsenergy.com</td>\n",
       "    </tr>\n",
       "    <tr>\n",
       "      <th>16</th>\n",
       "      <td>2024-01-21 00:00:00+00:00</td>\n",
       "      <td>2024-12-05 15:22:00+00:00</td>\n",
       "      <td>0</td>\n",
       "      <td>stephen.barkaszi@duke-energy.com</td>\n",
       "    </tr>\n",
       "    <tr>\n",
       "      <th>17</th>\n",
       "      <td>2024-01-13 00:00:00+00:00</td>\n",
       "      <td>2024-01-13 15:30:00+00:00</td>\n",
       "      <td>EMAIL_SENT</td>\n",
       "      <td>dwasso1@entergy.com</td>\n",
       "    </tr>\n",
       "    <tr>\n",
       "      <th>18</th>\n",
       "      <td>2024-01-16 00:00:00+00:00</td>\n",
       "      <td>2023-12-13 20:29:00+00:00</td>\n",
       "      <td>0</td>\n",
       "      <td>carmichael.walston@exeloncorp.com</td>\n",
       "    </tr>\n",
       "    <tr>\n",
       "      <th>19</th>\n",
       "      <td>2024-01-12 00:00:00+00:00</td>\n",
       "      <td>2024-01-13 15:34:00+00:00</td>\n",
       "      <td>EMAIL_SENT</td>\n",
       "      <td>tamrat.abegaz@exeloncorp.com</td>\n",
       "    </tr>\n",
       "    <tr>\n",
       "      <th>20</th>\n",
       "      <td>2024-11-08 00:00:00+00:00</td>\n",
       "      <td>2024-01-29 15:32:00+00:00</td>\n",
       "      <td>EMAIL_SENT</td>\n",
       "      <td>skylar.r.ball@xcelenergy.com</td>\n",
       "    </tr>\n",
       "    <tr>\n",
       "      <th>21</th>\n",
       "      <td>2024-11-06 00:00:00+00:00</td>\n",
       "      <td>2024-01-29 15:36:00+00:00</td>\n",
       "      <td>EMAIL_SENT</td>\n",
       "      <td>frank.s.qie@xcelenergy.com</td>\n",
       "    </tr>\n",
       "    <tr>\n",
       "      <th>22</th>\n",
       "      <td>2024-12-04 00:00:00+00:00</td>\n",
       "      <td>2024-12-04 20:53:00+00:00</td>\n",
       "      <td>0</td>\n",
       "      <td>ismael.rodriguez@xcelenergy.com</td>\n",
       "    </tr>\n",
       "    <tr>\n",
       "      <th>23</th>\n",
       "      <td>2024-11-25 00:00:00+00:00</td>\n",
       "      <td>2024-01-29 14:50:00+00:00</td>\n",
       "      <td>SCHEDULED</td>\n",
       "      <td>ryan.harbaugh@duke-energy.com</td>\n",
       "    </tr>\n",
       "    <tr>\n",
       "      <th>24</th>\n",
       "      <td>2024-11-25 00:00:00+00:00</td>\n",
       "      <td>2024-01-29 14:55:00+00:00</td>\n",
       "      <td>EMAIL_SENT</td>\n",
       "      <td>nking@aep.com</td>\n",
       "    </tr>\n",
       "    <tr>\n",
       "      <th>25</th>\n",
       "      <td>2023-12-27 00:00:00+00:00</td>\n",
       "      <td>2023-12-27 17:37:00+00:00</td>\n",
       "      <td>0</td>\n",
       "      <td>brian.weaver@avangrid.com</td>\n",
       "    </tr>\n",
       "    <tr>\n",
       "      <th>26</th>\n",
       "      <td>2024-12-10 00:00:00+00:00</td>\n",
       "      <td>2024-12-11 14:42:00+00:00</td>\n",
       "      <td>0</td>\n",
       "      <td>andrew.milner@avangrid.com</td>\n",
       "    </tr>\n",
       "    <tr>\n",
       "      <th>27</th>\n",
       "      <td>2023-12-14 00:00:00+00:00</td>\n",
       "      <td>2024-12-11 14:42:00+00:00</td>\n",
       "      <td>0</td>\n",
       "      <td>andrew.milner@avangrid.com</td>\n",
       "    </tr>\n",
       "    <tr>\n",
       "      <th>28</th>\n",
       "      <td>2024-12-10 00:00:00+00:00</td>\n",
       "      <td>2024-12-11 14:42:00+00:00</td>\n",
       "      <td>0</td>\n",
       "      <td>andrew.milner@avangrid.com</td>\n",
       "    </tr>\n",
       "    <tr>\n",
       "      <th>29</th>\n",
       "      <td>2023-12-14 00:00:00+00:00</td>\n",
       "      <td>2024-12-11 14:42:00+00:00</td>\n",
       "      <td>0</td>\n",
       "      <td>andrew.milner@avangrid.com</td>\n",
       "    </tr>\n",
       "  </tbody>\n",
       "</table>\n",
       "</div>"
      ],
      "text/plain": [
       "                        Date           status_time_utc      status  \\\n",
       "0  2023-12-19 00:00:00+00:00 2023-12-19 15:44:00+00:00           0   \n",
       "1  2024-11-19 00:00:00+00:00 2024-01-29 14:53:00+00:00  EMAIL_SENT   \n",
       "2  2024-01-08 00:00:00+00:00 2024-01-08 15:42:00+00:00  EMAIL_SENT   \n",
       "3  2024-02-04 00:00:00+00:00 2023-12-13 19:19:00+00:00           0   \n",
       "4  2023-12-21 00:00:00+00:00 2023-12-21 16:22:00+00:00           0   \n",
       "5  2023-12-28 00:00:00+00:00 2024-01-02 16:40:00+00:00  EMAIL_SENT   \n",
       "6  2024-01-03 00:00:00+00:00 2024-01-03 20:05:00+00:00           0   \n",
       "7  2023-12-20 00:00:00+00:00 2024-12-11 15:22:00+00:00           0   \n",
       "8  2023-12-19 00:00:00+00:00 2023-12-19 16:14:00+00:00           0   \n",
       "9  2024-01-13 00:00:00+00:00 2024-01-12 15:29:00+00:00           0   \n",
       "10 2023-12-20 00:00:00+00:00 2023-12-20 16:56:00+00:00           0   \n",
       "11 2024-01-12 00:00:00+00:00 2024-01-13 16:17:00+00:00  EMAIL_SENT   \n",
       "12 2023-12-27 00:00:00+00:00 2023-12-27 18:00:00+00:00           0   \n",
       "13 2023-12-19 00:00:00+00:00 2023-12-20 17:07:00+00:00           0   \n",
       "14 2024-01-11 00:00:00+00:00 2024-01-09 14:38:00+00:00  EMAIL_SENT   \n",
       "15 2024-11-15 00:00:00+00:00 2024-01-29 16:22:00+00:00  EMAIL_SENT   \n",
       "16 2024-01-21 00:00:00+00:00 2024-12-05 15:22:00+00:00           0   \n",
       "17 2024-01-13 00:00:00+00:00 2024-01-13 15:30:00+00:00  EMAIL_SENT   \n",
       "18 2024-01-16 00:00:00+00:00 2023-12-13 20:29:00+00:00           0   \n",
       "19 2024-01-12 00:00:00+00:00 2024-01-13 15:34:00+00:00  EMAIL_SENT   \n",
       "20 2024-11-08 00:00:00+00:00 2024-01-29 15:32:00+00:00  EMAIL_SENT   \n",
       "21 2024-11-06 00:00:00+00:00 2024-01-29 15:36:00+00:00  EMAIL_SENT   \n",
       "22 2024-12-04 00:00:00+00:00 2024-12-04 20:53:00+00:00           0   \n",
       "23 2024-11-25 00:00:00+00:00 2024-01-29 14:50:00+00:00   SCHEDULED   \n",
       "24 2024-11-25 00:00:00+00:00 2024-01-29 14:55:00+00:00  EMAIL_SENT   \n",
       "25 2023-12-27 00:00:00+00:00 2023-12-27 17:37:00+00:00           0   \n",
       "26 2024-12-10 00:00:00+00:00 2024-12-11 14:42:00+00:00           0   \n",
       "27 2023-12-14 00:00:00+00:00 2024-12-11 14:42:00+00:00           0   \n",
       "28 2024-12-10 00:00:00+00:00 2024-12-11 14:42:00+00:00           0   \n",
       "29 2023-12-14 00:00:00+00:00 2024-12-11 14:42:00+00:00           0   \n",
       "\n",
       "                                 mail  \n",
       "0             valerie.donegan@aps.com  \n",
       "1     john.mcdonald@nexteraenergy.com  \n",
       "2               jeremy.laurin@pge.com  \n",
       "3                  rick.kubin@pge.com  \n",
       "4                  zach.bates@pse.com  \n",
       "5                  sam.duncan@pse.com  \n",
       "6               clint.stewart@pse.com  \n",
       "7            chris.hofmann@srpnet.com  \n",
       "8               doug.gooch@srpnet.com  \n",
       "9                steve.watson@pge.com  \n",
       "10                troy.nutter@pse.com  \n",
       "11           christopher.shue@pge.com  \n",
       "12              chris.leyerle@pse.com  \n",
       "13             kevin.millward@aps.com  \n",
       "14               russel.monis@pge.com  \n",
       "15                  tle@cpsenergy.com  \n",
       "16   stephen.barkaszi@duke-energy.com  \n",
       "17                dwasso1@entergy.com  \n",
       "18  carmichael.walston@exeloncorp.com  \n",
       "19       tamrat.abegaz@exeloncorp.com  \n",
       "20       skylar.r.ball@xcelenergy.com  \n",
       "21         frank.s.qie@xcelenergy.com  \n",
       "22    ismael.rodriguez@xcelenergy.com  \n",
       "23      ryan.harbaugh@duke-energy.com  \n",
       "24                      nking@aep.com  \n",
       "25          brian.weaver@avangrid.com  \n",
       "26         andrew.milner@avangrid.com  \n",
       "27         andrew.milner@avangrid.com  \n",
       "28         andrew.milner@avangrid.com  \n",
       "29         andrew.milner@avangrid.com  "
      ]
     },
     "execution_count": 403,
     "metadata": {},
     "output_type": "execute_result"
    }
   ],
   "source": [
    "df[['Date','status_time_utc','status','mail']].head(30)"
   ]
  },
  {
   "cell_type": "code",
   "execution_count": null,
   "id": "e95ad90a-f6fa-4816-8b8e-432eb47565cb",
   "metadata": {},
   "outputs": [],
   "source": []
  },
  {
   "cell_type": "code",
   "execution_count": 641,
   "id": "04de6ee5-e60e-4113-8a1d-ac76b69a53cc",
   "metadata": {},
   "outputs": [
    {
     "data": {
      "text/html": [
       "<div>\n",
       "<style scoped>\n",
       "    .dataframe tbody tr th:only-of-type {\n",
       "        vertical-align: middle;\n",
       "    }\n",
       "\n",
       "    .dataframe tbody tr th {\n",
       "        vertical-align: top;\n",
       "    }\n",
       "\n",
       "    .dataframe thead th {\n",
       "        text-align: right;\n",
       "    }\n",
       "</style>\n",
       "<table border=\"1\" class=\"dataframe\">\n",
       "  <thead>\n",
       "    <tr style=\"text-align: right;\">\n",
       "      <th></th>\n",
       "      <th>Date</th>\n",
       "      <th>Campaign Type</th>\n",
       "      <th>Campaign Name</th>\n",
       "      <th>Domain</th>\n",
       "      <th>Lead type</th>\n",
       "      <th>If Disqualified - WHY?</th>\n",
       "      <th>Any meeting/ prospect update comments</th>\n",
       "      <th>First name</th>\n",
       "      <th>Last name</th>\n",
       "      <th>Employee Title</th>\n",
       "      <th>Company Name</th>\n",
       "      <th>Corporate Email Address</th>\n",
       "      <th>Personal Email id</th>\n",
       "      <th>Phone</th>\n",
       "      <th>Direct/Mobile</th>\n",
       "      <th>Industry</th>\n",
       "      <th>Annual Revenue</th>\n",
       "      <th>Employee Size</th>\n",
       "      <th>Schneider Electric specialist reach out</th>\n",
       "      <th>Authority</th>\n",
       "      <th>$20 Amazon gift card</th>\n",
       "      <th>$100 Amazon gift card</th>\n",
       "      <th>OP Status</th>\n",
       "      <th>Interaction Comments</th>\n",
       "      <th>Email 1.0</th>\n",
       "      <th>Email 2.0</th>\n",
       "      <th>Voicemail 2.0</th>\n",
       "      <th>Email 2.1</th>\n",
       "      <th>Voicemail 2.1</th>\n",
       "      <th>Email 2.2</th>\n",
       "      <th>Voicemail 2.2</th>\n",
       "      <th>Email 3.0</th>\n",
       "      <th>Voicemai 3.0</th>\n",
       "      <th>Email 4.0</th>\n",
       "      <th>Email 5.0</th>\n",
       "      <th>Voicemail 5.0</th>\n",
       "      <th>Email 5.1</th>\n",
       "      <th>Voicemail 5.1</th>\n",
       "      <th>Email 6.0</th>\n",
       "      <th>Marketing Collaterals</th>\n",
       "      <th>No Show Follow-up</th>\n",
       "      <th>G2 review</th>\n",
       "      <th>G2 review shared</th>\n",
       "      <th>Text Outreach</th>\n",
       "      <th>Confirmed via</th>\n",
       "      <th>Confirmed Date</th>\n",
       "      <th>LinkedIn Outreach</th>\n",
       "      <th>LinkedIn Outreach Date</th>\n",
       "      <th>Replied</th>\n",
       "      <th>VR Confirmation</th>\n",
       "      <th>7 Touchpoints</th>\n",
       "      <th>Unnamed: 51</th>\n",
       "      <th>Segment</th>\n",
       "      <th>Meeting Date</th>\n",
       "      <th>Meeting Time (EST)</th>\n",
       "      <th>Meeting status</th>\n",
       "      <th>Invite status</th>\n",
       "      <th>Prospect Acceptance</th>\n",
       "      <th>Acceptance Date</th>\n",
       "      <th>$200 Amazon gift card</th>\n",
       "      <th>Apple AirPods Pro</th>\n",
       "      <th>Assigned Meeting to?</th>\n",
       "      <th>Unnamed: 59</th>\n",
       "      <th>Apple AirPods 4</th>\n",
       "      <th>Unnamed: 53</th>\n",
       "      <th>Send me an email now and follow-up in a month.</th>\n",
       "      <th>£150 Amazon gift card</th>\n",
       "      <th>£100 Amazon gift card</th>\n",
       "      <th>£20 Amazon gift card</th>\n",
       "      <th>AirPods 4</th>\n",
       "      <th>Text Outreached</th>\n",
       "      <th>$200/ $100 Amazon gift card</th>\n",
       "      <th>Unnamed: 50</th>\n",
       "      <th>Apple AirPods Pro 2nd Gen</th>\n",
       "      <th>Source</th>\n",
       "      <th>filled_survey_form</th>\n",
       "      <th>mail</th>\n",
       "      <th>new_email</th>\n",
       "      <th>campaign_type</th>\n",
       "      <th>is_duplicated_survey_form</th>\n",
       "    </tr>\n",
       "  </thead>\n",
       "  <tbody>\n",
       "    <tr>\n",
       "      <th>989</th>\n",
       "      <td>2024-01-12 00:00:00+00:00</td>\n",
       "      <td>LinkedIn Campaign</td>\n",
       "      <td>NaN</td>\n",
       "      <td>Insight Lab</td>\n",
       "      <td>HQL</td>\n",
       "      <td>NaN</td>\n",
       "      <td>NaN</td>\n",
       "      <td>Christopher</td>\n",
       "      <td>Shue</td>\n",
       "      <td>Energy Efficiency, Senior Program Manager</td>\n",
       "      <td>Pacific Gas and Electric Company</td>\n",
       "      <td>christopher.shue@pge.com</td>\n",
       "      <td>NaN</td>\n",
       "      <td>(415) 973-1000</td>\n",
       "      <td>(415) 533-2165</td>\n",
       "      <td>Utilities</td>\n",
       "      <td>$21.7 Billion</td>\n",
       "      <td>26000</td>\n",
       "      <td>Yes, I’d like to schedule a call</td>\n",
       "      <td>Decision Maker</td>\n",
       "      <td>NaN</td>\n",
       "      <td>NaN</td>\n",
       "      <td>Sent</td>\n",
       "      <td>NaN</td>\n",
       "      <td>Auto Sent</td>\n",
       "      <td>Sent</td>\n",
       "      <td>Sent</td>\n",
       "      <td>Sent</td>\n",
       "      <td>Sent</td>\n",
       "      <td>NaN</td>\n",
       "      <td>NaN</td>\n",
       "      <td>NaN</td>\n",
       "      <td>NaN</td>\n",
       "      <td>NaN</td>\n",
       "      <td>NaN</td>\n",
       "      <td>NaN</td>\n",
       "      <td>NaN</td>\n",
       "      <td>NaN</td>\n",
       "      <td>NaN</td>\n",
       "      <td>NaN</td>\n",
       "      <td>NaN</td>\n",
       "      <td>Email 3</td>\n",
       "      <td>NaN</td>\n",
       "      <td>NaN</td>\n",
       "      <td>Confirmed via Elvis call</td>\n",
       "      <td>2024-01-15 00:00:00</td>\n",
       "      <td>NaN</td>\n",
       "      <td>NaN</td>\n",
       "      <td>NaN</td>\n",
       "      <td>NaN</td>\n",
       "      <td>NaN</td>\n",
       "      <td>NaN</td>\n",
       "      <td>Power &amp; Grid</td>\n",
       "      <td>NaN</td>\n",
       "      <td>NaN</td>\n",
       "      <td>NaN</td>\n",
       "      <td>NaN</td>\n",
       "      <td>NaN</td>\n",
       "      <td>NaN</td>\n",
       "      <td>NaN</td>\n",
       "      <td>Sent</td>\n",
       "      <td>-</td>\n",
       "      <td>NaN</td>\n",
       "      <td>NaN</td>\n",
       "      <td>NaN</td>\n",
       "      <td>NaN</td>\n",
       "      <td>NaN</td>\n",
       "      <td>NaN</td>\n",
       "      <td>NaN</td>\n",
       "      <td>NaN</td>\n",
       "      <td>NaN</td>\n",
       "      <td>NaN</td>\n",
       "      <td>NaN</td>\n",
       "      <td>NaN</td>\n",
       "      <td>John Data</td>\n",
       "      <td>1</td>\n",
       "      <td>christopher.shue@pge.com</td>\n",
       "      <td>christopher.shue@pge.com</td>\n",
       "      <td>LinkedIn</td>\n",
       "      <td>0</td>\n",
       "    </tr>\n",
       "  </tbody>\n",
       "</table>\n",
       "</div>"
      ],
      "text/plain": [
       "                         Date      Campaign Type Campaign Name       Domain  \\\n",
       "989 2024-01-12 00:00:00+00:00  LinkedIn Campaign           NaN  Insight Lab   \n",
       "\n",
       "    Lead type If Disqualified - WHY? Any meeting/ prospect update comments  \\\n",
       "989       HQL                    NaN                                   NaN   \n",
       "\n",
       "      First name Last name                             Employee Title  \\\n",
       "989  Christopher      Shue  Energy Efficiency, Senior Program Manager   \n",
       "\n",
       "                         Company Name   Corporate Email Address  \\\n",
       "989  Pacific Gas and Electric Company  christopher.shue@pge.com   \n",
       "\n",
       "    Personal Email id           Phone   Direct/Mobile   Industry  \\\n",
       "989               NaN  (415) 973-1000  (415) 533-2165  Utilities   \n",
       "\n",
       "    Annual Revenue Employee Size Schneider Electric specialist reach out  \\\n",
       "989  $21.7 Billion         26000        Yes, I’d like to schedule a call   \n",
       "\n",
       "          Authority $20 Amazon gift card $100 Amazon gift card OP Status  \\\n",
       "989  Decision Maker                  NaN                   NaN      Sent   \n",
       "\n",
       "    Interaction Comments  Email 1.0 Email 2.0 Voicemail 2.0 Email 2.1  \\\n",
       "989                  NaN  Auto Sent      Sent          Sent      Sent   \n",
       "\n",
       "    Voicemail 2.1 Email 2.2 Voicemail 2.2 Email 3.0 Voicemai 3.0 Email 4.0  \\\n",
       "989          Sent       NaN           NaN       NaN          NaN       NaN   \n",
       "\n",
       "    Email 5.0  Voicemail 5.0  Email 5.1  Voicemail 5.1  Email 6.0  \\\n",
       "989       NaN            NaN        NaN            NaN        NaN   \n",
       "\n",
       "     Marketing Collaterals  No Show Follow-up G2 review G2 review shared  \\\n",
       "989                    NaN                NaN   Email 3              NaN   \n",
       "\n",
       "    Text Outreach             Confirmed via       Confirmed Date  \\\n",
       "989           NaN  Confirmed via Elvis call  2024-01-15 00:00:00   \n",
       "\n",
       "    LinkedIn Outreach LinkedIn Outreach Date Replied VR Confirmation  \\\n",
       "989               NaN                    NaN     NaN             NaN   \n",
       "\n",
       "    7 Touchpoints Unnamed: 51       Segment Meeting Date  Meeting Time (EST)  \\\n",
       "989           NaN         NaN  Power & Grid           NaN                NaN   \n",
       "\n",
       "    Meeting status Invite status Prospect Acceptance Acceptance Date  \\\n",
       "989            NaN           NaN                 NaN             NaN   \n",
       "\n",
       "    $200 Amazon gift card Apple AirPods Pro Assigned Meeting to? Unnamed: 59  \\\n",
       "989                   NaN              Sent                    -         NaN   \n",
       "\n",
       "    Apple AirPods 4 Unnamed: 53  \\\n",
       "989             NaN         NaN   \n",
       "\n",
       "    Send me an email now and follow-up in a month. £150 Amazon gift card  \\\n",
       "989                                            NaN                   NaN   \n",
       "\n",
       "    £100 Amazon gift card  £20 Amazon gift card AirPods 4 Text Outreached  \\\n",
       "989                   NaN                   NaN       NaN             NaN   \n",
       "\n",
       "    $200/ $100 Amazon gift card Unnamed: 50 Apple AirPods Pro 2nd Gen   \\\n",
       "989                         NaN         NaN                        NaN   \n",
       "\n",
       "        Source  filled_survey_form                      mail  \\\n",
       "989  John Data                   1  christopher.shue@pge.com   \n",
       "\n",
       "                    new_email campaign_type  is_duplicated_survey_form  \n",
       "989  christopher.shue@pge.com      LinkedIn                          0  "
      ]
     },
     "execution_count": 641,
     "metadata": {},
     "output_type": "execute_result"
    }
   ],
   "source": [
    "hql_prospects[hql_prospects['new_email']=='christopher.shue@pge.com']"
   ]
  },
  {
   "cell_type": "code",
   "execution_count": null,
   "id": "f99aef31-c271-4972-a3d6-5c7321b9f03d",
   "metadata": {},
   "outputs": [],
   "source": []
  },
  {
   "cell_type": "code",
   "execution_count": 601,
   "id": "101d855e-1719-4195-8172-78c98b5a42be",
   "metadata": {},
   "outputs": [],
   "source": [
    "# def is_duplicate_survey_filled(data):\n",
    "#     if data is None:\n",
    "#         return 0\n",
    "#     elif 'duplicate' in data.lower():\n",
    "#         return 1\n",
    "#     else:\n",
    "#         return 0"
   ]
  },
  {
   "cell_type": "code",
   "execution_count": 623,
   "id": "d69f7b1e-b208-42e4-8b41-0e52c720dec4",
   "metadata": {},
   "outputs": [],
   "source": [
    "# hql_prospects['If Disqualified - WHY?'].apply(is_duplicate_survey_filled)"
   ]
  },
  {
   "cell_type": "code",
   "execution_count": 612,
   "id": "d2b914ce-aacd-426c-b529-9488da1b3e19",
   "metadata": {},
   "outputs": [],
   "source": [
    "def is_duplicate_survey_filled(data):\n",
    "    if data is None or pd.isna(data):\n",
    "        return 0\n",
    "    elif isinstance(data, str) and 'duplicate' in data.lower():\n",
    "        return 1\n",
    "    else:\n",
    "        return 0\n",
    "\n",
    "# Apply the function\n",
    "hql_prospects['is_duplicated_survey_form']=hql_prospects['If Disqualified - WHY?'].apply(is_duplicate_survey_filled)\n"
   ]
  },
  {
   "cell_type": "code",
   "execution_count": 614,
   "id": "a10d2284-2876-4a4c-999c-9405c73c0111",
   "metadata": {},
   "outputs": [
    {
     "data": {
      "text/plain": [
       "is_duplicated_survey_form\n",
       "0    940\n",
       "1     78\n",
       "Name: count, dtype: int64"
      ]
     },
     "execution_count": 614,
     "metadata": {},
     "output_type": "execute_result"
    }
   ],
   "source": [
    "hql_prospects['is_duplicated_survey_form'].value_counts()"
   ]
  },
  {
   "cell_type": "code",
   "execution_count": 616,
   "id": "3994a2ec-0e52-494c-a0df-154e27e23025",
   "metadata": {},
   "outputs": [
    {
     "data": {
      "text/plain": [
       "If Disqualified - WHY?\n",
       "Duplicate - 2nd time filled the survey                               57\n",
       "Duplicate- 2nd time filled the survey                                 8\n",
       "Duplicate - 3rd time filled the survey                                5\n",
       "Duplicate- 3rd time filled the survey                                 2\n",
       "Duplicate - 2nd time filled the survey | Already HQL in OEM Pumps     1\n",
       "Duplicate - 3rd time filled the survey | Already HQL in OEM Pumps     1\n",
       "Duplicate - 4th time filled the survey                                1\n",
       "Duplicate - 2th time filled the survey                                1\n",
       "Duplicate- 4th time filled the survey                                 1\n",
       "Duplicate - 2nd time filled survey                                    1\n",
       "Name: count, dtype: int64"
      ]
     },
     "execution_count": 616,
     "metadata": {},
     "output_type": "execute_result"
    }
   ],
   "source": [
    "hql_prospects[hql_prospects['is_duplicated_survey_form']==1]['If Disqualified - WHY?'].value_counts()"
   ]
  },
  {
   "cell_type": "code",
   "execution_count": null,
   "id": "966de3b8-3eba-4169-b146-feb647421b52",
   "metadata": {},
   "outputs": [],
   "source": []
  },
  {
   "cell_type": "code",
   "execution_count": null,
   "id": "b07cef16-ef56-433c-91b8-71af0c675e21",
   "metadata": {},
   "outputs": [],
   "source": []
  },
  {
   "cell_type": "code",
   "execution_count": 487,
   "id": "4bca656d-b1f5-484a-a947-8d9ad9f18953",
   "metadata": {},
   "outputs": [
    {
     "data": {
      "text/plain": [
       "(31334678, 16)"
      ]
     },
     "execution_count": 487,
     "metadata": {},
     "output_type": "execute_result"
    }
   ],
   "source": [
    "email_engagements.shape"
   ]
  },
  {
   "cell_type": "code",
   "execution_count": null,
   "id": "fd03415c-3484-4cf7-9ec2-3bf1ce917920",
   "metadata": {},
   "outputs": [],
   "source": []
  },
  {
   "cell_type": "code",
   "execution_count": 489,
   "id": "98117684-15ff-41ac-8e21-e18494f454a6",
   "metadata": {},
   "outputs": [
    {
     "data": {
      "text/plain": [
       "140301"
      ]
     },
     "execution_count": 489,
     "metadata": {},
     "output_type": "execute_result"
    }
   ],
   "source": [
    "email_engagements['derived_mail'].nunique()"
   ]
  },
  {
   "cell_type": "code",
   "execution_count": 491,
   "id": "39dba5f4-64dc-48e3-b6d6-cb64c0dc68f5",
   "metadata": {},
   "outputs": [
    {
     "data": {
      "text/plain": [
       "141642"
      ]
     },
     "execution_count": 491,
     "metadata": {},
     "output_type": "execute_result"
    }
   ],
   "source": [
    "email_engagements['mail'].nunique()"
   ]
  },
  {
   "cell_type": "code",
   "execution_count": 497,
   "id": "529b9082-6c0b-46a9-a987-803047d5d8ef",
   "metadata": {},
   "outputs": [
    {
     "data": {
      "text/plain": [
       "1506"
      ]
     },
     "execution_count": 497,
     "metadata": {},
     "output_type": "execute_result"
    }
   ],
   "source": [
    "email_engagements[email_engagements['mail']!= email_engagements['derived_mail']][['mail','derived_mail']]"
   ]
  },
  {
   "cell_type": "code",
   "execution_count": null,
   "id": "8949133a-ade2-444a-bc56-b306b01c45da",
   "metadata": {},
   "outputs": [],
   "source": []
  },
  {
   "cell_type": "code",
   "execution_count": 501,
   "id": "db799be0-e158-4cac-8b64-7bf33c26c546",
   "metadata": {},
   "outputs": [
    {
     "data": {
      "text/plain": [
       "138783"
      ]
     },
     "execution_count": 501,
     "metadata": {},
     "output_type": "execute_result"
    }
   ],
   "source": [
    "unique_prop_firmo_data['Email'].nunique()"
   ]
  },
  {
   "cell_type": "code",
   "execution_count": 503,
   "id": "8189851d-5e4d-42f3-9761-8ec741ec5439",
   "metadata": {},
   "outputs": [
    {
     "data": {
      "text/plain": [
       "(138807, 61)"
      ]
     },
     "execution_count": 503,
     "metadata": {},
     "output_type": "execute_result"
    }
   ],
   "source": [
    "unique_prop_firmo_data.shape"
   ]
  },
  {
   "cell_type": "code",
   "execution_count": 507,
   "id": "54b43ece-f688-4f25-81ab-58e9286f3950",
   "metadata": {},
   "outputs": [
    {
     "data": {
      "text/plain": [
       "derived_mail\n",
       "rahul.sangam@nexsales.com        236\n",
       "niraj.chaudhary@nexsales.com     236\n",
       "hemant.agraharee@nexsales.com    236\n",
       "abhishek.phalke@nexsales.com     218\n",
       "martin.moreno@albertsons.com     133\n",
       "                                ... \n",
       "hongwei.wu@aecom.com              16\n",
       "holtb@graphicpkg.com              16\n",
       "hkrueger@jrauto.com               16\n",
       "hilton.yee@urs.com                16\n",
       "zubairah.halim@aecom.com          16\n",
       "Name: count, Length: 2160, dtype: int64"
      ]
     },
     "execution_count": 507,
     "metadata": {},
     "output_type": "execute_result"
    }
   ],
   "source": [
    "email_engagements[~email_engagements['derived_mail'].isin(unique_prop_firmo_data['Email'].unique())]['derived_mail'].value_counts()"
   ]
  },
  {
   "cell_type": "code",
   "execution_count": null,
   "id": "c8f287e0-cd00-4228-a141-5dd05fdfb25c",
   "metadata": {},
   "outputs": [],
   "source": []
  },
  {
   "cell_type": "code",
   "execution_count": 517,
   "id": "9871943e-0e76-4a5a-bbb5-b90c50f51e20",
   "metadata": {},
   "outputs": [
    {
     "data": {
      "text/html": [
       "<div>\n",
       "<style scoped>\n",
       "    .dataframe tbody tr th:only-of-type {\n",
       "        vertical-align: middle;\n",
       "    }\n",
       "\n",
       "    .dataframe tbody tr th {\n",
       "        vertical-align: top;\n",
       "    }\n",
       "\n",
       "    .dataframe thead th {\n",
       "        text-align: right;\n",
       "    }\n",
       "</style>\n",
       "<table border=\"1\" class=\"dataframe\">\n",
       "  <thead>\n",
       "    <tr style=\"text-align: right;\">\n",
       "      <th></th>\n",
       "      <th>Company Name</th>\n",
       "      <th>First Name</th>\n",
       "      <th>Middle Name</th>\n",
       "      <th>Last Name</th>\n",
       "      <th>Title</th>\n",
       "      <th>Level</th>\n",
       "      <th>Seniority</th>\n",
       "      <th>Department</th>\n",
       "      <th>Email ID</th>\n",
       "      <th>Email 1</th>\n",
       "      <th>Contact_City</th>\n",
       "      <th>Contact_State</th>\n",
       "      <th>Contact City</th>\n",
       "      <th>Contact State</th>\n",
       "      <th>Contact Country</th>\n",
       "      <th>Country</th>\n",
       "      <th>Website</th>\n",
       "      <th>Company City</th>\n",
       "      <th>Company State</th>\n",
       "      <th>Company Country</th>\n",
       "      <th>Industry</th>\n",
       "      <th>Sub Industry</th>\n",
       "      <th>Revenue</th>\n",
       "      <th>Revenue Range</th>\n",
       "      <th>EMP Range</th>\n",
       "      <th>Company Annual Revenue</th>\n",
       "      <th>Company Industry</th>\n",
       "      <th>Company Staff Count Range</th>\n",
       "      <th>Company Staff Count</th>\n",
       "      <th>source</th>\n",
       "      <th>Email</th>\n",
       "      <th>derived_mail</th>\n",
       "      <th>total_emails_sent</th>\n",
       "      <th>total_emails_opened</th>\n",
       "      <th>total_emails_clicked</th>\n",
       "      <th>total_emails_bounced</th>\n",
       "      <th>total_emails_unsubscribed</th>\n",
       "      <th>avg_time_between_emails</th>\n",
       "      <th>avg_time_between_emails_opened</th>\n",
       "      <th>avg_time_between_emails_clicked</th>\n",
       "      <th>click_to_open_ratio</th>\n",
       "      <th>click_through_rate</th>\n",
       "      <th>days_since_last_email_clicked</th>\n",
       "      <th>total_emails_sent_last_two_weeks</th>\n",
       "      <th>total_emails_sent_last_four_weeks</th>\n",
       "      <th>total_emails_sent_last_eight_weeks</th>\n",
       "      <th>total_emails_sent_last_twelve_weeks</th>\n",
       "      <th>total_emails_opened_last_two_weeks</th>\n",
       "      <th>total_emails_opened_last_four_weeks</th>\n",
       "      <th>total_emails_opened_last_eight_weeks</th>\n",
       "      <th>total_emails_opened_last_twelve_weeks</th>\n",
       "      <th>total_emails_sent_week_ends</th>\n",
       "      <th>bounce_rate</th>\n",
       "      <th>email_open_rate</th>\n",
       "      <th>email_click_rate</th>\n",
       "      <th>last_email_status</th>\n",
       "      <th>days_since_last_email_opened</th>\n",
       "      <th>has_ever_clicked_email</th>\n",
       "      <th>has_ever_opened_email</th>\n",
       "      <th>mail</th>\n",
       "      <th>filled_survey_form</th>\n",
       "    </tr>\n",
       "  </thead>\n",
       "  <tbody>\n",
       "  </tbody>\n",
       "</table>\n",
       "</div>"
      ],
      "text/plain": [
       "Empty DataFrame\n",
       "Columns: [Company Name, First Name, Middle Name, Last Name, Title, Level, Seniority, Department, Email ID, Email 1, Contact_City, Contact_State, Contact City, Contact State, Contact Country, Country, Website, Company City, Company State, Company Country, Industry, Sub Industry, Revenue, Revenue Range, EMP Range, Company Annual Revenue, Company Industry, Company Staff Count Range, Company Staff Count, source, Email, derived_mail, total_emails_sent, total_emails_opened, total_emails_clicked, total_emails_bounced, total_emails_unsubscribed, avg_time_between_emails, avg_time_between_emails_opened, avg_time_between_emails_clicked, click_to_open_ratio, click_through_rate, days_since_last_email_clicked, total_emails_sent_last_two_weeks, total_emails_sent_last_four_weeks, total_emails_sent_last_eight_weeks, total_emails_sent_last_twelve_weeks, total_emails_opened_last_two_weeks, total_emails_opened_last_four_weeks, total_emails_opened_last_eight_weeks, total_emails_opened_last_twelve_weeks, total_emails_sent_week_ends, bounce_rate, email_open_rate, email_click_rate, last_email_status, days_since_last_email_opened, has_ever_clicked_email, has_ever_opened_email, mail, filled_survey_form]\n",
       "Index: []"
      ]
     },
     "execution_count": 517,
     "metadata": {},
     "output_type": "execute_result"
    }
   ],
   "source": [
    "unique_prop_firmo_data[unique_prop_firmo_data['Email']=='zubairah.halim@aecom.com']"
   ]
  },
  {
   "cell_type": "code",
   "execution_count": null,
   "id": "d90e7c8f-d477-4a72-92c3-4f9518d0196a",
   "metadata": {},
   "outputs": [],
   "source": []
  },
  {
   "cell_type": "code",
   "execution_count": 525,
   "id": "0c62b611-6b2a-48bc-b25d-dce5917ab6b0",
   "metadata": {},
   "outputs": [
    {
     "data": {
      "text/plain": [
       "Index(['FirstName', 'CompanyName', 'mail', 'Email', 'CTA', 'Domain', 'ID',\n",
       "       'source', 'date', 'raw_status', 'status', 'status_time', 'reason',\n",
       "       'status_time_utc', 'derived_mail', 'derived_email'],\n",
       "      dtype='object')"
      ]
     },
     "execution_count": 525,
     "metadata": {},
     "output_type": "execute_result"
    }
   ],
   "source": [
    "email_engagements.columns"
   ]
  },
  {
   "cell_type": "code",
   "execution_count": 531,
   "id": "0ae7d2cf-8c16-477f-b068-20f7fe5ccae2",
   "metadata": {},
   "outputs": [
    {
     "data": {
      "text/plain": [
       "27482623"
      ]
     },
     "execution_count": 531,
     "metadata": {},
     "output_type": "execute_result"
    }
   ],
   "source": [
    "email_engagements.duplicated(subset=['FirstName', 'CompanyName', 'mail', 'Email', 'CTA', 'Domain', 'ID',\n",
    "                                     'date', 'raw_status','status', 'status_time','status_time_utc',]).sum()"
   ]
  },
  {
   "cell_type": "code",
   "execution_count": 532,
   "id": "c2a6d441-4ddd-4d29-ae2b-3b8047dcfa72",
   "metadata": {},
   "outputs": [
    {
     "data": {
      "text/plain": [
       "27482623"
      ]
     },
     "execution_count": 532,
     "metadata": {},
     "output_type": "execute_result"
    }
   ],
   "source": [
    "27482623"
   ]
  },
  {
   "cell_type": "code",
   "execution_count": 521,
   "id": "c8cb6f04-b3e3-4395-972e-b434e11a9b77",
   "metadata": {},
   "outputs": [
    {
     "data": {
      "text/plain": [
       "(31334678, 16)"
      ]
     },
     "execution_count": 521,
     "metadata": {},
     "output_type": "execute_result"
    }
   ],
   "source": [
    "email_engagements.shape"
   ]
  },
  {
   "cell_type": "code",
   "execution_count": null,
   "id": "7750596b-56a2-4b78-9e00-44c7e41a6979",
   "metadata": {},
   "outputs": [],
   "source": [
    "(31593316, 16)"
   ]
  },
  {
   "cell_type": "code",
   "execution_count": 589,
   "id": "4ce12431-8fa4-4688-b0a4-6ad7c2fab9f0",
   "metadata": {},
   "outputs": [],
   "source": [
    "unique_email_engagements=email_engagements.drop_duplicates(subset=['FirstName', 'CompanyName', \n",
    "                                                                   'mail', 'Email', 'CTA', 'Domain', 'ID',\n",
    "                                     'date', 'raw_status','status', 'status_time','status_time_utc',],keep='first')"
   ]
  },
  {
   "cell_type": "code",
   "execution_count": 591,
   "id": "6753b540-9088-4901-b4c4-8b3664d7187c",
   "metadata": {},
   "outputs": [
    {
     "data": {
      "text/plain": [
       "(3852055, 16)"
      ]
     },
     "execution_count": 591,
     "metadata": {},
     "output_type": "execute_result"
    }
   ],
   "source": [
    "unique_email_engagements.shape"
   ]
  },
  {
   "cell_type": "code",
   "execution_count": null,
   "id": "6eb85063-9a0f-4c09-94cb-d66012a3b338",
   "metadata": {},
   "outputs": [],
   "source": []
  },
  {
   "cell_type": "code",
   "execution_count": 593,
   "id": "bf27a0d8-215d-4d82-ba98-20677ad53a1e",
   "metadata": {},
   "outputs": [
    {
     "data": {
      "text/plain": [
       "status\n",
       "EMAIL_SENT        2996144\n",
       "0                  683888\n",
       "BOUNCED             77323\n",
       "EMAIL_OPENED        30466\n",
       "EMAIL_CLICKED       20082\n",
       "SCHEDULED           17188\n",
       "EMAIL_NOT_SENT      15048\n",
       "NaN                  8948\n",
       "ERROR                2050\n",
       "UNSUBSCRIBED          771\n",
       "RESPONDED             147\n",
       "Name: count, dtype: int64"
      ]
     },
     "execution_count": 593,
     "metadata": {},
     "output_type": "execute_result"
    }
   ],
   "source": [
    "unique_email_engagements['status'].value_counts(dropna=False)"
   ]
  },
  {
   "cell_type": "code",
   "execution_count": 595,
   "id": "b7035cdf-7c78-412d-9e4c-92b8f4474ab1",
   "metadata": {},
   "outputs": [
    {
     "data": {
      "text/plain": [
       "698936"
      ]
     },
     "execution_count": 595,
     "metadata": {},
     "output_type": "execute_result"
    }
   ],
   "source": [
    "683888+ 15048"
   ]
  },
  {
   "cell_type": "code",
   "execution_count": null,
   "id": "1707c6d7-ba1a-405c-a283-03f9be9358a8",
   "metadata": {},
   "outputs": [],
   "source": [
    "EMAIL_SENT        2996144\n",
    "EMAIL_NOT_SENT     698936\n",
    "BOUNCED             77323\n",
    "EMAIL_OPENED        30466\n",
    "EMAIL_CLICKED       20082\n",
    "SCHEDULED           17188\n",
    "NaN                  8948\n",
    "ERROR                2050\n",
    "UNSUBSCRIBED          771\n",
    "RESPONDED             147"
   ]
  },
  {
   "cell_type": "code",
   "execution_count": 597,
   "id": "178ace6b-ad2c-4211-a4fc-78cf9d231ba8",
   "metadata": {},
   "outputs": [
    {
     "data": {
      "text/plain": [
       "3852055"
      ]
     },
     "execution_count": 597,
     "metadata": {},
     "output_type": "execute_result"
    }
   ],
   "source": [
    "2996144+698936+77323+30466+20082+17188+8948+2050+771+147"
   ]
  },
  {
   "cell_type": "code",
   "execution_count": null,
   "id": "377a24d5-b522-457d-b912-59445594c378",
   "metadata": {},
   "outputs": [],
   "source": []
  },
  {
   "cell_type": "code",
   "execution_count": null,
   "id": "fe3c9a94-b052-4ba6-98d9-bb6ffb31c9ea",
   "metadata": {},
   "outputs": [],
   "source": []
  },
  {
   "cell_type": "code",
   "execution_count": null,
   "id": "1701ae15-8a65-4411-ba68-67f8abbedb8e",
   "metadata": {},
   "outputs": [],
   "source": []
  },
  {
   "cell_type": "code",
   "execution_count": 541,
   "id": "f2b3e1e0-a22a-482e-8f9d-5924d817767d",
   "metadata": {},
   "outputs": [],
   "source": [
    "# voice_reach.drop(columns=['Unnamed: 0'],inplace=True)"
   ]
  },
  {
   "cell_type": "code",
   "execution_count": 555,
   "id": "86e28edb-88fb-41d6-bb48-8467362df361",
   "metadata": {},
   "outputs": [
    {
     "data": {
      "text/plain": [
       "Index(['Sales Rep', 'Campaign', 'Date', 'Call Originate Time', 'Call Duration',\n",
       "       'Disposition Code', 'Company', 'First Name', 'Last Name', 'Job Title',\n",
       "       'Phone', 'Street', 'City', 'State', 'Zip', 'Country', 'Email',\n",
       "       'Interaction Comments', 'Unnamed: 18', 'source', 'conversation',\n",
       "       'Call End Time', 'Talk time', 'Wrap time', 'Direct Phone',\n",
       "       'Dialed Number', 'Address1', 'Address2'],\n",
       "      dtype='object')"
      ]
     },
     "execution_count": 555,
     "metadata": {},
     "output_type": "execute_result"
    }
   ],
   "source": [
    "voice_reach.columns"
   ]
  },
  {
   "cell_type": "code",
   "execution_count": 557,
   "id": "f9476912-3f70-4cf7-98bb-67ebd262062a",
   "metadata": {},
   "outputs": [
    {
     "data": {
      "text/plain": [
       "17746"
      ]
     },
     "execution_count": 557,
     "metadata": {},
     "output_type": "execute_result"
    }
   ],
   "source": [
    "voice_reach['Email'].nunique()"
   ]
  },
  {
   "cell_type": "code",
   "execution_count": null,
   "id": "d150bb80-aa57-4bc1-a720-7c8f72e45fd2",
   "metadata": {},
   "outputs": [],
   "source": []
  },
  {
   "cell_type": "code",
   "execution_count": 567,
   "id": "7fa919ad-56ec-41ef-bace-698cdaafe6bd",
   "metadata": {},
   "outputs": [
    {
     "data": {
      "text/plain": [
       "conversation\n",
       "VoiceReach Remote    54948\n",
       "Sales Rep             5509\n",
       "Name: count, dtype: int64"
      ]
     },
     "execution_count": 567,
     "metadata": {},
     "output_type": "execute_result"
    }
   ],
   "source": [
    "voice_reach['conversation'].value_counts()"
   ]
  },
  {
   "cell_type": "code",
   "execution_count": 579,
   "id": "c163e3b2-177d-4e4e-9795-0e88346a3441",
   "metadata": {},
   "outputs": [
    {
     "data": {
      "text/plain": [
       "campaign_type\n",
       "LinkedIn      516\n",
       "Email         419\n",
       "VoiceReach     48\n",
       "Other          35\n",
       "Name: count, dtype: int64"
      ]
     },
     "execution_count": 579,
     "metadata": {},
     "output_type": "execute_result"
    }
   ],
   "source": [
    "hql_prospects['campaign_type'].value_counts()"
   ]
  },
  {
   "cell_type": "code",
   "execution_count": 571,
   "id": "d778cd6d-1745-4f16-96da-cca421089aa1",
   "metadata": {},
   "outputs": [
    {
     "data": {
      "text/plain": [
       "campaign_type\n",
       "LinkedIn      441\n",
       "Email         419\n",
       "Other         110\n",
       "VoiceReach     48\n",
       "Name: count, dtype: int64"
      ]
     },
     "execution_count": 571,
     "metadata": {},
     "output_type": "execute_result"
    }
   ],
   "source": [
    "hql_prospects['campaign_type'].value_counts()"
   ]
  },
  {
   "cell_type": "code",
   "execution_count": 583,
   "id": "2c3956cd-d16a-48fb-86d9-12aebc8959c2",
   "metadata": {},
   "outputs": [
    {
     "data": {
      "text/plain": [
       "Campaign Type\n",
       "LinkedIn Campaign                    260\n",
       "LinkedIn Campaign ( £ 150 )           56\n",
       "Linkedin Campaign ($100)              36\n",
       "LinkedIn ICP Match ($100 AGC)         35\n",
       "LinkedIn Campaign-Typeform            27\n",
       "Linkedin Campaign ($200)              23\n",
       "LinkedIn Campaign ($200 AGC)          22\n",
       "LinkedIn Campaign ( Airpods )          9\n",
       "Linkedin Campaign                      8\n",
       "LinkedIn Campaign TF (AirPods)         8\n",
       "Linkedin Typeform                      8\n",
       "LinkedIn ICP Match ($200 AGC)          6\n",
       "LinkedIn Typeform                      5\n",
       "LinkedIn Campaign ($200)               5\n",
       "LinkedIn Campaign ($100)               3\n",
       "LinkedIn Campaign (TypeForm)           2\n",
       "LinkedIn Campaign-Typeform ($200)      1\n",
       "LinkedIn Campaign (InMail)             1\n",
       "LinkedIn Typeform Campaign             1\n",
       "Name: count, dtype: int64"
      ]
     },
     "execution_count": 583,
     "metadata": {},
     "output_type": "execute_result"
    }
   ],
   "source": [
    "hql_prospects[hql_prospects['campaign_type']=='LinkedIn']['Campaign Type'].value_counts()"
   ]
  },
  {
   "cell_type": "code",
   "execution_count": null,
   "id": "8c0400b1-56cb-4622-b294-e78c2f9d8c59",
   "metadata": {},
   "outputs": [],
   "source": []
  },
  {
   "cell_type": "code",
   "execution_count": 585,
   "id": "7929ce3d-beb2-444d-b83f-43de117af14d",
   "metadata": {},
   "outputs": [
    {
     "data": {
      "text/plain": [
       "Lead type\n",
       "Disqualified                556\n",
       "HQL                         389\n",
       "HQL                          22\n",
       "HQL - No Response            14\n",
       "HQL - No response             7\n",
       "HQL- Pending                  7\n",
       "HQL - Awaiting Response       5\n",
       "HQL - No Response             4\n",
       "HQL - On hold                 4\n",
       "SQL                           2\n",
       "HQL - Pending                 2\n",
       "HQL -  Hold                   1\n",
       "HQL - Awaiting Response       1\n",
       "HQL- Pending                  1\n",
       "HQL- No response              1\n",
       "HQL - Doubt                   1\n",
       "HQL- No response              1\n",
       "Name: count, dtype: int64"
      ]
     },
     "execution_count": 585,
     "metadata": {},
     "output_type": "execute_result"
    }
   ],
   "source": [
    "hql_prospects['Lead type'].value_counts()"
   ]
  },
  {
   "cell_type": "code",
   "execution_count": null,
   "id": "02c4b2e4-14e3-4fcf-8e8b-c5637606dc96",
   "metadata": {},
   "outputs": [],
   "source": []
  },
  {
   "cell_type": "code",
   "execution_count": 587,
   "id": "1baa6e83-5597-4a3b-996a-9107ea3bba4e",
   "metadata": {},
   "outputs": [
    {
     "data": {
      "text/plain": [
       "(1018, 79)"
      ]
     },
     "execution_count": 587,
     "metadata": {},
     "output_type": "execute_result"
    }
   ],
   "source": [
    "hql_prospects.shape"
   ]
  },
  {
   "cell_type": "code",
   "execution_count": null,
   "id": "f27e3641-b932-4d1f-9399-3907f11c0a85",
   "metadata": {},
   "outputs": [],
   "source": []
  },
  {
   "cell_type": "code",
   "execution_count": null,
   "id": "ef525c23-9f09-439b-961e-6519c19ee62f",
   "metadata": {},
   "outputs": [],
   "source": []
  },
  {
   "cell_type": "code",
   "execution_count": null,
   "id": "1b302525-67ce-40ae-a878-b0ae852eb300",
   "metadata": {},
   "outputs": [],
   "source": []
  },
  {
   "cell_type": "code",
   "execution_count": null,
   "id": "1dd104f9-8e97-4502-a9c5-a7411abf1fca",
   "metadata": {},
   "outputs": [],
   "source": []
  },
  {
   "cell_type": "code",
   "execution_count": null,
   "id": "e50e40da-ee84-400b-bec9-477d3ad1113f",
   "metadata": {},
   "outputs": [],
   "source": []
  },
  {
   "cell_type": "code",
   "execution_count": null,
   "id": "06863ffa-0030-43c6-9ef3-9d7997fd6acd",
   "metadata": {},
   "outputs": [],
   "source": []
  },
  {
   "cell_type": "code",
   "execution_count": null,
   "id": "c7b87609-ac7c-4ac8-88be-523c2285a10b",
   "metadata": {},
   "outputs": [],
   "source": []
  }
 ],
 "metadata": {
  "kernelspec": {
   "display_name": "Python 3 (ipykernel)",
   "language": "python",
   "name": "python3"
  },
  "language_info": {
   "codemirror_mode": {
    "name": "ipython",
    "version": 3
   },
   "file_extension": ".py",
   "mimetype": "text/x-python",
   "name": "python",
   "nbconvert_exporter": "python",
   "pygments_lexer": "ipython3",
   "version": "3.13.2"
  }
 },
 "nbformat": 4,
 "nbformat_minor": 5
}
