{
 "cells": [
  {
   "cell_type": "code",
   "execution_count": 1,
   "id": "10ce9681-4eee-4c30-83ec-1301e6c7d1a5",
   "metadata": {},
   "outputs": [],
   "source": [
    "import pandas as pd\n",
    "import numpy as np\n",
    "import matplotlib.pyplot as plt\n",
    "import seaborn as sns"
   ]
  },
  {
   "cell_type": "code",
   "execution_count": 3,
   "id": "d118392b-2789-4b82-8950-63a366b144f0",
   "metadata": {},
   "outputs": [],
   "source": [
    "clicked_prospects=pd.read_csv('../datasets/clicked_data/clicked_prospects.csv')"
   ]
  },
  {
   "cell_type": "code",
   "execution_count": 5,
   "id": "dc8ad40c-e8c5-4629-9a83-00cb129ab81b",
   "metadata": {},
   "outputs": [
    {
     "name": "stderr",
     "output_type": "stream",
     "text": [
      "C:\\Users\\Admin\\AppData\\Local\\Temp\\ipykernel_29508\\1200675871.py:1: DtypeWarning: Columns (3,7,10,13,14,15,22,26,27,28,29,31) have mixed types. Specify dtype option on import or set low_memory=False.\n",
      "  not_clicked_prospects=pd.read_csv('../datasets/clicked_data/not_clicked_prospects.csv')\n"
     ]
    }
   ],
   "source": [
    "not_clicked_prospects=pd.read_csv('../datasets/clicked_data/not_clicked_prospects.csv')"
   ]
  },
  {
   "cell_type": "code",
   "execution_count": 7,
   "id": "c5ed2252-c69c-4721-941d-eff4f26be6ff",
   "metadata": {},
   "outputs": [],
   "source": [
    "pd.options.display.max_columns=None\n",
    "pd.options.display.max_info_columns=1000"
   ]
  },
  {
   "cell_type": "code",
   "execution_count": null,
   "id": "cd653370-3074-4e18-8a97-3e295422b34a",
   "metadata": {},
   "outputs": [],
   "source": []
  },
  {
   "cell_type": "code",
   "execution_count": 49,
   "id": "9a6f69cf-b702-4d95-9eec-6f43c014b271",
   "metadata": {},
   "outputs": [],
   "source": [
    "clicked_prospects.drop(columns=['Unnamed: 0'],inplace=True)"
   ]
  },
  {
   "cell_type": "code",
   "execution_count": 51,
   "id": "f3031f06-bcc4-4d66-834a-f5dc25dc0d94",
   "metadata": {},
   "outputs": [],
   "source": [
    "not_clicked_prospects.drop(columns=['Unnamed: 0'],inplace=True)"
   ]
  },
  {
   "cell_type": "code",
   "execution_count": 53,
   "id": "1c4aeb27-d67a-48a0-ad4c-9214b4c2fb20",
   "metadata": {},
   "outputs": [
    {
     "data": {
      "text/plain": [
       "(9521, 48)"
      ]
     },
     "execution_count": 53,
     "metadata": {},
     "output_type": "execute_result"
    }
   ],
   "source": [
    "clicked_prospects.shape"
   ]
  },
  {
   "cell_type": "code",
   "execution_count": 55,
   "id": "55e932c0-b40e-4ade-a8b0-380808072a64",
   "metadata": {},
   "outputs": [
    {
     "data": {
      "text/plain": [
       "(148051, 44)"
      ]
     },
     "execution_count": 55,
     "metadata": {},
     "output_type": "execute_result"
    }
   ],
   "source": [
    "not_clicked_prospects.shape"
   ]
  },
  {
   "cell_type": "code",
   "execution_count": null,
   "id": "e0475c48-6f9d-4159-a0ee-14970445b4b1",
   "metadata": {},
   "outputs": [],
   "source": []
  },
  {
   "cell_type": "code",
   "execution_count": 57,
   "id": "27f266ea-ff0a-4839-bc07-bece3fc1e190",
   "metadata": {},
   "outputs": [
    {
     "name": "stdout",
     "output_type": "stream",
     "text": [
      "email_clicked_time\n",
      "status\n",
      "last_email_opened_date\n",
      "last_email_status\n"
     ]
    }
   ],
   "source": [
    "for feature in clicked_prospects.columns:\n",
    "    if feature not in not_clicked_prospects.columns:\n",
    "        print(feature)"
   ]
  },
  {
   "cell_type": "code",
   "execution_count": 59,
   "id": "b828ae3b-7da4-426d-a3ce-8e593cf4362e",
   "metadata": {},
   "outputs": [],
   "source": [
    "clicked_prospects.drop(columns=['email_clicked_time','status','last_email_opened_date','last_email_status'],inplace=True)"
   ]
  },
  {
   "cell_type": "code",
   "execution_count": null,
   "id": "76d4882e-e3ca-4cb3-98e4-ba3660c32cbc",
   "metadata": {},
   "outputs": [],
   "source": []
  },
  {
   "cell_type": "code",
   "execution_count": 63,
   "id": "c5f92348-cbd8-4129-8abb-3156da767250",
   "metadata": {},
   "outputs": [],
   "source": [
    "clicked_prospects['is_clicked_email']=1"
   ]
  },
  {
   "cell_type": "code",
   "execution_count": 65,
   "id": "8d9c2f2f-c95b-4389-9bd0-d95e8c994783",
   "metadata": {},
   "outputs": [],
   "source": [
    "not_clicked_prospects['is_clicked_email']=0"
   ]
  },
  {
   "cell_type": "code",
   "execution_count": null,
   "id": "a3c7b919-e025-4888-b1da-304d26d72697",
   "metadata": {},
   "outputs": [],
   "source": []
  },
  {
   "cell_type": "code",
   "execution_count": 67,
   "id": "7d9e6c52-af46-4972-8bff-411ae6d0cd81",
   "metadata": {},
   "outputs": [
    {
     "name": "stdout",
     "output_type": "stream",
     "text": [
      "<class 'pandas.core.frame.DataFrame'>\n",
      "RangeIndex: 9521 entries, 0 to 9520\n",
      "Data columns (total 45 columns):\n",
      " #   Column                          Non-Null Count  Dtype  \n",
      "---  ------                          --------------  -----  \n",
      " 0   derived_mail                    9521 non-null   object \n",
      " 1   Company Name                    9466 non-null   object \n",
      " 2   First Name                      9466 non-null   object \n",
      " 3   Middle Name                     287 non-null    object \n",
      " 4   Last Name                       9466 non-null   object \n",
      " 5   Title                           9466 non-null   object \n",
      " 6   Level                           8141 non-null   object \n",
      " 7   Seniority                       152 non-null    object \n",
      " 8   Department                      8141 non-null   object \n",
      " 9   Email ID                        8037 non-null   object \n",
      " 10  Email 1                         1429 non-null   object \n",
      " 11  Contact_City                    8540 non-null   object \n",
      " 12  Contact_State                   7506 non-null   object \n",
      " 13  Contact City                    1344 non-null   object \n",
      " 14  Contact State                   1141 non-null   object \n",
      " 15  Contact Country                 152 non-null    object \n",
      " 16  Country                         8037 non-null   object \n",
      " 17  Website                         9465 non-null   object \n",
      " 18  Company City                    9292 non-null   object \n",
      " 19  Company State                   8620 non-null   object \n",
      " 20  Company Country                 9424 non-null   object \n",
      " 21  Industry                        8037 non-null   object \n",
      " 22  Sub Industry                    19 non-null     object \n",
      " 23  Revenue                         7903 non-null   object \n",
      " 24  Revenue Range                   6227 non-null   object \n",
      " 25  EMP Range                       7995 non-null   object \n",
      " 26  Company Annual Revenue          1429 non-null   object \n",
      " 27  Company Industry                1429 non-null   object \n",
      " 28  Company Staff Count Range       1383 non-null   object \n",
      " 29  Company Staff Count             1429 non-null   float64\n",
      " 30  Contact Linkedin URL            6549 non-null   object \n",
      " 31  Contact LI Profile URL          1406 non-null   object \n",
      " 32  source                          9466 non-null   object \n",
      " 33  Email                           9466 non-null   object \n",
      " 34  total_emails_sent               9521 non-null   int64  \n",
      " 35  total_emails_opened             9521 non-null   int64  \n",
      " 36  total_emails_clicked            9521 non-null   int64  \n",
      " 37  total_emails_bounced            9521 non-null   int64  \n",
      " 38  total_emails_unsubscribed       9521 non-null   int64  \n",
      " 39  avg_time_between_emails         9249 non-null   float64\n",
      " 40  avg_time_between_emails_opened  2812 non-null   float64\n",
      " 41  days_since_last_email_opened    9521 non-null   int64  \n",
      " 42  total_emails_sent_week_ends     8306 non-null   float64\n",
      " 43  has_ever_opened_email           9521 non-null   int64  \n",
      " 44  is_clicked_email                9521 non-null   int64  \n",
      "dtypes: float64(4), int64(8), object(33)\n",
      "memory usage: 3.3+ MB\n"
     ]
    }
   ],
   "source": [
    "clicked_prospects.info()"
   ]
  },
  {
   "cell_type": "code",
   "execution_count": null,
   "id": "eb15f8f4-f9fd-4859-9a24-87a7389f5ef7",
   "metadata": {},
   "outputs": [],
   "source": []
  },
  {
   "cell_type": "code",
   "execution_count": 121,
   "id": "1f6878d8-6c55-466a-a622-8734652a8a96",
   "metadata": {},
   "outputs": [],
   "source": [
    "final_df=pd.concat([clicked_prospects,not_clicked_prospects], ignore_index=True)"
   ]
  },
  {
   "cell_type": "code",
   "execution_count": null,
   "id": "762e97e8-f791-475f-8852-d3af531cf654",
   "metadata": {},
   "outputs": [],
   "source": []
  },
  {
   "cell_type": "code",
   "execution_count": 124,
   "id": "a6e45d5c-60c9-4263-b1c2-77e4920f4f18",
   "metadata": {},
   "outputs": [
    {
     "data": {
      "text/html": [
       "<div>\n",
       "<style scoped>\n",
       "    .dataframe tbody tr th:only-of-type {\n",
       "        vertical-align: middle;\n",
       "    }\n",
       "\n",
       "    .dataframe tbody tr th {\n",
       "        vertical-align: top;\n",
       "    }\n",
       "\n",
       "    .dataframe thead th {\n",
       "        text-align: right;\n",
       "    }\n",
       "</style>\n",
       "<table border=\"1\" class=\"dataframe\">\n",
       "  <thead>\n",
       "    <tr style=\"text-align: right;\">\n",
       "      <th></th>\n",
       "      <th>derived_mail</th>\n",
       "      <th>Company Name</th>\n",
       "      <th>First Name</th>\n",
       "      <th>Middle Name</th>\n",
       "      <th>Last Name</th>\n",
       "      <th>Title</th>\n",
       "      <th>Level</th>\n",
       "      <th>Seniority</th>\n",
       "      <th>Department</th>\n",
       "      <th>Email ID</th>\n",
       "      <th>Email 1</th>\n",
       "      <th>Contact_City</th>\n",
       "      <th>Contact_State</th>\n",
       "      <th>Contact City</th>\n",
       "      <th>Contact State</th>\n",
       "      <th>Contact Country</th>\n",
       "      <th>Country</th>\n",
       "      <th>Website</th>\n",
       "      <th>Company City</th>\n",
       "      <th>Company State</th>\n",
       "      <th>Company Country</th>\n",
       "      <th>Industry</th>\n",
       "      <th>Sub Industry</th>\n",
       "      <th>Revenue</th>\n",
       "      <th>Revenue Range</th>\n",
       "      <th>EMP Range</th>\n",
       "      <th>Company Annual Revenue</th>\n",
       "      <th>Company Industry</th>\n",
       "      <th>Company Staff Count Range</th>\n",
       "      <th>Company Staff Count</th>\n",
       "      <th>Contact Linkedin URL</th>\n",
       "      <th>Contact LI Profile URL</th>\n",
       "      <th>source</th>\n",
       "      <th>Email</th>\n",
       "      <th>total_emails_sent</th>\n",
       "      <th>total_emails_opened</th>\n",
       "      <th>total_emails_clicked</th>\n",
       "      <th>total_emails_bounced</th>\n",
       "      <th>total_emails_unsubscribed</th>\n",
       "      <th>avg_time_between_emails</th>\n",
       "      <th>avg_time_between_emails_opened</th>\n",
       "      <th>days_since_last_email_opened</th>\n",
       "      <th>total_emails_sent_week_ends</th>\n",
       "      <th>has_ever_opened_email</th>\n",
       "      <th>is_clicked_email</th>\n",
       "    </tr>\n",
       "  </thead>\n",
       "  <tbody>\n",
       "    <tr>\n",
       "      <th>0</th>\n",
       "      <td>a-holley@ti.com</td>\n",
       "      <td>Texas Instruments</td>\n",
       "      <td>Ashley</td>\n",
       "      <td>NaN</td>\n",
       "      <td>Holley</td>\n",
       "      <td>Creative Operations Manager</td>\n",
       "      <td>Mgr</td>\n",
       "      <td>NaN</td>\n",
       "      <td>Operations</td>\n",
       "      <td>a-holley@ti.com</td>\n",
       "      <td>NaN</td>\n",
       "      <td>Dallas</td>\n",
       "      <td>TX</td>\n",
       "      <td>NaN</td>\n",
       "      <td>NaN</td>\n",
       "      <td>NaN</td>\n",
       "      <td>United States</td>\n",
       "      <td>www.ti.com</td>\n",
       "      <td>Dallas</td>\n",
       "      <td>TX</td>\n",
       "      <td>United States</td>\n",
       "      <td>Manufacturing</td>\n",
       "      <td>NaN</td>\n",
       "      <td>$17.5B</td>\n",
       "      <td>10B+</td>\n",
       "      <td>10,000+</td>\n",
       "      <td>NaN</td>\n",
       "      <td>NaN</td>\n",
       "      <td>NaN</td>\n",
       "      <td>NaN</td>\n",
       "      <td>https://www.linkedin.com/in/ashleyjholley</td>\n",
       "      <td>NaN</td>\n",
       "      <td>../datasets/latest_dataset/Schneider_Electric_...</td>\n",
       "      <td>a-holley@ti.com</td>\n",
       "      <td>23.0</td>\n",
       "      <td>1.0</td>\n",
       "      <td>1.0</td>\n",
       "      <td>0.0</td>\n",
       "      <td>0.0</td>\n",
       "      <td>1.318182</td>\n",
       "      <td>NaN</td>\n",
       "      <td>0.0</td>\n",
       "      <td>5.0</td>\n",
       "      <td>1</td>\n",
       "      <td>1</td>\n",
       "    </tr>\n",
       "    <tr>\n",
       "      <th>1</th>\n",
       "      <td>a-smith3@ti.com</td>\n",
       "      <td>Texas Instruments</td>\n",
       "      <td>Amanda</td>\n",
       "      <td>NaN</td>\n",
       "      <td>Smith</td>\n",
       "      <td>Vice President Analog Power Products Supply Ch...</td>\n",
       "      <td>VP</td>\n",
       "      <td>NaN</td>\n",
       "      <td>Operations</td>\n",
       "      <td>a-smith3@ti.com</td>\n",
       "      <td>NaN</td>\n",
       "      <td>Dallas</td>\n",
       "      <td>TX</td>\n",
       "      <td>NaN</td>\n",
       "      <td>NaN</td>\n",
       "      <td>NaN</td>\n",
       "      <td>United States</td>\n",
       "      <td>www.ti.com</td>\n",
       "      <td>Dallas</td>\n",
       "      <td>TX</td>\n",
       "      <td>United States</td>\n",
       "      <td>Manufacturing</td>\n",
       "      <td>NaN</td>\n",
       "      <td>$17.5B</td>\n",
       "      <td>10B+</td>\n",
       "      <td>10,000+</td>\n",
       "      <td>NaN</td>\n",
       "      <td>NaN</td>\n",
       "      <td>NaN</td>\n",
       "      <td>NaN</td>\n",
       "      <td>https://www.linkedin.com/in/amanda-smith-8b11475</td>\n",
       "      <td>NaN</td>\n",
       "      <td>../datasets/latest_dataset/Schneider_Electric_...</td>\n",
       "      <td>a-smith3@ti.com</td>\n",
       "      <td>17.0</td>\n",
       "      <td>1.0</td>\n",
       "      <td>1.0</td>\n",
       "      <td>0.0</td>\n",
       "      <td>0.0</td>\n",
       "      <td>0.937500</td>\n",
       "      <td>NaN</td>\n",
       "      <td>0.0</td>\n",
       "      <td>2.0</td>\n",
       "      <td>1</td>\n",
       "      <td>1</td>\n",
       "    </tr>\n",
       "    <tr>\n",
       "      <th>2</th>\n",
       "      <td>a.danielson@aps.com</td>\n",
       "      <td>Arizona Public Service - APS</td>\n",
       "      <td>A</td>\n",
       "      <td>Justin</td>\n",
       "      <td>Danielson</td>\n",
       "      <td>Manager, Procurement Operations</td>\n",
       "      <td>Manager</td>\n",
       "      <td>Manager</td>\n",
       "      <td>Operations</td>\n",
       "      <td>NaN</td>\n",
       "      <td>a.danielson@aps.com</td>\n",
       "      <td>Phoenix</td>\n",
       "      <td>Arizona</td>\n",
       "      <td>Phoenix</td>\n",
       "      <td>Arizona</td>\n",
       "      <td>United States</td>\n",
       "      <td>NaN</td>\n",
       "      <td>aps.com</td>\n",
       "      <td>Phoenix</td>\n",
       "      <td>Arizona</td>\n",
       "      <td>United States</td>\n",
       "      <td>NaN</td>\n",
       "      <td>NaN</td>\n",
       "      <td>NaN</td>\n",
       "      <td>NaN</td>\n",
       "      <td>NaN</td>\n",
       "      <td>$4.3B</td>\n",
       "      <td>Electricity, Oil &amp; Gas</td>\n",
       "      <td>NaN</td>\n",
       "      <td>5772.0</td>\n",
       "      <td>NaN</td>\n",
       "      <td>https://www.linkedin.com/in/ACoAAAJI_i0B-tDLCl...</td>\n",
       "      <td>../datasets/latest_dataset/Schneider_Electric_...</td>\n",
       "      <td>a.danielson@aps.com</td>\n",
       "      <td>12.0</td>\n",
       "      <td>1.0</td>\n",
       "      <td>1.0</td>\n",
       "      <td>0.0</td>\n",
       "      <td>0.0</td>\n",
       "      <td>1.181818</td>\n",
       "      <td>NaN</td>\n",
       "      <td>0.0</td>\n",
       "      <td>2.0</td>\n",
       "      <td>1</td>\n",
       "      <td>1</td>\n",
       "    </tr>\n",
       "    <tr>\n",
       "      <th>3</th>\n",
       "      <td>a.freitas@samsung.com</td>\n",
       "      <td>Samsung</td>\n",
       "      <td>Alex</td>\n",
       "      <td>NaN</td>\n",
       "      <td>Freitas</td>\n",
       "      <td>Sr Director of PMO and Operations</td>\n",
       "      <td>Dir</td>\n",
       "      <td>NaN</td>\n",
       "      <td>Operations</td>\n",
       "      <td>a.freitas@samsung.com</td>\n",
       "      <td>NaN</td>\n",
       "      <td>Dallas</td>\n",
       "      <td>TX</td>\n",
       "      <td>NaN</td>\n",
       "      <td>NaN</td>\n",
       "      <td>NaN</td>\n",
       "      <td>United States</td>\n",
       "      <td>www.samsung.com</td>\n",
       "      <td>Ridgefield Park</td>\n",
       "      <td>NJ</td>\n",
       "      <td>United States</td>\n",
       "      <td>Manufacturing</td>\n",
       "      <td>NaN</td>\n",
       "      <td>$197B</td>\n",
       "      <td>10B+</td>\n",
       "      <td>10,000+</td>\n",
       "      <td>NaN</td>\n",
       "      <td>NaN</td>\n",
       "      <td>NaN</td>\n",
       "      <td>NaN</td>\n",
       "      <td>https://www.linkedin.com/in/alexfreitas</td>\n",
       "      <td>NaN</td>\n",
       "      <td>../datasets/latest_dataset/Schneider_Electric_...</td>\n",
       "      <td>a.freitas@samsung.com</td>\n",
       "      <td>57.0</td>\n",
       "      <td>1.0</td>\n",
       "      <td>1.0</td>\n",
       "      <td>0.0</td>\n",
       "      <td>0.0</td>\n",
       "      <td>0.857143</td>\n",
       "      <td>NaN</td>\n",
       "      <td>0.0</td>\n",
       "      <td>9.0</td>\n",
       "      <td>1</td>\n",
       "      <td>1</td>\n",
       "    </tr>\n",
       "    <tr>\n",
       "      <th>4</th>\n",
       "      <td>a.khani@samsung.com</td>\n",
       "      <td>Samsung</td>\n",
       "      <td>Aamer</td>\n",
       "      <td>NaN</td>\n",
       "      <td>Khani</td>\n",
       "      <td>Director Software Engineering</td>\n",
       "      <td>Dir</td>\n",
       "      <td>NaN</td>\n",
       "      <td>IT</td>\n",
       "      <td>a.khani@samsung.com</td>\n",
       "      <td>NaN</td>\n",
       "      <td>Dublin</td>\n",
       "      <td>CA</td>\n",
       "      <td>NaN</td>\n",
       "      <td>NaN</td>\n",
       "      <td>NaN</td>\n",
       "      <td>United States</td>\n",
       "      <td>www.samsung.com</td>\n",
       "      <td>NaN</td>\n",
       "      <td>NaN</td>\n",
       "      <td>NaN</td>\n",
       "      <td>Manufacturing</td>\n",
       "      <td>NaN</td>\n",
       "      <td>$197B</td>\n",
       "      <td>10B+</td>\n",
       "      <td>10,000+</td>\n",
       "      <td>NaN</td>\n",
       "      <td>NaN</td>\n",
       "      <td>NaN</td>\n",
       "      <td>NaN</td>\n",
       "      <td>https://www.linkedin.com/in/aamer-khani-3225719</td>\n",
       "      <td>NaN</td>\n",
       "      <td>../datasets/latest_dataset/Schneider_Electric_...</td>\n",
       "      <td>a.khani@samsung.com</td>\n",
       "      <td>57.0</td>\n",
       "      <td>1.0</td>\n",
       "      <td>1.0</td>\n",
       "      <td>0.0</td>\n",
       "      <td>0.0</td>\n",
       "      <td>0.857143</td>\n",
       "      <td>NaN</td>\n",
       "      <td>0.0</td>\n",
       "      <td>9.0</td>\n",
       "      <td>1</td>\n",
       "      <td>1</td>\n",
       "    </tr>\n",
       "    <tr>\n",
       "      <th>...</th>\n",
       "      <td>...</td>\n",
       "      <td>...</td>\n",
       "      <td>...</td>\n",
       "      <td>...</td>\n",
       "      <td>...</td>\n",
       "      <td>...</td>\n",
       "      <td>...</td>\n",
       "      <td>...</td>\n",
       "      <td>...</td>\n",
       "      <td>...</td>\n",
       "      <td>...</td>\n",
       "      <td>...</td>\n",
       "      <td>...</td>\n",
       "      <td>...</td>\n",
       "      <td>...</td>\n",
       "      <td>...</td>\n",
       "      <td>...</td>\n",
       "      <td>...</td>\n",
       "      <td>...</td>\n",
       "      <td>...</td>\n",
       "      <td>...</td>\n",
       "      <td>...</td>\n",
       "      <td>...</td>\n",
       "      <td>...</td>\n",
       "      <td>...</td>\n",
       "      <td>...</td>\n",
       "      <td>...</td>\n",
       "      <td>...</td>\n",
       "      <td>...</td>\n",
       "      <td>...</td>\n",
       "      <td>...</td>\n",
       "      <td>...</td>\n",
       "      <td>...</td>\n",
       "      <td>...</td>\n",
       "      <td>...</td>\n",
       "      <td>...</td>\n",
       "      <td>...</td>\n",
       "      <td>...</td>\n",
       "      <td>...</td>\n",
       "      <td>...</td>\n",
       "      <td>...</td>\n",
       "      <td>...</td>\n",
       "      <td>...</td>\n",
       "      <td>...</td>\n",
       "      <td>...</td>\n",
       "    </tr>\n",
       "    <tr>\n",
       "      <th>157567</th>\n",
       "      <td>pte@ti.com</td>\n",
       "      <td>Texas Instruments</td>\n",
       "      <td>Pe</td>\n",
       "      <td>NaN</td>\n",
       "      <td>Te</td>\n",
       "      <td>Vice President</td>\n",
       "      <td>VP</td>\n",
       "      <td>NaN</td>\n",
       "      <td>Operations</td>\n",
       "      <td>pte@ti.com</td>\n",
       "      <td>NaN</td>\n",
       "      <td>Dallas</td>\n",
       "      <td>TX</td>\n",
       "      <td>NaN</td>\n",
       "      <td>NaN</td>\n",
       "      <td>NaN</td>\n",
       "      <td>United States</td>\n",
       "      <td>www.ti.com</td>\n",
       "      <td>Dallas</td>\n",
       "      <td>TX</td>\n",
       "      <td>United States</td>\n",
       "      <td>Manufacturing</td>\n",
       "      <td>NaN</td>\n",
       "      <td>$17.5B</td>\n",
       "      <td>10B+</td>\n",
       "      <td>10,000+</td>\n",
       "      <td>NaN</td>\n",
       "      <td>NaN</td>\n",
       "      <td>NaN</td>\n",
       "      <td>NaN</td>\n",
       "      <td>https://www.linkedin.com/in/ACwAAE9nXIMBLPQv_Y...</td>\n",
       "      <td>NaN</td>\n",
       "      <td>../datasets/latest_dataset/Schneider_Electric_...</td>\n",
       "      <td>pte@ti.com</td>\n",
       "      <td>10.0</td>\n",
       "      <td>0.0</td>\n",
       "      <td>0.0</td>\n",
       "      <td>0.0</td>\n",
       "      <td>0.0</td>\n",
       "      <td>0.888889</td>\n",
       "      <td>NaN</td>\n",
       "      <td>NaN</td>\n",
       "      <td>1.0</td>\n",
       "      <td>0</td>\n",
       "      <td>0</td>\n",
       "    </tr>\n",
       "    <tr>\n",
       "      <th>157568</th>\n",
       "      <td>thorton@ti.com</td>\n",
       "      <td>Texas Instruments</td>\n",
       "      <td>Tim</td>\n",
       "      <td>NaN</td>\n",
       "      <td>Horton</td>\n",
       "      <td>Vice President</td>\n",
       "      <td>VP</td>\n",
       "      <td>NaN</td>\n",
       "      <td>Operations</td>\n",
       "      <td>thorton@ti.com</td>\n",
       "      <td>NaN</td>\n",
       "      <td>Dallas</td>\n",
       "      <td>TX</td>\n",
       "      <td>NaN</td>\n",
       "      <td>NaN</td>\n",
       "      <td>NaN</td>\n",
       "      <td>United States</td>\n",
       "      <td>www.ti.com</td>\n",
       "      <td>Dallas</td>\n",
       "      <td>TX</td>\n",
       "      <td>United States</td>\n",
       "      <td>Manufacturing</td>\n",
       "      <td>NaN</td>\n",
       "      <td>$17.5B</td>\n",
       "      <td>10B+</td>\n",
       "      <td>10,000+</td>\n",
       "      <td>NaN</td>\n",
       "      <td>NaN</td>\n",
       "      <td>NaN</td>\n",
       "      <td>NaN</td>\n",
       "      <td>https://www.linkedin.com/in/ACwAAEzMAHkBtTFP5x...</td>\n",
       "      <td>NaN</td>\n",
       "      <td>../datasets/latest_dataset/Schneider_Electric_...</td>\n",
       "      <td>thorton@ti.com</td>\n",
       "      <td>10.0</td>\n",
       "      <td>0.0</td>\n",
       "      <td>0.0</td>\n",
       "      <td>0.0</td>\n",
       "      <td>0.0</td>\n",
       "      <td>0.888889</td>\n",
       "      <td>NaN</td>\n",
       "      <td>NaN</td>\n",
       "      <td>1.0</td>\n",
       "      <td>0</td>\n",
       "      <td>0</td>\n",
       "    </tr>\n",
       "    <tr>\n",
       "      <th>157569</th>\n",
       "      <td>rduhon@ti.com</td>\n",
       "      <td>Texas Instruments</td>\n",
       "      <td>Robert</td>\n",
       "      <td>NaN</td>\n",
       "      <td>Duhon</td>\n",
       "      <td>owner/operator</td>\n",
       "      <td>CXO</td>\n",
       "      <td>NaN</td>\n",
       "      <td>Operations</td>\n",
       "      <td>rduhon@ti.com</td>\n",
       "      <td>NaN</td>\n",
       "      <td>Whitewright</td>\n",
       "      <td>TX</td>\n",
       "      <td>NaN</td>\n",
       "      <td>NaN</td>\n",
       "      <td>NaN</td>\n",
       "      <td>United States</td>\n",
       "      <td>www.ti.com</td>\n",
       "      <td>Dallas</td>\n",
       "      <td>TX</td>\n",
       "      <td>United States</td>\n",
       "      <td>Manufacturing</td>\n",
       "      <td>NaN</td>\n",
       "      <td>$17.5B</td>\n",
       "      <td>10B+</td>\n",
       "      <td>10,000+</td>\n",
       "      <td>NaN</td>\n",
       "      <td>NaN</td>\n",
       "      <td>NaN</td>\n",
       "      <td>NaN</td>\n",
       "      <td>https://www.linkedin.com/in/ACwAAAkrYBwBz1A8pq...</td>\n",
       "      <td>NaN</td>\n",
       "      <td>../datasets/latest_dataset/Schneider_Electric_...</td>\n",
       "      <td>rduhon@ti.com</td>\n",
       "      <td>10.0</td>\n",
       "      <td>0.0</td>\n",
       "      <td>0.0</td>\n",
       "      <td>0.0</td>\n",
       "      <td>0.0</td>\n",
       "      <td>0.888889</td>\n",
       "      <td>NaN</td>\n",
       "      <td>NaN</td>\n",
       "      <td>1.0</td>\n",
       "      <td>0</td>\n",
       "      <td>0</td>\n",
       "    </tr>\n",
       "    <tr>\n",
       "      <th>157570</th>\n",
       "      <td>ahinson@ti.com</td>\n",
       "      <td>Texas Instruments</td>\n",
       "      <td>Ashley</td>\n",
       "      <td>NaN</td>\n",
       "      <td>Hinson</td>\n",
       "      <td>Managing Director</td>\n",
       "      <td>Dir</td>\n",
       "      <td>NaN</td>\n",
       "      <td>Operations</td>\n",
       "      <td>ahinson@ti.com</td>\n",
       "      <td>NaN</td>\n",
       "      <td>Dallas</td>\n",
       "      <td>TX</td>\n",
       "      <td>NaN</td>\n",
       "      <td>NaN</td>\n",
       "      <td>NaN</td>\n",
       "      <td>United States</td>\n",
       "      <td>www.ti.com</td>\n",
       "      <td>Dallas</td>\n",
       "      <td>TX</td>\n",
       "      <td>United States</td>\n",
       "      <td>Manufacturing</td>\n",
       "      <td>NaN</td>\n",
       "      <td>$17.5B</td>\n",
       "      <td>10B+</td>\n",
       "      <td>10,000+</td>\n",
       "      <td>NaN</td>\n",
       "      <td>NaN</td>\n",
       "      <td>NaN</td>\n",
       "      <td>NaN</td>\n",
       "      <td>https://www.linkedin.com/in/ACwAAFDSNAAB2xAOsK...</td>\n",
       "      <td>NaN</td>\n",
       "      <td>../datasets/latest_dataset/Schneider_Electric_...</td>\n",
       "      <td>ahinson@ti.com</td>\n",
       "      <td>10.0</td>\n",
       "      <td>0.0</td>\n",
       "      <td>0.0</td>\n",
       "      <td>0.0</td>\n",
       "      <td>0.0</td>\n",
       "      <td>0.888889</td>\n",
       "      <td>NaN</td>\n",
       "      <td>NaN</td>\n",
       "      <td>1.0</td>\n",
       "      <td>0</td>\n",
       "      <td>0</td>\n",
       "    </tr>\n",
       "    <tr>\n",
       "      <th>157571</th>\n",
       "      <td>ekeill@ti.com</td>\n",
       "      <td>Texas Instruments</td>\n",
       "      <td>Ernest</td>\n",
       "      <td>NaN</td>\n",
       "      <td>Keill</td>\n",
       "      <td>Music Director</td>\n",
       "      <td>Dir</td>\n",
       "      <td>NaN</td>\n",
       "      <td>Operations</td>\n",
       "      <td>ekeill@ti.com</td>\n",
       "      <td>NaN</td>\n",
       "      <td>San Antonio</td>\n",
       "      <td>TX</td>\n",
       "      <td>NaN</td>\n",
       "      <td>NaN</td>\n",
       "      <td>NaN</td>\n",
       "      <td>United States</td>\n",
       "      <td>www.ti.com</td>\n",
       "      <td>Dallas</td>\n",
       "      <td>TX</td>\n",
       "      <td>United States</td>\n",
       "      <td>Manufacturing</td>\n",
       "      <td>NaN</td>\n",
       "      <td>$17.5B</td>\n",
       "      <td>10B+</td>\n",
       "      <td>10,000+</td>\n",
       "      <td>NaN</td>\n",
       "      <td>NaN</td>\n",
       "      <td>NaN</td>\n",
       "      <td>NaN</td>\n",
       "      <td>https://www.linkedin.com/in/ACwAAEsW8P0BkDEmgW...</td>\n",
       "      <td>NaN</td>\n",
       "      <td>../datasets/latest_dataset/Schneider_Electric_...</td>\n",
       "      <td>ekeill@ti.com</td>\n",
       "      <td>10.0</td>\n",
       "      <td>0.0</td>\n",
       "      <td>0.0</td>\n",
       "      <td>0.0</td>\n",
       "      <td>0.0</td>\n",
       "      <td>0.888889</td>\n",
       "      <td>NaN</td>\n",
       "      <td>NaN</td>\n",
       "      <td>1.0</td>\n",
       "      <td>0</td>\n",
       "      <td>0</td>\n",
       "    </tr>\n",
       "  </tbody>\n",
       "</table>\n",
       "<p>157572 rows × 45 columns</p>\n",
       "</div>"
      ],
      "text/plain": [
       "                 derived_mail                  Company Name First Name  \\\n",
       "0             a-holley@ti.com             Texas Instruments     Ashley   \n",
       "1             a-smith3@ti.com             Texas Instruments     Amanda   \n",
       "2         a.danielson@aps.com  Arizona Public Service - APS          A   \n",
       "3       a.freitas@samsung.com                       Samsung       Alex   \n",
       "4         a.khani@samsung.com                       Samsung      Aamer   \n",
       "...                       ...                           ...        ...   \n",
       "157567             pte@ti.com             Texas Instruments         Pe   \n",
       "157568         thorton@ti.com             Texas Instruments        Tim   \n",
       "157569          rduhon@ti.com             Texas Instruments     Robert   \n",
       "157570         ahinson@ti.com             Texas Instruments     Ashley   \n",
       "157571          ekeill@ti.com             Texas Instruments     Ernest   \n",
       "\n",
       "       Middle Name  Last Name  \\\n",
       "0              NaN     Holley   \n",
       "1              NaN      Smith   \n",
       "2           Justin  Danielson   \n",
       "3              NaN    Freitas   \n",
       "4              NaN      Khani   \n",
       "...            ...        ...   \n",
       "157567         NaN         Te   \n",
       "157568         NaN     Horton   \n",
       "157569         NaN      Duhon   \n",
       "157570         NaN     Hinson   \n",
       "157571         NaN      Keill   \n",
       "\n",
       "                                                    Title    Level Seniority  \\\n",
       "0                             Creative Operations Manager      Mgr       NaN   \n",
       "1       Vice President Analog Power Products Supply Ch...       VP       NaN   \n",
       "2                         Manager, Procurement Operations  Manager   Manager   \n",
       "3                       Sr Director of PMO and Operations      Dir       NaN   \n",
       "4                           Director Software Engineering      Dir       NaN   \n",
       "...                                                   ...      ...       ...   \n",
       "157567                                     Vice President       VP       NaN   \n",
       "157568                                     Vice President       VP       NaN   \n",
       "157569                                     owner/operator      CXO       NaN   \n",
       "157570                                  Managing Director      Dir       NaN   \n",
       "157571                                     Music Director      Dir       NaN   \n",
       "\n",
       "        Department               Email ID              Email 1 Contact_City  \\\n",
       "0       Operations        a-holley@ti.com                  NaN       Dallas   \n",
       "1       Operations        a-smith3@ti.com                  NaN       Dallas   \n",
       "2       Operations                    NaN  a.danielson@aps.com      Phoenix   \n",
       "3       Operations  a.freitas@samsung.com                  NaN       Dallas   \n",
       "4               IT    a.khani@samsung.com                  NaN       Dublin   \n",
       "...            ...                    ...                  ...          ...   \n",
       "157567  Operations             pte@ti.com                  NaN       Dallas   \n",
       "157568  Operations         thorton@ti.com                  NaN       Dallas   \n",
       "157569  Operations          rduhon@ti.com                  NaN  Whitewright   \n",
       "157570  Operations         ahinson@ti.com                  NaN       Dallas   \n",
       "157571  Operations          ekeill@ti.com                  NaN  San Antonio   \n",
       "\n",
       "       Contact_State Contact City Contact State Contact Country  \\\n",
       "0                 TX          NaN           NaN             NaN   \n",
       "1                 TX          NaN           NaN             NaN   \n",
       "2            Arizona      Phoenix       Arizona   United States   \n",
       "3                 TX          NaN           NaN             NaN   \n",
       "4                 CA          NaN           NaN             NaN   \n",
       "...              ...          ...           ...             ...   \n",
       "157567            TX          NaN           NaN             NaN   \n",
       "157568            TX          NaN           NaN             NaN   \n",
       "157569            TX          NaN           NaN             NaN   \n",
       "157570            TX          NaN           NaN             NaN   \n",
       "157571            TX          NaN           NaN             NaN   \n",
       "\n",
       "              Country          Website     Company City Company State  \\\n",
       "0       United States       www.ti.com           Dallas            TX   \n",
       "1       United States       www.ti.com           Dallas            TX   \n",
       "2                 NaN          aps.com          Phoenix       Arizona   \n",
       "3       United States  www.samsung.com  Ridgefield Park            NJ   \n",
       "4       United States  www.samsung.com              NaN           NaN   \n",
       "...               ...              ...              ...           ...   \n",
       "157567  United States       www.ti.com           Dallas            TX   \n",
       "157568  United States       www.ti.com           Dallas            TX   \n",
       "157569  United States       www.ti.com           Dallas            TX   \n",
       "157570  United States       www.ti.com           Dallas            TX   \n",
       "157571  United States       www.ti.com           Dallas            TX   \n",
       "\n",
       "       Company Country       Industry Sub Industry Revenue Revenue Range  \\\n",
       "0        United States  Manufacturing          NaN  $17.5B          10B+   \n",
       "1        United States  Manufacturing          NaN  $17.5B          10B+   \n",
       "2        United States            NaN          NaN     NaN           NaN   \n",
       "3        United States  Manufacturing          NaN   $197B          10B+   \n",
       "4                  NaN  Manufacturing          NaN   $197B          10B+   \n",
       "...                ...            ...          ...     ...           ...   \n",
       "157567   United States  Manufacturing          NaN  $17.5B          10B+   \n",
       "157568   United States  Manufacturing          NaN  $17.5B          10B+   \n",
       "157569   United States  Manufacturing          NaN  $17.5B          10B+   \n",
       "157570   United States  Manufacturing          NaN  $17.5B          10B+   \n",
       "157571   United States  Manufacturing          NaN  $17.5B          10B+   \n",
       "\n",
       "       EMP Range Company Annual Revenue        Company Industry  \\\n",
       "0        10,000+                    NaN                     NaN   \n",
       "1        10,000+                    NaN                     NaN   \n",
       "2            NaN                  $4.3B  Electricity, Oil & Gas   \n",
       "3        10,000+                    NaN                     NaN   \n",
       "4        10,000+                    NaN                     NaN   \n",
       "...          ...                    ...                     ...   \n",
       "157567   10,000+                    NaN                     NaN   \n",
       "157568   10,000+                    NaN                     NaN   \n",
       "157569   10,000+                    NaN                     NaN   \n",
       "157570   10,000+                    NaN                     NaN   \n",
       "157571   10,000+                    NaN                     NaN   \n",
       "\n",
       "       Company Staff Count Range Company Staff Count  \\\n",
       "0                            NaN                 NaN   \n",
       "1                            NaN                 NaN   \n",
       "2                            NaN              5772.0   \n",
       "3                            NaN                 NaN   \n",
       "4                            NaN                 NaN   \n",
       "...                          ...                 ...   \n",
       "157567                       NaN                 NaN   \n",
       "157568                       NaN                 NaN   \n",
       "157569                       NaN                 NaN   \n",
       "157570                       NaN                 NaN   \n",
       "157571                       NaN                 NaN   \n",
       "\n",
       "                                     Contact Linkedin URL  \\\n",
       "0               https://www.linkedin.com/in/ashleyjholley   \n",
       "1        https://www.linkedin.com/in/amanda-smith-8b11475   \n",
       "2                                                     NaN   \n",
       "3                 https://www.linkedin.com/in/alexfreitas   \n",
       "4         https://www.linkedin.com/in/aamer-khani-3225719   \n",
       "...                                                   ...   \n",
       "157567  https://www.linkedin.com/in/ACwAAE9nXIMBLPQv_Y...   \n",
       "157568  https://www.linkedin.com/in/ACwAAEzMAHkBtTFP5x...   \n",
       "157569  https://www.linkedin.com/in/ACwAAAkrYBwBz1A8pq...   \n",
       "157570  https://www.linkedin.com/in/ACwAAFDSNAAB2xAOsK...   \n",
       "157571  https://www.linkedin.com/in/ACwAAEsW8P0BkDEmgW...   \n",
       "\n",
       "                                   Contact LI Profile URL  \\\n",
       "0                                                     NaN   \n",
       "1                                                     NaN   \n",
       "2       https://www.linkedin.com/in/ACoAAAJI_i0B-tDLCl...   \n",
       "3                                                     NaN   \n",
       "4                                                     NaN   \n",
       "...                                                   ...   \n",
       "157567                                                NaN   \n",
       "157568                                                NaN   \n",
       "157569                                                NaN   \n",
       "157570                                                NaN   \n",
       "157571                                                NaN   \n",
       "\n",
       "                                                   source  \\\n",
       "0       ../datasets/latest_dataset/Schneider_Electric_...   \n",
       "1       ../datasets/latest_dataset/Schneider_Electric_...   \n",
       "2       ../datasets/latest_dataset/Schneider_Electric_...   \n",
       "3       ../datasets/latest_dataset/Schneider_Electric_...   \n",
       "4       ../datasets/latest_dataset/Schneider_Electric_...   \n",
       "...                                                   ...   \n",
       "157567  ../datasets/latest_dataset/Schneider_Electric_...   \n",
       "157568  ../datasets/latest_dataset/Schneider_Electric_...   \n",
       "157569  ../datasets/latest_dataset/Schneider_Electric_...   \n",
       "157570  ../datasets/latest_dataset/Schneider_Electric_...   \n",
       "157571  ../datasets/latest_dataset/Schneider_Electric_...   \n",
       "\n",
       "                        Email  total_emails_sent  total_emails_opened  \\\n",
       "0             a-holley@ti.com               23.0                  1.0   \n",
       "1             a-smith3@ti.com               17.0                  1.0   \n",
       "2         a.danielson@aps.com               12.0                  1.0   \n",
       "3       a.freitas@samsung.com               57.0                  1.0   \n",
       "4         a.khani@samsung.com               57.0                  1.0   \n",
       "...                       ...                ...                  ...   \n",
       "157567             pte@ti.com               10.0                  0.0   \n",
       "157568         thorton@ti.com               10.0                  0.0   \n",
       "157569          rduhon@ti.com               10.0                  0.0   \n",
       "157570         ahinson@ti.com               10.0                  0.0   \n",
       "157571          ekeill@ti.com               10.0                  0.0   \n",
       "\n",
       "        total_emails_clicked  total_emails_bounced  total_emails_unsubscribed  \\\n",
       "0                        1.0                   0.0                        0.0   \n",
       "1                        1.0                   0.0                        0.0   \n",
       "2                        1.0                   0.0                        0.0   \n",
       "3                        1.0                   0.0                        0.0   \n",
       "4                        1.0                   0.0                        0.0   \n",
       "...                      ...                   ...                        ...   \n",
       "157567                   0.0                   0.0                        0.0   \n",
       "157568                   0.0                   0.0                        0.0   \n",
       "157569                   0.0                   0.0                        0.0   \n",
       "157570                   0.0                   0.0                        0.0   \n",
       "157571                   0.0                   0.0                        0.0   \n",
       "\n",
       "        avg_time_between_emails  avg_time_between_emails_opened  \\\n",
       "0                      1.318182                             NaN   \n",
       "1                      0.937500                             NaN   \n",
       "2                      1.181818                             NaN   \n",
       "3                      0.857143                             NaN   \n",
       "4                      0.857143                             NaN   \n",
       "...                         ...                             ...   \n",
       "157567                 0.888889                             NaN   \n",
       "157568                 0.888889                             NaN   \n",
       "157569                 0.888889                             NaN   \n",
       "157570                 0.888889                             NaN   \n",
       "157571                 0.888889                             NaN   \n",
       "\n",
       "        days_since_last_email_opened  total_emails_sent_week_ends  \\\n",
       "0                                0.0                          5.0   \n",
       "1                                0.0                          2.0   \n",
       "2                                0.0                          2.0   \n",
       "3                                0.0                          9.0   \n",
       "4                                0.0                          9.0   \n",
       "...                              ...                          ...   \n",
       "157567                           NaN                          1.0   \n",
       "157568                           NaN                          1.0   \n",
       "157569                           NaN                          1.0   \n",
       "157570                           NaN                          1.0   \n",
       "157571                           NaN                          1.0   \n",
       "\n",
       "        has_ever_opened_email  is_clicked_email  \n",
       "0                           1                 1  \n",
       "1                           1                 1  \n",
       "2                           1                 1  \n",
       "3                           1                 1  \n",
       "4                           1                 1  \n",
       "...                       ...               ...  \n",
       "157567                      0                 0  \n",
       "157568                      0                 0  \n",
       "157569                      0                 0  \n",
       "157570                      0                 0  \n",
       "157571                      0                 0  \n",
       "\n",
       "[157572 rows x 45 columns]"
      ]
     },
     "execution_count": 124,
     "metadata": {},
     "output_type": "execute_result"
    }
   ],
   "source": [
    "final_df"
   ]
  },
  {
   "cell_type": "code",
   "execution_count": null,
   "id": "f6e4a186-e5a8-45f9-b384-d21b4a8b8791",
   "metadata": {},
   "outputs": [],
   "source": []
  },
  {
   "cell_type": "code",
   "execution_count": 127,
   "id": "36be96e0-fb19-42c2-befd-5e8e2a5d3c6f",
   "metadata": {},
   "outputs": [
    {
     "data": {
      "text/plain": [
       "<Axes: xlabel='is_clicked_email', ylabel='count'>"
      ]
     },
     "execution_count": 127,
     "metadata": {},
     "output_type": "execute_result"
    },
    {
     "data": {
      "image/png": "[encoded data removed]",
      "text/plain": [
       "<Figure size 640x480 with 1 Axes>"
      ]
     },
     "metadata": {},
     "output_type": "display_data"
    }
   ],
   "source": [
    "sns.countplot(x='is_clicked_email',data=final_df)"
   ]
  },
  {
   "cell_type": "code",
   "execution_count": null,
   "id": "bf47b500-1088-4753-ad8c-3b258ef9fdcb",
   "metadata": {},
   "outputs": [],
   "source": []
  },
  {
   "cell_type": "code",
   "execution_count": 77,
   "id": "b04c0d4e-46d7-4a2c-896b-d8848675dff5",
   "metadata": {},
   "outputs": [
    {
     "data": {
      "text/plain": [
       "<Axes: xlabel='has_ever_opened_email', ylabel='count'>"
      ]
     },
     "execution_count": 77,
     "metadata": {},
     "output_type": "execute_result"
    },
    {
     "data": {
      "image/png": "[encoded data removed]",
      "text/plain": [
       "<Figure size 640x480 with 1 Axes>"
      ]
     },
     "metadata": {},
     "output_type": "display_data"
    }
   ],
   "source": [
    "sns.countplot(x='has_ever_opened_email',hue='is_clicked_email',data=final_df)"
   ]
  },
  {
   "cell_type": "code",
   "execution_count": null,
   "id": "87c165b9-e4a5-40c7-825c-88b4805e65b0",
   "metadata": {},
   "outputs": [],
   "source": []
  },
  {
   "cell_type": "code",
   "execution_count": 79,
   "id": "b5b0b0ef-346b-40d1-8f19-5f5af90e3cd6",
   "metadata": {},
   "outputs": [
    {
     "data": {
      "text/plain": [
       "Index(['derived_mail', 'Company Name', 'First Name', 'Middle Name',\n",
       "       'Last Name', 'Title', 'Level', 'Seniority', 'Department', 'Email ID',\n",
       "       'Email 1', 'Contact_City', 'Contact_State', 'Contact City',\n",
       "       'Contact State', 'Contact Country', 'Country', 'Website',\n",
       "       'Company City', 'Company State', 'Company Country', 'Industry',\n",
       "       'Sub Industry', 'Revenue', 'Revenue Range', 'EMP Range',\n",
       "       'Company Annual Revenue', 'Company Industry',\n",
       "       'Company Staff Count Range', 'Company Staff Count',\n",
       "       'Contact Linkedin URL', 'Contact LI Profile URL', 'source', 'Email',\n",
       "       'total_emails_sent', 'total_emails_opened', 'total_emails_clicked',\n",
       "       'total_emails_bounced', 'total_emails_unsubscribed',\n",
       "       'avg_time_between_emails', 'avg_time_between_emails_opened',\n",
       "       'days_since_last_email_opened', 'total_emails_sent_week_ends',\n",
       "       'has_ever_opened_email', 'is_clicked_email'],\n",
       "      dtype='object')"
      ]
     },
     "execution_count": 79,
     "metadata": {},
     "output_type": "execute_result"
    }
   ],
   "source": [
    "final_df.columns"
   ]
  },
  {
   "cell_type": "code",
   "execution_count": 85,
   "id": "d903eaf0-6147-4b40-8875-e1e6cc0ac953",
   "metadata": {},
   "outputs": [
    {
     "name": "stdout",
     "output_type": "stream",
     "text": [
      "<class 'pandas.core.frame.DataFrame'>\n",
      "Index: 157572 entries, 0 to 148050\n",
      "Data columns (total 45 columns):\n",
      " #   Column                          Non-Null Count   Dtype  \n",
      "---  ------                          --------------   -----  \n",
      " 0   derived_mail                    157572 non-null  object \n",
      " 1   Company Name                    157130 non-null  object \n",
      " 2   First Name                      157516 non-null  object \n",
      " 3   Middle Name                     5889 non-null    object \n",
      " 4   Last Name                       157492 non-null  object \n",
      " 5   Title                           157512 non-null  object \n",
      " 6   Level                           147641 non-null  object \n",
      " 7   Seniority                       2876 non-null    object \n",
      " 8   Department                      147641 non-null  object \n",
      " 9   Email ID                        144938 non-null  object \n",
      " 10  Email 1                         12579 non-null   object \n",
      " 11  Contact_City                    134574 non-null  object \n",
      " 12  Contact_State                   118863 non-null  object \n",
      " 13  Contact City                    11463 non-null   object \n",
      " 14  Contact State                   10232 non-null   object \n",
      " 15  Contact Country                 2854 non-null    object \n",
      " 16  Country                         144897 non-null  object \n",
      " 17  Website                         157421 non-null  object \n",
      " 18  Company City                    151867 non-null  object \n",
      " 19  Company State                   141584 non-null  object \n",
      " 20  Company Country                 156825 non-null  object \n",
      " 21  Industry                        144922 non-null  object \n",
      " 22  Sub Industry                    7109 non-null    object \n",
      " 23  Revenue                         142105 non-null  object \n",
      " 24  Revenue Range                   114253 non-null  object \n",
      " 25  EMP Range                       144522 non-null  object \n",
      " 26  Company Annual Revenue          12579 non-null   object \n",
      " 27  Company Industry                12579 non-null   object \n",
      " 28  Company Staff Count Range       12493 non-null   object \n",
      " 29  Company Staff Count             12579 non-null   object \n",
      " 30  Contact Linkedin URL            100490 non-null  object \n",
      " 31  Contact LI Profile URL          12420 non-null   object \n",
      " 32  source                          157517 non-null  object \n",
      " 33  Email                           157517 non-null  object \n",
      " 34  total_emails_sent               156668 non-null  float64\n",
      " 35  total_emails_opened             156668 non-null  float64\n",
      " 36  total_emails_clicked            156668 non-null  float64\n",
      " 37  total_emails_bounced            156668 non-null  float64\n",
      " 38  total_emails_unsubscribed       156668 non-null  float64\n",
      " 39  avg_time_between_emails         140265 non-null  float64\n",
      " 40  avg_time_between_emails_opened  7508 non-null    float64\n",
      " 41  days_since_last_email_opened    17237 non-null   float64\n",
      " 42  total_emails_sent_week_ends     129885 non-null  float64\n",
      " 43  has_ever_opened_email           157572 non-null  int64  \n",
      " 44  is_clicked_email                157572 non-null  int64  \n",
      "dtypes: float64(9), int64(2), object(34)\n",
      "memory usage: 55.3+ MB\n"
     ]
    }
   ],
   "source": [
    "final_df.info()"
   ]
  },
  {
   "cell_type": "code",
   "execution_count": 83,
   "id": "bf1d7801-c44e-4a5b-ab36-f88874990a8c",
   "metadata": {},
   "outputs": [
    {
     "data": {
      "text/plain": [
       "0         0.0\n",
       "1         0.0\n",
       "2         0.0\n",
       "3         0.0\n",
       "4         0.0\n",
       "         ... \n",
       "148046    NaN\n",
       "148047    NaN\n",
       "148048    NaN\n",
       "148049    NaN\n",
       "148050    NaN\n",
       "Name: days_since_last_email_opened, Length: 157572, dtype: float64"
      ]
     },
     "execution_count": 83,
     "metadata": {},
     "output_type": "execute_result"
    }
   ],
   "source": [
    "final_df['days_since_last_email_opened']"
   ]
  },
  {
   "cell_type": "code",
   "execution_count": 131,
   "id": "47f7830c-8db9-4ba5-aedd-a0c4d31ecdb9",
   "metadata": {},
   "outputs": [
    {
     "data": {
      "text/plain": [
       "<Axes: xlabel='total_emails_sent_week_ends', ylabel='Density'>"
      ]
     },
     "execution_count": 131,
     "metadata": {},
     "output_type": "execute_result"
    },
    {
     "data": {
      "image/png": "[encoded data removed]",
      "text/plain": [
       "<Figure size 640x480 with 1 Axes>"
      ]
     },
     "metadata": {},
     "output_type": "display_data"
    }
   ],
   "source": [
    "sns.kdeplot(x='total_emails_sent_week_ends',data=final_df,hue='is_clicked_email')"
   ]
  },
  {
   "cell_type": "code",
   "execution_count": null,
   "id": "fbe4dc84-1309-4bba-afbf-65da90068433",
   "metadata": {},
   "outputs": [],
   "source": []
  },
  {
   "cell_type": "code",
   "execution_count": 133,
   "id": "88b338bc-c82e-4e4b-be8a-f43b7ce78b89",
   "metadata": {},
   "outputs": [
    {
     "data": {
      "text/plain": [
       "<Axes: xlabel='total_emails_opened', ylabel='Density'>"
      ]
     },
     "execution_count": 133,
     "metadata": {},
     "output_type": "execute_result"
    },
    {
     "data": {
      "image/png": "[encoded data removed]",
      "text/plain": [
       "<Figure size 640x480 with 1 Axes>"
      ]
     },
     "metadata": {},
     "output_type": "display_data"
    }
   ],
   "source": [
    "sns.kdeplot(x='total_emails_opened',data=final_df,hue='is_clicked_email')"
   ]
  },
  {
   "cell_type": "code",
   "execution_count": 117,
   "id": "fe8c684e-05f3-4fef-8240-3d0b9637ee73",
   "metadata": {},
   "outputs": [
    {
     "name": "stdout",
     "output_type": "stream",
     "text": [
      "Index([], dtype='object')\n"
     ]
    }
   ],
   "source": [
    "print(final_df.columns[final_df.columns.duplicated()])"
   ]
  },
  {
   "cell_type": "code",
   "execution_count": 119,
   "id": "2b6f984a-f161-43c8-a363-7ad56b4d26d1",
   "metadata": {},
   "outputs": [
    {
     "name": "stdout",
     "output_type": "stream",
     "text": [
      "Index([   0,    1,    2,    3,    4,    5,    6,    7,    8,    9,\n",
      "       ...\n",
      "       9511, 9512, 9513, 9514, 9515, 9516, 9517, 9518, 9519, 9520],\n",
      "      dtype='int64', length=9521)\n"
     ]
    }
   ],
   "source": [
    "print(final_df.index[final_df.index.duplicated()])\n"
   ]
  },
  {
   "cell_type": "code",
   "execution_count": null,
   "id": "2021303a-02f8-427d-ac54-8398d0c9b6de",
   "metadata": {},
   "outputs": [],
   "source": []
  },
  {
   "cell_type": "code",
   "execution_count": 135,
   "id": "70c1b428-5a72-45ef-907b-643e18203bd3",
   "metadata": {},
   "outputs": [
    {
     "data": {
      "text/plain": [
       "<Axes: xlabel='total_emails_unsubscribed', ylabel='Density'>"
      ]
     },
     "execution_count": 135,
     "metadata": {},
     "output_type": "execute_result"
    },
    {
     "data": {
      "image/png": "[encoded data removed]",
      "text/plain": [
       "<Figure size 640x480 with 1 Axes>"
      ]
     },
     "metadata": {},
     "output_type": "display_data"
    }
   ],
   "source": [
    "sns.kdeplot(x='total_emails_unsubscribed',data=final_df,hue='is_clicked_email')"
   ]
  },
  {
   "cell_type": "code",
   "execution_count": null,
   "id": "5a56c1af-a0b5-46e7-b77b-03ddf9275fb8",
   "metadata": {},
   "outputs": [],
   "source": []
  },
  {
   "cell_type": "code",
   "execution_count": 137,
   "id": "91602273-d735-494e-b8f8-f92fe6da1736",
   "metadata": {},
   "outputs": [],
   "source": [
    "final_df['has_ever_unsubscribed_email']=final_df['total_emails_unsubscribed'].apply(lambda x : 1 if x>0 else 0)"
   ]
  },
  {
   "cell_type": "code",
   "execution_count": 141,
   "id": "8a226a90-8969-4d82-8ebc-3e6a866f3876",
   "metadata": {},
   "outputs": [
    {
     "data": {
      "text/plain": [
       "<Axes: xlabel='has_ever_unsubscribed_email', ylabel='count'>"
      ]
     },
     "execution_count": 141,
     "metadata": {},
     "output_type": "execute_result"
    },
    {
     "data": {
      "image/png": "[encoded data removed]",
      "text/plain": [
       "<Figure size 640x480 with 1 Axes>"
      ]
     },
     "metadata": {},
     "output_type": "display_data"
    }
   ],
   "source": [
    "sns.countplot(x='has_ever_unsubscribed_email',data=final_df,hue='is_clicked_email')"
   ]
  },
  {
   "cell_type": "code",
   "execution_count": null,
   "id": "ec2d2648-8eda-40d5-abec-857e8d0b79b8",
   "metadata": {},
   "outputs": [],
   "source": []
  },
  {
   "cell_type": "code",
   "execution_count": 156,
   "id": "2317373e-721f-420e-9745-a5ef4bb9a1e1",
   "metadata": {},
   "outputs": [],
   "source": [
    "final_df.to_csv('../datasets/clicked_data/final_dataset.csv')"
   ]
  },
  {
   "cell_type": "code",
   "execution_count": 158,
   "id": "35b896fd-f04b-4acd-b474-e7f18f2274a2",
   "metadata": {},
   "outputs": [
    {
     "data": {
      "text/plain": [
       "Index(['derived_mail', 'Company Name', 'First Name', 'Middle Name',\n",
       "       'Last Name', 'Title', 'Level', 'Seniority', 'Department', 'Email ID',\n",
       "       'Email 1', 'Contact_City', 'Contact_State', 'Contact City',\n",
       "       'Contact State', 'Contact Country', 'Country', 'Website',\n",
       "       'Company City', 'Company State', 'Company Country', 'Industry',\n",
       "       'Sub Industry', 'Revenue', 'Revenue Range', 'EMP Range',\n",
       "       'Company Annual Revenue', 'Company Industry',\n",
       "       'Company Staff Count Range', 'Company Staff Count',\n",
       "       'Contact Linkedin URL', 'Contact LI Profile URL', 'source', 'Email',\n",
       "       'total_emails_sent', 'total_emails_opened', 'total_emails_clicked',\n",
       "       'total_emails_bounced', 'total_emails_unsubscribed',\n",
       "       'avg_time_between_emails', 'avg_time_between_emails_opened',\n",
       "       'days_since_last_email_opened', 'total_emails_sent_week_ends',\n",
       "       'has_ever_opened_email', 'is_clicked_email',\n",
       "       'has_ever_unsubscribed_email'],\n",
       "      dtype='object')"
      ]
     },
     "execution_count": 158,
     "metadata": {},
     "output_type": "execute_result"
    }
   ],
   "source": [
    "final_df.columns"
   ]
  },
  {
   "cell_type": "code",
   "execution_count": null,
   "id": "4c894c91-de30-4cf9-8781-d70641bf2dba",
   "metadata": {},
   "outputs": [],
   "source": []
  },
  {
   "cell_type": "code",
   "execution_count": null,
   "id": "02a66756-86b6-43a7-983a-eb6cd9a123ea",
   "metadata": {},
   "outputs": [],
   "source": []
  },
  {
   "cell_type": "code",
   "execution_count": null,
   "id": "038a2a85-3ffc-403d-b092-d530badd0e0f",
   "metadata": {},
   "outputs": [],
   "source": []
  },
  {
   "cell_type": "code",
   "execution_count": null,
   "id": "895ee8c9-2c77-4e52-995e-f2cd5e3aec09",
   "metadata": {},
   "outputs": [],
   "source": []
  },
  {
   "cell_type": "code",
   "execution_count": null,
   "id": "2e122800-8111-45aa-886a-c7ce60c2bc24",
   "metadata": {},
   "outputs": [],
   "source": []
  },
  {
   "cell_type": "code",
   "execution_count": null,
   "id": "8c86ede6-aa00-4f9a-b506-846184c7fd79",
   "metadata": {},
   "outputs": [],
   "source": []
  },
  {
   "cell_type": "code",
   "execution_count": null,
   "id": "15495894-cdf1-4437-923d-56734f18c9aa",
   "metadata": {},
   "outputs": [],
   "source": []
  },
  {
   "cell_type": "code",
   "execution_count": null,
   "id": "b452d6b5-e15e-45dc-a971-d311c72c2ebd",
   "metadata": {},
   "outputs": [],
   "source": []
  },
  {
   "cell_type": "code",
   "execution_count": null,
   "id": "1c443ccc-f0ad-45ef-a6fb-e2ab9a64e695",
   "metadata": {},
   "outputs": [],
   "source": []
  },
  {
   "cell_type": "code",
   "execution_count": null,
   "id": "75b201b2-99d9-4d76-bdf1-68c0f2dffa79",
   "metadata": {},
   "outputs": [],
   "source": []
  },
  {
   "cell_type": "code",
   "execution_count": null,
   "id": "acb49f96-1675-45a1-a272-63e6d43db1cd",
   "metadata": {},
   "outputs": [],
   "source": []
  },
  {
   "cell_type": "code",
   "execution_count": null,
   "id": "a886637f-a6e4-49c1-b1d3-4d2e77302f5f",
   "metadata": {},
   "outputs": [],
   "source": []
  }
 ],
 "metadata": {
  "kernelspec": {
   "display_name": "Python [conda env:base] *",
   "language": "python",
   "name": "conda-base-py"
  },
  "language_info": {
   "codemirror_mode": {
    "name": "ipython",
    "version": 3
   },
   "file_extension": ".py",
   "mimetype": "text/x-python",
   "name": "python",
   "nbconvert_exporter": "python",
   "pygments_lexer": "ipython3",
   "version": "3.12.7"
  }
 },
 "nbformat": 4,
 "nbformat_minor": 5
}
