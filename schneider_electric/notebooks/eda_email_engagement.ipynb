{
 "cells": [
  {
   "cell_type": "code",
   "execution_count": 1,
   "id": "0214fa94-3802-4405-aa02-6f2f5bb1555a",
   "metadata": {},
   "outputs": [],
   "source": [
    "import pandas as pd"
   ]
  },
  {
   "cell_type": "code",
   "execution_count": 2,
   "id": "a772abc3-1cf9-46a6-a2fb-b0b0cd7a0822",
   "metadata": {},
   "outputs": [],
   "source": [
    "df_email_engagement = pd.read_csv(\"/home/darshan/dev/AI_ML_Projects/schneider_electric /data/Schneider Electric Data/Email_Enagement_Data/unique_prospect_engagements.csv\")"
   ]
  },
  {
   "cell_type": "code",
   "execution_count": 3,
   "id": "d490d818-cce8-428e-a659-be4b3205363c",
   "metadata": {},
   "outputs": [
    {
     "name": "stdout",
     "output_type": "stream",
     "text": [
      "<class 'pandas.core.frame.DataFrame'>\n",
      "RangeIndex: 4036649 entries, 0 to 4036648\n",
      "Data columns (total 15 columns):\n",
      " #   Column           Dtype  \n",
      "---  ------           -----  \n",
      " 0   Unnamed: 0       int64  \n",
      " 1   FirstName        object \n",
      " 2   CompanyName      object \n",
      " 3   source           object \n",
      " 4   header_date      object \n",
      " 5   raw_status       object \n",
      " 6   status           object \n",
      " 7   status_time      object \n",
      " 8   reason           object \n",
      " 9   status_time_utc  object \n",
      " 10  Email            object \n",
      " 11  day_of_week      object \n",
      " 12  is_clicked_mail  int64  \n",
      " 13  time_category    object \n",
      " 14  hour             float64\n",
      "dtypes: float64(1), int64(2), object(12)\n",
      "memory usage: 462.0+ MB\n"
     ]
    }
   ],
   "source": [
    "df_email_engagement.info()"
   ]
  },
  {
   "cell_type": "code",
   "execution_count": null,
   "id": "5cc0197f-5172-47ae-b9bf-a29035e23f11",
   "metadata": {},
   "outputs": [],
   "source": []
  },
  {
   "cell_type": "code",
   "execution_count": 4,
   "id": "dfaa55ab-db2e-4124-ae55-7e886c90d301",
   "metadata": {},
   "outputs": [
    {
     "data": {
      "text/plain": [
       "Email\n",
       "janice.cruz@nexteraenergy.com        166\n",
       "dilcia.morales@nexteraenergy.com     165\n",
       "rick.noble@nexteraenergy.com         157\n",
       "segun.ojetayo@nexteraenergy.com      157\n",
       "chad.mynhier@nexteraenergy.com       157\n",
       "                                    ... \n",
       "gil.a@clarkcountynv.gov                1\n",
       "r.g@clarkcountynv.gov                  1\n",
       "rachel.clime@clarkcountynv.gov         1\n",
       "rachel.leimbach@clarkcountynv.gov      1\n",
       "robert.garcia@clarkcountynv.gov        1\n",
       "Name: count, Length: 157169, dtype: int64"
      ]
     },
     "execution_count": 4,
     "metadata": {},
     "output_type": "execute_result"
    }
   ],
   "source": [
    "df_email_engagement['Email'].value_counts()"
   ]
  },
  {
   "cell_type": "code",
   "execution_count": 6,
   "id": "c11a0013-b705-486a-9bb5-e51e97e270b8",
   "metadata": {},
   "outputs": [
    {
     "data": {
      "text/plain": [
       "source\n",
       "January 2025/SE_Microgrid_Non_Responder_AC_New_03rd_Dec_2024-02_Jan_2025.xlsx : rachel.scott@adeptpanels.com    25\n",
       "October 2024/SE_Microgrids_IT_8th_Oct_2024 - 8th Oct 2024.xlsx : garyw@adeptpanels.com                          22\n",
       "January 2024/SE_13_DEC_2023_HappyHolidays-02_Jan_2024.xlsx : nortonjohn@insightlab.co                           16\n",
       "November 2024/Consolidated_Microgrid_Accounts_8th_Nov_2024-08_Nov_2024.xlsx : rachel.scott@adeptpanels.com      11\n",
       "September 2024/SE_Microgrids_Del1and2_25Sep_2024-25_Sept_2024.xlsx : johnnorton@insightlab.co                   10\n",
       "November 2024/SE_DERMS_Revised_Del1-2_8th_Nov_2024-08_Nov_2024.xlsx : matt.thorson@adeptpanels.com               9\n",
       "December 2024/SE_DERMS_Consolidated_Del1-3_27th_Nov_2024-02_Nov_2024.xlsx : matt.thorson@adeptpanels.com         8\n",
       "October 2024/SE_DERMS__Del1_18th_Oct_2024 - 18th Oct 2024.xlsx : gary@insightpanel.biz                           8\n",
       "January 2024/SE_JanGeneric_19Jan_2024-19_Jan_2024.xlsx : wh.gary@insightlab.co                                   8\n",
       "November 2024/SE_DERMS_Consolidated_Del1-3_19th_Nov_2024-19_Nov_2024.xlsx : matt.thorson@adeptpanels.com         7\n",
       "January 2024/SE_JanGeneric_2024-03_Jan_2024.xlsx : nortonjohn@insightlab.co                                      6\n",
       "January 2024/SE_JanGeneric_10Jan_2024-10_Jan_2024.xlsx : william.penn@insightlab.co                              6\n",
       "January 2025/SE_Microgrid_Del1_4_07th_Jan_2025-07_Jan_2025.xlsx : brian.eagerton@insightlab.co                   6\n",
       "January 2025/SE_Microgrid_21st_Jan_2025-21_Jan_2025.xlsx : gary.white@whitelabsolutions.co                       5\n",
       "January 2025/SE_Microgrid_15th_Jan_2025-15_Jan_2025.xlsx : gwhite@adeptpanels.com                                5\n",
       "October 2024/SE_DERMS_5Accounts_Del1_29th_Oct_2024 - 29th Oct 2024.xlsx : nortonjohn@insightlab.co               4\n",
       "January 2025/SE_Microgrid_03rdJan_2025_Lead_Flow-03_Jan_2025.xlsx : john@adeptpanels.com                         3\n",
       "November 2024/SE_DERMS_Del1_5th_Nov_2024-05_Nov_2024.xlsx : matt.thorson@adeptpanels.com                         3\n",
       "January 2024/SE_JanGeneric_18Jan_2024-18_Jan_2024.xlsx : annabelle.wallis@insightlab.co                          1\n",
       "November 2024/SE_Microgrids_IT_7th_Nov_2024-07_Nov_2024.xlsx : garyw@adeptpanels.com                             1\n",
       "November 2024/SE_DERMS_Consolidated_Del1-3_19th_Nov_2024-19_Nov_2024.xlsx : tyler.martin@insightpanel.biz        1\n",
       "January 2025/SE_Microgrid_14th_Jan_2025-14_Jan_2025.xlsx : richard@whitelabsweb.com                              1\n",
       "Name: count, dtype: int64"
      ]
     },
     "execution_count": 6,
     "metadata": {},
     "output_type": "execute_result"
    }
   ],
   "source": [
    "df_email_engagement[df_email_engagement['Email'] == 'janice.cruz@nexteraenergy.com']['source'].value_counts()"
   ]
  },
  {
   "cell_type": "code",
   "execution_count": null,
   "id": "4d22474a-1cf4-4c79-8205-1e38dcb22361",
   "metadata": {},
   "outputs": [],
   "source": []
  }
 ],
 "metadata": {
  "kernelspec": {
   "display_name": "Python 3 (ipykernel)",
   "language": "python",
   "name": "python3"
  },
  "language_info": {
   "codemirror_mode": {
    "name": "ipython",
    "version": 3
   },
   "file_extension": ".py",
   "mimetype": "text/x-python",
   "name": "python",
   "nbconvert_exporter": "python",
   "pygments_lexer": "ipython3",
   "version": "3.13.2"
  }
 },
 "nbformat": 4,
 "nbformat_minor": 5
}
