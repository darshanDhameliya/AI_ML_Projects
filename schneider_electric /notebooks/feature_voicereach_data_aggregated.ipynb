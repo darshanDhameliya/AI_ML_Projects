{
 "cells": [
  {
   "cell_type": "code",
   "execution_count": 1,
   "id": "b12d1ad9-7702-4129-8cd2-58fdc8788d57",
   "metadata": {},
   "outputs": [],
   "source": [
    "import pandas as pd"
   ]
  },
  {
   "cell_type": "code",
   "execution_count": 2,
   "id": "205faac5-a999-4c14-8900-c3ef0e54ed3f",
   "metadata": {},
   "outputs": [
    {
     "name": "stdout",
     "output_type": "stream",
     "text": [
      "<class 'pandas.core.frame.DataFrame'>\n",
      "RangeIndex: 60457 entries, 0 to 60456\n",
      "Data columns (total 29 columns):\n",
      " #   Column                Non-Null Count  Dtype  \n",
      "---  ------                --------------  -----  \n",
      " 0   Unnamed: 0            60457 non-null  int64  \n",
      " 1   Sales Rep             5509 non-null   object \n",
      " 2   Campaign              3350 non-null   object \n",
      " 3   Date                  60457 non-null  object \n",
      " 4   Call Originate Time   59101 non-null  object \n",
      " 5   Call Duration         3350 non-null   object \n",
      " 6   Disposition Code      60457 non-null  object \n",
      " 7   Company               60451 non-null  object \n",
      " 8   First Name            60457 non-null  object \n",
      " 9   Last Name             60457 non-null  object \n",
      " 10  Job Title             60452 non-null  object \n",
      " 11  Phone                 60457 non-null  object \n",
      " 12  Street                3211 non-null   object \n",
      " 13  City                  57510 non-null  object \n",
      " 14  State                 53197 non-null  object \n",
      " 15  Zip                   21404 non-null  object \n",
      " 16  Country               52564 non-null  object \n",
      " 17  Email                 60410 non-null  object \n",
      " 18  Interaction Comments  32645 non-null  object \n",
      " 19  Unnamed: 18           157 non-null    object \n",
      " 20  source                60457 non-null  object \n",
      " 21  conversation          60457 non-null  object \n",
      " 22  Call End Time         30905 non-null  object \n",
      " 23  Talk time             1244 non-null   object \n",
      " 24  Wrap time             420 non-null    object \n",
      " 25  Direct Phone          5138 non-null   float64\n",
      " 26  Dialed Number         21141 non-null  object \n",
      " 27  Address1              53596 non-null  object \n",
      " 28  Address2              0 non-null      float64\n",
      "dtypes: float64(2), int64(1), object(26)\n",
      "memory usage: 13.4+ MB\n"
     ]
    },
    {
     "name": "stderr",
     "output_type": "stream",
     "text": [
      "/tmp/ipykernel_311331/3195545305.py:1: DtypeWarning: Columns (2,5,12,19) have mixed types. Specify dtype option on import or set low_memory=False.\n",
      "  voicereach_df = pd.read_csv('/home/darshan/Documents/Schneider Electric Data/SE - Voice reach data/voice_reach_data_aggregated.csv')\n"
     ]
    }
   ],
   "source": [
    "voicereach_df = pd.read_csv('/home/darshan/Documents/Schneider Electric Data/SE - Voice reach data/voice_reach_data_aggregated.csv')\n",
    "\n",
    "voicereach_df.info()"
   ]
  },
  {
   "cell_type": "code",
   "execution_count": 4,
   "id": "75af8983-c516-4702-ba0d-4d81d03f816b",
   "metadata": {},
   "outputs": [
    {
     "data": {
      "text/html": [
       "<div>\n",
       "<style scoped>\n",
       "    .dataframe tbody tr th:only-of-type {\n",
       "        vertical-align: middle;\n",
       "    }\n",
       "\n",
       "    .dataframe tbody tr th {\n",
       "        vertical-align: top;\n",
       "    }\n",
       "\n",
       "    .dataframe thead th {\n",
       "        text-align: right;\n",
       "    }\n",
       "</style>\n",
       "<table border=\"1\" class=\"dataframe\">\n",
       "  <thead>\n",
       "    <tr style=\"text-align: right;\">\n",
       "      <th></th>\n",
       "      <th>Unnamed: 0</th>\n",
       "      <th>Sales Rep</th>\n",
       "      <th>Campaign</th>\n",
       "      <th>Date</th>\n",
       "      <th>Call Originate Time</th>\n",
       "      <th>Call Duration</th>\n",
       "      <th>Disposition Code</th>\n",
       "      <th>Company</th>\n",
       "      <th>First Name</th>\n",
       "      <th>Last Name</th>\n",
       "      <th>...</th>\n",
       "      <th>Unnamed: 18</th>\n",
       "      <th>source</th>\n",
       "      <th>conversation</th>\n",
       "      <th>Call End Time</th>\n",
       "      <th>Talk time</th>\n",
       "      <th>Wrap time</th>\n",
       "      <th>Direct Phone</th>\n",
       "      <th>Dialed Number</th>\n",
       "      <th>Address1</th>\n",
       "      <th>Address2</th>\n",
       "    </tr>\n",
       "  </thead>\n",
       "  <tbody>\n",
       "    <tr>\n",
       "      <th>7922</th>\n",
       "      <td>7922</td>\n",
       "      <td>NaN</td>\n",
       "      <td>NaN</td>\n",
       "      <td>2024-07-23</td>\n",
       "      <td>11:36:12</td>\n",
       "      <td>NaN</td>\n",
       "      <td>No RPC (Gatekeeper/ IVR)</td>\n",
       "      <td>Rivian</td>\n",
       "      <td>Michael</td>\n",
       "      <td>Barber</td>\n",
       "      <td>...</td>\n",
       "      <td>NaN</td>\n",
       "      <td>../datasets/Schneider_Electric_Data/SE_Voice_r...</td>\n",
       "      <td>VoiceReach Remote</td>\n",
       "      <td>11:36:41</td>\n",
       "      <td>NaN</td>\n",
       "      <td>NaN</td>\n",
       "      <td>NaN</td>\n",
       "      <td>12482198603</td>\n",
       "      <td>13250 N Haggerty Rd</td>\n",
       "      <td>NaN</td>\n",
       "    </tr>\n",
       "  </tbody>\n",
       "</table>\n",
       "<p>1 rows × 29 columns</p>\n",
       "</div>"
      ],
      "text/plain": [
       "      Unnamed: 0 Sales Rep Campaign        Date Call Originate Time  \\\n",
       "7922        7922       NaN      NaN  2024-07-23            11:36:12   \n",
       "\n",
       "     Call Duration          Disposition Code Company First Name Last Name  \\\n",
       "7922           NaN  No RPC (Gatekeeper/ IVR)  Rivian    Michael    Barber   \n",
       "\n",
       "      ... Unnamed: 18                                             source  \\\n",
       "7922  ...         NaN  ../datasets/Schneider_Electric_Data/SE_Voice_r...   \n",
       "\n",
       "           conversation Call End Time Talk time Wrap time Direct Phone  \\\n",
       "7922  VoiceReach Remote      11:36:41       NaN       NaN          NaN   \n",
       "\n",
       "     Dialed Number             Address1 Address2  \n",
       "7922   12482198603  13250 N Haggerty Rd      NaN  \n",
       "\n",
       "[1 rows x 29 columns]"
      ]
     },
     "execution_count": 4,
     "metadata": {},
     "output_type": "execute_result"
    }
   ],
   "source": [
    "voicereach_df.sample()"
   ]
  },
  {
   "cell_type": "code",
   "execution_count": null,
   "id": "ae94483d-a32d-4ecc-a08e-04b34e215964",
   "metadata": {},
   "outputs": [],
   "source": []
  }
 ],
 "metadata": {
  "kernelspec": {
   "display_name": "Python 3 (ipykernel)",
   "language": "python",
   "name": "python3"
  },
  "language_info": {
   "codemirror_mode": {
    "name": "ipython",
    "version": 3
   },
   "file_extension": ".py",
   "mimetype": "text/x-python",
   "name": "python",
   "nbconvert_exporter": "python",
   "pygments_lexer": "ipython3",
   "version": "3.13.2"
  }
 },
 "nbformat": 4,
 "nbformat_minor": 5
}
