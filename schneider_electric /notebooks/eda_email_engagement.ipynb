{
 "cells": [
  {
   "cell_type": "code",
   "execution_count": 62,
   "id": "51e307e2-e738-4ef5-907c-d193d4219c0f",
   "metadata": {},
   "outputs": [],
   "source": [
    "import pandas as pd"
   ]
  },
  {
   "cell_type": "code",
   "execution_count": 100,
   "id": "f12738f1-fa03-4994-8b3a-38bb1afa5b5c",
   "metadata": {},
   "outputs": [
    {
     "name": "stdout",
     "output_type": "stream",
     "text": [
      "<class 'pandas.core.frame.DataFrame'>\n",
      "RangeIndex: 1018 entries, 0 to 1017\n",
      "Data columns (total 25 columns):\n",
      " #   Column                                 Non-Null Count  Dtype \n",
      "---  ------                                 --------------  ----- \n",
      " 0   Unnamed: 0                             1018 non-null   int64 \n",
      " 1   Date                                   1017 non-null   object\n",
      " 2   Campaign Type                          1018 non-null   object\n",
      " 3   Campaign Name                          998 non-null    object\n",
      " 4   Domain                                 1018 non-null   object\n",
      " 5   Lead type                              1018 non-null   object\n",
      " 6   If Disqualified - WHY?                 949 non-null    object\n",
      " 7   Any meeting/ prospect update comments  944 non-null    object\n",
      " 8   First name                             1018 non-null   object\n",
      " 9   Last name                              1018 non-null   object\n",
      " 10  Employee Title                         1015 non-null   object\n",
      " 11  Company Name                           1017 non-null   object\n",
      " 12  Corporate Email Address                859 non-null    object\n",
      " 13  Personal Email id                      927 non-null    object\n",
      " 14  Phone                                  1010 non-null   object\n",
      " 15  Direct/Mobile                          1016 non-null   object\n",
      " 16  Industry                               1018 non-null   object\n",
      " 17  Annual Revenue                         1017 non-null   object\n",
      " 18  Employee Size                          1018 non-null   object\n",
      " 19  Interaction Comments                   313 non-null    object\n",
      " 20  Source                                 136 non-null    object\n",
      " 21  filled_survey_form                     1018 non-null   int64 \n",
      " 22  is_duplicated_survey_form              1018 non-null   int64 \n",
      " 23  Email                                  1017 non-null   object\n",
      " 24  campaign_type                          1018 non-null   object\n",
      "dtypes: int64(3), object(22)\n",
      "memory usage: 199.0+ KB\n"
     ]
    }
   ],
   "source": [
    "df_hql = pd.read_csv('/home/darshan/Documents/Schneider Electric Data/hql.csv')\n",
    "df_hql.info()"
   ]
  },
  {
   "cell_type": "code",
   "execution_count": 101,
   "id": "df2ad2c0-9a75-44d1-b578-7ce0473ee928",
   "metadata": {},
   "outputs": [
    {
     "data": {
      "text/html": [
       "<div>\n",
       "<style scoped>\n",
       "    .dataframe tbody tr th:only-of-type {\n",
       "        vertical-align: middle;\n",
       "    }\n",
       "\n",
       "    .dataframe tbody tr th {\n",
       "        vertical-align: top;\n",
       "    }\n",
       "\n",
       "    .dataframe thead th {\n",
       "        text-align: right;\n",
       "    }\n",
       "</style>\n",
       "<table border=\"1\" class=\"dataframe\">\n",
       "  <thead>\n",
       "    <tr style=\"text-align: right;\">\n",
       "      <th></th>\n",
       "      <th>Unnamed: 0</th>\n",
       "      <th>Date</th>\n",
       "      <th>Campaign Type</th>\n",
       "      <th>Campaign Name</th>\n",
       "      <th>Domain</th>\n",
       "      <th>Lead type</th>\n",
       "      <th>If Disqualified - WHY?</th>\n",
       "      <th>Any meeting/ prospect update comments</th>\n",
       "      <th>First name</th>\n",
       "      <th>Last name</th>\n",
       "      <th>...</th>\n",
       "      <th>Direct/Mobile</th>\n",
       "      <th>Industry</th>\n",
       "      <th>Annual Revenue</th>\n",
       "      <th>Employee Size</th>\n",
       "      <th>Interaction Comments</th>\n",
       "      <th>Source</th>\n",
       "      <th>filled_survey_form</th>\n",
       "      <th>is_duplicated_survey_form</th>\n",
       "      <th>Email</th>\n",
       "      <th>campaign_type</th>\n",
       "    </tr>\n",
       "  </thead>\n",
       "  <tbody>\n",
       "    <tr>\n",
       "      <th>0</th>\n",
       "      <td>965</td>\n",
       "      <td>2023-12-14 00:00:00+00:00</td>\n",
       "      <td>Email Campaign</td>\n",
       "      <td>SE_13_DEC_2023_HappyHolidays</td>\n",
       "      <td>Insight Lab</td>\n",
       "      <td>HQL</td>\n",
       "      <td>NaN</td>\n",
       "      <td>NaN</td>\n",
       "      <td>Andrew</td>\n",
       "      <td>Milner</td>\n",
       "      <td>...</td>\n",
       "      <td>(503) 544-8162</td>\n",
       "      <td>Utilities</td>\n",
       "      <td>$7.9 Billion</td>\n",
       "      <td>7579</td>\n",
       "      <td>NaN</td>\n",
       "      <td>Tom Data</td>\n",
       "      <td>1</td>\n",
       "      <td>0</td>\n",
       "      <td>andrew.milner@avangrid.com</td>\n",
       "      <td>Email</td>\n",
       "    </tr>\n",
       "    <tr>\n",
       "      <th>1</th>\n",
       "      <td>968</td>\n",
       "      <td>2023-12-15 00:00:00+00:00</td>\n",
       "      <td>Email Campaign</td>\n",
       "      <td>SE_13_DEC_2023_HappyHolidays</td>\n",
       "      <td>Insight Lab</td>\n",
       "      <td>HQL</td>\n",
       "      <td>NaN</td>\n",
       "      <td>NaN</td>\n",
       "      <td>Sebastian</td>\n",
       "      <td>Gomez</td>\n",
       "      <td>...</td>\n",
       "      <td>(631) 560-8834</td>\n",
       "      <td>Utilities</td>\n",
       "      <td>$21 Billion</td>\n",
       "      <td>30756</td>\n",
       "      <td>NaN</td>\n",
       "      <td>Tom Data</td>\n",
       "      <td>1</td>\n",
       "      <td>0</td>\n",
       "      <td>sebastian.gomez@nationalgrid.com</td>\n",
       "      <td>Email</td>\n",
       "    </tr>\n",
       "    <tr>\n",
       "      <th>2</th>\n",
       "      <td>970</td>\n",
       "      <td>2023-12-15 00:00:00+00:00</td>\n",
       "      <td>Email Campaign</td>\n",
       "      <td>SE_13_DEC_2023_HappyHolidays</td>\n",
       "      <td>Insight Lab</td>\n",
       "      <td>HQL</td>\n",
       "      <td>NaN</td>\n",
       "      <td>NaN</td>\n",
       "      <td>Amol</td>\n",
       "      <td>Kaulgud</td>\n",
       "      <td>...</td>\n",
       "      <td>(203) 895-9106</td>\n",
       "      <td>Utilities</td>\n",
       "      <td>$12.3 Billion</td>\n",
       "      <td>9626</td>\n",
       "      <td>NaN</td>\n",
       "      <td>Tom Data</td>\n",
       "      <td>1</td>\n",
       "      <td>0</td>\n",
       "      <td>amol.kaulgud@eversource.com</td>\n",
       "      <td>Email</td>\n",
       "    </tr>\n",
       "    <tr>\n",
       "      <th>3</th>\n",
       "      <td>969</td>\n",
       "      <td>2023-12-15 00:00:00+00:00</td>\n",
       "      <td>Email Campaign</td>\n",
       "      <td>SE_13_DEC_2023_HappyHolidays</td>\n",
       "      <td>Insight Lab</td>\n",
       "      <td>HQL</td>\n",
       "      <td>NaN</td>\n",
       "      <td>NaN</td>\n",
       "      <td>Michael</td>\n",
       "      <td>Fraga</td>\n",
       "      <td>...</td>\n",
       "      <td>(413) 222-3764</td>\n",
       "      <td>Utilities</td>\n",
       "      <td>$12.3 Billion</td>\n",
       "      <td>9626</td>\n",
       "      <td>NaN</td>\n",
       "      <td>Tom Data</td>\n",
       "      <td>1</td>\n",
       "      <td>0</td>\n",
       "      <td>michael.fraga@eversource.com</td>\n",
       "      <td>Email</td>\n",
       "    </tr>\n",
       "    <tr>\n",
       "      <th>4</th>\n",
       "      <td>967</td>\n",
       "      <td>2023-12-15 00:00:00+00:00</td>\n",
       "      <td>Email Campaign</td>\n",
       "      <td>SE_13_DEC_2023_HappyHolidays</td>\n",
       "      <td>Insight Lab</td>\n",
       "      <td>HQL</td>\n",
       "      <td>NaN</td>\n",
       "      <td>NaN</td>\n",
       "      <td>Eric</td>\n",
       "      <td>Falcone</td>\n",
       "      <td>...</td>\n",
       "      <td>(413) 787-9550</td>\n",
       "      <td>Utilities</td>\n",
       "      <td>$12.3 Billion</td>\n",
       "      <td>9626</td>\n",
       "      <td>NaN</td>\n",
       "      <td>Tom Data</td>\n",
       "      <td>1</td>\n",
       "      <td>0</td>\n",
       "      <td>eric.falcone@eversource.com</td>\n",
       "      <td>Email</td>\n",
       "    </tr>\n",
       "  </tbody>\n",
       "</table>\n",
       "<p>5 rows × 25 columns</p>\n",
       "</div>"
      ],
      "text/plain": [
       "   Unnamed: 0                       Date   Campaign Type  \\\n",
       "0         965  2023-12-14 00:00:00+00:00  Email Campaign   \n",
       "1         968  2023-12-15 00:00:00+00:00  Email Campaign   \n",
       "2         970  2023-12-15 00:00:00+00:00  Email Campaign   \n",
       "3         969  2023-12-15 00:00:00+00:00  Email Campaign   \n",
       "4         967  2023-12-15 00:00:00+00:00  Email Campaign   \n",
       "\n",
       "                  Campaign Name       Domain Lead type If Disqualified - WHY?  \\\n",
       "0  SE_13_DEC_2023_HappyHolidays  Insight Lab       HQL                    NaN   \n",
       "1  SE_13_DEC_2023_HappyHolidays  Insight Lab       HQL                    NaN   \n",
       "2  SE_13_DEC_2023_HappyHolidays  Insight Lab       HQL                    NaN   \n",
       "3  SE_13_DEC_2023_HappyHolidays  Insight Lab       HQL                    NaN   \n",
       "4  SE_13_DEC_2023_HappyHolidays  Insight Lab       HQL                    NaN   \n",
       "\n",
       "  Any meeting/ prospect update comments First name Last name  ...  \\\n",
       "0                                   NaN     Andrew    Milner  ...   \n",
       "1                                   NaN  Sebastian     Gomez  ...   \n",
       "2                                   NaN       Amol   Kaulgud  ...   \n",
       "3                                   NaN    Michael     Fraga  ...   \n",
       "4                                   NaN       Eric   Falcone  ...   \n",
       "\n",
       "    Direct/Mobile   Industry Annual Revenue Employee Size  \\\n",
       "0  (503) 544-8162  Utilities   $7.9 Billion          7579   \n",
       "1  (631) 560-8834  Utilities    $21 Billion         30756   \n",
       "2  (203) 895-9106  Utilities  $12.3 Billion          9626   \n",
       "3  (413) 222-3764  Utilities  $12.3 Billion          9626   \n",
       "4  (413) 787-9550  Utilities  $12.3 Billion          9626   \n",
       "\n",
       "  Interaction Comments    Source filled_survey_form is_duplicated_survey_form  \\\n",
       "0                  NaN  Tom Data                  1                         0   \n",
       "1                  NaN  Tom Data                  1                         0   \n",
       "2                  NaN  Tom Data                  1                         0   \n",
       "3                  NaN  Tom Data                  1                         0   \n",
       "4                  NaN  Tom Data                  1                         0   \n",
       "\n",
       "                              Email campaign_type  \n",
       "0        andrew.milner@avangrid.com         Email  \n",
       "1  sebastian.gomez@nationalgrid.com         Email  \n",
       "2       amol.kaulgud@eversource.com         Email  \n",
       "3      michael.fraga@eversource.com         Email  \n",
       "4       eric.falcone@eversource.com         Email  \n",
       "\n",
       "[5 rows x 25 columns]"
      ]
     },
     "execution_count": 101,
     "metadata": {},
     "output_type": "execute_result"
    }
   ],
   "source": [
    "df_hql.head()"
   ]
  },
  {
   "cell_type": "code",
   "execution_count": 102,
   "id": "ff112303-715c-4d8d-b434-32d096832ba7",
   "metadata": {},
   "outputs": [
    {
     "data": {
      "text/plain": [
       "array(['Email', 'LinkedIn', 'VoiceReach', 'Other'], dtype=object)"
      ]
     },
     "execution_count": 102,
     "metadata": {},
     "output_type": "execute_result"
    }
   ],
   "source": [
    "df_hql['campaign_type'].unique()"
   ]
  },
  {
   "cell_type": "code",
   "execution_count": 103,
   "id": "c7661217-8d14-42a7-9575-2671492fbbda",
   "metadata": {},
   "outputs": [
    {
     "data": {
      "text/plain": [
       "campaign_type\n",
       "LinkedIn      516\n",
       "Email         419\n",
       "VoiceReach     48\n",
       "Other          35\n",
       "Name: count, dtype: int64"
      ]
     },
     "execution_count": 103,
     "metadata": {},
     "output_type": "execute_result"
    }
   ],
   "source": [
    "df_hql['campaign_type'].value_counts()"
   ]
  },
  {
   "cell_type": "code",
   "execution_count": 104,
   "id": "622c9fdc-b1c8-4fae-b3e7-e7fc7386c28b",
   "metadata": {},
   "outputs": [
    {
     "data": {
      "text/plain": [
       "(419, 25)"
      ]
     },
     "execution_count": 104,
     "metadata": {},
     "output_type": "execute_result"
    }
   ],
   "source": [
    "df_hql_email = df_hql[df_hql['campaign_type'] == 'Email']\n",
    "df_hql_email.shape"
   ]
  },
  {
   "cell_type": "code",
   "execution_count": 105,
   "id": "459641b2-5df1-4862-b8b1-5c52c04d2373",
   "metadata": {},
   "outputs": [],
   "source": [
    "df_hql_email.loc[:, 'Email'] = df_hql_email['Email'].str.lower().str.strip()"
   ]
  },
  {
   "cell_type": "code",
   "execution_count": 118,
   "id": "878cadde-83b9-4209-8dbe-54d57893ca26",
   "metadata": {},
   "outputs": [
    {
     "data": {
      "text/plain": [
       "396"
      ]
     },
     "execution_count": 118,
     "metadata": {},
     "output_type": "execute_result"
    }
   ],
   "source": [
    "df_hql_email['Email'].nunique()"
   ]
  },
  {
   "cell_type": "code",
   "execution_count": null,
   "id": "7b3169dc-12f4-48e5-8429-d4af88f96155",
   "metadata": {},
   "outputs": [],
   "source": []
  },
  {
   "cell_type": "code",
   "execution_count": null,
   "id": "4c52bc10-f020-4549-9917-42d99057ece7",
   "metadata": {},
   "outputs": [],
   "source": []
  },
  {
   "cell_type": "code",
   "execution_count": null,
   "id": "e0808c52-9628-41a3-8614-91f4436794ea",
   "metadata": {},
   "outputs": [],
   "source": []
  },
  {
   "cell_type": "code",
   "execution_count": 4,
   "id": "f60ab438-70f7-4ad6-9d2b-8d0796bd605d",
   "metadata": {},
   "outputs": [
    {
     "name": "stdout",
     "output_type": "stream",
     "text": [
      "<class 'pandas.core.frame.DataFrame'>\n",
      "RangeIndex: 6752530 entries, 0 to 6752529\n",
      "Data columns (total 30 columns):\n",
      " #   Column            Dtype \n",
      "---  ------            ----- \n",
      " 0   Unnamed: 0        int64 \n",
      " 1   FirstName         object\n",
      " 2   CompanyName       object\n",
      " 3   mail              object\n",
      " 4   Email             object\n",
      " 5   CTA               object\n",
      " 6   Domain            object\n",
      " 7   ID                object\n",
      " 8   source            object\n",
      " 9   date              object\n",
      " 10  raw_status        object\n",
      " 11  status            object\n",
      " 12  status_time       object\n",
      " 13  reason            object\n",
      " 14  status_time_utc   object\n",
      " 15  derived_mail      object\n",
      " 16  derived_email     object\n",
      " 17  is_email_sent     int64 \n",
      " 18  is_email_clicked  int64 \n",
      " 19  is_email_opened   int64 \n",
      " 20  is_responded      int64 \n",
      " 21  is_bounced        int64 \n",
      " 22  is_unsubscribed   int64 \n",
      " 23  is_mail_not_sent  int64 \n",
      " 24  is_scheduled      int64 \n",
      " 25  2_weeks_ago       object\n",
      " 26  4_weeks_ago       object\n",
      " 27  8_weeks_ago       object\n",
      " 28  12_weeks_ago      object\n",
      " 29  day_of_week       object\n",
      "dtypes: int64(9), object(21)\n",
      "memory usage: 1.5+ GB\n"
     ]
    }
   ],
   "source": [
    "df_email_enagement = pd.read_csv('/home/darshan/Documents/Schneider Electric Data/temp_email_engagements.csv')\n",
    "df_email_enagement.info()"
   ]
  },
  {
   "cell_type": "code",
   "execution_count": 107,
   "id": "2b82d328-f491-46c4-b83f-6771245f6e8a",
   "metadata": {},
   "outputs": [],
   "source": [
    "df_email_enagement.loc[:, 'derived_mail'] = df_email_enagement['derived_mail'].str.lower().str.strip()"
   ]
  },
  {
   "cell_type": "code",
   "execution_count": null,
   "id": "039c9291-12b1-41d3-9d20-1b926369a7ce",
   "metadata": {},
   "outputs": [],
   "source": []
  },
  {
   "cell_type": "code",
   "execution_count": null,
   "id": "a9624fc2-7324-486c-b485-7a1140d557ad",
   "metadata": {},
   "outputs": [],
   "source": []
  },
  {
   "cell_type": "code",
   "execution_count": null,
   "id": "76776e97-96b5-41ea-b9ff-3d31d2974993",
   "metadata": {},
   "outputs": [],
   "source": []
  },
  {
   "cell_type": "code",
   "execution_count": null,
   "id": "37197a2e-433a-40b9-9404-2797c7f097ff",
   "metadata": {},
   "outputs": [],
   "source": []
  },
  {
   "cell_type": "markdown",
   "id": "6fa534d6-d59e-4c82-a4c5-f2f8c50442b2",
   "metadata": {},
   "source": []
  },
  {
   "cell_type": "code",
   "execution_count": 130,
   "id": "f1cee49a-ea03-4fe7-8e88-8146c6d1a661",
   "metadata": {},
   "outputs": [
    {
     "name": "stdout",
     "output_type": "stream",
     "text": [
      "<class 'pandas.core.frame.DataFrame'>\n",
      "Index: 10718 entries, 11853 to 6715961\n",
      "Data columns (total 30 columns):\n",
      " #   Column            Non-Null Count  Dtype \n",
      "---  ------            --------------  ----- \n",
      " 0   Unnamed: 0        10718 non-null  int64 \n",
      " 1   FirstName         10718 non-null  object\n",
      " 2   CompanyName       10718 non-null  object\n",
      " 3   mail              10718 non-null  object\n",
      " 4   Email             10718 non-null  object\n",
      " 5   CTA               10718 non-null  object\n",
      " 6   Domain            10718 non-null  object\n",
      " 7   ID                10718 non-null  object\n",
      " 8   source            10718 non-null  object\n",
      " 9   date              10718 non-null  object\n",
      " 10  raw_status        10672 non-null  object\n",
      " 11  status            10672 non-null  object\n",
      " 12  status_time       7814 non-null   object\n",
      " 13  reason            16 non-null     object\n",
      " 14  status_time_utc   7814 non-null   object\n",
      " 15  derived_mail      10718 non-null  object\n",
      " 16  derived_email     10718 non-null  object\n",
      " 17  is_email_sent     10718 non-null  int64 \n",
      " 18  is_email_clicked  10718 non-null  int64 \n",
      " 19  is_email_opened   10718 non-null  int64 \n",
      " 20  is_responded      10718 non-null  int64 \n",
      " 21  is_bounced        10718 non-null  int64 \n",
      " 22  is_unsubscribed   10718 non-null  int64 \n",
      " 23  is_mail_not_sent  10718 non-null  int64 \n",
      " 24  is_scheduled      10718 non-null  int64 \n",
      " 25  2_weeks_ago       10718 non-null  object\n",
      " 26  4_weeks_ago       10718 non-null  object\n",
      " 27  8_weeks_ago       10718 non-null  object\n",
      " 28  12_weeks_ago      10718 non-null  object\n",
      " 29  day_of_week       7814 non-null   object\n",
      "dtypes: int64(9), object(21)\n",
      "memory usage: 2.5+ MB\n"
     ]
    }
   ],
   "source": [
    "df_email_enagement_hql = df_email_enagement[df_email_enagement['derived_mail'].isin(df_hql_email['Email'])]\n",
    "\n",
    "df_email_enagement_hql.info()"
   ]
  },
  {
   "cell_type": "code",
   "execution_count": 131,
   "id": "559aaf1c-383d-40fc-b8fa-195b46a2ee96",
   "metadata": {},
   "outputs": [
    {
     "data": {
      "text/html": [
       "<div>\n",
       "<style scoped>\n",
       "    .dataframe tbody tr th:only-of-type {\n",
       "        vertical-align: middle;\n",
       "    }\n",
       "\n",
       "    .dataframe tbody tr th {\n",
       "        vertical-align: top;\n",
       "    }\n",
       "\n",
       "    .dataframe thead th {\n",
       "        text-align: right;\n",
       "    }\n",
       "</style>\n",
       "<table border=\"1\" class=\"dataframe\">\n",
       "  <thead>\n",
       "    <tr style=\"text-align: right;\">\n",
       "      <th></th>\n",
       "      <th>Unnamed: 0</th>\n",
       "      <th>FirstName</th>\n",
       "      <th>CompanyName</th>\n",
       "      <th>mail</th>\n",
       "      <th>Email</th>\n",
       "      <th>CTA</th>\n",
       "      <th>Domain</th>\n",
       "      <th>ID</th>\n",
       "      <th>source</th>\n",
       "      <th>date</th>\n",
       "      <th>...</th>\n",
       "      <th>is_responded</th>\n",
       "      <th>is_bounced</th>\n",
       "      <th>is_unsubscribed</th>\n",
       "      <th>is_mail_not_sent</th>\n",
       "      <th>is_scheduled</th>\n",
       "      <th>2_weeks_ago</th>\n",
       "      <th>4_weeks_ago</th>\n",
       "      <th>8_weeks_ago</th>\n",
       "      <th>12_weeks_ago</th>\n",
       "      <th>day_of_week</th>\n",
       "    </tr>\n",
       "  </thead>\n",
       "  <tbody>\n",
       "    <tr>\n",
       "      <th>11853</th>\n",
       "      <td>3384969</td>\n",
       "      <td>Aamir</td>\n",
       "      <td>AMD</td>\n",
       "      <td>aamir.hamid@amd.com</td>\n",
       "      <td>aamir.hamid@amd.com # yammid-1722869677129/191...</td>\n",
       "      <td>se.adeptpanels.com/semiconductor/?utm_source=d...</td>\n",
       "      <td>Catherine Howell</td>\n",
       "      <td>catherine.howell@adeptpanels.com</td>\n",
       "      <td>July 2024/Schneider_SemiConductor_del5_6_31Jul...</td>\n",
       "      <td>2024-07-31 00:00:00</td>\n",
       "      <td>...</td>\n",
       "      <td>0</td>\n",
       "      <td>0</td>\n",
       "      <td>0</td>\n",
       "      <td>0</td>\n",
       "      <td>0</td>\n",
       "      <td>2025-02-14 00:00:00+00:00</td>\n",
       "      <td>2025-01-31 00:00:00+00:00</td>\n",
       "      <td>2025-01-03 00:00:00+00:00</td>\n",
       "      <td>2024-12-06 00:00:00+00:00</td>\n",
       "      <td>Wednesday</td>\n",
       "    </tr>\n",
       "    <tr>\n",
       "      <th>11854</th>\n",
       "      <td>4412314</td>\n",
       "      <td>Aamir</td>\n",
       "      <td>AMD</td>\n",
       "      <td>aamir.hamid@amd.com</td>\n",
       "      <td>aamir.hamid@amd.com # yammid-1722869677129/191...</td>\n",
       "      <td>se.adeptpanels.com/semiconductor/?utm_source=d...</td>\n",
       "      <td>Catherine Howell</td>\n",
       "      <td>catherine.howell@adeptpanels.com</td>\n",
       "      <td>August 2024/Schneider_SemiConductor_del5_6_31J...</td>\n",
       "      <td>2024-07-31 00:00:00</td>\n",
       "      <td>...</td>\n",
       "      <td>0</td>\n",
       "      <td>0</td>\n",
       "      <td>0</td>\n",
       "      <td>0</td>\n",
       "      <td>0</td>\n",
       "      <td>2025-02-14 00:00:00+00:00</td>\n",
       "      <td>2025-01-31 00:00:00+00:00</td>\n",
       "      <td>2025-01-03 00:00:00+00:00</td>\n",
       "      <td>2024-12-06 00:00:00+00:00</td>\n",
       "      <td>Wednesday</td>\n",
       "    </tr>\n",
       "    <tr>\n",
       "      <th>11855</th>\n",
       "      <td>3386469</td>\n",
       "      <td>Aamir</td>\n",
       "      <td>AMD</td>\n",
       "      <td>aamir.hamid@amd.com</td>\n",
       "      <td>aamir.hamid@amd.com # yammid-1722869677129/191...</td>\n",
       "      <td>se.adeptpanels.com/semiconductor/?utm_source=d...</td>\n",
       "      <td>Catherine Howell</td>\n",
       "      <td>catherine.howell@adeptpanels.com</td>\n",
       "      <td>July 2024/Schneider_SemiConductor_del5_6_31Jul...</td>\n",
       "      <td>2024-08-01 00:00:00</td>\n",
       "      <td>...</td>\n",
       "      <td>0</td>\n",
       "      <td>0</td>\n",
       "      <td>0</td>\n",
       "      <td>0</td>\n",
       "      <td>0</td>\n",
       "      <td>2025-02-14 00:00:00+00:00</td>\n",
       "      <td>2025-01-31 00:00:00+00:00</td>\n",
       "      <td>2025-01-03 00:00:00+00:00</td>\n",
       "      <td>2024-12-06 00:00:00+00:00</td>\n",
       "      <td>Thursday</td>\n",
       "    </tr>\n",
       "    <tr>\n",
       "      <th>11856</th>\n",
       "      <td>4413814</td>\n",
       "      <td>Aamir</td>\n",
       "      <td>AMD</td>\n",
       "      <td>aamir.hamid@amd.com</td>\n",
       "      <td>aamir.hamid@amd.com # yammid-1722869677129/191...</td>\n",
       "      <td>se.adeptpanels.com/semiconductor/?utm_source=d...</td>\n",
       "      <td>Catherine Howell</td>\n",
       "      <td>catherine.howell@adeptpanels.com</td>\n",
       "      <td>August 2024/Schneider_SemiConductor_del5_6_31J...</td>\n",
       "      <td>2024-08-01 00:00:00</td>\n",
       "      <td>...</td>\n",
       "      <td>0</td>\n",
       "      <td>0</td>\n",
       "      <td>0</td>\n",
       "      <td>0</td>\n",
       "      <td>0</td>\n",
       "      <td>2025-02-14 00:00:00+00:00</td>\n",
       "      <td>2025-01-31 00:00:00+00:00</td>\n",
       "      <td>2025-01-03 00:00:00+00:00</td>\n",
       "      <td>2024-12-06 00:00:00+00:00</td>\n",
       "      <td>Thursday</td>\n",
       "    </tr>\n",
       "    <tr>\n",
       "      <th>11857</th>\n",
       "      <td>3387969</td>\n",
       "      <td>Aamir</td>\n",
       "      <td>AMD</td>\n",
       "      <td>aamir.hamid@amd.com</td>\n",
       "      <td>aamir.hamid@amd.com # yammid-1722869677129/191...</td>\n",
       "      <td>se.adeptpanels.com/semiconductor/?utm_source=d...</td>\n",
       "      <td>Catherine Howell</td>\n",
       "      <td>catherine.howell@adeptpanels.com</td>\n",
       "      <td>July 2024/Schneider_SemiConductor_del5_6_31Jul...</td>\n",
       "      <td>2024-08-02 00:00:00</td>\n",
       "      <td>...</td>\n",
       "      <td>0</td>\n",
       "      <td>0</td>\n",
       "      <td>0</td>\n",
       "      <td>0</td>\n",
       "      <td>0</td>\n",
       "      <td>2025-02-14 00:00:00+00:00</td>\n",
       "      <td>2025-01-31 00:00:00+00:00</td>\n",
       "      <td>2025-01-03 00:00:00+00:00</td>\n",
       "      <td>2024-12-06 00:00:00+00:00</td>\n",
       "      <td>Friday</td>\n",
       "    </tr>\n",
       "  </tbody>\n",
       "</table>\n",
       "<p>5 rows × 30 columns</p>\n",
       "</div>"
      ],
      "text/plain": [
       "       Unnamed: 0 FirstName CompanyName                 mail  \\\n",
       "11853     3384969     Aamir         AMD  aamir.hamid@amd.com   \n",
       "11854     4412314     Aamir         AMD  aamir.hamid@amd.com   \n",
       "11855     3386469     Aamir         AMD  aamir.hamid@amd.com   \n",
       "11856     4413814     Aamir         AMD  aamir.hamid@amd.com   \n",
       "11857     3387969     Aamir         AMD  aamir.hamid@amd.com   \n",
       "\n",
       "                                                   Email  \\\n",
       "11853  aamir.hamid@amd.com # yammid-1722869677129/191...   \n",
       "11854  aamir.hamid@amd.com # yammid-1722869677129/191...   \n",
       "11855  aamir.hamid@amd.com # yammid-1722869677129/191...   \n",
       "11856  aamir.hamid@amd.com # yammid-1722869677129/191...   \n",
       "11857  aamir.hamid@amd.com # yammid-1722869677129/191...   \n",
       "\n",
       "                                                     CTA            Domain  \\\n",
       "11853  se.adeptpanels.com/semiconductor/?utm_source=d...  Catherine Howell   \n",
       "11854  se.adeptpanels.com/semiconductor/?utm_source=d...  Catherine Howell   \n",
       "11855  se.adeptpanels.com/semiconductor/?utm_source=d...  Catherine Howell   \n",
       "11856  se.adeptpanels.com/semiconductor/?utm_source=d...  Catherine Howell   \n",
       "11857  se.adeptpanels.com/semiconductor/?utm_source=d...  Catherine Howell   \n",
       "\n",
       "                                     ID  \\\n",
       "11853  catherine.howell@adeptpanels.com   \n",
       "11854  catherine.howell@adeptpanels.com   \n",
       "11855  catherine.howell@adeptpanels.com   \n",
       "11856  catherine.howell@adeptpanels.com   \n",
       "11857  catherine.howell@adeptpanels.com   \n",
       "\n",
       "                                                  source                 date  \\\n",
       "11853  July 2024/Schneider_SemiConductor_del5_6_31Jul...  2024-07-31 00:00:00   \n",
       "11854  August 2024/Schneider_SemiConductor_del5_6_31J...  2024-07-31 00:00:00   \n",
       "11855  July 2024/Schneider_SemiConductor_del5_6_31Jul...  2024-08-01 00:00:00   \n",
       "11856  August 2024/Schneider_SemiConductor_del5_6_31J...  2024-08-01 00:00:00   \n",
       "11857  July 2024/Schneider_SemiConductor_del5_6_31Jul...  2024-08-02 00:00:00   \n",
       "\n",
       "       ... is_responded is_bounced is_unsubscribed is_mail_not_sent  \\\n",
       "11853  ...            0          0               0                0   \n",
       "11854  ...            0          0               0                0   \n",
       "11855  ...            0          0               0                0   \n",
       "11856  ...            0          0               0                0   \n",
       "11857  ...            0          0               0                0   \n",
       "\n",
       "      is_scheduled                2_weeks_ago                4_weeks_ago  \\\n",
       "11853            0  2025-02-14 00:00:00+00:00  2025-01-31 00:00:00+00:00   \n",
       "11854            0  2025-02-14 00:00:00+00:00  2025-01-31 00:00:00+00:00   \n",
       "11855            0  2025-02-14 00:00:00+00:00  2025-01-31 00:00:00+00:00   \n",
       "11856            0  2025-02-14 00:00:00+00:00  2025-01-31 00:00:00+00:00   \n",
       "11857            0  2025-02-14 00:00:00+00:00  2025-01-31 00:00:00+00:00   \n",
       "\n",
       "                     8_weeks_ago               12_weeks_ago  day_of_week  \n",
       "11853  2025-01-03 00:00:00+00:00  2024-12-06 00:00:00+00:00    Wednesday  \n",
       "11854  2025-01-03 00:00:00+00:00  2024-12-06 00:00:00+00:00    Wednesday  \n",
       "11855  2025-01-03 00:00:00+00:00  2024-12-06 00:00:00+00:00     Thursday  \n",
       "11856  2025-01-03 00:00:00+00:00  2024-12-06 00:00:00+00:00     Thursday  \n",
       "11857  2025-01-03 00:00:00+00:00  2024-12-06 00:00:00+00:00       Friday  \n",
       "\n",
       "[5 rows x 30 columns]"
      ]
     },
     "execution_count": 131,
     "metadata": {},
     "output_type": "execute_result"
    }
   ],
   "source": [
    "df_email_enagement_hql.head()"
   ]
  },
  {
   "cell_type": "code",
   "execution_count": 132,
   "id": "d019e208-fd37-44ca-bccd-664eb316d715",
   "metadata": {},
   "outputs": [
    {
     "data": {
      "text/plain": [
       "294"
      ]
     },
     "execution_count": 132,
     "metadata": {},
     "output_type": "execute_result"
    }
   ],
   "source": [
    "df_email_enagement_hql['derived_mail'].nunique()"
   ]
  },
  {
   "cell_type": "code",
   "execution_count": 133,
   "id": "b6626ca8-ec72-4eed-add0-62fbf0c324df",
   "metadata": {},
   "outputs": [
    {
     "data": {
      "text/plain": [
       "array([0, 1])"
      ]
     },
     "execution_count": 133,
     "metadata": {},
     "output_type": "execute_result"
    }
   ],
   "source": [
    "df_email_enagement_hql['is_email_clicked'].unique()"
   ]
  },
  {
   "cell_type": "code",
   "execution_count": 134,
   "id": "a99fd7c3-9776-4ce5-806c-57b332df45a5",
   "metadata": {},
   "outputs": [
    {
     "data": {
      "text/plain": [
       "array([0, 1])"
      ]
     },
     "execution_count": 134,
     "metadata": {},
     "output_type": "execute_result"
    }
   ],
   "source": [
    "df_email_enagement_hql['is_email_opened'].unique()"
   ]
  },
  {
   "cell_type": "code",
   "execution_count": null,
   "id": "8189993a-0efa-414a-b875-81955e64bfb7",
   "metadata": {},
   "outputs": [],
   "source": []
  },
  {
   "cell_type": "code",
   "execution_count": 135,
   "id": "7e1fad0d-5b4b-472f-ae83-9c1a282ab7f3",
   "metadata": {},
   "outputs": [],
   "source": [
    "aggregated_df = df_email_enagement_hql.groupby('derived_mail').agg({\n",
    "    'FirstName': 'first',\n",
    "    'is_email_clicked': 'max',\n",
    "    'is_email_opened': 'max'\n",
    "}).reset_index()"
   ]
  },
  {
   "cell_type": "code",
   "execution_count": 136,
   "id": "7335c0c0-6a38-40a0-8f21-e8230b6d56a8",
   "metadata": {},
   "outputs": [
    {
     "name": "stdout",
     "output_type": "stream",
     "text": [
      "<class 'pandas.core.frame.DataFrame'>\n",
      "RangeIndex: 294 entries, 0 to 293\n",
      "Data columns (total 4 columns):\n",
      " #   Column            Non-Null Count  Dtype \n",
      "---  ------            --------------  ----- \n",
      " 0   derived_mail      294 non-null    object\n",
      " 1   FirstName         294 non-null    object\n",
      " 2   is_email_clicked  294 non-null    int64 \n",
      " 3   is_email_opened   294 non-null    int64 \n",
      "dtypes: int64(2), object(2)\n",
      "memory usage: 9.3+ KB\n"
     ]
    }
   ],
   "source": [
    "aggregated_df.info()"
   ]
  },
  {
   "cell_type": "code",
   "execution_count": null,
   "id": "aa00b8d2-bb4e-481d-86ed-a4444acbb60b",
   "metadata": {},
   "outputs": [],
   "source": []
  },
  {
   "cell_type": "code",
   "execution_count": 138,
   "id": "22b5098e-b07e-4143-ba1d-96690af1cd06",
   "metadata": {},
   "outputs": [
    {
     "name": "stdout",
     "output_type": "stream",
     "text": [
      "<class 'pandas.core.frame.DataFrame'>\n",
      "RangeIndex: 396 entries, 0 to 395\n",
      "Data columns (total 5 columns):\n",
      " #   Column            Non-Null Count  Dtype  \n",
      "---  ------            --------------  -----  \n",
      " 0   derived_mail      396 non-null    object \n",
      " 1   FirstName         294 non-null    object \n",
      " 2   is_email_clicked  294 non-null    float64\n",
      " 3   is_email_opened   294 non-null    float64\n",
      " 4   is_engagement     396 non-null    int64  \n",
      "dtypes: float64(2), int64(1), object(2)\n",
      "memory usage: 15.6+ KB\n"
     ]
    }
   ],
   "source": [
    "unique_emails = df_hql_email.loc[~df_hql_email['Email'].isin(aggregated_df['derived_mail']), 'Email'].unique()\n",
    "\n",
    "new_df = pd.DataFrame({'derived_mail': unique_emails, 'is_engagement': 0})\n",
    "\n",
    "# Add is_engagement = 0 to old data\n",
    "aggregated_df['is_engagement'] = 1\n",
    "\n",
    "# Append new data to the existing DataFrame\n",
    "aggregated_df = pd.concat([aggregated_df, new_df], ignore_index=True)\n",
    "\n",
    "aggregated_df.info()"
   ]
  },
  {
   "cell_type": "code",
   "execution_count": null,
   "id": "33d43f4b-733b-4543-a092-a2247fa26586",
   "metadata": {},
   "outputs": [],
   "source": []
  },
  {
   "cell_type": "code",
   "execution_count": 139,
   "id": "e7ae39ee-a433-4db2-b9f7-377be8e93dd6",
   "metadata": {},
   "outputs": [
    {
     "name": "stdout",
     "output_type": "stream",
     "text": [
      "<class 'pandas.core.frame.DataFrame'>\n",
      "RangeIndex: 396 entries, 0 to 395\n",
      "Data columns (total 6 columns):\n",
      " #   Column            Non-Null Count  Dtype  \n",
      "---  ------            --------------  -----  \n",
      " 0   derived_mail      396 non-null    object \n",
      " 1   FirstName         294 non-null    object \n",
      " 2   is_email_clicked  294 non-null    float64\n",
      " 3   is_email_opened   294 non-null    float64\n",
      " 4   is_engagement     396 non-null    int64  \n",
      " 5   Date              396 non-null    object \n",
      "dtypes: float64(2), int64(1), object(3)\n",
      "memory usage: 18.7+ KB\n"
     ]
    }
   ],
   "source": [
    "# Merge with second df on derived_mail -> Email\n",
    "merged_df = aggregated_df.merge(df_hql_email, left_on='derived_mail', right_on='Email', how='left')\n",
    "\n",
    "# Aggregate Date column with | separator\n",
    "final_df = merged_df.groupby(['derived_mail'], as_index=False).agg({\n",
    "    'FirstName': 'first',\n",
    "    'is_email_clicked': 'first',\n",
    "    'is_email_opened': 'first',\n",
    "    'is_engagement': 'first',\n",
    "    'Date': lambda x: '|'.join(x.dropna().unique())  # Concatenate unique Date values with '|'\n",
    "})\n",
    "\n",
    "final_df.info()"
   ]
  },
  {
   "cell_type": "code",
   "execution_count": null,
   "id": "9566718e-0440-4f27-b601-7e38f651ff00",
   "metadata": {},
   "outputs": [],
   "source": []
  },
  {
   "cell_type": "code",
   "execution_count": null,
   "id": "93d75a85-126f-44c8-bfad-e3e5bb7361ea",
   "metadata": {},
   "outputs": [],
   "source": []
  },
  {
   "cell_type": "code",
   "execution_count": null,
   "id": "ee6f86ca-eb90-4e44-9b23-c234a592b3e4",
   "metadata": {},
   "outputs": [],
   "source": []
  },
  {
   "cell_type": "code",
   "execution_count": null,
   "id": "0e7f83f8-79cf-4e8f-95ce-54fe205933be",
   "metadata": {},
   "outputs": [],
   "source": []
  },
  {
   "cell_type": "code",
   "execution_count": 140,
   "id": "7ae4e6af-acef-4a35-a9a4-35b29123f44b",
   "metadata": {},
   "outputs": [],
   "source": [
    "final_df.to_csv('/home/darshan/Documents/Schneider Electric Data/hql_email_engagement.csv')"
   ]
  },
  {
   "cell_type": "code",
   "execution_count": null,
   "id": "0802ab7b-fd6d-4c17-91ab-6ad50c209d4f",
   "metadata": {},
   "outputs": [],
   "source": []
  }
 ],
 "metadata": {
  "kernelspec": {
   "display_name": "Python 3 (ipykernel)",
   "language": "python",
   "name": "python3"
  },
  "language_info": {
   "codemirror_mode": {
    "name": "ipython",
    "version": 3
   },
   "file_extension": ".py",
   "mimetype": "text/x-python",
   "name": "python",
   "nbconvert_exporter": "python",
   "pygments_lexer": "ipython3",
   "version": "3.13.2"
  }
 },
 "nbformat": 4,
 "nbformat_minor": 5
}
