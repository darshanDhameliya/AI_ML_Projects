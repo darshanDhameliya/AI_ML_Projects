{
 "cells": [
  {
   "cell_type": "code",
   "execution_count": 2,
   "id": "4885eff9-e1a0-43a2-b3bb-0964383d8a67",
   "metadata": {},
   "outputs": [],
   "source": [
    "import pandas as pd\n",
    "import numpy as np\n",
    "import matplotlib.pyplot as plt\n",
    "import seaborn as sns\n",
    "from datetime import date,datetime,timedelta"
   ]
  },
  {
   "cell_type": "code",
   "execution_count": 62,
   "id": "35f42036-1f8d-4fbc-9120-11fe571ea0f5",
   "metadata": {},
   "outputs": [],
   "source": [
    "prospect_engagements=pd.read_csv('../datasets/result_datasets/Email_Engagement_Aggregated/unique_prospect_engagements.csv')"
   ]
  },
  {
   "cell_type": "code",
   "execution_count": 64,
   "id": "7e83c75c-3d1b-44f0-975d-bf7c3e1ea2d7",
   "metadata": {},
   "outputs": [
    {
     "name": "stderr",
     "output_type": "stream",
     "text": [
      "C:\\Users\\Admin\\AppData\\Local\\Temp\\ipykernel_18796\\762317819.py:1: DtypeWarning: Columns (3,7,10,13,14,15,22,26,27,28,29,31) have mixed types. Specify dtype option on import or set low_memory=False.\n",
      "  not_clicked_prospects=pd.read_csv('../datasets/result_datasets/not_clicked_prospects.csv')\n"
     ]
    }
   ],
   "source": [
    "not_clicked_prospects=pd.read_csv('../datasets/result_datasets/not_clicked_prospects.csv')"
   ]
  },
  {
   "cell_type": "code",
   "execution_count": 66,
   "id": "e5abd03b-5d4e-4b66-9e14-ecaafcdff68a",
   "metadata": {},
   "outputs": [],
   "source": [
    "pd.options.display.max_columns=None\n",
    "pd.options.display.max_info_columns=1000"
   ]
  },
  {
   "cell_type": "code",
   "execution_count": 68,
   "id": "995e4ca7-5661-4666-ae56-7242705b4cb3",
   "metadata": {},
   "outputs": [],
   "source": [
    "prospect_engagements['status_time_utc']=pd.to_datetime(prospect_engagements['status_time_utc'],utc=True)"
   ]
  },
  {
   "cell_type": "code",
   "execution_count": 70,
   "id": "88ed21b5-ce00-4015-b05b-c04a895df1c8",
   "metadata": {},
   "outputs": [
    {
     "data": {
      "text/plain": [
       "(5663590, 30)"
      ]
     },
     "execution_count": 70,
     "metadata": {},
     "output_type": "execute_result"
    }
   ],
   "source": [
    "prospect_engagements.shape"
   ]
  },
  {
   "cell_type": "code",
   "execution_count": 72,
   "id": "c104c786-1ef0-4f4b-b111-6994c5917b09",
   "metadata": {},
   "outputs": [
    {
     "data": {
      "text/plain": [
       "Index(['Unnamed: 0', 'FirstName', 'CompanyName', 'mail', 'Email', 'CTA',\n",
       "       'Domain', 'ID', 'source', 'date', 'raw_status', 'status', 'status_time',\n",
       "       'reason', 'status_time_utc', 'derived_mail', 'derived_email',\n",
       "       'is_email_sent', 'is_email_clicked', 'is_email_opened', 'is_responded',\n",
       "       'is_bounced', 'is_unsubscribed', 'is_mail_not_sent', 'is_scheduled',\n",
       "       '2_weeks_ago', '4_weeks_ago', '8_weeks_ago', '12_weeks_ago',\n",
       "       'day_of_week'],\n",
       "      dtype='object')"
      ]
     },
     "execution_count": 72,
     "metadata": {},
     "output_type": "execute_result"
    }
   ],
   "source": [
    "prospect_engagements.columns"
   ]
  },
  {
   "cell_type": "code",
   "execution_count": 74,
   "id": "78fb721e-2dc9-4e3c-bfb9-972faf34b09d",
   "metadata": {},
   "outputs": [],
   "source": [
    "prospect_engagements.drop(columns=['Unnamed: 0'],inplace=True)"
   ]
  },
  {
   "cell_type": "code",
   "execution_count": 76,
   "id": "73a5e083-c618-49c6-b991-0faae81fada5",
   "metadata": {},
   "outputs": [
    {
     "data": {
      "text/plain": [
       "(148051, 34)"
      ]
     },
     "execution_count": 76,
     "metadata": {},
     "output_type": "execute_result"
    }
   ],
   "source": [
    "not_clicked_prospects.shape"
   ]
  },
  {
   "cell_type": "code",
   "execution_count": 78,
   "id": "196c48b9-334e-4a85-b541-9be61861bd46",
   "metadata": {},
   "outputs": [],
   "source": [
    "not_clicked_prospects.drop(columns=['Unnamed: 0'],inplace=True)"
   ]
  },
  {
   "cell_type": "code",
   "execution_count": 128,
   "id": "d015037b-e48f-46ca-a30d-7cdcac847ea4",
   "metadata": {},
   "outputs": [],
   "source": [
    "not_clicked_prospects['derived_mail']=not_clicked_prospects['Email']"
   ]
  },
  {
   "cell_type": "markdown",
   "id": "42fd697b-7c07-435e-a5c8-b129d73354ed",
   "metadata": {},
   "source": [
    "## FEATURE ENGINEERING"
   ]
  },
  {
   "cell_type": "code",
   "execution_count": null,
   "id": "234de84b-8a7f-4504-ba1d-9560adbb2f28",
   "metadata": {},
   "outputs": [],
   "source": []
  },
  {
   "cell_type": "markdown",
   "id": "643d9028-5931-4a69-b3b4-bddb2e766cd1",
   "metadata": {},
   "source": [
    "## Total Emails Sent"
   ]
  },
  {
   "cell_type": "code",
   "execution_count": 83,
   "id": "73fdd496-9657-4443-bb0e-86aa5c8327d6",
   "metadata": {},
   "outputs": [],
   "source": [
    "total_emails_sent=prospect_engagements.groupby('derived_mail')['is_email_sent'].sum().reset_index(name='total_emails_sent')"
   ]
  },
  {
   "cell_type": "code",
   "execution_count": 85,
   "id": "3a756fac-7af5-4f0b-af1b-5cc2a540af65",
   "metadata": {},
   "outputs": [
    {
     "data": {
      "text/html": [
       "<div>\n",
       "<style scoped>\n",
       "    .dataframe tbody tr th:only-of-type {\n",
       "        vertical-align: middle;\n",
       "    }\n",
       "\n",
       "    .dataframe tbody tr th {\n",
       "        vertical-align: top;\n",
       "    }\n",
       "\n",
       "    .dataframe thead th {\n",
       "        text-align: right;\n",
       "    }\n",
       "</style>\n",
       "<table border=\"1\" class=\"dataframe\">\n",
       "  <thead>\n",
       "    <tr style=\"text-align: right;\">\n",
       "      <th></th>\n",
       "      <th>derived_mail</th>\n",
       "      <th>total_emails_sent</th>\n",
       "    </tr>\n",
       "  </thead>\n",
       "  <tbody>\n",
       "    <tr>\n",
       "      <th>0</th>\n",
       "      <td>9fake@thomasfellows.com</td>\n",
       "      <td>5</td>\n",
       "    </tr>\n",
       "    <tr>\n",
       "      <th>1</th>\n",
       "      <td>Adaku.Ude@sfdph.org</td>\n",
       "      <td>13</td>\n",
       "    </tr>\n",
       "    <tr>\n",
       "      <th>2</th>\n",
       "      <td>Ahess@amgen.com</td>\n",
       "      <td>1</td>\n",
       "    </tr>\n",
       "    <tr>\n",
       "      <th>3</th>\n",
       "      <td>Carlos.Perez@thermofisher.com</td>\n",
       "      <td>4</td>\n",
       "    </tr>\n",
       "    <tr>\n",
       "      <th>4</th>\n",
       "      <td>CarlosOliverMontejano.Ramirez@magna.com</td>\n",
       "      <td>25</td>\n",
       "    </tr>\n",
       "    <tr>\n",
       "      <th>...</th>\n",
       "      <td>...</td>\n",
       "      <td>...</td>\n",
       "    </tr>\n",
       "    <tr>\n",
       "      <th>157164</th>\n",
       "      <td>å©§å¼ @ashleyfurniture.com</td>\n",
       "      <td>0</td>\n",
       "    </tr>\n",
       "    <tr>\n",
       "      <th>157165</th>\n",
       "      <td>å¸†æ¨@its.jnj.com</td>\n",
       "      <td>0</td>\n",
       "    </tr>\n",
       "    <tr>\n",
       "      <th>157166</th>\n",
       "      <td>æ´å¼ @its.jnj.com</td>\n",
       "      <td>0</td>\n",
       "    </tr>\n",
       "    <tr>\n",
       "      <th>157167</th>\n",
       "      <td>è”šæ±ÿ.æ–‡@gm.com</td>\n",
       "      <td>24</td>\n",
       "    </tr>\n",
       "    <tr>\n",
       "      <th>157168</th>\n",
       "      <td>é˜³é˜³.é­@aecom.com</td>\n",
       "      <td>0</td>\n",
       "    </tr>\n",
       "  </tbody>\n",
       "</table>\n",
       "<p>157169 rows × 2 columns</p>\n",
       "</div>"
      ],
      "text/plain": [
       "                                   derived_mail  total_emails_sent\n",
       "0                       9fake@thomasfellows.com                  5\n",
       "1                           Adaku.Ude@sfdph.org                 13\n",
       "2                               Ahess@amgen.com                  1\n",
       "3                 Carlos.Perez@thermofisher.com                  4\n",
       "4       CarlosOliverMontejano.Ramirez@magna.com                 25\n",
       "...                                         ...                ...\n",
       "157164               å©§å¼ @ashleyfurniture.com                  0\n",
       "157165                       å¸†æ¨@its.jnj.com                  0\n",
       "157166                       æ´å¼ @its.jnj.com                  0\n",
       "157167                        è”šæ±ÿ.æ–‡@gm.com                 24\n",
       "157168                     é˜³é˜³.é­@aecom.com                  0\n",
       "\n",
       "[157169 rows x 2 columns]"
      ]
     },
     "execution_count": 85,
     "metadata": {},
     "output_type": "execute_result"
    }
   ],
   "source": [
    "total_emails_sent"
   ]
  },
  {
   "cell_type": "code",
   "execution_count": null,
   "id": "bedcca60-937c-43f3-85b1-49a40774b1cf",
   "metadata": {},
   "outputs": [],
   "source": []
  },
  {
   "cell_type": "markdown",
   "id": "71afb96b-477b-4123-b65e-f9e6ab8fbdab",
   "metadata": {},
   "source": [
    "## Total Emails Clicked"
   ]
  },
  {
   "cell_type": "code",
   "execution_count": 105,
   "id": "f77be601-e71a-4538-a180-c698696cba13",
   "metadata": {},
   "outputs": [],
   "source": [
    "total_emails_clicked=prospect_engagements.groupby('derived_mail')['is_email_clicked'].sum().reset_index(name='total_emails_clicked')"
   ]
  },
  {
   "cell_type": "code",
   "execution_count": 107,
   "id": "63f423d0-04a5-4c8e-b2df-dfa136f9e295",
   "metadata": {},
   "outputs": [
    {
     "data": {
      "text/html": [
       "<div>\n",
       "<style scoped>\n",
       "    .dataframe tbody tr th:only-of-type {\n",
       "        vertical-align: middle;\n",
       "    }\n",
       "\n",
       "    .dataframe tbody tr th {\n",
       "        vertical-align: top;\n",
       "    }\n",
       "\n",
       "    .dataframe thead th {\n",
       "        text-align: right;\n",
       "    }\n",
       "</style>\n",
       "<table border=\"1\" class=\"dataframe\">\n",
       "  <thead>\n",
       "    <tr style=\"text-align: right;\">\n",
       "      <th></th>\n",
       "      <th>derived_mail</th>\n",
       "      <th>total_emails_clicked</th>\n",
       "    </tr>\n",
       "  </thead>\n",
       "  <tbody>\n",
       "    <tr>\n",
       "      <th>7385</th>\n",
       "      <td>anahi.c@byd.com</td>\n",
       "      <td>66</td>\n",
       "    </tr>\n",
       "    <tr>\n",
       "      <th>96110</th>\n",
       "      <td>mark_ard@ahm.honda.com</td>\n",
       "      <td>36</td>\n",
       "    </tr>\n",
       "    <tr>\n",
       "      <th>143034</th>\n",
       "      <td>tark_martin@ahm.honda.com</td>\n",
       "      <td>36</td>\n",
       "    </tr>\n",
       "    <tr>\n",
       "      <th>43499</th>\n",
       "      <td>edgar_morales@honda.com</td>\n",
       "      <td>30</td>\n",
       "    </tr>\n",
       "    <tr>\n",
       "      <th>54938</th>\n",
       "      <td>harminder_pooni@ahm.honda.com</td>\n",
       "      <td>30</td>\n",
       "    </tr>\n",
       "    <tr>\n",
       "      <th>...</th>\n",
       "      <td>...</td>\n",
       "      <td>...</td>\n",
       "    </tr>\n",
       "    <tr>\n",
       "      <th>54005</th>\n",
       "      <td>guerrero.b@pg.com</td>\n",
       "      <td>0</td>\n",
       "    </tr>\n",
       "    <tr>\n",
       "      <th>54006</th>\n",
       "      <td>guerrero.marita@pfizer.com</td>\n",
       "      <td>0</td>\n",
       "    </tr>\n",
       "    <tr>\n",
       "      <th>54007</th>\n",
       "      <td>guerric.willemart@ab-inbev.com</td>\n",
       "      <td>0</td>\n",
       "    </tr>\n",
       "    <tr>\n",
       "      <th>54008</th>\n",
       "      <td>guess.michael@sfgov.org</td>\n",
       "      <td>0</td>\n",
       "    </tr>\n",
       "    <tr>\n",
       "      <th>157168</th>\n",
       "      <td>é˜³é˜³.é­@aecom.com</td>\n",
       "      <td>0</td>\n",
       "    </tr>\n",
       "  </tbody>\n",
       "</table>\n",
       "<p>157169 rows × 2 columns</p>\n",
       "</div>"
      ],
      "text/plain": [
       "                          derived_mail  total_emails_clicked\n",
       "7385                   anahi.c@byd.com                    66\n",
       "96110           mark_ard@ahm.honda.com                    36\n",
       "143034       tark_martin@ahm.honda.com                    36\n",
       "43499          edgar_morales@honda.com                    30\n",
       "54938    harminder_pooni@ahm.honda.com                    30\n",
       "...                                ...                   ...\n",
       "54005                guerrero.b@pg.com                     0\n",
       "54006       guerrero.marita@pfizer.com                     0\n",
       "54007   guerric.willemart@ab-inbev.com                     0\n",
       "54008          guess.michael@sfgov.org                     0\n",
       "157168            é˜³é˜³.é­@aecom.com                     0\n",
       "\n",
       "[157169 rows x 2 columns]"
      ]
     },
     "execution_count": 107,
     "metadata": {},
     "output_type": "execute_result"
    }
   ],
   "source": [
    "total_emails_clicked.sort_values(by='total_emails_clicked',ascending=False)"
   ]
  },
  {
   "cell_type": "code",
   "execution_count": null,
   "id": "d9a6e6b7-e1fc-4f00-a490-306168d092c2",
   "metadata": {},
   "outputs": [],
   "source": []
  },
  {
   "cell_type": "markdown",
   "id": "35f0674c-6f0f-47c1-9b4d-7b9452758418",
   "metadata": {},
   "source": [
    "## Total Emails Opened"
   ]
  },
  {
   "cell_type": "code",
   "execution_count": 110,
   "id": "57b0f73f-e7a8-4e78-8193-73d281ba8c66",
   "metadata": {},
   "outputs": [],
   "source": [
    "total_emails_opened=prospect_engagements.groupby('derived_mail')['is_email_opened'].sum().reset_index(name='total_emails_opened')"
   ]
  },
  {
   "cell_type": "code",
   "execution_count": 112,
   "id": "1d2904a6-703c-4e70-890e-6a1c2cf211b9",
   "metadata": {},
   "outputs": [
    {
     "data": {
      "text/html": [
       "<div>\n",
       "<style scoped>\n",
       "    .dataframe tbody tr th:only-of-type {\n",
       "        vertical-align: middle;\n",
       "    }\n",
       "\n",
       "    .dataframe tbody tr th {\n",
       "        vertical-align: top;\n",
       "    }\n",
       "\n",
       "    .dataframe thead th {\n",
       "        text-align: right;\n",
       "    }\n",
       "</style>\n",
       "<table border=\"1\" class=\"dataframe\">\n",
       "  <thead>\n",
       "    <tr style=\"text-align: right;\">\n",
       "      <th></th>\n",
       "      <th>derived_mail</th>\n",
       "      <th>total_emails_opened</th>\n",
       "    </tr>\n",
       "  </thead>\n",
       "  <tbody>\n",
       "    <tr>\n",
       "      <th>119744</th>\n",
       "      <td>rama.dasari@apple.com</td>\n",
       "      <td>78</td>\n",
       "    </tr>\n",
       "    <tr>\n",
       "      <th>111368</th>\n",
       "      <td>niraj.chaudhary@nexsales.com</td>\n",
       "      <td>77</td>\n",
       "    </tr>\n",
       "    <tr>\n",
       "      <th>58949</th>\n",
       "      <td>j_abstender@apple.com</td>\n",
       "      <td>76</td>\n",
       "    </tr>\n",
       "    <tr>\n",
       "      <th>118921</th>\n",
       "      <td>r_kuddes@apple.com</td>\n",
       "      <td>72</td>\n",
       "    </tr>\n",
       "    <tr>\n",
       "      <th>122316</th>\n",
       "      <td>rhense@apple.com</td>\n",
       "      <td>70</td>\n",
       "    </tr>\n",
       "    <tr>\n",
       "      <th>...</th>\n",
       "      <td>...</td>\n",
       "      <td>...</td>\n",
       "    </tr>\n",
       "    <tr>\n",
       "      <th>55387</th>\n",
       "      <td>hcortes@rivian.com</td>\n",
       "      <td>0</td>\n",
       "    </tr>\n",
       "    <tr>\n",
       "      <th>55388</th>\n",
       "      <td>hcosta@amgen.com</td>\n",
       "      <td>0</td>\n",
       "    </tr>\n",
       "    <tr>\n",
       "      <th>55389</th>\n",
       "      <td>hcostilla@ti.com</td>\n",
       "      <td>0</td>\n",
       "    </tr>\n",
       "    <tr>\n",
       "      <th>55390</th>\n",
       "      <td>hcox@aep.com</td>\n",
       "      <td>0</td>\n",
       "    </tr>\n",
       "    <tr>\n",
       "      <th>157168</th>\n",
       "      <td>é˜³é˜³.é­@aecom.com</td>\n",
       "      <td>0</td>\n",
       "    </tr>\n",
       "  </tbody>\n",
       "</table>\n",
       "<p>157169 rows × 2 columns</p>\n",
       "</div>"
      ],
      "text/plain": [
       "                        derived_mail  total_emails_opened\n",
       "119744         rama.dasari@apple.com                   78\n",
       "111368  niraj.chaudhary@nexsales.com                   77\n",
       "58949          j_abstender@apple.com                   76\n",
       "118921            r_kuddes@apple.com                   72\n",
       "122316              rhense@apple.com                   70\n",
       "...                              ...                  ...\n",
       "55387             hcortes@rivian.com                    0\n",
       "55388               hcosta@amgen.com                    0\n",
       "55389               hcostilla@ti.com                    0\n",
       "55390                   hcox@aep.com                    0\n",
       "157168          é˜³é˜³.é­@aecom.com                    0\n",
       "\n",
       "[157169 rows x 2 columns]"
      ]
     },
     "execution_count": 112,
     "metadata": {},
     "output_type": "execute_result"
    }
   ],
   "source": [
    "total_emails_opened.sort_values(by='total_emails_opened',ascending=False)"
   ]
  },
  {
   "cell_type": "code",
   "execution_count": null,
   "id": "ee9e7455-9982-4d72-8f50-d91d966bf625",
   "metadata": {},
   "outputs": [],
   "source": []
  },
  {
   "cell_type": "markdown",
   "id": "540a2cc6-93ad-4d02-95af-7a544bb77d9a",
   "metadata": {},
   "source": [
    "## Total Emails Unsubscribed"
   ]
  },
  {
   "cell_type": "code",
   "execution_count": 115,
   "id": "af7a1c4c-ab9c-4f47-8886-769c75eeb36d",
   "metadata": {},
   "outputs": [],
   "source": [
    "total_emails_unsubscribed=prospect_engagements.groupby('derived_mail')['is_unsubscribed'].sum().reset_index(name='total_emails_unsubscribed')"
   ]
  },
  {
   "cell_type": "code",
   "execution_count": 117,
   "id": "bff2b3a3-1cba-4491-bdd1-0b089a2694e4",
   "metadata": {},
   "outputs": [
    {
     "data": {
      "text/html": [
       "<div>\n",
       "<style scoped>\n",
       "    .dataframe tbody tr th:only-of-type {\n",
       "        vertical-align: middle;\n",
       "    }\n",
       "\n",
       "    .dataframe tbody tr th {\n",
       "        vertical-align: top;\n",
       "    }\n",
       "\n",
       "    .dataframe thead th {\n",
       "        text-align: right;\n",
       "    }\n",
       "</style>\n",
       "<table border=\"1\" class=\"dataframe\">\n",
       "  <thead>\n",
       "    <tr style=\"text-align: right;\">\n",
       "      <th></th>\n",
       "      <th>derived_mail</th>\n",
       "      <th>total_emails_unsubscribed</th>\n",
       "    </tr>\n",
       "  </thead>\n",
       "  <tbody>\n",
       "    <tr>\n",
       "      <th>0</th>\n",
       "      <td>9fake@thomasfellows.com</td>\n",
       "      <td>0</td>\n",
       "    </tr>\n",
       "    <tr>\n",
       "      <th>1</th>\n",
       "      <td>Adaku.Ude@sfdph.org</td>\n",
       "      <td>0</td>\n",
       "    </tr>\n",
       "    <tr>\n",
       "      <th>2</th>\n",
       "      <td>Ahess@amgen.com</td>\n",
       "      <td>0</td>\n",
       "    </tr>\n",
       "    <tr>\n",
       "      <th>3</th>\n",
       "      <td>Carlos.Perez@thermofisher.com</td>\n",
       "      <td>0</td>\n",
       "    </tr>\n",
       "    <tr>\n",
       "      <th>4</th>\n",
       "      <td>CarlosOliverMontejano.Ramirez@magna.com</td>\n",
       "      <td>0</td>\n",
       "    </tr>\n",
       "    <tr>\n",
       "      <th>...</th>\n",
       "      <td>...</td>\n",
       "      <td>...</td>\n",
       "    </tr>\n",
       "    <tr>\n",
       "      <th>157164</th>\n",
       "      <td>å©§å¼ @ashleyfurniture.com</td>\n",
       "      <td>0</td>\n",
       "    </tr>\n",
       "    <tr>\n",
       "      <th>157165</th>\n",
       "      <td>å¸†æ¨@its.jnj.com</td>\n",
       "      <td>0</td>\n",
       "    </tr>\n",
       "    <tr>\n",
       "      <th>157166</th>\n",
       "      <td>æ´å¼ @its.jnj.com</td>\n",
       "      <td>0</td>\n",
       "    </tr>\n",
       "    <tr>\n",
       "      <th>157167</th>\n",
       "      <td>è”šæ±ÿ.æ–‡@gm.com</td>\n",
       "      <td>0</td>\n",
       "    </tr>\n",
       "    <tr>\n",
       "      <th>157168</th>\n",
       "      <td>é˜³é˜³.é­@aecom.com</td>\n",
       "      <td>0</td>\n",
       "    </tr>\n",
       "  </tbody>\n",
       "</table>\n",
       "<p>157169 rows × 2 columns</p>\n",
       "</div>"
      ],
      "text/plain": [
       "                                   derived_mail  total_emails_unsubscribed\n",
       "0                       9fake@thomasfellows.com                          0\n",
       "1                           Adaku.Ude@sfdph.org                          0\n",
       "2                               Ahess@amgen.com                          0\n",
       "3                 Carlos.Perez@thermofisher.com                          0\n",
       "4       CarlosOliverMontejano.Ramirez@magna.com                          0\n",
       "...                                         ...                        ...\n",
       "157164               å©§å¼ @ashleyfurniture.com                          0\n",
       "157165                       å¸†æ¨@its.jnj.com                          0\n",
       "157166                       æ´å¼ @its.jnj.com                          0\n",
       "157167                        è”šæ±ÿ.æ–‡@gm.com                          0\n",
       "157168                     é˜³é˜³.é­@aecom.com                          0\n",
       "\n",
       "[157169 rows x 2 columns]"
      ]
     },
     "execution_count": 117,
     "metadata": {},
     "output_type": "execute_result"
    }
   ],
   "source": [
    "total_emails_unsubscribed"
   ]
  },
  {
   "cell_type": "code",
   "execution_count": null,
   "id": "38a3d9ab-ec1c-4c70-9594-3829f9a2535e",
   "metadata": {},
   "outputs": [],
   "source": []
  },
  {
   "cell_type": "markdown",
   "id": "d8ac4947-9bb8-4dc6-a6c5-5d155e415c46",
   "metadata": {},
   "source": [
    "## Total Emails Bounced"
   ]
  },
  {
   "cell_type": "code",
   "execution_count": 120,
   "id": "6c10502c-9918-4be9-8878-cca959cfc9a5",
   "metadata": {},
   "outputs": [],
   "source": [
    "total_emails_bounced=prospect_engagements.groupby('derived_mail')['is_bounced'].sum().reset_index(name='total_emails_bounced')"
   ]
  },
  {
   "cell_type": "code",
   "execution_count": 122,
   "id": "5ae9d063-a023-4003-b839-a3bd95653a65",
   "metadata": {},
   "outputs": [
    {
     "data": {
      "text/html": [
       "<div>\n",
       "<style scoped>\n",
       "    .dataframe tbody tr th:only-of-type {\n",
       "        vertical-align: middle;\n",
       "    }\n",
       "\n",
       "    .dataframe tbody tr th {\n",
       "        vertical-align: top;\n",
       "    }\n",
       "\n",
       "    .dataframe thead th {\n",
       "        text-align: right;\n",
       "    }\n",
       "</style>\n",
       "<table border=\"1\" class=\"dataframe\">\n",
       "  <thead>\n",
       "    <tr style=\"text-align: right;\">\n",
       "      <th></th>\n",
       "      <th>derived_mail</th>\n",
       "      <th>total_emails_bounced</th>\n",
       "    </tr>\n",
       "  </thead>\n",
       "  <tbody>\n",
       "    <tr>\n",
       "      <th>0</th>\n",
       "      <td>9fake@thomasfellows.com</td>\n",
       "      <td>1</td>\n",
       "    </tr>\n",
       "    <tr>\n",
       "      <th>1</th>\n",
       "      <td>Adaku.Ude@sfdph.org</td>\n",
       "      <td>0</td>\n",
       "    </tr>\n",
       "    <tr>\n",
       "      <th>2</th>\n",
       "      <td>Ahess@amgen.com</td>\n",
       "      <td>3</td>\n",
       "    </tr>\n",
       "    <tr>\n",
       "      <th>3</th>\n",
       "      <td>Carlos.Perez@thermofisher.com</td>\n",
       "      <td>0</td>\n",
       "    </tr>\n",
       "    <tr>\n",
       "      <th>4</th>\n",
       "      <td>CarlosOliverMontejano.Ramirez@magna.com</td>\n",
       "      <td>6</td>\n",
       "    </tr>\n",
       "    <tr>\n",
       "      <th>...</th>\n",
       "      <td>...</td>\n",
       "      <td>...</td>\n",
       "    </tr>\n",
       "    <tr>\n",
       "      <th>157164</th>\n",
       "      <td>å©§å¼ @ashleyfurniture.com</td>\n",
       "      <td>0</td>\n",
       "    </tr>\n",
       "    <tr>\n",
       "      <th>157165</th>\n",
       "      <td>å¸†æ¨@its.jnj.com</td>\n",
       "      <td>0</td>\n",
       "    </tr>\n",
       "    <tr>\n",
       "      <th>157166</th>\n",
       "      <td>æ´å¼ @its.jnj.com</td>\n",
       "      <td>0</td>\n",
       "    </tr>\n",
       "    <tr>\n",
       "      <th>157167</th>\n",
       "      <td>è”šæ±ÿ.æ–‡@gm.com</td>\n",
       "      <td>0</td>\n",
       "    </tr>\n",
       "    <tr>\n",
       "      <th>157168</th>\n",
       "      <td>é˜³é˜³.é­@aecom.com</td>\n",
       "      <td>0</td>\n",
       "    </tr>\n",
       "  </tbody>\n",
       "</table>\n",
       "<p>157169 rows × 2 columns</p>\n",
       "</div>"
      ],
      "text/plain": [
       "                                   derived_mail  total_emails_bounced\n",
       "0                       9fake@thomasfellows.com                     1\n",
       "1                           Adaku.Ude@sfdph.org                     0\n",
       "2                               Ahess@amgen.com                     3\n",
       "3                 Carlos.Perez@thermofisher.com                     0\n",
       "4       CarlosOliverMontejano.Ramirez@magna.com                     6\n",
       "...                                         ...                   ...\n",
       "157164               å©§å¼ @ashleyfurniture.com                     0\n",
       "157165                       å¸†æ¨@its.jnj.com                     0\n",
       "157166                       æ´å¼ @its.jnj.com                     0\n",
       "157167                        è”šæ±ÿ.æ–‡@gm.com                     0\n",
       "157168                     é˜³é˜³.é­@aecom.com                     0\n",
       "\n",
       "[157169 rows x 2 columns]"
      ]
     },
     "execution_count": 122,
     "metadata": {},
     "output_type": "execute_result"
    }
   ],
   "source": [
    "total_emails_bounced"
   ]
  },
  {
   "cell_type": "code",
   "execution_count": null,
   "id": "9158a50b-8fe3-4f79-9c36-5f8a1a56fc5f",
   "metadata": {},
   "outputs": [],
   "source": []
  },
  {
   "cell_type": "code",
   "execution_count": 138,
   "id": "cb98404a-9595-46b6-af3a-25c6febc45f0",
   "metadata": {},
   "outputs": [],
   "source": [
    "not_clicked_prospects=not_clicked_prospects.merge(total_emails_sent,on='derived_mail',how='left')"
   ]
  },
  {
   "cell_type": "code",
   "execution_count": 139,
   "id": "e1cdb11e-c78c-4058-93e0-dd20af071075",
   "metadata": {},
   "outputs": [],
   "source": [
    "not_clicked_prospects=not_clicked_prospects.merge(total_emails_opened,on='derived_mail',how='left')"
   ]
  },
  {
   "cell_type": "code",
   "execution_count": 141,
   "id": "c3cb04ce-625f-405a-a2c6-dd6d84f5e2a7",
   "metadata": {},
   "outputs": [],
   "source": [
    "not_clicked_prospects=not_clicked_prospects.merge(total_emails_clicked,on='derived_mail',how='left')"
   ]
  },
  {
   "cell_type": "code",
   "execution_count": 143,
   "id": "fe8d5f30-0a55-46fb-9267-b01d75ec542a",
   "metadata": {},
   "outputs": [],
   "source": [
    "not_clicked_prospects=not_clicked_prospects.merge(total_emails_bounced,on='derived_mail',how='left')"
   ]
  },
  {
   "cell_type": "code",
   "execution_count": 145,
   "id": "a38edfb5-8eec-436a-ba69-151d41c22b8f",
   "metadata": {},
   "outputs": [],
   "source": [
    "not_clicked_prospects=not_clicked_prospects.merge(total_emails_unsubscribed,on='derived_mail',how='left')"
   ]
  },
  {
   "cell_type": "code",
   "execution_count": null,
   "id": "9d2cfd41-9b49-422a-9493-a02930e4cec3",
   "metadata": {},
   "outputs": [],
   "source": []
  },
  {
   "cell_type": "code",
   "execution_count": 149,
   "id": "0b3fefb1-0e6e-4f02-b3e5-c51ae63715de",
   "metadata": {},
   "outputs": [
    {
     "name": "stdout",
     "output_type": "stream",
     "text": [
      "<class 'pandas.core.frame.DataFrame'>\n",
      "RangeIndex: 148051 entries, 0 to 148050\n",
      "Data columns (total 39 columns):\n",
      " #   Column                     Non-Null Count   Dtype  \n",
      "---  ------                     --------------   -----  \n",
      " 0   Company Name               147664 non-null  object \n",
      " 1   First Name                 148050 non-null  object \n",
      " 2   Middle Name                5602 non-null    object \n",
      " 3   Last Name                  148026 non-null  object \n",
      " 4   Title                      148046 non-null  object \n",
      " 5   Level                      139500 non-null  object \n",
      " 6   Seniority                  2724 non-null    object \n",
      " 7   Department                 139500 non-null  object \n",
      " 8   Email ID                   136901 non-null  object \n",
      " 9   Email 1                    11150 non-null   object \n",
      " 10  Contact_City               126034 non-null  object \n",
      " 11  Contact_State              111357 non-null  object \n",
      " 12  Contact City               10119 non-null   object \n",
      " 13  Contact State              9091 non-null    object \n",
      " 14  Contact Country            2702 non-null    object \n",
      " 15  Country                    136860 non-null  object \n",
      " 16  Website                    147956 non-null  object \n",
      " 17  Company City               142575 non-null  object \n",
      " 18  Company State              132964 non-null  object \n",
      " 19  Company Country            147401 non-null  object \n",
      " 20  Industry                   136885 non-null  object \n",
      " 21  Sub Industry               7090 non-null    object \n",
      " 22  Revenue                    134202 non-null  object \n",
      " 23  Revenue Range              108026 non-null  object \n",
      " 24  EMP Range                  136527 non-null  object \n",
      " 25  Company Annual Revenue     11150 non-null   object \n",
      " 26  Company Industry           11150 non-null   object \n",
      " 27  Company Staff Count Range  11110 non-null   object \n",
      " 28  Company Staff Count        11150 non-null   object \n",
      " 29  Contact Linkedin URL       93941 non-null   object \n",
      " 30  Contact LI Profile URL     11014 non-null   object \n",
      " 31  source                     148051 non-null  object \n",
      " 32  Email                      148051 non-null  object \n",
      " 33  derived_mail               148051 non-null  object \n",
      " 34  total_emails_sent          147147 non-null  float64\n",
      " 35  total_emails_opened        147147 non-null  float64\n",
      " 36  total_emails_clicked       147147 non-null  float64\n",
      " 37  total_emails_bounced       147147 non-null  float64\n",
      " 38  total_emails_unsubscribed  147147 non-null  float64\n",
      "dtypes: float64(5), object(34)\n",
      "memory usage: 44.1+ MB\n"
     ]
    }
   ],
   "source": [
    "not_clicked_prospects.info()"
   ]
  },
  {
   "cell_type": "code",
   "execution_count": null,
   "id": "4d6e6125-2115-4c33-a553-2a44e08c6c2e",
   "metadata": {},
   "outputs": [],
   "source": []
  },
  {
   "cell_type": "markdown",
   "id": "2fbf4b09-d4db-4688-8d6a-007507d60fd4",
   "metadata": {},
   "source": [
    "## Average Time Between Emails"
   ]
  },
  {
   "cell_type": "code",
   "execution_count": 152,
   "id": "e0255064-4fcc-4642-9b0a-2f627418f114",
   "metadata": {},
   "outputs": [],
   "source": [
    "prospect_engagements['status_time_utc'] = pd.to_datetime(prospect_engagements['status_time_utc'], utc=True)"
   ]
  },
  {
   "cell_type": "code",
   "execution_count": 154,
   "id": "fd05f2df-9926-4dbb-a096-15f4f0023f58",
   "metadata": {},
   "outputs": [],
   "source": [
    "prospect_engagements.sort_values(by=['derived_mail','status_time_utc'],inplace=True)"
   ]
  },
  {
   "cell_type": "code",
   "execution_count": 160,
   "id": "0a28c166-009c-413e-b9a4-c89bf715aeb5",
   "metadata": {},
   "outputs": [],
   "source": [
    "sent_emails=prospect_engagements[prospect_engagements['is_email_sent']==1]"
   ]
  },
  {
   "cell_type": "code",
   "execution_count": 162,
   "id": "2218d770-a601-4951-bcb7-0c739c81d142",
   "metadata": {},
   "outputs": [
    {
     "name": "stderr",
     "output_type": "stream",
     "text": [
      "C:\\Users\\Admin\\AppData\\Local\\Temp\\ipykernel_18796\\1506379369.py:1: SettingWithCopyWarning: \n",
      "A value is trying to be set on a copy of a slice from a DataFrame.\n",
      "Try using .loc[row_indexer,col_indexer] = value instead\n",
      "\n",
      "See the caveats in the documentation: https://pandas.pydata.org/pandas-docs/stable/user_guide/indexing.html#returning-a-view-versus-a-copy\n",
      "  sent_emails['time_gap']=sent_emails.groupby('derived_mail')['status_time_utc'].diff().dt.days\n"
     ]
    }
   ],
   "source": [
    "sent_emails['time_gap']=sent_emails.groupby('derived_mail')['status_time_utc'].diff().dt.days"
   ]
  },
  {
   "cell_type": "code",
   "execution_count": 164,
   "id": "1e43b6dc-313e-4a37-ab71-c4ed4b7280fd",
   "metadata": {},
   "outputs": [],
   "source": [
    "avg_time_between_emails=sent_emails.groupby('derived_mail')['time_gap'].mean().reset_index().rename(columns={'time_gap': 'avg_time_between_emails'})"
   ]
  },
  {
   "cell_type": "code",
   "execution_count": 166,
   "id": "7e33fde3-f828-4ffc-8648-76da3a3f9953",
   "metadata": {},
   "outputs": [
    {
     "data": {
      "text/html": [
       "<div>\n",
       "<style scoped>\n",
       "    .dataframe tbody tr th:only-of-type {\n",
       "        vertical-align: middle;\n",
       "    }\n",
       "\n",
       "    .dataframe tbody tr th {\n",
       "        vertical-align: top;\n",
       "    }\n",
       "\n",
       "    .dataframe thead th {\n",
       "        text-align: right;\n",
       "    }\n",
       "</style>\n",
       "<table border=\"1\" class=\"dataframe\">\n",
       "  <thead>\n",
       "    <tr style=\"text-align: right;\">\n",
       "      <th></th>\n",
       "      <th>derived_mail</th>\n",
       "      <th>avg_time_between_emails</th>\n",
       "    </tr>\n",
       "  </thead>\n",
       "  <tbody>\n",
       "    <tr>\n",
       "      <th>0</th>\n",
       "      <td>9fake@thomasfellows.com</td>\n",
       "      <td>0.250000</td>\n",
       "    </tr>\n",
       "    <tr>\n",
       "      <th>1</th>\n",
       "      <td>Adaku.Ude@sfdph.org</td>\n",
       "      <td>1.083333</td>\n",
       "    </tr>\n",
       "    <tr>\n",
       "      <th>2</th>\n",
       "      <td>Ahess@amgen.com</td>\n",
       "      <td>NaN</td>\n",
       "    </tr>\n",
       "    <tr>\n",
       "      <th>3</th>\n",
       "      <td>Carlos.Perez@thermofisher.com</td>\n",
       "      <td>1.000000</td>\n",
       "    </tr>\n",
       "    <tr>\n",
       "      <th>4</th>\n",
       "      <td>CarlosOliverMontejano.Ramirez@magna.com</td>\n",
       "      <td>0.791667</td>\n",
       "    </tr>\n",
       "    <tr>\n",
       "      <th>...</th>\n",
       "      <td>...</td>\n",
       "      <td>...</td>\n",
       "    </tr>\n",
       "    <tr>\n",
       "      <th>145628</th>\n",
       "      <td>Ø¹Ø¨Ø¯Ø§Ù„Ø±Ø­Ù…Ù†.Ø§Ù„Ø¯Ø±Ø¯ÙŠØ±ÙŠ@aecom.com</td>\n",
       "      <td>1.133333</td>\n",
       "    </tr>\n",
       "    <tr>\n",
       "      <th>145629</th>\n",
       "      <td>Ù…Ø­Ù…Ø¯.Ø­Ø³ÙŠÙ†@aecom.com</td>\n",
       "      <td>3.307692</td>\n",
       "    </tr>\n",
       "    <tr>\n",
       "      <th>145630</th>\n",
       "      <td>â€žâ€žm.herigstad@abbvie.com</td>\n",
       "      <td>1.730769</td>\n",
       "    </tr>\n",
       "    <tr>\n",
       "      <th>145631</th>\n",
       "      <td>ä½³æ›¹@its.jnj.com</td>\n",
       "      <td>0.500000</td>\n",
       "    </tr>\n",
       "    <tr>\n",
       "      <th>145632</th>\n",
       "      <td>è”šæ±ÿ.æ–‡@gm.com</td>\n",
       "      <td>2.565217</td>\n",
       "    </tr>\n",
       "  </tbody>\n",
       "</table>\n",
       "<p>145633 rows × 2 columns</p>\n",
       "</div>"
      ],
      "text/plain": [
       "                                         derived_mail  avg_time_between_emails\n",
       "0                             9fake@thomasfellows.com                 0.250000\n",
       "1                                 Adaku.Ude@sfdph.org                 1.083333\n",
       "2                                     Ahess@amgen.com                      NaN\n",
       "3                       Carlos.Perez@thermofisher.com                 1.000000\n",
       "4             CarlosOliverMontejano.Ramirez@magna.com                 0.791667\n",
       "...                                               ...                      ...\n",
       "145628  Ø¹Ø¨Ø¯Ø§Ù„Ø±Ø­Ù…Ù†.Ø§Ù„Ø¯Ø±Ø¯ÙŠØ±ÙŠ@aecom.com                 1.133333\n",
       "145629                    Ù…Ø­Ù…Ø¯.Ø­Ø³ÙŠÙ†@aecom.com                 3.307692\n",
       "145630                   â€žâ€žm.herigstad@abbvie.com                 1.730769\n",
       "145631                             ä½³æ›¹@its.jnj.com                 0.500000\n",
       "145632                              è”šæ±ÿ.æ–‡@gm.com                 2.565217\n",
       "\n",
       "[145633 rows x 2 columns]"
      ]
     },
     "execution_count": 166,
     "metadata": {},
     "output_type": "execute_result"
    }
   ],
   "source": [
    "avg_time_between_emails"
   ]
  },
  {
   "cell_type": "code",
   "execution_count": null,
   "id": "c4ce5265-79b2-41c8-af8c-388a399da019",
   "metadata": {},
   "outputs": [],
   "source": []
  },
  {
   "cell_type": "code",
   "execution_count": 168,
   "id": "80a3a51d-4604-44c3-bb29-e8a40ca83671",
   "metadata": {},
   "outputs": [],
   "source": [
    "not_clicked_prospects=not_clicked_prospects.merge(avg_time_between_emails,on='derived_mail',how='left')"
   ]
  },
  {
   "cell_type": "code",
   "execution_count": null,
   "id": "105b6983-bb15-446b-a2ee-4ca039a46833",
   "metadata": {},
   "outputs": [],
   "source": []
  },
  {
   "cell_type": "markdown",
   "id": "f72b9f82-240f-4ce8-85e1-0c3d03ab3c3e",
   "metadata": {},
   "source": [
    "## Average Time Between Email Opened"
   ]
  },
  {
   "cell_type": "code",
   "execution_count": null,
   "id": "3cdbe4bd-9260-43cf-9438-2e7bf0cc8acb",
   "metadata": {},
   "outputs": [],
   "source": []
  },
  {
   "cell_type": "code",
   "execution_count": 173,
   "id": "6797d2b0-515a-4a5d-b7c6-f4e824c2ed0b",
   "metadata": {},
   "outputs": [],
   "source": [
    "opened_emails=prospect_engagements[prospect_engagements['is_email_opened']==1]"
   ]
  },
  {
   "cell_type": "code",
   "execution_count": 244,
   "id": "9a104715-4d9b-4dc5-8891-22a3e601ced2",
   "metadata": {},
   "outputs": [
    {
     "data": {
      "text/plain": [
       "(69800, 29)"
      ]
     },
     "execution_count": 244,
     "metadata": {},
     "output_type": "execute_result"
    }
   ],
   "source": [
    "opened_emails.shape"
   ]
  },
  {
   "cell_type": "code",
   "execution_count": 246,
   "id": "792c3b8d-8f95-41ee-8abb-8bb7cbb2b749",
   "metadata": {},
   "outputs": [
    {
     "name": "stderr",
     "output_type": "stream",
     "text": [
      "C:\\Users\\Admin\\AppData\\Local\\Temp\\ipykernel_18796\\3877662092.py:1: SettingWithCopyWarning: \n",
      "A value is trying to be set on a copy of a slice from a DataFrame.\n",
      "Try using .loc[row_indexer,col_indexer] = value instead\n",
      "\n",
      "See the caveats in the documentation: https://pandas.pydata.org/pandas-docs/stable/user_guide/indexing.html#returning-a-view-versus-a-copy\n",
      "  opened_emails['time_gap']=opened_emails.groupby('derived_mail')['status_time_utc'].diff().dt.days\n"
     ]
    }
   ],
   "source": [
    "opened_emails['time_gap']=opened_emails.groupby('derived_mail')['status_time_utc'].diff().dt.days"
   ]
  },
  {
   "cell_type": "code",
   "execution_count": 248,
   "id": "3ba7fa75-f61a-4b08-a0cb-8fd0db63691b",
   "metadata": {},
   "outputs": [],
   "source": [
    "avg_time_between_emails_opened=opened_emails.groupby('derived_mail')['time_gap'].mean().reset_index().rename(columns={'time_gap': 'avg_time_between_emails_opened'})"
   ]
  },
  {
   "cell_type": "code",
   "execution_count": 250,
   "id": "c1045dfc-4d7c-4eb6-a7ca-942459575857",
   "metadata": {},
   "outputs": [
    {
     "data": {
      "text/html": [
       "<div>\n",
       "<style scoped>\n",
       "    .dataframe tbody tr th:only-of-type {\n",
       "        vertical-align: middle;\n",
       "    }\n",
       "\n",
       "    .dataframe tbody tr th {\n",
       "        vertical-align: top;\n",
       "    }\n",
       "\n",
       "    .dataframe thead th {\n",
       "        text-align: right;\n",
       "    }\n",
       "</style>\n",
       "<table border=\"1\" class=\"dataframe\">\n",
       "  <thead>\n",
       "    <tr style=\"text-align: right;\">\n",
       "      <th></th>\n",
       "      <th>derived_mail</th>\n",
       "      <th>avg_time_between_emails_opened</th>\n",
       "    </tr>\n",
       "  </thead>\n",
       "  <tbody>\n",
       "    <tr>\n",
       "      <th>0</th>\n",
       "      <td>a-holley@ti.com</td>\n",
       "      <td>NaN</td>\n",
       "    </tr>\n",
       "    <tr>\n",
       "      <th>1</th>\n",
       "      <td>a-smith3@ti.com</td>\n",
       "      <td>NaN</td>\n",
       "    </tr>\n",
       "    <tr>\n",
       "      <th>2</th>\n",
       "      <td>a.akingboju@apple.com</td>\n",
       "      <td>0.809524</td>\n",
       "    </tr>\n",
       "    <tr>\n",
       "      <th>3</th>\n",
       "      <td>a.alexander@samsung.com</td>\n",
       "      <td>NaN</td>\n",
       "    </tr>\n",
       "    <tr>\n",
       "      <th>4</th>\n",
       "      <td>a.calzola@samsung.com</td>\n",
       "      <td>26.500000</td>\n",
       "    </tr>\n",
       "    <tr>\n",
       "      <th>...</th>\n",
       "      <td>...</td>\n",
       "      <td>...</td>\n",
       "    </tr>\n",
       "    <tr>\n",
       "      <th>17270</th>\n",
       "      <td>zstoller@coca-cola.com</td>\n",
       "      <td>0.333333</td>\n",
       "    </tr>\n",
       "    <tr>\n",
       "      <th>17271</th>\n",
       "      <td>zulfiqar.haider@cityofchicago.org</td>\n",
       "      <td>NaN</td>\n",
       "    </tr>\n",
       "    <tr>\n",
       "      <th>17272</th>\n",
       "      <td>zurielsuarez@dswinc.com</td>\n",
       "      <td>0.500000</td>\n",
       "    </tr>\n",
       "    <tr>\n",
       "      <th>17273</th>\n",
       "      <td>zwadie.castro@jacobs.com</td>\n",
       "      <td>7.000000</td>\n",
       "    </tr>\n",
       "    <tr>\n",
       "      <th>17274</th>\n",
       "      <td>è”šæ±ÿ.æ–‡@gm.com</td>\n",
       "      <td>NaN</td>\n",
       "    </tr>\n",
       "  </tbody>\n",
       "</table>\n",
       "<p>17275 rows × 2 columns</p>\n",
       "</div>"
      ],
      "text/plain": [
       "                            derived_mail  avg_time_between_emails_opened\n",
       "0                        a-holley@ti.com                             NaN\n",
       "1                        a-smith3@ti.com                             NaN\n",
       "2                  a.akingboju@apple.com                        0.809524\n",
       "3                a.alexander@samsung.com                             NaN\n",
       "4                  a.calzola@samsung.com                       26.500000\n",
       "...                                  ...                             ...\n",
       "17270             zstoller@coca-cola.com                        0.333333\n",
       "17271  zulfiqar.haider@cityofchicago.org                             NaN\n",
       "17272            zurielsuarez@dswinc.com                        0.500000\n",
       "17273           zwadie.castro@jacobs.com                        7.000000\n",
       "17274                  è”šæ±ÿ.æ–‡@gm.com                             NaN\n",
       "\n",
       "[17275 rows x 2 columns]"
      ]
     },
     "execution_count": 250,
     "metadata": {},
     "output_type": "execute_result"
    }
   ],
   "source": [
    "avg_time_between_emails_opened"
   ]
  },
  {
   "cell_type": "code",
   "execution_count": null,
   "id": "abcd065e-9a89-459b-b85c-a91050653284",
   "metadata": {},
   "outputs": [],
   "source": []
  },
  {
   "cell_type": "code",
   "execution_count": 252,
   "id": "afaf6d3c-c39e-4b49-9aad-0ff64d6a329f",
   "metadata": {},
   "outputs": [],
   "source": [
    "not_clicked_prospects=not_clicked_prospects.merge(avg_time_between_emails_opened,on='derived_mail',how='left')"
   ]
  },
  {
   "cell_type": "code",
   "execution_count": null,
   "id": "4807d039-c5f6-48a6-a119-8bfbd25a68d1",
   "metadata": {},
   "outputs": [],
   "source": []
  },
  {
   "cell_type": "markdown",
   "id": "8b04b215-b32d-4a02-9b19-c99e759e0bb7",
   "metadata": {},
   "source": [
    "## Days Since Last Email Opened"
   ]
  },
  {
   "cell_type": "code",
   "execution_count": null,
   "id": "6d765a94-c40d-4fe2-9ac4-0534e10f7be8",
   "metadata": {},
   "outputs": [],
   "source": []
  },
  {
   "cell_type": "code",
   "execution_count": 255,
   "id": "d722fc08-b578-4aec-9aee-a31e9438d2c5",
   "metadata": {},
   "outputs": [],
   "source": [
    "prospect_engagements.sort_values(by=['derived_mail','status_time_utc'],ascending=True,inplace=True)"
   ]
  },
  {
   "cell_type": "code",
   "execution_count": 257,
   "id": "3ed0feb0-82d8-4883-9934-60662d7023e7",
   "metadata": {},
   "outputs": [],
   "source": [
    "prospects_last_email_opened_data=prospect_engagements[prospect_engagements['is_email_opened']==1].groupby('derived_mail')['status_time_utc'].max().reset_index(name='last_email_opened_date')"
   ]
  },
  {
   "cell_type": "code",
   "execution_count": 273,
   "id": "dc8c1c38-b015-4f5b-b984-63182792e2d2",
   "metadata": {},
   "outputs": [
    {
     "data": {
      "text/html": [
       "<div>\n",
       "<style scoped>\n",
       "    .dataframe tbody tr th:only-of-type {\n",
       "        vertical-align: middle;\n",
       "    }\n",
       "\n",
       "    .dataframe tbody tr th {\n",
       "        vertical-align: top;\n",
       "    }\n",
       "\n",
       "    .dataframe thead th {\n",
       "        text-align: right;\n",
       "    }\n",
       "</style>\n",
       "<table border=\"1\" class=\"dataframe\">\n",
       "  <thead>\n",
       "    <tr style=\"text-align: right;\">\n",
       "      <th></th>\n",
       "      <th>derived_mail</th>\n",
       "      <th>last_email_opened_date</th>\n",
       "    </tr>\n",
       "  </thead>\n",
       "  <tbody>\n",
       "    <tr>\n",
       "      <th>0</th>\n",
       "      <td>a-holley@ti.com</td>\n",
       "      <td>2024-07-21 10:21:00+00:00</td>\n",
       "    </tr>\n",
       "    <tr>\n",
       "      <th>1</th>\n",
       "      <td>a-smith3@ti.com</td>\n",
       "      <td>2024-06-19 00:49:00+00:00</td>\n",
       "    </tr>\n",
       "    <tr>\n",
       "      <th>2</th>\n",
       "      <td>a.akingboju@apple.com</td>\n",
       "      <td>2025-02-21 16:29:00+00:00</td>\n",
       "    </tr>\n",
       "    <tr>\n",
       "      <th>3</th>\n",
       "      <td>a.alexander@samsung.com</td>\n",
       "      <td>2024-06-20 13:23:00+00:00</td>\n",
       "    </tr>\n",
       "    <tr>\n",
       "      <th>4</th>\n",
       "      <td>a.calzola@samsung.com</td>\n",
       "      <td>2024-08-12 15:47:00+00:00</td>\n",
       "    </tr>\n",
       "    <tr>\n",
       "      <th>...</th>\n",
       "      <td>...</td>\n",
       "      <td>...</td>\n",
       "    </tr>\n",
       "    <tr>\n",
       "      <th>17270</th>\n",
       "      <td>zstoller@coca-cola.com</td>\n",
       "      <td>2024-03-29 19:57:00+00:00</td>\n",
       "    </tr>\n",
       "    <tr>\n",
       "      <th>17271</th>\n",
       "      <td>zulfiqar.haider@cityofchicago.org</td>\n",
       "      <td>2024-10-16 18:46:00+00:00</td>\n",
       "    </tr>\n",
       "    <tr>\n",
       "      <th>17272</th>\n",
       "      <td>zurielsuarez@dswinc.com</td>\n",
       "      <td>2024-08-31 14:28:00+00:00</td>\n",
       "    </tr>\n",
       "    <tr>\n",
       "      <th>17273</th>\n",
       "      <td>zwadie.castro@jacobs.com</td>\n",
       "      <td>2025-01-22 05:05:00+00:00</td>\n",
       "    </tr>\n",
       "    <tr>\n",
       "      <th>17274</th>\n",
       "      <td>è”šæ±ÿ.æ–‡@gm.com</td>\n",
       "      <td>2024-07-23 13:45:00+00:00</td>\n",
       "    </tr>\n",
       "  </tbody>\n",
       "</table>\n",
       "<p>17275 rows × 2 columns</p>\n",
       "</div>"
      ],
      "text/plain": [
       "                            derived_mail    last_email_opened_date\n",
       "0                        a-holley@ti.com 2024-07-21 10:21:00+00:00\n",
       "1                        a-smith3@ti.com 2024-06-19 00:49:00+00:00\n",
       "2                  a.akingboju@apple.com 2025-02-21 16:29:00+00:00\n",
       "3                a.alexander@samsung.com 2024-06-20 13:23:00+00:00\n",
       "4                  a.calzola@samsung.com 2024-08-12 15:47:00+00:00\n",
       "...                                  ...                       ...\n",
       "17270             zstoller@coca-cola.com 2024-03-29 19:57:00+00:00\n",
       "17271  zulfiqar.haider@cityofchicago.org 2024-10-16 18:46:00+00:00\n",
       "17272            zurielsuarez@dswinc.com 2024-08-31 14:28:00+00:00\n",
       "17273           zwadie.castro@jacobs.com 2025-01-22 05:05:00+00:00\n",
       "17274                  è”šæ±ÿ.æ–‡@gm.com 2024-07-23 13:45:00+00:00\n",
       "\n",
       "[17275 rows x 2 columns]"
      ]
     },
     "execution_count": 273,
     "metadata": {},
     "output_type": "execute_result"
    }
   ],
   "source": [
    "prospects_last_email_opened_data"
   ]
  },
  {
   "cell_type": "code",
   "execution_count": 269,
   "id": "ddbb869f-88c1-4b48-9b3a-0cab285e32d8",
   "metadata": {},
   "outputs": [],
   "source": [
    "# not_clicked_prospects[not_clicked_prospects['derived_mail']=='zurielsuarez@dswinc.com']"
   ]
  },
  {
   "cell_type": "code",
   "execution_count": 271,
   "id": "e0490d24-c2e3-4f5e-8034-e05b2fbd6845",
   "metadata": {},
   "outputs": [],
   "source": [
    "# prospect_engagements[prospect_engagements['derived_mail']=='zurielsuarez@dswinc.com']['status'].value_counts()"
   ]
  },
  {
   "cell_type": "code",
   "execution_count": 275,
   "id": "1441c901-b8fb-4685-8b0c-1a7603b7c4a5",
   "metadata": {},
   "outputs": [],
   "source": [
    "import pytz\n",
    "from datetime import date,datetime\n",
    "\n",
    "# Define a specific date and time\n",
    "today = datetime(2025, 2, 28, 0, 0, 0)  # Year, Month, Day, Hour, Minute, Second\n",
    "\n",
    "# Assign UTC timezone\n",
    "today_date_utc = today.replace(tzinfo=pytz.utc)"
   ]
  },
  {
   "cell_type": "code",
   "execution_count": 281,
   "id": "737a88f4-888b-4540-be22-9016efaa82e9",
   "metadata": {},
   "outputs": [],
   "source": [
    "prospects_last_email_opened_data['days_since_last_email_opened']=(today_date_utc-prospects_last_email_opened_data['last_email_opened_date']).dt.days"
   ]
  },
  {
   "cell_type": "code",
   "execution_count": 283,
   "id": "bfd0637a-5c36-42c4-b549-cbb62d3c4273",
   "metadata": {},
   "outputs": [
    {
     "data": {
      "text/html": [
       "<div>\n",
       "<style scoped>\n",
       "    .dataframe tbody tr th:only-of-type {\n",
       "        vertical-align: middle;\n",
       "    }\n",
       "\n",
       "    .dataframe tbody tr th {\n",
       "        vertical-align: top;\n",
       "    }\n",
       "\n",
       "    .dataframe thead th {\n",
       "        text-align: right;\n",
       "    }\n",
       "</style>\n",
       "<table border=\"1\" class=\"dataframe\">\n",
       "  <thead>\n",
       "    <tr style=\"text-align: right;\">\n",
       "      <th></th>\n",
       "      <th>derived_mail</th>\n",
       "      <th>last_email_opened_date</th>\n",
       "      <th>days_since_last_email_opened</th>\n",
       "    </tr>\n",
       "  </thead>\n",
       "  <tbody>\n",
       "    <tr>\n",
       "      <th>0</th>\n",
       "      <td>a-holley@ti.com</td>\n",
       "      <td>2024-07-21 10:21:00+00:00</td>\n",
       "      <td>221</td>\n",
       "    </tr>\n",
       "    <tr>\n",
       "      <th>1</th>\n",
       "      <td>a-smith3@ti.com</td>\n",
       "      <td>2024-06-19 00:49:00+00:00</td>\n",
       "      <td>253</td>\n",
       "    </tr>\n",
       "    <tr>\n",
       "      <th>2</th>\n",
       "      <td>a.akingboju@apple.com</td>\n",
       "      <td>2025-02-21 16:29:00+00:00</td>\n",
       "      <td>6</td>\n",
       "    </tr>\n",
       "    <tr>\n",
       "      <th>3</th>\n",
       "      <td>a.alexander@samsung.com</td>\n",
       "      <td>2024-06-20 13:23:00+00:00</td>\n",
       "      <td>252</td>\n",
       "    </tr>\n",
       "    <tr>\n",
       "      <th>4</th>\n",
       "      <td>a.calzola@samsung.com</td>\n",
       "      <td>2024-08-12 15:47:00+00:00</td>\n",
       "      <td>199</td>\n",
       "    </tr>\n",
       "    <tr>\n",
       "      <th>...</th>\n",
       "      <td>...</td>\n",
       "      <td>...</td>\n",
       "      <td>...</td>\n",
       "    </tr>\n",
       "    <tr>\n",
       "      <th>17270</th>\n",
       "      <td>zstoller@coca-cola.com</td>\n",
       "      <td>2024-03-29 19:57:00+00:00</td>\n",
       "      <td>335</td>\n",
       "    </tr>\n",
       "    <tr>\n",
       "      <th>17271</th>\n",
       "      <td>zulfiqar.haider@cityofchicago.org</td>\n",
       "      <td>2024-10-16 18:46:00+00:00</td>\n",
       "      <td>134</td>\n",
       "    </tr>\n",
       "    <tr>\n",
       "      <th>17272</th>\n",
       "      <td>zurielsuarez@dswinc.com</td>\n",
       "      <td>2024-08-31 14:28:00+00:00</td>\n",
       "      <td>180</td>\n",
       "    </tr>\n",
       "    <tr>\n",
       "      <th>17273</th>\n",
       "      <td>zwadie.castro@jacobs.com</td>\n",
       "      <td>2025-01-22 05:05:00+00:00</td>\n",
       "      <td>36</td>\n",
       "    </tr>\n",
       "    <tr>\n",
       "      <th>17274</th>\n",
       "      <td>è”šæ±ÿ.æ–‡@gm.com</td>\n",
       "      <td>2024-07-23 13:45:00+00:00</td>\n",
       "      <td>219</td>\n",
       "    </tr>\n",
       "  </tbody>\n",
       "</table>\n",
       "<p>17275 rows × 3 columns</p>\n",
       "</div>"
      ],
      "text/plain": [
       "                            derived_mail    last_email_opened_date  \\\n",
       "0                        a-holley@ti.com 2024-07-21 10:21:00+00:00   \n",
       "1                        a-smith3@ti.com 2024-06-19 00:49:00+00:00   \n",
       "2                  a.akingboju@apple.com 2025-02-21 16:29:00+00:00   \n",
       "3                a.alexander@samsung.com 2024-06-20 13:23:00+00:00   \n",
       "4                  a.calzola@samsung.com 2024-08-12 15:47:00+00:00   \n",
       "...                                  ...                       ...   \n",
       "17270             zstoller@coca-cola.com 2024-03-29 19:57:00+00:00   \n",
       "17271  zulfiqar.haider@cityofchicago.org 2024-10-16 18:46:00+00:00   \n",
       "17272            zurielsuarez@dswinc.com 2024-08-31 14:28:00+00:00   \n",
       "17273           zwadie.castro@jacobs.com 2025-01-22 05:05:00+00:00   \n",
       "17274                  è”šæ±ÿ.æ–‡@gm.com 2024-07-23 13:45:00+00:00   \n",
       "\n",
       "       days_since_last_email_opened  \n",
       "0                               221  \n",
       "1                               253  \n",
       "2                                 6  \n",
       "3                               252  \n",
       "4                               199  \n",
       "...                             ...  \n",
       "17270                           335  \n",
       "17271                           134  \n",
       "17272                           180  \n",
       "17273                            36  \n",
       "17274                           219  \n",
       "\n",
       "[17275 rows x 3 columns]"
      ]
     },
     "execution_count": 283,
     "metadata": {},
     "output_type": "execute_result"
    }
   ],
   "source": [
    "prospects_last_email_opened_data"
   ]
  },
  {
   "cell_type": "code",
   "execution_count": 285,
   "id": "8bafd47b-f338-49e7-8c43-3e5e6cc6857b",
   "metadata": {},
   "outputs": [],
   "source": [
    "not_clicked_prospects=not_clicked_prospects.merge(prospects_last_email_opened_data[['derived_mail','days_since_last_email_opened']],on='derived_mail',how='left')"
   ]
  },
  {
   "cell_type": "code",
   "execution_count": null,
   "id": "97f49a02-8739-4c1b-8e2c-9a7e95f4cccf",
   "metadata": {},
   "outputs": [],
   "source": []
  },
  {
   "cell_type": "markdown",
   "id": "cb67ac5c-dc96-4940-84ac-32df2e39ec5b",
   "metadata": {},
   "source": [
    "## Total Emails Sent On Week-Ends (Saturday - Sunday)"
   ]
  },
  {
   "cell_type": "code",
   "execution_count": null,
   "id": "8fefe9f7-b839-4aff-b8e5-139f4473bc19",
   "metadata": {},
   "outputs": [],
   "source": []
  },
  {
   "cell_type": "code",
   "execution_count": 288,
   "id": "eb5d8e69-9845-4b0f-9102-18bf80036038",
   "metadata": {},
   "outputs": [],
   "source": [
    "prospect_engagements['day_of_week']=prospect_engagements[\"status_time_utc\"].dt.day_name()"
   ]
  },
  {
   "cell_type": "code",
   "execution_count": null,
   "id": "113980d3-2bb5-4867-99c6-9a4a44f4f3df",
   "metadata": {},
   "outputs": [],
   "source": []
  },
  {
   "cell_type": "code",
   "execution_count": 290,
   "id": "14e09e84-f68d-4144-9edf-4378248ee8f1",
   "metadata": {},
   "outputs": [],
   "source": [
    "sent_emails=prospect_engagements[prospect_engagements['is_email_sent']==1]"
   ]
  },
  {
   "cell_type": "code",
   "execution_count": 292,
   "id": "baf00350-1602-4df9-aa9b-67ca1ed57ffb",
   "metadata": {},
   "outputs": [
    {
     "data": {
      "text/plain": [
       "day_of_week\n",
       "Thursday     765921\n",
       "Friday       752370\n",
       "Wednesday    727369\n",
       "Tuesday      703801\n",
       "Monday       690438\n",
       "Saturday     670312\n",
       "Sunday         7881\n",
       "Name: count, dtype: int64"
      ]
     },
     "execution_count": 292,
     "metadata": {},
     "output_type": "execute_result"
    }
   ],
   "source": [
    "sent_emails['day_of_week'].value_counts()"
   ]
  },
  {
   "cell_type": "code",
   "execution_count": 294,
   "id": "f1ec3ded-495a-44c9-aa8b-87d6f3c63a7d",
   "metadata": {},
   "outputs": [],
   "source": [
    "total_emails_sent_week_ends=sent_emails[sent_emails['day_of_week'].isin(['Saturday','Sunday'])].groupby('derived_mail').size().reset_index(name='total_emails_sent_week_ends')"
   ]
  },
  {
   "cell_type": "code",
   "execution_count": 296,
   "id": "914e9ae8-67df-4b8c-8718-7cd3b0982d56",
   "metadata": {},
   "outputs": [
    {
     "data": {
      "text/html": [
       "<div>\n",
       "<style scoped>\n",
       "    .dataframe tbody tr th:only-of-type {\n",
       "        vertical-align: middle;\n",
       "    }\n",
       "\n",
       "    .dataframe tbody tr th {\n",
       "        vertical-align: top;\n",
       "    }\n",
       "\n",
       "    .dataframe thead th {\n",
       "        text-align: right;\n",
       "    }\n",
       "</style>\n",
       "<table border=\"1\" class=\"dataframe\">\n",
       "  <thead>\n",
       "    <tr style=\"text-align: right;\">\n",
       "      <th></th>\n",
       "      <th>derived_mail</th>\n",
       "      <th>total_emails_sent_week_ends</th>\n",
       "    </tr>\n",
       "  </thead>\n",
       "  <tbody>\n",
       "    <tr>\n",
       "      <th>0</th>\n",
       "      <td>9fake@thomasfellows.com</td>\n",
       "      <td>1</td>\n",
       "    </tr>\n",
       "    <tr>\n",
       "      <th>1</th>\n",
       "      <td>Adaku.Ude@sfdph.org</td>\n",
       "      <td>2</td>\n",
       "    </tr>\n",
       "    <tr>\n",
       "      <th>2</th>\n",
       "      <td>CarlosOliverMontejano.Ramirez@magna.com</td>\n",
       "      <td>4</td>\n",
       "    </tr>\n",
       "    <tr>\n",
       "      <th>3</th>\n",
       "      <td>GRogers@lilly.com</td>\n",
       "      <td>1</td>\n",
       "    </tr>\n",
       "    <tr>\n",
       "      <th>4</th>\n",
       "      <td>Ian.Corn@lilly.com</td>\n",
       "      <td>1</td>\n",
       "    </tr>\n",
       "    <tr>\n",
       "      <th>...</th>\n",
       "      <td>...</td>\n",
       "      <td>...</td>\n",
       "    </tr>\n",
       "    <tr>\n",
       "      <th>131405</th>\n",
       "      <td>Ø³Ø±Ù‰.Ø§Ù„Ø«Ø§Ø¨Øª@aecom.com</td>\n",
       "      <td>9</td>\n",
       "    </tr>\n",
       "    <tr>\n",
       "      <th>131406</th>\n",
       "      <td>Ø¹Ø¨Ø¯Ø§Ù„Ø±Ø­Ù…Ù†.Ø§Ù„Ø¯Ø±Ø¯ÙŠØ±ÙŠ@aecom.com</td>\n",
       "      <td>5</td>\n",
       "    </tr>\n",
       "    <tr>\n",
       "      <th>131407</th>\n",
       "      <td>Ù…Ø­Ù…Ø¯.Ø­Ø³ÙŠÙ†@aecom.com</td>\n",
       "      <td>1</td>\n",
       "    </tr>\n",
       "    <tr>\n",
       "      <th>131408</th>\n",
       "      <td>â€žâ€žm.herigstad@abbvie.com</td>\n",
       "      <td>4</td>\n",
       "    </tr>\n",
       "    <tr>\n",
       "      <th>131409</th>\n",
       "      <td>è”šæ±ÿ.æ–‡@gm.com</td>\n",
       "      <td>4</td>\n",
       "    </tr>\n",
       "  </tbody>\n",
       "</table>\n",
       "<p>131410 rows × 2 columns</p>\n",
       "</div>"
      ],
      "text/plain": [
       "                                         derived_mail  \\\n",
       "0                             9fake@thomasfellows.com   \n",
       "1                                 Adaku.Ude@sfdph.org   \n",
       "2             CarlosOliverMontejano.Ramirez@magna.com   \n",
       "3                                   GRogers@lilly.com   \n",
       "4                                  Ian.Corn@lilly.com   \n",
       "...                                               ...   \n",
       "131405                  Ø³Ø±Ù‰.Ø§Ù„Ø«Ø§Ø¨Øª@aecom.com   \n",
       "131406  Ø¹Ø¨Ø¯Ø§Ù„Ø±Ø­Ù…Ù†.Ø§Ù„Ø¯Ø±Ø¯ÙŠØ±ÙŠ@aecom.com   \n",
       "131407                    Ù…Ø­Ù…Ø¯.Ø­Ø³ÙŠÙ†@aecom.com   \n",
       "131408                   â€žâ€žm.herigstad@abbvie.com   \n",
       "131409                              è”šæ±ÿ.æ–‡@gm.com   \n",
       "\n",
       "        total_emails_sent_week_ends  \n",
       "0                                 1  \n",
       "1                                 2  \n",
       "2                                 4  \n",
       "3                                 1  \n",
       "4                                 1  \n",
       "...                             ...  \n",
       "131405                            9  \n",
       "131406                            5  \n",
       "131407                            1  \n",
       "131408                            4  \n",
       "131409                            4  \n",
       "\n",
       "[131410 rows x 2 columns]"
      ]
     },
     "execution_count": 296,
     "metadata": {},
     "output_type": "execute_result"
    }
   ],
   "source": [
    "total_emails_sent_week_ends"
   ]
  },
  {
   "cell_type": "code",
   "execution_count": 298,
   "id": "8c6c7972-e7e7-4140-b745-8cdcc95db304",
   "metadata": {},
   "outputs": [],
   "source": [
    "not_clicked_prospects=not_clicked_prospects.merge(total_emails_sent_week_ends,on='derived_mail',how='left')"
   ]
  },
  {
   "cell_type": "code",
   "execution_count": 304,
   "id": "3b42b277-d7c4-4ce4-82d7-de01fde0f0b2",
   "metadata": {},
   "outputs": [
    {
     "data": {
      "text/plain": [
       "Index(['FirstName', 'CompanyName', 'mail', 'Email', 'CTA', 'Domain', 'ID',\n",
       "       'source', 'date', 'raw_status', 'status', 'status_time', 'reason',\n",
       "       'status_time_utc', 'derived_mail', 'derived_email', 'is_email_sent',\n",
       "       'is_email_clicked', 'is_email_opened', 'is_responded', 'is_bounced',\n",
       "       'is_unsubscribed', 'is_mail_not_sent', 'is_scheduled', '2_weeks_ago',\n",
       "       '4_weeks_ago', '8_weeks_ago', '12_weeks_ago', 'day_of_week'],\n",
       "      dtype='object')"
      ]
     },
     "execution_count": 304,
     "metadata": {},
     "output_type": "execute_result"
    }
   ],
   "source": [
    "prospect_engagements.columns"
   ]
  },
  {
   "cell_type": "code",
   "execution_count": 306,
   "id": "acdb112a-736f-4a8a-91de-ea57490571e9",
   "metadata": {},
   "outputs": [
    {
     "data": {
      "image/png": "[encoded data removed]",
      "text/plain": [
       "<Figure size 640x480 with 1 Axes>"
      ]
     },
     "metadata": {},
     "output_type": "display_data"
    }
   ],
   "source": [
    "sns.countplot(x='day_of_week',data=prospect_engagements,hue='is_email_clicked')\n",
    "plt.xticks(rotation=75)\n",
    "plt.show()"
   ]
  },
  {
   "cell_type": "code",
   "execution_count": null,
   "id": "0a805704-014b-40a8-aabe-de6dd59e4767",
   "metadata": {},
   "outputs": [],
   "source": []
  },
  {
   "cell_type": "code",
   "execution_count": null,
   "id": "e55f98c9-aa3d-445b-a0a9-d7ae7af3a82d",
   "metadata": {},
   "outputs": [],
   "source": []
  },
  {
   "cell_type": "markdown",
   "id": "6539d1b2-11e5-421e-926e-1e61942ce394",
   "metadata": {},
   "source": [
    "## Has Ever Opened Email"
   ]
  },
  {
   "cell_type": "code",
   "execution_count": null,
   "id": "d1706f68-9fa2-489a-971e-54d08377b4e8",
   "metadata": {},
   "outputs": [],
   "source": []
  },
  {
   "cell_type": "code",
   "execution_count": 309,
   "id": "74c07f51-df74-43ef-9b51-156a3fc40345",
   "metadata": {},
   "outputs": [],
   "source": [
    "not_clicked_prospects['has_ever_opened_email']=not_clicked_prospects['total_emails_opened'].apply(lambda x : 1 if x>0 else 0)"
   ]
  },
  {
   "cell_type": "code",
   "execution_count": null,
   "id": "7a3b1ff2-b547-43f4-90ec-5a247739fcf6",
   "metadata": {},
   "outputs": [],
   "source": []
  },
  {
   "cell_type": "code",
   "execution_count": 311,
   "id": "56ec7bb9-35d0-4622-9481-38983ab138cd",
   "metadata": {},
   "outputs": [
    {
     "data": {
      "text/plain": [
       "(148051, 44)"
      ]
     },
     "execution_count": 311,
     "metadata": {},
     "output_type": "execute_result"
    }
   ],
   "source": [
    "not_clicked_prospects.shape"
   ]
  },
  {
   "cell_type": "code",
   "execution_count": 313,
   "id": "6638efb8-789d-4cd4-8425-5688b632da16",
   "metadata": {},
   "outputs": [
    {
     "name": "stdout",
     "output_type": "stream",
     "text": [
      "<class 'pandas.core.frame.DataFrame'>\n",
      "RangeIndex: 148051 entries, 0 to 148050\n",
      "Data columns (total 44 columns):\n",
      " #   Column                          Non-Null Count   Dtype  \n",
      "---  ------                          --------------   -----  \n",
      " 0   Company Name                    147664 non-null  object \n",
      " 1   First Name                      148050 non-null  object \n",
      " 2   Middle Name                     5602 non-null    object \n",
      " 3   Last Name                       148026 non-null  object \n",
      " 4   Title                           148046 non-null  object \n",
      " 5   Level                           139500 non-null  object \n",
      " 6   Seniority                       2724 non-null    object \n",
      " 7   Department                      139500 non-null  object \n",
      " 8   Email ID                        136901 non-null  object \n",
      " 9   Email 1                         11150 non-null   object \n",
      " 10  Contact_City                    126034 non-null  object \n",
      " 11  Contact_State                   111357 non-null  object \n",
      " 12  Contact City                    10119 non-null   object \n",
      " 13  Contact State                   9091 non-null    object \n",
      " 14  Contact Country                 2702 non-null    object \n",
      " 15  Country                         136860 non-null  object \n",
      " 16  Website                         147956 non-null  object \n",
      " 17  Company City                    142575 non-null  object \n",
      " 18  Company State                   132964 non-null  object \n",
      " 19  Company Country                 147401 non-null  object \n",
      " 20  Industry                        136885 non-null  object \n",
      " 21  Sub Industry                    7090 non-null    object \n",
      " 22  Revenue                         134202 non-null  object \n",
      " 23  Revenue Range                   108026 non-null  object \n",
      " 24  EMP Range                       136527 non-null  object \n",
      " 25  Company Annual Revenue          11150 non-null   object \n",
      " 26  Company Industry                11150 non-null   object \n",
      " 27  Company Staff Count Range       11110 non-null   object \n",
      " 28  Company Staff Count             11150 non-null   object \n",
      " 29  Contact Linkedin URL            93941 non-null   object \n",
      " 30  Contact LI Profile URL          11014 non-null   object \n",
      " 31  source                          148051 non-null  object \n",
      " 32  Email                           148051 non-null  object \n",
      " 33  derived_mail                    148051 non-null  object \n",
      " 34  total_emails_sent               147147 non-null  float64\n",
      " 35  total_emails_opened             147147 non-null  float64\n",
      " 36  total_emails_clicked            147147 non-null  float64\n",
      " 37  total_emails_bounced            147147 non-null  float64\n",
      " 38  total_emails_unsubscribed       147147 non-null  float64\n",
      " 39  avg_time_between_emails         131016 non-null  float64\n",
      " 40  avg_time_between_emails_opened  4696 non-null    float64\n",
      " 41  days_since_last_email_opened    7716 non-null    float64\n",
      " 42  total_emails_sent_week_ends     121579 non-null  float64\n",
      " 43  has_ever_opened_email           148051 non-null  int64  \n",
      "dtypes: float64(9), int64(1), object(34)\n",
      "memory usage: 49.7+ MB\n"
     ]
    }
   ],
   "source": [
    "not_clicked_prospects.info()"
   ]
  },
  {
   "cell_type": "code",
   "execution_count": null,
   "id": "00f44d05-6081-48b6-a248-0459824887f7",
   "metadata": {},
   "outputs": [],
   "source": []
  },
  {
   "cell_type": "code",
   "execution_count": 315,
   "id": "0d6f3858-df1b-424f-a9c0-4c82978a13ac",
   "metadata": {},
   "outputs": [],
   "source": [
    "not_clicked_prospects.to_csv('../datasets/clicked_data/not_clicked_prospects.csv')"
   ]
  },
  {
   "cell_type": "code",
   "execution_count": null,
   "id": "d13eb549-dc25-410c-998c-c01aaecea363",
   "metadata": {},
   "outputs": [],
   "source": []
  },
  {
   "cell_type": "code",
   "execution_count": null,
   "id": "a61bc397-aec1-44cf-be73-f8b8a5cbca1c",
   "metadata": {},
   "outputs": [],
   "source": []
  },
  {
   "cell_type": "code",
   "execution_count": null,
   "id": "4ef7246e-9512-434f-87c9-b2611dbca17c",
   "metadata": {},
   "outputs": [],
   "source": []
  },
  {
   "cell_type": "code",
   "execution_count": null,
   "id": "89456bfa-df2e-42f1-b0ee-de18a1cd2d24",
   "metadata": {},
   "outputs": [],
   "source": []
  },
  {
   "cell_type": "code",
   "execution_count": null,
   "id": "84c3c392-b92f-4dc2-ae27-2b67480894b1",
   "metadata": {},
   "outputs": [],
   "source": []
  },
  {
   "cell_type": "code",
   "execution_count": null,
   "id": "1f473f97-26bf-4ca5-967f-f6e1373843c9",
   "metadata": {},
   "outputs": [],
   "source": []
  },
  {
   "cell_type": "code",
   "execution_count": null,
   "id": "536494b4-b5ae-4f23-bd22-98f569d95cad",
   "metadata": {},
   "outputs": [],
   "source": []
  },
  {
   "cell_type": "code",
   "execution_count": null,
   "id": "2047d51e-2895-4f86-87e0-12771fc35e3d",
   "metadata": {},
   "outputs": [],
   "source": []
  },
  {
   "cell_type": "code",
   "execution_count": null,
   "id": "8ac1575d-634d-4c67-9a83-79e0bbd99731",
   "metadata": {},
   "outputs": [],
   "source": []
  },
  {
   "cell_type": "code",
   "execution_count": null,
   "id": "516a4a17-4bcc-4d74-9938-581bdad5f588",
   "metadata": {},
   "outputs": [],
   "source": []
  },
  {
   "cell_type": "code",
   "execution_count": null,
   "id": "795ef1bc-ee92-4ec7-91ce-4f503c6b3b04",
   "metadata": {},
   "outputs": [],
   "source": []
  },
  {
   "cell_type": "code",
   "execution_count": null,
   "id": "abe367ab-2952-468d-beaa-8de4f95f02eb",
   "metadata": {},
   "outputs": [],
   "source": []
  },
  {
   "cell_type": "code",
   "execution_count": null,
   "id": "35b6e078-f688-4546-bd8d-1e5d1f74dc24",
   "metadata": {},
   "outputs": [],
   "source": []
  },
  {
   "cell_type": "code",
   "execution_count": null,
   "id": "4c2d7016-1d78-47c0-99fb-d7991dae7f5a",
   "metadata": {},
   "outputs": [],
   "source": []
  },
  {
   "cell_type": "code",
   "execution_count": null,
   "id": "c38815e6-8cb9-4441-aa9e-fee0ca652684",
   "metadata": {},
   "outputs": [],
   "source": []
  },
  {
   "cell_type": "code",
   "execution_count": null,
   "id": "90dbf5ee-797b-4275-b1e5-cd0eeecab592",
   "metadata": {},
   "outputs": [],
   "source": []
  },
  {
   "cell_type": "code",
   "execution_count": null,
   "id": "a8c93eb2-f59e-401f-825e-ffcc03369f8c",
   "metadata": {},
   "outputs": [],
   "source": []
  },
  {
   "cell_type": "code",
   "execution_count": null,
   "id": "e38b77f7-b49c-4c13-a4df-683a2a8d51b5",
   "metadata": {},
   "outputs": [],
   "source": []
  },
  {
   "cell_type": "code",
   "execution_count": null,
   "id": "a59e4fa4-ed7a-4b85-a74c-004eeac4ba11",
   "metadata": {},
   "outputs": [],
   "source": []
  },
  {
   "cell_type": "code",
   "execution_count": null,
   "id": "589d4db0-0934-491d-9af7-b68d56849181",
   "metadata": {},
   "outputs": [],
   "source": []
  },
  {
   "cell_type": "code",
   "execution_count": null,
   "id": "a4e80ea2-0d37-437a-9ba4-0d840d2a02c7",
   "metadata": {},
   "outputs": [],
   "source": []
  },
  {
   "cell_type": "code",
   "execution_count": null,
   "id": "d47888cb-bffd-490e-b084-1a3fe33ca73e",
   "metadata": {},
   "outputs": [],
   "source": []
  },
  {
   "cell_type": "code",
   "execution_count": null,
   "id": "4ec660cd-699c-4fcc-a4ae-ff07dcc619ee",
   "metadata": {},
   "outputs": [],
   "source": []
  },
  {
   "cell_type": "code",
   "execution_count": null,
   "id": "fd0cc5a5-8120-4696-ac34-f43b507713bc",
   "metadata": {},
   "outputs": [],
   "source": []
  },
  {
   "cell_type": "code",
   "execution_count": null,
   "id": "ebe8ad95-d49c-410e-ae04-cf3d11f68707",
   "metadata": {},
   "outputs": [],
   "source": []
  },
  {
   "cell_type": "code",
   "execution_count": null,
   "id": "34b9e832-5dd4-423a-b001-c3dd51938029",
   "metadata": {},
   "outputs": [],
   "source": []
  },
  {
   "cell_type": "code",
   "execution_count": null,
   "id": "ecae51ea-79ad-47c0-906c-df0985b61486",
   "metadata": {},
   "outputs": [],
   "source": []
  },
  {
   "cell_type": "code",
   "execution_count": null,
   "id": "ef46ec50-dcb3-4942-bec3-35146fee05ab",
   "metadata": {},
   "outputs": [],
   "source": []
  },
  {
   "cell_type": "code",
   "execution_count": null,
   "id": "a15eed8c-2994-4d6d-9f96-89ad9a92fe46",
   "metadata": {},
   "outputs": [],
   "source": []
  },
  {
   "cell_type": "code",
   "execution_count": null,
   "id": "7a195ac9-b05d-4ce8-9b10-11a106f5e821",
   "metadata": {},
   "outputs": [],
   "source": []
  },
  {
   "cell_type": "code",
   "execution_count": null,
   "id": "15472289-8aa1-4be5-952e-532dbe0ff8cf",
   "metadata": {},
   "outputs": [],
   "source": []
  }
 ],
 "metadata": {
  "kernelspec": {
   "display_name": "Python [conda env:base] *",
   "language": "python",
   "name": "conda-base-py"
  },
  "language_info": {
   "codemirror_mode": {
    "name": "ipython",
    "version": 3
   },
   "file_extension": ".py",
   "mimetype": "text/x-python",
   "name": "python",
   "nbconvert_exporter": "python",
   "pygments_lexer": "ipython3",
   "version": "3.12.7"
  }
 },
 "nbformat": 4,
 "nbformat_minor": 5
}
